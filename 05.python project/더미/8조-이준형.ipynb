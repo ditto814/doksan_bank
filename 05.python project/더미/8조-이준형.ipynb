{
 "cells": [
  {
   "cell_type": "code",
   "execution_count": 54,
   "metadata": {},
   "outputs": [],
   "source": [
    "# 사이트에 자료 요청\n",
    "import urllib.request\n",
    "# json 데이터 핸들링\n",
    "import json\n",
    "# DataFrame 자료형 활용\n",
    "import pandas as pd\n",
    "# json 데이터를 pandas DataFrame으로 변환\n",
    "from pandas.io.json import json_normalize\n",
    "\n",
    "import requests\n",
    "\n",
    "import xmltodict"
   ]
  },
  {
   "cell_type": "code",
   "execution_count": 55,
   "metadata": {},
   "outputs": [
    {
     "data": {
      "text/plain": [
       "'http://openapi.seoul.go.kr:8088/70564c7369726172313135416c615451/xml/CardSubwayPayFree/1/5/201901/'"
      ]
     },
     "execution_count": 55,
     "metadata": {},
     "output_type": "execute_result"
    }
   ],
   "source": [
    "key = '70564c7369726172313135416c615451'\n",
    "target_dt = '201901'\n",
    "url = 'http://openapi.seoul.go.kr:8088/%s/xml/CardSubwayPayFree/1/5/%s/' % (key, target_dt)\n",
    "url"
   ]
  },
  {
   "cell_type": "code",
   "execution_count": 56,
   "metadata": {},
   "outputs": [
    {
     "data": {
      "text/plain": [
       "<http.client.HTTPResponse at 0x24fa7cf97f0>"
      ]
     },
     "execution_count": 56,
     "metadata": {},
     "output_type": "execute_result"
    }
   ],
   "source": [
    "result = urllib.request.urlopen(url)\n",
    "result"
   ]
  },
  {
   "cell_type": "code",
   "execution_count": 57,
   "metadata": {},
   "outputs": [],
   "source": [
    "import xml.etree.ElementTree as et"
   ]
  },
  {
   "cell_type": "code",
   "execution_count": 58,
   "metadata": {},
   "outputs": [
    {
     "data": {
      "text/plain": [
       "b'<?xml version=\"1.0\" encoding=\"UTF-8\"?>\\n<CardSubwayPayFree>\\n<list_total_count>598</list_total_count>\\n<RESULT>\\n<CODE>INFO-000</CODE>\\n<MESSAGE>\\xec\\xa0\\x95\\xec\\x83\\x81 \\xec\\xb2\\x98\\xeb\\xa6\\xac\\xeb\\x90\\x98\\xec\\x97\\x88\\xec\\x8a\\xb5\\xeb\\x8b\\x88\\xeb\\x8b\\xa4</MESSAGE>\\n</RESULT>\\n<row>\\n<USE_MON>201901</USE_MON>\\n<LINE_NUM>\\xea\\xb2\\xbd\\xec\\x9d\\x98\\xec\\x84\\xa0</LINE_NUM>\\n<SUB_STA_NM>\\xea\\xb3\\xa1\\xec\\x82\\xb0</SUB_STA_NM>\\n<PAY_RIDE_NUM>11758</PAY_RIDE_NUM>\\n<FREE_RIDE_NUM>4209</FREE_RIDE_NUM>\\n<PAY_ALIGHT_NUM>11719</PAY_ALIGHT_NUM>\\n<FREE_ALIGHT_NUM>4073</FREE_ALIGHT_NUM>\\n<WORK_DT>20190203</WORK_DT>\\n</row>\\n<row>\\n<USE_MON>201901</USE_MON>\\n<LINE_NUM>1\\xed\\x98\\xb8\\xec\\x84\\xa0</LINE_NUM>\\n<SUB_STA_NM>\\xec\\xa2\\x85\\xeb\\xa1\\x9c5\\xea\\xb0\\x80</SUB_STA_NM>\\n<PAY_RIDE_NUM>571824</PAY_RIDE_NUM>\\n<FREE_RIDE_NUM>275447</FREE_RIDE_NUM>\\n<PAY_ALIGHT_NUM>583955</PAY_ALIGHT_NUM>\\n<FREE_ALIGHT_NUM>263687</FREE_ALIGHT_NUM>\\n<WORK_DT>20190203</WORK_DT>\\n</row>\\n<row>\\n<USE_MON>201901</USE_MON>\\n<LINE_NUM>1\\xed\\x98\\xb8\\xec\\x84\\xa0</LINE_NUM>\\n<SUB_STA_NM>\\xec\\xa2\\x85\\xea\\xb0\\x81</SUB_STA_NM>\\n<PAY_RIDE_NUM>1240810</PAY_RIDE_NUM>\\n<FREE_RIDE_NUM>162410</FREE_RIDE_NUM>\\n<PAY_ALIGHT_NUM>1177643</PAY_ALIGHT_NUM>\\n<FREE_ALIGHT_NUM>152062</FREE_ALIGHT_NUM>\\n<WORK_DT>20190203</WORK_DT>\\n</row>\\n<row>\\n<USE_MON>201901</USE_MON>\\n<LINE_NUM>1\\xed\\x98\\xb8\\xec\\x84\\xa0</LINE_NUM>\\n<SUB_STA_NM>\\xec\\xb2\\xad\\xeb\\x9f\\x89\\xeb\\xa6\\xac(\\xec\\x84\\x9c\\xec\\x9a\\xb8\\xec\\x8b\\x9c\\xeb\\xa6\\xbd\\xeb\\x8c\\x80\\xec\\x9e\\x85\\xea\\xb5\\xac)</SUB_STA_NM>\\n<PAY_RIDE_NUM>463456</PAY_RIDE_NUM>\\n<FREE_RIDE_NUM>352121</FREE_RIDE_NUM>\\n<PAY_ALIGHT_NUM>482960</PAY_ALIGHT_NUM>\\n<FREE_ALIGHT_NUM>357571</FREE_ALIGHT_NUM>\\n<WORK_DT>20190203</WORK_DT>\\n</row>\\n<row>\\n<USE_MON>201901</USE_MON>\\n<LINE_NUM>1\\xed\\x98\\xb8\\xec\\x84\\xa0</LINE_NUM>\\n<SUB_STA_NM>\\xec\\x84\\x9c\\xec\\x9a\\xb8\\xec\\x97\\xad</SUB_STA_NM>\\n<PAY_RIDE_NUM>1516452</PAY_RIDE_NUM>\\n<FREE_RIDE_NUM>221180</FREE_RIDE_NUM>\\n<PAY_ALIGHT_NUM>1400464</PAY_ALIGHT_NUM>\\n<FREE_ALIGHT_NUM>211764</FREE_ALIGHT_NUM>\\n<WORK_DT>20190203</WORK_DT>\\n</row>\\n</CardSubwayPayFree>\\n'"
      ]
     },
     "execution_count": 58,
     "metadata": {},
     "output_type": "execute_result"
    }
   ],
   "source": [
    "# raw data 변수에 url주소의 xml값 저장\n",
    "raw_data = result.read()\n",
    "raw_data"
   ]
  },
  {
   "cell_type": "code",
   "execution_count": 67,
   "metadata": {},
   "outputs": [
    {
     "ename": "OSError",
     "evalue": "[Errno 22] Invalid argument: b'<?xml version=\"1.0\" encoding=\"UTF-8\"?>\\n<CardSubwayPayFree>\\n<list_total_count>598</list_total_count>\\n<RESULT>\\n<CODE>INFO-000</CODE>\\n<MESSAGE>\\xec\\xa0\\x95\\xec\\x83\\x81 \\xec\\xb2\\x98\\xeb\\xa6\\xac\\xeb\\x90\\x98\\xec\\x97\\x88\\xec\\x8a\\xb5\\xeb\\x8b\\x88\\xeb\\x8b\\xa4</MESSAGE>\\n</RESULT>\\n<row>\\n<USE_MON>201901</USE_MON>\\n<LINE_NUM>\\xea\\xb2\\xbd\\xec\\x9d\\x98\\xec\\x84\\xa0</LINE_NUM>\\n<SUB_STA_NM>\\xea\\xb3\\xa1\\xec\\x82\\xb0</SUB_STA_NM>\\n<PAY_RIDE_NUM>11758</PAY_RIDE_NUM>\\n<FREE_RIDE_NUM>4209</FREE_RIDE_NUM>\\n<PAY_ALIGHT_NUM>11719</PAY_ALIGHT_NUM>\\n<FREE_ALIGHT_NUM>4073</FREE_ALIGHT_NUM>\\n<WORK_DT>20190203</WORK_DT>\\n</row>\\n<row>\\n<USE_MON>201901</USE_MON>\\n<LINE_NUM>1\\xed\\x98\\xb8\\xec\\x84\\xa0</LINE_NUM>\\n<SUB_STA_NM>\\xec\\xa2\\x85\\xeb\\xa1\\x9c5\\xea\\xb0\\x80</SUB_STA_NM>\\n<PAY_RIDE_NUM>571824</PAY_RIDE_NUM>\\n<FREE_RIDE_NUM>275447</FREE_RIDE_NUM>\\n<PAY_ALIGHT_NUM>583955</PAY_ALIGHT_NUM>\\n<FREE_ALIGHT_NUM>263687</FREE_ALIGHT_NUM>\\n<WORK_DT>20190203</WORK_DT>\\n</row>\\n<row>\\n<USE_MON>201901</USE_MON>\\n<LINE_NUM>1\\xed\\x98\\xb8\\xec\\x84\\xa0</LINE_NUM>\\n<SUB_STA_NM>\\xec\\xa2\\x85\\xea\\xb0\\x81</SUB_STA_NM>\\n<PAY_RIDE_NUM>1240810</PAY_RIDE_NUM>\\n<FREE_RIDE_NUM>162410</FREE_RIDE_NUM>\\n<PAY_ALIGHT_NUM>1177643</PAY_ALIGHT_NUM>\\n<FREE_ALIGHT_NUM>152062</FREE_ALIGHT_NUM>\\n<WORK_DT>20190203</WORK_DT>\\n</row>\\n<row>\\n<USE_MON>201901</USE_MON>\\n<LINE_NUM>1\\xed\\x98\\xb8\\xec\\x84\\xa0</LINE_NUM>\\n<SUB_STA_NM>\\xec\\xb2\\xad\\xeb\\x9f\\x89\\xeb\\xa6\\xac(\\xec\\x84\\x9c\\xec\\x9a\\xb8\\xec\\x8b\\x9c\\xeb\\xa6\\xbd\\xeb\\x8c\\x80\\xec\\x9e\\x85\\xea\\xb5\\xac)</SUB_STA_NM>\\n<PAY_RIDE_NUM>463456</PAY_RIDE_NUM>\\n<FREE_RIDE_NUM>352121</FREE_RIDE_NUM>\\n<PAY_ALIGHT_NUM>482960</PAY_ALIGHT_NUM>\\n<FREE_ALIGHT_NUM>357571</FREE_ALIGHT_NUM>\\n<WORK_DT>20190203</WORK_DT>\\n</row>\\n<row>\\n<USE_MON>201901</USE_MON>\\n<LINE_NUM>1\\xed\\x98\\xb8\\xec\\x84\\xa0</LINE_NUM>\\n<SUB_STA_NM>\\xec\\x84\\x9c\\xec\\x9a\\xb8\\xec\\x97\\xad</SUB_STA_NM>\\n<PAY_RIDE_NUM>1516452</PAY_RIDE_NUM>\\n<FREE_RIDE_NUM>221180</FREE_RIDE_NUM>\\n<PAY_ALIGHT_NUM>1400464</PAY_ALIGHT_NUM>\\n<FREE_ALIGHT_NUM>211764</FREE_ALIGHT_NUM>\\n<WORK_DT>20190203</WORK_DT>\\n</row>\\n</CardSubwayPayFree>\\n'",
     "output_type": "error",
     "traceback": [
      "\u001b[1;31m---------------------------------------------------------------------------\u001b[0m",
      "\u001b[1;31mOSError\u001b[0m                                   Traceback (most recent call last)",
      "\u001b[1;32m~\\AppData\\Local\\Temp/ipykernel_37460/2707867310.py\u001b[0m in \u001b[0;36m<module>\u001b[1;34m\u001b[0m\n\u001b[1;32m----> 1\u001b[1;33m \u001b[0mxtree\u001b[0m \u001b[1;33m=\u001b[0m \u001b[0met\u001b[0m\u001b[1;33m.\u001b[0m\u001b[0mparse\u001b[0m\u001b[1;33m(\u001b[0m\u001b[0mraw_data\u001b[0m\u001b[1;33m)\u001b[0m\u001b[1;33m\u001b[0m\u001b[1;33m\u001b[0m\u001b[0m\n\u001b[0m\u001b[0;32m      2\u001b[0m \u001b[0mxtree\u001b[0m\u001b[1;33m\u001b[0m\u001b[1;33m\u001b[0m\u001b[0m\n",
      "\u001b[1;32mc:\\Users\\rx178\\anaconda3\\lib\\xml\\etree\\ElementTree.py\u001b[0m in \u001b[0;36mparse\u001b[1;34m(source, parser)\u001b[0m\n\u001b[0;32m   1227\u001b[0m     \"\"\"\n\u001b[0;32m   1228\u001b[0m     \u001b[0mtree\u001b[0m \u001b[1;33m=\u001b[0m \u001b[0mElementTree\u001b[0m\u001b[1;33m(\u001b[0m\u001b[1;33m)\u001b[0m\u001b[1;33m\u001b[0m\u001b[1;33m\u001b[0m\u001b[0m\n\u001b[1;32m-> 1229\u001b[1;33m     \u001b[0mtree\u001b[0m\u001b[1;33m.\u001b[0m\u001b[0mparse\u001b[0m\u001b[1;33m(\u001b[0m\u001b[0msource\u001b[0m\u001b[1;33m,\u001b[0m \u001b[0mparser\u001b[0m\u001b[1;33m)\u001b[0m\u001b[1;33m\u001b[0m\u001b[1;33m\u001b[0m\u001b[0m\n\u001b[0m\u001b[0;32m   1230\u001b[0m     \u001b[1;32mreturn\u001b[0m \u001b[0mtree\u001b[0m\u001b[1;33m\u001b[0m\u001b[1;33m\u001b[0m\u001b[0m\n\u001b[0;32m   1231\u001b[0m \u001b[1;33m\u001b[0m\u001b[0m\n",
      "\u001b[1;32mc:\\Users\\rx178\\anaconda3\\lib\\xml\\etree\\ElementTree.py\u001b[0m in \u001b[0;36mparse\u001b[1;34m(self, source, parser)\u001b[0m\n\u001b[0;32m    567\u001b[0m         \u001b[0mclose_source\u001b[0m \u001b[1;33m=\u001b[0m \u001b[1;32mFalse\u001b[0m\u001b[1;33m\u001b[0m\u001b[1;33m\u001b[0m\u001b[0m\n\u001b[0;32m    568\u001b[0m         \u001b[1;32mif\u001b[0m \u001b[1;32mnot\u001b[0m \u001b[0mhasattr\u001b[0m\u001b[1;33m(\u001b[0m\u001b[0msource\u001b[0m\u001b[1;33m,\u001b[0m \u001b[1;34m\"read\"\u001b[0m\u001b[1;33m)\u001b[0m\u001b[1;33m:\u001b[0m\u001b[1;33m\u001b[0m\u001b[1;33m\u001b[0m\u001b[0m\n\u001b[1;32m--> 569\u001b[1;33m             \u001b[0msource\u001b[0m \u001b[1;33m=\u001b[0m \u001b[0mopen\u001b[0m\u001b[1;33m(\u001b[0m\u001b[0msource\u001b[0m\u001b[1;33m,\u001b[0m \u001b[1;34m\"rb\"\u001b[0m\u001b[1;33m)\u001b[0m\u001b[1;33m\u001b[0m\u001b[1;33m\u001b[0m\u001b[0m\n\u001b[0m\u001b[0;32m    570\u001b[0m             \u001b[0mclose_source\u001b[0m \u001b[1;33m=\u001b[0m \u001b[1;32mTrue\u001b[0m\u001b[1;33m\u001b[0m\u001b[1;33m\u001b[0m\u001b[0m\n\u001b[0;32m    571\u001b[0m         \u001b[1;32mtry\u001b[0m\u001b[1;33m:\u001b[0m\u001b[1;33m\u001b[0m\u001b[1;33m\u001b[0m\u001b[0m\n",
      "\u001b[1;31mOSError\u001b[0m: [Errno 22] Invalid argument: b'<?xml version=\"1.0\" encoding=\"UTF-8\"?>\\n<CardSubwayPayFree>\\n<list_total_count>598</list_total_count>\\n<RESULT>\\n<CODE>INFO-000</CODE>\\n<MESSAGE>\\xec\\xa0\\x95\\xec\\x83\\x81 \\xec\\xb2\\x98\\xeb\\xa6\\xac\\xeb\\x90\\x98\\xec\\x97\\x88\\xec\\x8a\\xb5\\xeb\\x8b\\x88\\xeb\\x8b\\xa4</MESSAGE>\\n</RESULT>\\n<row>\\n<USE_MON>201901</USE_MON>\\n<LINE_NUM>\\xea\\xb2\\xbd\\xec\\x9d\\x98\\xec\\x84\\xa0</LINE_NUM>\\n<SUB_STA_NM>\\xea\\xb3\\xa1\\xec\\x82\\xb0</SUB_STA_NM>\\n<PAY_RIDE_NUM>11758</PAY_RIDE_NUM>\\n<FREE_RIDE_NUM>4209</FREE_RIDE_NUM>\\n<PAY_ALIGHT_NUM>11719</PAY_ALIGHT_NUM>\\n<FREE_ALIGHT_NUM>4073</FREE_ALIGHT_NUM>\\n<WORK_DT>20190203</WORK_DT>\\n</row>\\n<row>\\n<USE_MON>201901</USE_MON>\\n<LINE_NUM>1\\xed\\x98\\xb8\\xec\\x84\\xa0</LINE_NUM>\\n<SUB_STA_NM>\\xec\\xa2\\x85\\xeb\\xa1\\x9c5\\xea\\xb0\\x80</SUB_STA_NM>\\n<PAY_RIDE_NUM>571824</PAY_RIDE_NUM>\\n<FREE_RIDE_NUM>275447</FREE_RIDE_NUM>\\n<PAY_ALIGHT_NUM>583955</PAY_ALIGHT_NUM>\\n<FREE_ALIGHT_NUM>263687</FREE_ALIGHT_NUM>\\n<WORK_DT>20190203</WORK_DT>\\n</row>\\n<row>\\n<USE_MON>201901</USE_MON>\\n<LINE_NUM>1\\xed\\x98\\xb8\\xec\\x84\\xa0</LINE_NUM>\\n<SUB_STA_NM>\\xec\\xa2\\x85\\xea\\xb0\\x81</SUB_STA_NM>\\n<PAY_RIDE_NUM>1240810</PAY_RIDE_NUM>\\n<FREE_RIDE_NUM>162410</FREE_RIDE_NUM>\\n<PAY_ALIGHT_NUM>1177643</PAY_ALIGHT_NUM>\\n<FREE_ALIGHT_NUM>152062</FREE_ALIGHT_NUM>\\n<WORK_DT>20190203</WORK_DT>\\n</row>\\n<row>\\n<USE_MON>201901</USE_MON>\\n<LINE_NUM>1\\xed\\x98\\xb8\\xec\\x84\\xa0</LINE_NUM>\\n<SUB_STA_NM>\\xec\\xb2\\xad\\xeb\\x9f\\x89\\xeb\\xa6\\xac(\\xec\\x84\\x9c\\xec\\x9a\\xb8\\xec\\x8b\\x9c\\xeb\\xa6\\xbd\\xeb\\x8c\\x80\\xec\\x9e\\x85\\xea\\xb5\\xac)</SUB_STA_NM>\\n<PAY_RIDE_NUM>463456</PAY_RIDE_NUM>\\n<FREE_RIDE_NUM>352121</FREE_RIDE_NUM>\\n<PAY_ALIGHT_NUM>482960</PAY_ALIGHT_NUM>\\n<FREE_ALIGHT_NUM>357571</FREE_ALIGHT_NUM>\\n<WORK_DT>20190203</WORK_DT>\\n</row>\\n<row>\\n<USE_MON>201901</USE_MON>\\n<LINE_NUM>1\\xed\\x98\\xb8\\xec\\x84\\xa0</LINE_NUM>\\n<SUB_STA_NM>\\xec\\x84\\x9c\\xec\\x9a\\xb8\\xec\\x97\\xad</SUB_STA_NM>\\n<PAY_RIDE_NUM>1516452</PAY_RIDE_NUM>\\n<FREE_RIDE_NUM>221180</FREE_RIDE_NUM>\\n<PAY_ALIGHT_NUM>1400464</PAY_ALIGHT_NUM>\\n<FREE_ALIGHT_NUM>211764</FREE_ALIGHT_NUM>\\n<WORK_DT>20190203</WORK_DT>\\n</row>\\n</CardSubwayPayFree>\\n'"
     ]
    }
   ],
   "source": [
    "xtree = et.parse(raw_data)\n",
    "xtree"
   ]
  },
  {
   "cell_type": "code",
   "execution_count": null,
   "metadata": {},
   "outputs": [],
   "source": []
  },
  {
   "cell_type": "code",
   "execution_count": null,
   "metadata": {},
   "outputs": [],
   "source": []
  },
  {
   "cell_type": "code",
   "execution_count": null,
   "metadata": {},
   "outputs": [],
   "source": []
  },
  {
   "cell_type": "code",
   "execution_count": null,
   "metadata": {},
   "outputs": [],
   "source": []
  },
  {
   "cell_type": "code",
   "execution_count": null,
   "metadata": {},
   "outputs": [],
   "source": []
  },
  {
   "cell_type": "code",
   "execution_count": null,
   "metadata": {},
   "outputs": [],
   "source": []
  },
  {
   "cell_type": "code",
   "execution_count": 59,
   "metadata": {},
   "outputs": [],
   "source": [
    "# result = urllib.request.urlopen(url)\n",
    "# result"
   ]
  },
  {
   "cell_type": "code",
   "execution_count": 60,
   "metadata": {},
   "outputs": [],
   "source": [
    "# raw_data = result .read()"
   ]
  },
  {
   "cell_type": "code",
   "execution_count": 61,
   "metadata": {},
   "outputs": [],
   "source": [
    "# raw_data"
   ]
  },
  {
   "cell_type": "code",
   "execution_count": 62,
   "metadata": {},
   "outputs": [],
   "source": [
    "# type(raw_data)"
   ]
  },
  {
   "cell_type": "code",
   "execution_count": 63,
   "metadata": {},
   "outputs": [],
   "source": [
    "# data_utf8 = raw_data.decode('utf-8')"
   ]
  },
  {
   "cell_type": "code",
   "execution_count": 64,
   "metadata": {},
   "outputs": [],
   "source": [
    "# data_utf8"
   ]
  },
  {
   "cell_type": "code",
   "execution_count": 65,
   "metadata": {},
   "outputs": [],
   "source": [
    "# type(data_utf8)"
   ]
  },
  {
   "cell_type": "code",
   "execution_count": 66,
   "metadata": {},
   "outputs": [],
   "source": [
    "# from matplotlib.font_manager import json_load\n",
    "\n",
    "# complete_data = json.loads(data_utf8)\n",
    "# complete_data"
   ]
  },
  {
   "cell_type": "code",
   "execution_count": null,
   "metadata": {},
   "outputs": [],
   "source": []
  }
 ],
 "metadata": {
  "kernelspec": {
   "display_name": "Python 3.9.7 ('base')",
   "language": "python",
   "name": "python3"
  },
  "language_info": {
   "codemirror_mode": {
    "name": "ipython",
    "version": 3
   },
   "file_extension": ".py",
   "mimetype": "text/x-python",
   "name": "python",
   "nbconvert_exporter": "python",
   "pygments_lexer": "ipython3",
   "version": "3.9.7"
  },
  "orig_nbformat": 4,
  "vscode": {
   "interpreter": {
    "hash": "b34b863c255992f18be4e3271ad309d6f472a641574d2a36abb232a0d7577314"
   }
  }
 },
 "nbformat": 4,
 "nbformat_minor": 2
}
