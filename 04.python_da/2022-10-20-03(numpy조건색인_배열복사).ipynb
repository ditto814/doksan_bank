{
 "cells": [
  {
   "cell_type": "code",
   "execution_count": 2,
   "metadata": {},
   "outputs": [],
   "source": [
    "### (공통) 라이브러리 불러오기 및 사용자 함수 정의\n",
    "import numpy as np\n",
    "\n",
    "def np_print(nparr):\n",
    "\n",
    "    print('''\n",
    "    type : {}\n",
    "    shape : {}\n",
    "    dimension : {}\n",
    "    dtype : {}\n",
    "    data :\\n {}\n",
    "    '''.format(type(nparr), nparr.shape, nparr.ndim, nparr.dtype, nparr))"
   ]
  },
  {
   "cell_type": "markdown",
   "metadata": {},
   "source": [
    "#### 조건 색인(Boolean indexing)\n",
    "- 배열의 요소에 대해 조건을 적용하여 True, False로 조건에 대한 결과 반환\n",
    "- True에 해당하는 요소만 조회하여 조건을 만족하는 결과 반환"
   ]
  },
  {
   "cell_type": "code",
   "execution_count": 3,
   "metadata": {},
   "outputs": [
    {
     "name": "stdout",
     "output_type": "stream",
     "text": [
      "\n",
      "    type : <class 'numpy.ndarray'>\n",
      "    shape : (24,)\n",
      "    dimension : 1\n",
      "    dtype : int32\n",
      "    data :\n",
      " [ 0  1  2  3  4  5  6  7  8  9 10 11 12 13 14 15 16 17 18 19 20 21 22 23]\n",
      "    \n"
     ]
    }
   ],
   "source": [
    "# 0 부터 23까지 1씩 증가하는 정수값을 가지는 1차원 배열 생성\n",
    "a = np.arange(0, 24)\n",
    "np_print(a)"
   ]
  },
  {
   "cell_type": "code",
   "execution_count": 4,
   "metadata": {},
   "outputs": [
    {
     "data": {
      "text/plain": [
       "array([1, 2, 3, 4])"
      ]
     },
     "execution_count": 4,
     "metadata": {},
     "output_type": "execute_result"
    }
   ],
   "source": [
    "# 1차원 배열 슬라이싱 : 1번부터 4번까지 접근\n",
    "a[1:5]"
   ]
  },
  {
   "cell_type": "code",
   "execution_count": 5,
   "metadata": {},
   "outputs": [
    {
     "data": {
      "text/plain": [
       "array([ 1,  3,  5,  7,  9, 11, 13])"
      ]
     },
     "execution_count": 5,
     "metadata": {},
     "output_type": "execute_result"
    }
   ],
   "source": [
    "# 1번째 인덱스로부터 14번째 인덱스까지 2개씩 건너뛰며 접근\n",
    "a[1:15:2]"
   ]
  },
  {
   "cell_type": "code",
   "execution_count": 6,
   "metadata": {},
   "outputs": [
    {
     "name": "stdout",
     "output_type": "stream",
     "text": [
      "\n",
      "    type : <class 'numpy.ndarray'>\n",
      "    shape : (6, 4)\n",
      "    dimension : 2\n",
      "    dtype : int32\n",
      "    data :\n",
      " [[ 0  1  2  3]\n",
      " [ 4  5  6  7]\n",
      " [ 8  9 10 11]\n",
      " [12 13 14 15]\n",
      " [16 17 18 19]\n",
      " [20 21 22 23]]\n",
      "    \n"
     ]
    }
   ],
   "source": [
    "# 2차원 배열 생성\n",
    "b = a.reshape(6,4)\n",
    "np_print(b)"
   ]
  },
  {
   "cell_type": "code",
   "execution_count": 7,
   "metadata": {},
   "outputs": [
    {
     "data": {
      "text/plain": [
       "array([[ 0,  1,  2,  3],\n",
       "       [ 4,  5,  6,  7],\n",
       "       [ 8,  9, 10, 11],\n",
       "       [12, 13, 14, 15]])"
      ]
     },
     "execution_count": 7,
     "metadata": {},
     "output_type": "execute_result"
    }
   ],
   "source": [
    "# 2차원 배열 슬라이싱 : 1행부터 4행까지 접근\n",
    "# 로우우선 \n",
    "# 2차원_array [행(:열:간격)]\n",
    "b[0:4]"
   ]
  },
  {
   "cell_type": "code",
   "execution_count": 8,
   "metadata": {},
   "outputs": [
    {
     "data": {
      "text/plain": [
       "array([[ 6,  7],\n",
       "       [10, 11],\n",
       "       [14, 15],\n",
       "       [18, 19]])"
      ]
     },
     "execution_count": 8,
     "metadata": {},
     "output_type": "execute_result"
    }
   ],
   "source": [
    "# 1행부터 4행에 대해 2열부터 3열 까지 접근\n",
    "b[1:5, 2:4]"
   ]
  },
  {
   "cell_type": "code",
   "execution_count": 9,
   "metadata": {},
   "outputs": [
    {
     "data": {
      "text/plain": [
       "array([[ 6,  7],\n",
       "       [10, 11],\n",
       "       [14, 15],\n",
       "       [18, 19]])"
      ]
     },
     "execution_count": 9,
     "metadata": {},
     "output_type": "execute_result"
    }
   ],
   "source": [
    "# 2차원 배열 슬라이싱을 통한 값 수정\n",
    "# 1행부터 4행에 대해 2열부터 3열까지 모든 배열에 대해서 수정\n",
    "s_arr = b[1:5, 2:4]\n",
    "s_arr"
   ]
  },
  {
   "cell_type": "code",
   "execution_count": 10,
   "metadata": {},
   "outputs": [
    {
     "data": {
      "text/plain": [
       "array([[ 6,  7],\n",
       "       [99, 11],\n",
       "       [99, 15],\n",
       "       [99, 19]])"
      ]
     },
     "execution_count": 10,
     "metadata": {},
     "output_type": "execute_result"
    }
   ],
   "source": [
    "# 0번째 행과 마지막 열을 제외한 모든 값을 99로 수정\n",
    "s_arr[1:, :-1] = 99\n",
    "s_arr"
   ]
  },
  {
   "cell_type": "code",
   "execution_count": 11,
   "metadata": {},
   "outputs": [
    {
     "data": {
      "text/plain": [
       "array([[ 0,  1,  2,  3],\n",
       "       [ 4,  5,  6,  7],\n",
       "       [ 8,  9, 99, 11],\n",
       "       [12, 13, 99, 15],\n",
       "       [16, 17, 99, 19],\n",
       "       [20, 21, 22, 23]])"
      ]
     },
     "execution_count": 11,
     "metadata": {},
     "output_type": "execute_result"
    }
   ],
   "source": [
    "# 얕은복사로 인한 원본 배열의 변경\n",
    "# s_arr 의 변경으로 인한 오리지널 b도 같이 변경됨\n",
    "b"
   ]
  },
  {
   "cell_type": "code",
   "execution_count": 12,
   "metadata": {},
   "outputs": [
    {
     "data": {
      "text/plain": [
       "array([[ 1,  3],\n",
       "       [ 5,  7],\n",
       "       [ 9, 11],\n",
       "       [13, 15],\n",
       "       [17, 19],\n",
       "       [21, 23]])"
      ]
     },
     "execution_count": 12,
     "metadata": {},
     "output_type": "execute_result"
    }
   ],
   "source": [
    "# 2차원 배열 슬라이싱 : 연속되지 않은 범위의 열에 대한 인덱싱\n",
    "# step1. 전체 행에 대해서 접근\n",
    "# step2. 여러 개의 열 인덱싱 배열 전달\n",
    "# bd의 전체 행 + 1, 3번째 열\n",
    "# b[행, 열]\n",
    "b[:, [1,3]]\n",
    "\n",
    "# 다른 방법\n",
    "# b[:, 1:4:2]"
   ]
  },
  {
   "cell_type": "code",
   "execution_count": 13,
   "metadata": {},
   "outputs": [
    {
     "data": {
      "text/plain": [
       "array([ 0,  2,  4,  6,  8, 12, 16, 20, 22])"
      ]
     },
     "execution_count": 13,
     "metadata": {},
     "output_type": "execute_result"
    }
   ],
   "source": [
    "b[b%2 == 0]"
   ]
  },
  {
   "cell_type": "code",
   "execution_count": 14,
   "metadata": {},
   "outputs": [
    {
     "data": {
      "text/plain": [
       "array([ 2,  4,  6,  8, 12, 16, 20, 22])"
      ]
     },
     "execution_count": 14,
     "metadata": {},
     "output_type": "execute_result"
    }
   ],
   "source": [
    "b[(b%2 == 0) & (b!=0)]"
   ]
  },
  {
   "cell_type": "markdown",
   "metadata": {},
   "source": [
    "#### 연습문제\n",
    "\n",
    "- 조건색인을 이용히야 공무원 시험의 합격자 평균을 구해보세요\n",
    "- 합격점수는 60점입니다.\n",
    "\n",
    "아래는 시험점수 결과입니다.\n",
    "\n",
    "[31, 30, 55, 34, 83, 75, 86, 60, 94, 80, 42, 37, 73, 80, 30, 65, 34, 55, 56, 51]"
   ]
  },
  {
   "cell_type": "code",
   "execution_count": 15,
   "metadata": {},
   "outputs": [
    {
     "data": {
      "text/plain": [
       "array([31, 30, 55, 34, 83, 75, 86, 60, 94, 80, 42, 37, 73, 80, 30, 65, 34,\n",
       "       55, 56, 51])"
      ]
     },
     "execution_count": 15,
     "metadata": {},
     "output_type": "execute_result"
    }
   ],
   "source": [
    "pub_off_test = np.array([31, 30, 55, 34, 83, 75, 86, 60, 94, 80, 42, 37, 73, 80, 30, 65, 34, 55, 56, 51])\n",
    "pub_off_test"
   ]
  },
  {
   "cell_type": "code",
   "execution_count": 16,
   "metadata": {},
   "outputs": [
    {
     "data": {
      "text/plain": [
       "77.33333333333333"
      ]
     },
     "execution_count": 16,
     "metadata": {},
     "output_type": "execute_result"
    }
   ],
   "source": [
    "pub_off_test[pub_off_test >= 60].mean()"
   ]
  },
  {
   "cell_type": "markdown",
   "metadata": {},
   "source": [
    "#### 배열 복사\n",
    "- 인덱싱, 슬라이싱을 통해 반환된 배열은 원본 배열에 대해 독립적인 새로운 객체가 아닌\n",
    "  원본 배열과 종속적인 객체\n",
    "- 원본과 독립적인 복사본인 배열을 생성"
   ]
  },
  {
   "cell_type": "code",
   "execution_count": 17,
   "metadata": {},
   "outputs": [],
   "source": [
    "a = [1,2,3]\n",
    "a2 = [1,2,3]"
   ]
  },
  {
   "cell_type": "code",
   "execution_count": 18,
   "metadata": {},
   "outputs": [],
   "source": [
    "# 얕은복사\n",
    "b = a"
   ]
  },
  {
   "cell_type": "code",
   "execution_count": 19,
   "metadata": {},
   "outputs": [],
   "source": [
    "# 깊은 복사 1\n",
    "c = a2[:]"
   ]
  },
  {
   "cell_type": "code",
   "execution_count": 20,
   "metadata": {},
   "outputs": [
    {
     "name": "stdout",
     "output_type": "stream",
     "text": [
      "[1, 2, 3] [1, 2, 3]\n"
     ]
    }
   ],
   "source": [
    "print(a, a2)"
   ]
  },
  {
   "cell_type": "code",
   "execution_count": 21,
   "metadata": {},
   "outputs": [],
   "source": [
    "b[0] = 10\n",
    "c[0] = 10"
   ]
  },
  {
   "cell_type": "code",
   "execution_count": 22,
   "metadata": {},
   "outputs": [
    {
     "name": "stdout",
     "output_type": "stream",
     "text": [
      "[10, 2, 3] [1, 2, 3]\n"
     ]
    }
   ],
   "source": [
    "print(a, a2)"
   ]
  },
  {
   "cell_type": "code",
   "execution_count": 23,
   "metadata": {},
   "outputs": [
    {
     "name": "stdout",
     "output_type": "stream",
     "text": [
      "\n",
      "    type : <class 'numpy.ndarray'>\n",
      "    shape : (2, 2)\n",
      "    dimension : 2\n",
      "    dtype : int32\n",
      "    data :\n",
      " [[0 1]\n",
      " [2 3]]\n",
      "    \n"
     ]
    }
   ],
   "source": [
    "# 0~3까지 범위로 1씩 증가하는 2*2 구조 배열 생성\n",
    "arr1 = np.arange(0,4).reshape(2,2)\n",
    "np_print(arr1)\n"
   ]
  },
  {
   "cell_type": "code",
   "execution_count": 24,
   "metadata": {},
   "outputs": [],
   "source": [
    "# 깊은복사 2\n",
    "arr2 = arr1.copy()"
   ]
  },
  {
   "cell_type": "code",
   "execution_count": 25,
   "metadata": {},
   "outputs": [],
   "source": [
    "# 얕은복사\n",
    "arr3 = arr1"
   ]
  },
  {
   "cell_type": "code",
   "execution_count": 26,
   "metadata": {},
   "outputs": [
    {
     "data": {
      "text/plain": [
       "array([[100,   1],\n",
       "       [  2,   3]])"
      ]
     },
     "execution_count": 26,
     "metadata": {},
     "output_type": "execute_result"
    }
   ],
   "source": [
    "arr2[0,0] = 100\n",
    "arr2"
   ]
  },
  {
   "cell_type": "code",
   "execution_count": 27,
   "metadata": {},
   "outputs": [
    {
     "data": {
      "text/plain": [
       "array([[0, 1],\n",
       "       [2, 3]])"
      ]
     },
     "execution_count": 27,
     "metadata": {},
     "output_type": "execute_result"
    }
   ],
   "source": [
    "arr3"
   ]
  },
  {
   "cell_type": "markdown",
   "metadata": {},
   "source": [
    "### 배열 변환\n",
    "#### 1. 전치(Transpose)\n",
    "- 배열의 행/열 인덱스가 바뀌는 변환\n",
    "- 배열객체.T : 행/열 인덱스가 바뀐 새로운 배열을 반환하며 원본은 변경되지 않음\n",
    "\n",
    "<img src='img/transpose.png' width='200' height='200' align='left'>"
   ]
  },
  {
   "cell_type": "code",
   "execution_count": 28,
   "metadata": {},
   "outputs": [
    {
     "name": "stdout",
     "output_type": "stream",
     "text": [
      "\n",
      "    type : <class 'numpy.ndarray'>\n",
      "    shape : (3, 4)\n",
      "    dimension : 2\n",
      "    dtype : int32\n",
      "    data :\n",
      " [[ 1  2  3  4]\n",
      " [ 5  6  7  8]\n",
      " [ 9 10 11 12]]\n",
      "    \n"
     ]
    }
   ],
   "source": [
    "# 1이상 12이하의 값을 가지는 3*4 구조의 배열생성\n",
    "arr1 = np.arange(1,13).reshape(3,4)\n",
    "np_print(arr1)"
   ]
  },
  {
   "cell_type": "code",
   "execution_count": 29,
   "metadata": {},
   "outputs": [
    {
     "data": {
      "text/plain": [
       "array([[ 1,  5,  9],\n",
       "       [ 2,  6, 10],\n",
       "       [ 3,  7, 11],\n",
       "       [ 4,  8, 12]])"
      ]
     },
     "execution_count": 29,
     "metadata": {},
     "output_type": "execute_result"
    }
   ],
   "source": [
    "# 배열절환\n",
    "# 원본에는 영향 없음\n",
    "arr1.T"
   ]
  },
  {
   "cell_type": "markdown",
   "metadata": {},
   "source": [
    "### 2. 배열 형태 변경\n",
    "- arr.ravel(), np.ravel(arr)\n",
    "    - 다차원 배열을 1차원 배열로 변환\n",
    "    - np.ravel() : 1차원으로 변환되는 결과는 원본 배열에 반영되지 않음\n",
    "    - arr.ravel() : 1차원으로 변환하는 배열의 요소가 변경되면 원본 배열에도 반영됨\n",
    "- arr.reshape(new_shape), np.reshape(arr, new_shape)\n",
    "    - 원본 배열 객체의 구조(shape)를 변경\n",
    "    - 변경하려는 구조의 전체 요소 개수와 원본 배열의 전체 요소 개수가 동일해야 함\n",
    "    - 변경하려는 구조의 튜플 중 하나의 원소는 -1로 대체할 수 있고 다른 하나의 원소를 기준으로 계산되어 사용됨\n",
    "    - reshape() 메서드가 반환하는 배열의 요소가 변경되면 원본 배열에도 반영됨"
   ]
  },
  {
   "cell_type": "code",
   "execution_count": 31,
   "metadata": {},
   "outputs": [],
   "source": [
    "# 다차원 배열을 1차원 배열로 변환\n",
    "arr2 = arr1.ravel()"
   ]
  },
  {
   "cell_type": "code",
   "execution_count": 37,
   "metadata": {},
   "outputs": [
    {
     "name": "stdout",
     "output_type": "stream",
     "text": [
      "[[ 1  2  3  4]\n",
      " [ 5  6  7  8]\n",
      " [ 9 10 11 12]]\n",
      "--------------------------------------------------\n",
      "[ 1  2  3  4  5  6  7  8  9 10 11 12]\n"
     ]
    }
   ],
   "source": [
    "print(arr1)\n",
    "print('-'*50)\n",
    "print(arr2)"
   ]
  },
  {
   "cell_type": "code",
   "execution_count": 39,
   "metadata": {},
   "outputs": [
    {
     "name": "stdout",
     "output_type": "stream",
     "text": [
      "[[10  2  3  4]\n",
      " [ 5  6  7  8]\n",
      " [ 9 10 11 12]]\n",
      "--------------------------------------------------\n",
      "[10  2  3  4  5  6  7  8  9 10 11 12]\n"
     ]
    }
   ],
   "source": [
    "# 변환 후 값 수정, 원본과 비교 (얕은복사로 적용됩니다.)\n",
    "# arr2만 바꾸려면 arr을 새로 지정해주어야 합니다.\n",
    "arr2[0]  = 10\n",
    "\n",
    "print(arr1)\n",
    "print('-'*50)\n",
    "print(arr2)"
   ]
  },
  {
   "cell_type": "code",
   "execution_count": 40,
   "metadata": {},
   "outputs": [
    {
     "data": {
      "text/plain": [
       "array([[10,  2],\n",
       "       [ 3,  4],\n",
       "       [ 5,  6],\n",
       "       [ 7,  8],\n",
       "       [ 9, 10],\n",
       "       [11, 12]])"
      ]
     },
     "execution_count": 40,
     "metadata": {},
     "output_type": "execute_result"
    }
   ],
   "source": [
    "# arr1을 6 * 2로 바꾸되 하나의 축에 대해 -1을 사용\n",
    "arr3 = arr1.reshape(-1,2)\n",
    "arr3"
   ]
  },
  {
   "cell_type": "code",
   "execution_count": 41,
   "metadata": {},
   "outputs": [],
   "source": [
    "# 변환 후 값 수정, 원본과 비교 \n",
    "\n",
    "arr3[0] = [100, 200]"
   ]
  },
  {
   "cell_type": "code",
   "execution_count": 42,
   "metadata": {},
   "outputs": [
    {
     "data": {
      "text/plain": [
       "array([[100, 200,   3,   4],\n",
       "       [  5,   6,   7,   8],\n",
       "       [  9,  10,  11,  12]])"
      ]
     },
     "execution_count": 42,
     "metadata": {},
     "output_type": "execute_result"
    }
   ],
   "source": [
    "# 이 역시 얕은 복사로 얽혀있어 불변하게 하려면 \n",
    "# 값을 따로 지정해주어야합니다.(새 변수에 저장)\n",
    "arr1"
   ]
  },
  {
   "cell_type": "markdown",
   "metadata": {},
   "source": [
    "#### 3. 요소 변경, 추가, 삭제\n",
    "1) 요소 변경\n",
    "- arr.resize(new_shape), np.resize(arr, new_shape)\n",
    "    - 배열 메서드를 사용하면 원본 변경, np 함수를 사용하면 새로운 배열 반환\n",
    "    - 배열의 구조(shape)를 변경하며 원본 배열의 요소 수와 동일하지 않아도 변경 가능\n",
    "    - 변경되는 배열의 요소 수가 동일할 경우 : reshape() 메서드와 동일한 결과\n",
    "    - 변경되는 배열의 요소 수가 더 많을 경우\n",
    "        - np.resize(arr, new_shape) : 원본을 변경하지 않고, 모자란 부분을 기존 배열 값에서 복사해서 추가\n",
    "        - arr.resize(new_shape) : 원본을 변경하고, 모자란 부분을 0으로 채움\n",
    "        - 공통적으로 new_shape은 튜플로 추가\n",
    "    - 변경되는 배열의 요소 수가 더 작을 경우 : 마지막 남은 요소 삭제"
   ]
  },
  {
   "cell_type": "code",
   "execution_count": 45,
   "metadata": {},
   "outputs": [],
   "source": [
    "np.random.seed(20)"
   ]
  },
  {
   "cell_type": "code",
   "execution_count": 46,
   "metadata": {},
   "outputs": [
    {
     "name": "stdout",
     "output_type": "stream",
     "text": [
      "\n",
      "    type : <class 'numpy.ndarray'>\n",
      "    shape : (3, 5)\n",
      "    dimension : 2\n",
      "    dtype : int32\n",
      "    data :\n",
      " [[4 5 7 8 3]\n",
      " [1 7 9 6 4]\n",
      " [1 7 7 1 6]]\n",
      "    \n"
     ]
    }
   ],
   "source": [
    "# 1이상 10미만의 범위의 랜덤 정수값으로 3*5 구조를 가진 배열 생성\n",
    "arr = np.random.randint(1,10,(3,5))\n",
    "np_print(arr)"
   ]
  },
  {
   "cell_type": "code",
   "execution_count": 47,
   "metadata": {},
   "outputs": [
    {
     "name": "stdout",
     "output_type": "stream",
     "text": [
      "\n",
      "    type : <class 'numpy.ndarray'>\n",
      "    shape : (3, 5)\n",
      "    dimension : 2\n",
      "    dtype : int32\n",
      "    data :\n",
      " [[8 6 3 7 4]\n",
      " [4 1 7 3 4]\n",
      " [2 9 1 3 8]]\n",
      "    \n"
     ]
    }
   ],
   "source": [
    "arr2 = np.random.randint(1, 10,(3,5))\n",
    "np_print(arr2)"
   ]
  },
  {
   "cell_type": "code",
   "execution_count": 49,
   "metadata": {},
   "outputs": [
    {
     "data": {
      "text/plain": [
       "15"
      ]
     },
     "execution_count": 49,
     "metadata": {},
     "output_type": "execute_result"
    }
   ],
   "source": [
    "# 변경되는 배열의 요수 수가 동일한 경우 : reshape()와 동일하게 동작함\n",
    "arr.resize(5,3)\n",
    "arr.size"
   ]
  },
  {
   "cell_type": "code",
   "execution_count": 50,
   "metadata": {},
   "outputs": [
    {
     "data": {
      "text/plain": [
       "array([[4, 5, 7],\n",
       "       [8, 3, 1],\n",
       "       [7, 9, 6],\n",
       "       [4, 1, 7],\n",
       "       [7, 1, 6]])"
      ]
     },
     "execution_count": 50,
     "metadata": {},
     "output_type": "execute_result"
    }
   ],
   "source": [
    "arr"
   ]
  },
  {
   "cell_type": "code",
   "execution_count": 51,
   "metadata": {},
   "outputs": [
    {
     "name": "stdout",
     "output_type": "stream",
     "text": [
      "\n",
      "    type : <class 'numpy.ndarray'>\n",
      "    shape : (6, 3)\n",
      "    dimension : 2\n",
      "    dtype : int32\n",
      "    data :\n",
      " [[8 6 3]\n",
      " [7 4 4]\n",
      " [1 7 3]\n",
      " [4 2 9]\n",
      " [1 3 8]\n",
      " [8 6 3]]\n",
      "    \n"
     ]
    }
   ],
   "source": [
    "# 변경 후 배열의 요소갯수가 더 많아진 경우\n",
    "# 모자라는 부분은 한번더 반복하여 계속 입력됨\n",
    "arr3 = np.resize(arr2, (6,3))\n",
    "np_print(arr3)"
   ]
  },
  {
   "cell_type": "code",
   "execution_count": 52,
   "metadata": {},
   "outputs": [
    {
     "name": "stdout",
     "output_type": "stream",
     "text": [
      "\n",
      "    type : <class 'numpy.ndarray'>\n",
      "    shape : (6, 3)\n",
      "    dimension : 2\n",
      "    dtype : int32\n",
      "    data :\n",
      " [[4 5 7]\n",
      " [8 3 1]\n",
      " [7 9 6]\n",
      " [4 1 7]\n",
      " [7 1 6]\n",
      " [0 0 0]]\n",
      "    \n"
     ]
    }
   ],
   "source": [
    "# refcheck = False인 경우만 크기가 다를 때 남는 자리를 0으로 채웁니다.\n",
    "arr.resize((6,3), refcheck = False)\n",
    "np_print(arr)"
   ]
  },
  {
   "cell_type": "code",
   "execution_count": 53,
   "metadata": {},
   "outputs": [
    {
     "name": "stdout",
     "output_type": "stream",
     "text": [
      "\n",
      "    type : <class 'numpy.ndarray'>\n",
      "    shape : (3, 3)\n",
      "    dimension : 2\n",
      "    dtype : int32\n",
      "    data :\n",
      " [[4 5 7]\n",
      " [8 3 1]\n",
      " [7 9 6]]\n",
      "    \n"
     ]
    }
   ],
   "source": [
    "# 변경되는 배열의 요소 수가 더 적은 경우 : 마지막 남은 요소를 삭제\n",
    "# 크기가 원본과  resize를 이용했을 때 다르면 refcheck = False를 반드시 넣습니다.\n",
    "arr.resize((3,3), refcheck = False)\n",
    "np_print(arr)"
   ]
  }
 ],
 "metadata": {
  "kernelspec": {
   "display_name": "Python 3.9.7 ('base')",
   "language": "python",
   "name": "python3"
  },
  "language_info": {
   "codemirror_mode": {
    "name": "ipython",
    "version": 3
   },
   "file_extension": ".py",
   "mimetype": "text/x-python",
   "name": "python",
   "nbconvert_exporter": "python",
   "pygments_lexer": "ipython3",
   "version": "3.9.7"
  },
  "orig_nbformat": 4,
  "vscode": {
   "interpreter": {
    "hash": "b34b863c255992f18be4e3271ad309d6f472a641574d2a36abb232a0d7577314"
   }
  }
 },
 "nbformat": 4,
 "nbformat_minor": 2
}
