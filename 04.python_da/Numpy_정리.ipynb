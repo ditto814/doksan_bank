{
 "cells": [
  {
   "cell_type": "code",
   "execution_count": 84,
   "metadata": {},
   "outputs": [],
   "source": [
    "import numpy as np"
   ]
  },
  {
   "cell_type": "code",
   "execution_count": 85,
   "metadata": {},
   "outputs": [
    {
     "data": {
      "text/plain": [
       "[1, 2, 3, 4, 5, 6]"
      ]
     },
     "execution_count": 85,
     "metadata": {},
     "output_type": "execute_result"
    }
   ],
   "source": [
    "tmp = list(range(1,7))\n",
    "tmp"
   ]
  },
  {
   "cell_type": "code",
   "execution_count": 86,
   "metadata": {},
   "outputs": [
    {
     "name": "stdout",
     "output_type": "stream",
     "text": [
      "[1 2 3 4 5 6]  : 배열 내용\n",
      "6  : 배열 길이\n",
      "1  : 배열 차원\n",
      "int32  : 배열 데이터타입\n"
     ]
    }
   ],
   "source": [
    "arr = np.array(tmp)\n",
    "print(arr, \" : 배열 내용\")\n",
    "print(len(arr), \" : 배열 길이\")\n",
    "print(arr.ndim, \" : 배열 차원\")\n",
    "print(arr.dtype, \" : 배열 데이터타입\")"
   ]
  },
  {
   "cell_type": "code",
   "execution_count": 87,
   "metadata": {},
   "outputs": [
    {
     "data": {
      "text/plain": [
       "array([[1, 2, 3],\n",
       "       [4, 5, 6]])"
      ]
     },
     "execution_count": 87,
     "metadata": {},
     "output_type": "execute_result"
    }
   ],
   "source": [
    "# 배열 구조 바꾸기\n",
    "arr.reshape(2,3)"
   ]
  },
  {
   "cell_type": "code",
   "execution_count": 88,
   "metadata": {},
   "outputs": [],
   "source": [
    "def np_print(arr):\n",
    "    text = '''\n",
    "    타 입 : {}\n",
    "    모 양 : {}\n",
    "    차 원 : {}\n",
    "    데이터 타입 : {}\n",
    "    배열내용 : \\n {}'''.format(type(arr), arr.shape, arr.ndim, arr.dtype, arr)\n",
    "    print(text)"
   ]
  },
  {
   "cell_type": "code",
   "execution_count": 89,
   "metadata": {},
   "outputs": [
    {
     "name": "stdout",
     "output_type": "stream",
     "text": [
      "\n",
      "    타 입 : <class 'numpy.ndarray'>\n",
      "    모 양 : (6,)\n",
      "    차 원 : 1\n",
      "    데이터 타입 : int32\n",
      "    배열내용 : \n",
      " [1 2 3 4 5 6]\n"
     ]
    }
   ],
   "source": [
    "np_print(arr)"
   ]
  },
  {
   "cell_type": "code",
   "execution_count": 90,
   "metadata": {},
   "outputs": [
    {
     "name": "stdout",
     "output_type": "stream",
     "text": [
      "\n",
      "    타 입 : <class 'numpy.ndarray'>\n",
      "    모 양 : (5,)\n",
      "    차 원 : 1\n",
      "    데이터 타입 : <U32\n",
      "    배열내용 : \n",
      " ['1' '2' '3.14' '4' '5']\n"
     ]
    }
   ],
   "source": [
    "# 다른 데이터 유형이 섞여있을 때\n",
    "tmp = [1,2,3.14,4,'5']\n",
    "arr1 = np.array(tmp)\n",
    "np_print(arr1)"
   ]
  },
  {
   "cell_type": "code",
   "execution_count": 91,
   "metadata": {},
   "outputs": [
    {
     "name": "stdout",
     "output_type": "stream",
     "text": [
      "\n",
      "    타 입 : <class 'numpy.ndarray'>\n",
      "    모 양 : (2, 4)\n",
      "    차 원 : 2\n",
      "    데이터 타입 : int32\n",
      "    배열내용 : \n",
      " [[1 2 3 4]\n",
      " [9 8 7 6]]\n"
     ]
    }
   ],
   "source": [
    "# 2차원 배열 만들기\n",
    "tmp = [[1,2,3,4],\n",
    "       [9,8,7,6]]\n",
    "\n",
    "arr = np.array(tmp)\n",
    "\n",
    "np_print(arr)"
   ]
  },
  {
   "cell_type": "code",
   "execution_count": 92,
   "metadata": {},
   "outputs": [
    {
     "name": "stdout",
     "output_type": "stream",
     "text": [
      "\n",
      "    타 입 : <class 'numpy.ndarray'>\n",
      "    모 양 : (1, 4, 3)\n",
      "    차 원 : 3\n",
      "    데이터 타입 : <U32\n",
      "    배열내용 : \n",
      " [[['1' '2' '3']\n",
      "  ['피카츄' '이브이' '메타몽']\n",
      "  ['3.12' '3.11' '5']\n",
      "  ['오타와' '밴쿠버' '위니펙']]]\n"
     ]
    }
   ],
   "source": [
    "# 3차원 배열 만들기\n",
    "tmp = [[[1,2,3], ['피카츄', '이브이', '메타몽'],\n",
    "       [3.12, 3.11, '5'], ['오타와', '밴쿠버', '위니펙']]]\n",
    "\n",
    "arr = np.array(tmp)\n",
    "\n",
    "np_print(arr)"
   ]
  },
  {
   "cell_type": "code",
   "execution_count": 93,
   "metadata": {},
   "outputs": [
    {
     "name": "stdout",
     "output_type": "stream",
     "text": [
      "\n",
      "    타 입 : <class 'numpy.ndarray'>\n",
      "    모 양 : (2, 2, 3)\n",
      "    차 원 : 3\n",
      "    데이터 타입 : int32\n",
      "    배열내용 : \n",
      " [[[ 1  2  3]\n",
      "  [ 4  5  6]]\n",
      "\n",
      " [[ 7  8  9]\n",
      "  [10 11 12]]]\n"
     ]
    }
   ],
   "source": [
    "# 3차원 정수형 -> 3차원 실수형\n",
    "\n",
    "tmp = [[[1,2,3], [4,5,6]],\n",
    "        [[7,8,9], [10, 11, 12]]]\n",
    "\n",
    "arr = np.array(tmp)\n",
    "np_print(arr)"
   ]
  },
  {
   "cell_type": "code",
   "execution_count": 94,
   "metadata": {},
   "outputs": [
    {
     "name": "stdout",
     "output_type": "stream",
     "text": [
      "\n",
      "    타 입 : <class 'numpy.ndarray'>\n",
      "    모 양 : (2, 2, 3)\n",
      "    차 원 : 3\n",
      "    데이터 타입 : float64\n",
      "    배열내용 : \n",
      " [[[ 1.  2.  3.]\n",
      "  [ 4.  5.  6.]]\n",
      "\n",
      " [[ 7.  8.  9.]\n",
      "  [10. 11. 12.]]]\n"
     ]
    }
   ],
   "source": [
    "tmp = [[[1,2,3], [4,5,6]],\n",
    "        [[7,8,9], [10, 11, 12]]]\n",
    "\n",
    "arr = np.array(tmp, dtype = float)\n",
    "np_print(arr)"
   ]
  },
  {
   "cell_type": "code",
   "execution_count": 95,
   "metadata": {},
   "outputs": [
    {
     "name": "stdout",
     "output_type": "stream",
     "text": [
      "\n",
      "    타 입 : <class 'numpy.ndarray'>\n",
      "    모 양 : (6, 5)\n",
      "    차 원 : 2\n",
      "    데이터 타입 : float64\n",
      "    배열내용 : \n",
      " [[0. 0. 0. 0. 0.]\n",
      " [0. 0. 0. 0. 0.]\n",
      " [0. 0. 0. 0. 0.]\n",
      " [0. 0. 0. 0. 0.]\n",
      " [0. 0. 0. 0. 0.]\n",
      " [0. 0. 0. 0. 0.]]\n",
      "--------------------------------------------------\n",
      "\n",
      "    타 입 : <class 'numpy.ndarray'>\n",
      "    모 양 : (6, 5)\n",
      "    차 원 : 2\n",
      "    데이터 타입 : int32\n",
      "    배열내용 : \n",
      " [[0 0 0 0 0]\n",
      " [0 0 0 0 0]\n",
      " [0 0 0 0 0]\n",
      " [0 0 0 0 0]\n",
      " [0 0 0 0 0]\n",
      " [0 0 0 0 0]]\n"
     ]
    }
   ],
   "source": [
    "# 6행 5열 구조안의 값이 모두 0으로 채우는 배열\n",
    "\n",
    "arr = np.zeros((6,5))\n",
    "np_print(arr)\n",
    "# 채워질땐 실수로 채워집니다.\n",
    "\n",
    "print('-' * 50)\n",
    "\n",
    "# 정수로 채울때는 이렇게!\n",
    "arr = np.zeros((6,5), dtype = int)\n",
    "np_print(arr)"
   ]
  },
  {
   "cell_type": "code",
   "execution_count": 96,
   "metadata": {},
   "outputs": [
    {
     "name": "stdout",
     "output_type": "stream",
     "text": [
      "\n",
      "    타 입 : <class 'numpy.ndarray'>\n",
      "    모 양 : (6, 5)\n",
      "    차 원 : 2\n",
      "    데이터 타입 : int32\n",
      "    배열내용 : \n",
      " [[1 1 1 1 1]\n",
      " [1 1 1 1 1]\n",
      " [1 1 1 1 1]\n",
      " [1 1 1 1 1]\n",
      " [1 1 1 1 1]\n",
      " [1 1 1 1 1]]\n",
      "--------------------------------------------------\n",
      "\n",
      "    타 입 : <class 'numpy.ndarray'>\n",
      "    모 양 : (6, 5)\n",
      "    차 원 : 2\n",
      "    데이터 타입 : int32\n",
      "    배열내용 : \n",
      " [[8 8 8 8 8]\n",
      " [8 8 8 8 8]\n",
      " [8 8 8 8 8]\n",
      " [8 8 8 8 8]\n",
      " [8 8 8 8 8]\n",
      " [8 8 8 8 8]]\n"
     ]
    }
   ],
   "source": [
    "# 0말고 1로 채울때는??\n",
    "arr = np.ones((6,5), dtype = int)\n",
    "np_print(arr)\n",
    "\n",
    "print('-' * 50)\n",
    "\n",
    "# 다른 숫자로 채우고 싶을 때는 ex)8\n",
    "arr = np.full((6, 5),8 , dtype = int)\n",
    "np_print(arr)"
   ]
  },
  {
   "cell_type": "code",
   "execution_count": 97,
   "metadata": {},
   "outputs": [
    {
     "name": "stdout",
     "output_type": "stream",
     "text": [
      "\n",
      "    타 입 : <class 'numpy.ndarray'>\n",
      "    모 양 : (2, 3)\n",
      "    차 원 : 2\n",
      "    데이터 타입 : <U4\n",
      "    배열내용 : \n",
      " [['MSFT' 'AA' 'EL']\n",
      " ['DD' 'WMT' 'SCHW']]\n"
     ]
    }
   ],
   "source": [
    "or_data = [['MSFT', 'AA', 'EL'],\n",
    "           ['DD', 'WMT', 'SCHW']]\n",
    "\n",
    "arr1 = np.array(or_data)\n",
    "np_print(arr1)"
   ]
  },
  {
   "cell_type": "code",
   "execution_count": 98,
   "metadata": {},
   "outputs": [
    {
     "name": "stdout",
     "output_type": "stream",
     "text": [
      "\n",
      "    타 입 : <class 'numpy.ndarray'>\n",
      "    모 양 : (2, 3)\n",
      "    차 원 : 2\n",
      "    데이터 타입 : <U4\n",
      "    배열내용 : \n",
      " [['' '' '']\n",
      " ['' '' '']]\n"
     ]
    }
   ],
   "source": [
    "# 위의 or_data의 양식만 끌어다 쓰고싶다면??\n",
    "# 보토 배열목적은 행렬간 연산이라 정, 실수가 입력됩니다.\n",
    "# zeros를 불러왔음에도 원 구조가 문자로 채워졌기에\n",
    "# 문자로 결과를 도출한듯 합니다.\n",
    "\n",
    "arr2 = np.zeros_like(arr1)\n",
    "np_print(arr2)"
   ]
  },
  {
   "cell_type": "code",
   "execution_count": 99,
   "metadata": {},
   "outputs": [
    {
     "name": "stdout",
     "output_type": "stream",
     "text": [
      "\n",
      "    타 입 : <class 'numpy.ndarray'>\n",
      "    모 양 : (2, 3)\n",
      "    차 원 : 2\n",
      "    데이터 타입 : int32\n",
      "    배열내용 : \n",
      " [[ 9  0  1]\n",
      " [12 35  7]]\n"
     ]
    }
   ],
   "source": [
    "or_data_int = [[9, 0, 1],\n",
    "           [12, 35, 7]]\n",
    "\n",
    "arr1 = np.array(or_data_int)\n",
    "np_print(arr1)"
   ]
  },
  {
   "cell_type": "code",
   "execution_count": 100,
   "metadata": {},
   "outputs": [
    {
     "name": "stdout",
     "output_type": "stream",
     "text": [
      "\n",
      "    타 입 : <class 'numpy.ndarray'>\n",
      "    모 양 : (2, 3)\n",
      "    차 원 : 2\n",
      "    데이터 타입 : int32\n",
      "    배열내용 : \n",
      " [[1 1 1]\n",
      " [1 1 1]]\n"
     ]
    }
   ],
   "source": [
    "arr3 = np.ones_like(arr1)\n",
    "np_print(arr3)"
   ]
  },
  {
   "cell_type": "code",
   "execution_count": 101,
   "metadata": {},
   "outputs": [
    {
     "name": "stdout",
     "output_type": "stream",
     "text": [
      "\n",
      "    타 입 : <class 'numpy.ndarray'>\n",
      "    모 양 : (5,)\n",
      "    차 원 : 1\n",
      "    데이터 타입 : float64\n",
      "    배열내용 : \n",
      " [0.   1.75 3.5  5.25 7.  ]\n"
     ]
    }
   ],
   "source": [
    "# 배열내에 0 ~ 7 까지의 같은 간격의 5개 숫자 \n",
    "arr = np.linspace(0,7, num = 5)\n",
    "np_print(arr)"
   ]
  },
  {
   "cell_type": "code",
   "execution_count": 102,
   "metadata": {},
   "outputs": [
    {
     "name": "stdout",
     "output_type": "stream",
     "text": [
      "\n",
      "    타 입 : <class 'numpy.ndarray'>\n",
      "    모 양 : (5,)\n",
      "    차 원 : 1\n",
      "    데이터 타입 : float64\n",
      "    배열내용 : \n",
      " [0.  1.4 2.8 4.2 5.6]\n"
     ]
    }
   ],
   "source": [
    "# endpoint를 False로 변경시 7은 포함하지 않습니다.\n",
    "arr = np.linspace(0,7, num = 5, endpoint = False)\n",
    "np_print(arr)"
   ]
  },
  {
   "cell_type": "code",
   "execution_count": 103,
   "metadata": {},
   "outputs": [
    {
     "name": "stdout",
     "output_type": "stream",
     "text": [
      "(array([0. , 1.4, 2.8, 4.2, 5.6]), 1.4)\n",
      "\n",
      "    타 입 : <class 'numpy.ndarray'>\n",
      "    모 양 : (5,)\n",
      "    차 원 : 1\n",
      "    데이터 타입 : float64\n",
      "    배열내용 : \n",
      " [0.  1.4 2.8 4.2 5.6]\n"
     ]
    }
   ],
   "source": [
    "# retstep -> 반환값이 tuple로 바뀝니다.\n",
    "# 기존의 np_print는 사용할 수 없습니다.\n",
    "# 배열이 아닌 튜플이라 shape가 없어서 표시불가합니다.\n",
    "# 대신 튜플중 리스트 부분만은 shape가 있기 때문에 np_print 사용가능\n",
    "arr = np.linspace(0,7, num = 5, endpoint = False, retstep = True)\n",
    "print(arr)\n",
    "np_print(arr[0])"
   ]
  },
  {
   "cell_type": "code",
   "execution_count": 104,
   "metadata": {},
   "outputs": [
    {
     "name": "stdout",
     "output_type": "stream",
     "text": [
      "\n",
      "    타 입 : <class 'numpy.ndarray'>\n",
      "    모 양 : (10,)\n",
      "    차 원 : 1\n",
      "    데이터 타입 : int32\n",
      "    배열내용 : \n",
      " [0 1 2 3 4 5 6 7 8 9]\n"
     ]
    }
   ],
   "source": [
    "# 기본값 0 ~ 10 미만의 범위에서 1씩 증가하는 정수를 가진 배열\n",
    "arr = np.arange(10)\n",
    "np_print(arr)"
   ]
  },
  {
   "cell_type": "code",
   "execution_count": 105,
   "metadata": {},
   "outputs": [
    {
     "name": "stdout",
     "output_type": "stream",
     "text": [
      "\n",
      "    타 입 : <class 'numpy.ndarray'>\n",
      "    모 양 : (5,)\n",
      "    차 원 : 1\n",
      "    데이터 타입 : int32\n",
      "    배열내용 : \n",
      " [0 2 4 6 8]\n"
     ]
    }
   ],
   "source": [
    "# for문때 했던것과 마찬가지로 간격주는것도 가능합니다.\n",
    "arr = np.arange(0, 10, 2)\n",
    "np_print(arr)"
   ]
  },
  {
   "cell_type": "code",
   "execution_count": 106,
   "metadata": {},
   "outputs": [
    {
     "name": "stdout",
     "output_type": "stream",
     "text": [
      "\n",
      "    타 입 : <class 'numpy.ndarray'>\n",
      "    모 양 : (4,)\n",
      "    차 원 : 1\n",
      "    데이터 타입 : int32\n",
      "    배열내용 : \n",
      " [1 2 3 4]\n",
      "1\n",
      "--------------------------------------------------\n",
      "\n",
      "    타 입 : <class 'numpy.ndarray'>\n",
      "    모 양 : (1, 4)\n",
      "    차 원 : 2\n",
      "    데이터 타입 : int32\n",
      "    배열내용 : \n",
      " [[1 2 3 4]]\n",
      "[1 2 3 4]\n"
     ]
    }
   ],
   "source": [
    "# arrange 생성된 배열 shape(1,5)로 생성된 배열 차이\n",
    "# 출력되는 화면은 비슷해보이나 실제는 다릅니다.\n",
    "\n",
    "# 범위 1~5 까지의 1차원 행렬 / 모양 (4,)\n",
    "arr = np.arange(1,5)\n",
    "np_print(arr)\n",
    "print(arr[0])\n",
    "\n",
    "print('-'*50)\n",
    "\n",
    "# 범위 1~5 까지의 2차원 행렬 / 모양 (1,4)\n",
    "arr2 = arr.reshape(1,4)\n",
    "np_print(arr2)\n",
    "print(arr2[0])"
   ]
  },
  {
   "cell_type": "code",
   "execution_count": 107,
   "metadata": {},
   "outputs": [
    {
     "data": {
      "text/plain": [
       "1"
      ]
     },
     "execution_count": 107,
     "metadata": {},
     "output_type": "execute_result"
    }
   ],
   "source": [
    "arr[0]"
   ]
  },
  {
   "cell_type": "code",
   "execution_count": 108,
   "metadata": {},
   "outputs": [
    {
     "name": "stdout",
     "output_type": "stream",
     "text": [
      "\n",
      "    타 입 : <class 'numpy.ndarray'>\n",
      "    모 양 : (50,)\n",
      "    차 원 : 1\n",
      "    데이터 타입 : float64\n",
      "    배열내용 : \n",
      " [1.00000000e+00 1.59985872e+00 2.55954792e+00 4.09491506e+00\n",
      " 6.55128557e+00 1.04811313e+01 1.67683294e+01 2.68269580e+01\n",
      " 4.29193426e+01 6.86648845e+01 1.09854114e+02 1.75751062e+02\n",
      " 2.81176870e+02 4.49843267e+02 7.19685673e+02 1.15139540e+03\n",
      " 1.84206997e+03 2.94705170e+03 4.71486636e+03 7.54312006e+03\n",
      " 1.20679264e+04 1.93069773e+04 3.08884360e+04 4.94171336e+04\n",
      " 7.90604321e+04 1.26485522e+05 2.02358965e+05 3.23745754e+05\n",
      " 5.17947468e+05 8.28642773e+05 1.32571137e+06 2.12095089e+06\n",
      " 3.39322177e+06 5.42867544e+06 8.68511374e+06 1.38949549e+07\n",
      " 2.22299648e+07 3.55648031e+07 5.68986603e+07 9.10298178e+07\n",
      " 1.45634848e+08 2.32995181e+08 3.72759372e+08 5.96362332e+08\n",
      " 9.54095476e+08 1.52641797e+09 2.44205309e+09 3.90693994e+09\n",
      " 6.25055193e+09 1.00000000e+10]\n"
     ]
    }
   ],
   "source": [
    "# 0 이상 10 이하의 범위에서 로그스케일 을 적용한 값 50개를 갖는 배열\n",
    "# 밑수가 10인 로그\n",
    "arr = np.logspace(0, 10)\n",
    "np_print(arr)"
   ]
  },
  {
   "cell_type": "code",
   "execution_count": 109,
   "metadata": {},
   "outputs": [
    {
     "name": "stdout",
     "output_type": "stream",
     "text": [
      "\n",
      "    타 입 : <class 'numpy.ndarray'>\n",
      "    모 양 : (4,)\n",
      "    차 원 : 1\n",
      "    데이터 타입 : float64\n",
      "    배열내용 : \n",
      " [   1.   10.  100. 1000.]\n"
     ]
    }
   ],
   "source": [
    "arr = np.logspace(0, 3, 4)\n",
    "np_print(arr)\n",
    "# 순서대로 10의 0승, 10의 1승, 10의 2승, 10의 3승 "
   ]
  },
  {
   "cell_type": "code",
   "execution_count": 110,
   "metadata": {},
   "outputs": [],
   "source": [
    "# 간단 상식 - 표준편차 \n",
    "\n",
    "# 국어 평균은 75점이고 편차는 4점입니다.\n",
    "# 수학평균은 43점이고 편차는 17점입니다.\n",
    "# A학생은 국어 92점 수학 75점을 받았습니다.\n",
    "# 둘중 어느것을 더 잘 봤을 까요??\n",
    "\n",
    "# 국어 92 - 75 -> 17 / 4 -> ~4.25~ \n",
    "# 수학 75 - 43 -> 32 / 17 -> ~1.88~ \n",
    "# 국어 4.25 > 수학 1.88 보다 높으므로 국어를 더 잘 봤다고 할수 있습니다. "
   ]
  },
  {
   "cell_type": "code",
   "execution_count": 111,
   "metadata": {},
   "outputs": [
    {
     "name": "stdout",
     "output_type": "stream",
     "text": [
      "\n",
      "    타 입 : <class 'numpy.ndarray'>\n",
      "    모 양 : (5000,)\n",
      "    차 원 : 1\n",
      "    데이터 타입 : float64\n",
      "    배열내용 : \n",
      " [18.53908349 14.50881858 21.30545979 ... 15.41156535 14.97496672\n",
      " 14.58635629]\n"
     ]
    },
    {
     "data": {
      "image/png": "[encoded data removed]",
      "text/plain": [
       "<Figure size 432x288 with 1 Axes>"
      ]
     },
     "metadata": {
      "needs_background": "light"
     },
     "output_type": "display_data"
    }
   ],
   "source": [
    "# 난수로 만드는 데이터 정규분포 시각화\n",
    "# 평균 15에 편차는 3인 데이터 5000개 시각화\n",
    "data = np.random.normal(15, 3, size = 5000)\n",
    "np_print(data)\n",
    "\n",
    "import matplotlib.pyplot as plt\n",
    "plt.hist(data, bins = 100)\n",
    "plt.show()"
   ]
  },
  {
   "cell_type": "code",
   "execution_count": 112,
   "metadata": {},
   "outputs": [
    {
     "name": "stdout",
     "output_type": "stream",
     "text": [
      "\n",
      "    타 입 : <class 'numpy.ndarray'>\n",
      "    모 양 : (5000,)\n",
      "    차 원 : 1\n",
      "    데이터 타입 : float64\n",
      "    배열내용 : \n",
      " [0.37425745 0.92591195 0.53642538 ... 0.00514105 0.77838843 0.95841819]\n"
     ]
    },
    {
     "data": {
      "image/png": "[encoded data removed]",
      "text/plain": [
       "<Figure size 432x288 with 1 Axes>"
      ]
     },
     "metadata": {
      "needs_background": "light"
     },
     "output_type": "display_data"
    }
   ],
   "source": [
    "# 난수로 만드는 데이터 균등분포 시각화\n",
    "# 0~1 까지의 편차없는 무작위 난수 5000개\n",
    "arr = np.random.rand(5000)\n",
    "np_print(arr)\n",
    "plt.hist(arr, bins = 100)\n",
    "plt.show()"
   ]
  },
  {
   "cell_type": "code",
   "execution_count": 113,
   "metadata": {},
   "outputs": [
    {
     "data": {
      "image/png": "[encoded data removed]",
      "text/plain": [
       "<Figure size 432x288 with 1 Axes>"
      ]
     },
     "metadata": {
      "needs_background": "light"
     },
     "output_type": "display_data"
    }
   ],
   "source": [
    "# 기본값은 0~1이지만 계산만 해주면 범위를 늘릴수도 줄일수도 있습니다.\n",
    "# 지금은 0부터 100까지 5000개\n",
    "plt.hist(arr * 100, bins = 100)\n",
    "plt.show()"
   ]
  },
  {
   "cell_type": "code",
   "execution_count": 114,
   "metadata": {},
   "outputs": [
    {
     "data": {
      "image/png": "[encoded data removed]",
      "text/plain": [
       "<Figure size 432x288 with 1 Axes>"
      ]
     },
     "metadata": {
      "needs_background": "light"
     },
     "output_type": "display_data"
    }
   ],
   "source": [
    "# 지금은 30부터 100까지 5000개\n",
    "plt.hist(arr * 70 + 30, bins = 100)\n",
    "plt.show()\n"
   ]
  },
  {
   "cell_type": "code",
   "execution_count": 115,
   "metadata": {},
   "outputs": [],
   "source": [
    "# 난수 시작 성정\n",
    "# 시드값 지정\n",
    "np.random.seed(132)"
   ]
  },
  {
   "cell_type": "code",
   "execution_count": 116,
   "metadata": {},
   "outputs": [
    {
     "name": "stdout",
     "output_type": "stream",
     "text": [
      "[[0.7809039  0.38114454 0.82863764]\n",
      " [0.78168279 0.80159712 0.35690177]\n",
      " [0.96212193 0.35623985 0.8185804 ]]\n",
      "--------------------------------------------------\n",
      "[[0 3]\n",
      " [1 1]\n",
      " [1 3]]\n"
     ]
    }
   ],
   "source": [
    "# 0 이상 1미만의 범위에서 실수값을 갖는 3행 3열\n",
    "print(np.random.random((3,3)))\n",
    "\n",
    "\n",
    "print('-'*50)\n",
    "\n",
    "# 0 이상 5미만의 범위에서 정수값을 갖는 3행 2열\n",
    "print(np.random.randint(0, 5, size = (3,2)))"
   ]
  },
  {
   "cell_type": "code",
   "execution_count": 117,
   "metadata": {},
   "outputs": [
    {
     "name": "stdout",
     "output_type": "stream",
     "text": [
      "\n",
      "    타 입 : <class 'numpy.ndarray'>\n",
      "    모 양 : (9,)\n",
      "    차 원 : 1\n",
      "    데이터 타입 : int32\n",
      "    배열내용 : \n",
      " [1 2 3 4 5 6 7 8 9]\n",
      "--------------------------------------------------\n",
      "\n",
      "    타 입 : <class 'numpy.ndarray'>\n",
      "    모 양 : (3, 3)\n",
      "    차 원 : 2\n",
      "    데이터 타입 : int32\n",
      "    배열내용 : \n",
      " [[1 2 3]\n",
      " [4 5 6]\n",
      " [7 8 9]]\n",
      "--------------------------------------------------\n",
      "\n",
      "    타 입 : <class 'numpy.ndarray'>\n",
      "    모 양 : (3, 3)\n",
      "    차 원 : 2\n",
      "    데이터 타입 : int32\n",
      "    배열내용 : \n",
      " [[ 4  5  6]\n",
      " [ 7  8  9]\n",
      " [10 11 12]]\n",
      "--------------------------------------------------\n",
      "\n",
      "    타 입 : <class 'numpy.ndarray'>\n",
      "    모 양 : (3, 4)\n",
      "    차 원 : 2\n",
      "    데이터 타입 : int32\n",
      "    배열내용 : \n",
      " [[10 11 12 13]\n",
      " [14 15 16 17]\n",
      " [18 19 20 21]]\n"
     ]
    }
   ],
   "source": [
    "# 1부터 10미만의 범위에서 1씩 증가하는 숫자를 데이터로 가진 3행 3열 배열\n",
    "\n",
    "a = np.arange(1, 10)\n",
    "np_print(a)\n",
    "\n",
    "print('-'*50)\n",
    "\n",
    "a = np.arange(1,10).reshape(3,3)\n",
    "np_print(a)\n",
    "\n",
    "print('-'*50)\n",
    "\n",
    "b = np.arange(4, 13).reshape(3,3)\n",
    "np_print(b)\n",
    "\n",
    "print('-'*50)\n",
    "\n",
    "c = np.arange(10, 22).reshape(3,4)\n",
    "np_print(c)"
   ]
  },
  {
   "cell_type": "code",
   "execution_count": 118,
   "metadata": {},
   "outputs": [
    {
     "name": "stdout",
     "output_type": "stream",
     "text": [
      "[[1 2 3]\n",
      " [4 5 6]\n",
      " [7 8 9]]\n",
      "[[ 4  5  6]\n",
      " [ 7  8  9]\n",
      " [10 11 12]]\n",
      "--------------------------------------------------\n",
      "[[ 5  7  9]\n",
      " [11 13 15]\n",
      " [17 19 21]]\n",
      "--------------------------------------------------\n",
      "[[ 5  7  9]\n",
      " [11 13 15]\n",
      " [17 19 21]]\n"
     ]
    }
   ],
   "source": [
    "# 배열 + 배열\n",
    "print(a)\n",
    "print(b)\n",
    "\n",
    "print('-' * 50)\n",
    "\n",
    "print(a + b)\n",
    "\n",
    "print('-' * 50)\n",
    "\n",
    "print(np.add(a,b))\n"
   ]
  },
  {
   "cell_type": "code",
   "execution_count": 119,
   "metadata": {},
   "outputs": [
    {
     "name": "stdout",
     "output_type": "stream",
     "text": [
      "[[1 2 3]\n",
      " [4 5 6]\n",
      " [7 8 9]]\n",
      "[[ 4  5  6]\n",
      " [ 7  8  9]\n",
      " [10 11 12]]\n",
      "--------------------------------------------------\n",
      "[[-3 -3 -3]\n",
      " [-3 -3 -3]\n",
      " [-3 -3 -3]]\n",
      "--------------------------------------------------\n",
      "[[-3 -3 -3]\n",
      " [-3 -3 -3]\n",
      " [-3 -3 -3]]\n"
     ]
    }
   ],
   "source": [
    "# 배열 - 배열\n",
    "\n",
    "print(a)\n",
    "print(b)\n",
    "\n",
    "print('-' * 50)\n",
    "\n",
    "print(a - b)\n",
    "\n",
    "print('-' * 50)\n",
    "\n",
    "print(np.subtract(a,b))\n"
   ]
  },
  {
   "cell_type": "code",
   "execution_count": 120,
   "metadata": {},
   "outputs": [
    {
     "name": "stdout",
     "output_type": "stream",
     "text": [
      "[[1 2 3]\n",
      " [4 5 6]\n",
      " [7 8 9]]\n",
      "[[ 4  5  6]\n",
      " [ 7  8  9]\n",
      " [10 11 12]]\n",
      "--------------------------------------------------\n",
      "[[0.25       0.4        0.5       ]\n",
      " [0.57142857 0.625      0.66666667]\n",
      " [0.7        0.72727273 0.75      ]]\n",
      "--------------------------------------------------\n",
      "[[0.25       0.4        0.5       ]\n",
      " [0.57142857 0.625      0.66666667]\n",
      " [0.7        0.72727273 0.75      ]]\n"
     ]
    }
   ],
   "source": [
    "# 배열 / 배열\n",
    "\n",
    "print(a)\n",
    "print(b)\n",
    "\n",
    "print('-' * 50)\n",
    "\n",
    "print(a / b)\n",
    "\n",
    "print('-' * 50)\n",
    "\n",
    "print(np.divide(a,b))"
   ]
  },
  {
   "cell_type": "code",
   "execution_count": 121,
   "metadata": {},
   "outputs": [
    {
     "name": "stdout",
     "output_type": "stream",
     "text": [
      "[[1 2 3]\n",
      " [4 5 6]\n",
      " [7 8 9]]\n",
      "[[ 4  5  6]\n",
      " [ 7  8  9]\n",
      " [10 11 12]]\n",
      "--------------------------------------------------\n",
      "[[  4  10  18]\n",
      " [ 28  40  54]\n",
      " [ 70  88 108]]\n",
      "--------------------------------------------------\n",
      "[[  4  10  18]\n",
      " [ 28  40  54]\n",
      " [ 70  88 108]]\n"
     ]
    }
   ],
   "source": [
    "# 배열 * 배열\n",
    "\n",
    "print(a)\n",
    "print(b)\n",
    "\n",
    "print('-' * 50)\n",
    "\n",
    "print(a * b)\n",
    "\n",
    "print('-' * 50)\n",
    "\n",
    "print(np.multiply(a,b))"
   ]
  },
  {
   "cell_type": "code",
   "execution_count": 122,
   "metadata": {},
   "outputs": [
    {
     "name": "stdout",
     "output_type": "stream",
     "text": [
      "[[False False False]\n",
      " [False False False]\n",
      " [False False False]]\n",
      "--------------------------------------------------\n",
      "[[ True  True  True]\n",
      " [ True  True  True]\n",
      " [ True  True  True]]\n",
      "--------------------------------------------------\n",
      "[[False False False]\n",
      " [False False False]\n",
      " [False False False]]\n",
      "--------------------------------------------------\n",
      "[[ True  True  True]\n",
      " [ True  True  True]\n",
      " [ True  True  True]]\n",
      "--------------------------------------------------\n"
     ]
    }
   ],
   "source": [
    "# 비교연산\n",
    "print(a == b)\n",
    "print('-' * 50)\n",
    "\n",
    "print(a != b)\n",
    "print('-' * 50)\n",
    "\n",
    "print(a > b)\n",
    "print('-' * 50)\n",
    "\n",
    "print(a < b)\n",
    "print('-' * 50)"
   ]
  },
  {
   "cell_type": "code",
   "execution_count": 123,
   "metadata": {},
   "outputs": [
    {
     "data": {
      "text/plain": [
       "False"
      ]
     },
     "execution_count": 123,
     "metadata": {},
     "output_type": "execute_result"
    }
   ],
   "source": [
    "# 두 배열이 완전히 일치하나요?\n",
    "np.array_equal(a,b)"
   ]
  },
  {
   "cell_type": "code",
   "execution_count": 124,
   "metadata": {},
   "outputs": [
    {
     "name": "stdout",
     "output_type": "stream",
     "text": [
      "[[10 11 12 13]\n",
      " [14 15 16 17]\n",
      " [18 19 20 21]]\n",
      "186\n",
      "186\n"
     ]
    }
   ],
   "source": [
    "print(c)\n",
    "\n",
    "# 배열 범위 전체의 합\n",
    "print(c.sum())\n",
    "\n",
    "print(np.sum(c))"
   ]
  },
  {
   "cell_type": "code",
   "execution_count": 125,
   "metadata": {},
   "outputs": [
    {
     "name": "stdout",
     "output_type": "stream",
     "text": [
      "[46 62 78]\n",
      "[46 62 78]\n"
     ]
    }
   ],
   "source": [
    "# 배열중 로우의 합\n",
    "print(c.sum(axis = 1))\n",
    "print(np.sum(c, axis = 1))"
   ]
  },
  {
   "cell_type": "code",
   "execution_count": 126,
   "metadata": {},
   "outputs": [
    {
     "name": "stdout",
     "output_type": "stream",
     "text": [
      "[42 45 48 51]\n",
      "[42 45 48 51]\n"
     ]
    }
   ],
   "source": [
    "# 배열중 컬럼의 합\n",
    "print(c.sum(axis = 0))\n",
    "print(np.sum(c, axis = 0))"
   ]
  },
  {
   "cell_type": "code",
   "execution_count": 127,
   "metadata": {},
   "outputs": [
    {
     "name": "stdout",
     "output_type": "stream",
     "text": [
      "10\n",
      "10\n",
      "21\n",
      "21\n"
     ]
    }
   ],
   "source": [
    "# 배열중 최소값\n",
    "print(np.min(c))\n",
    "print(c.min())\n",
    "\n",
    "# 배열중 최대값\n",
    "print(np.max(c))\n",
    "print(c.max())"
   ]
  },
  {
   "cell_type": "code",
   "execution_count": 128,
   "metadata": {},
   "outputs": [
    {
     "name": "stdout",
     "output_type": "stream",
     "text": [
      "[[10 11 12 13]\n",
      " [14 15 16 17]\n",
      " [18 19 20 21]]\n"
     ]
    }
   ],
   "source": [
    "print(c)"
   ]
  },
  {
   "cell_type": "code",
   "execution_count": 129,
   "metadata": {},
   "outputs": [
    {
     "name": "stdout",
     "output_type": "stream",
     "text": [
      "[10 14 18]\n",
      "[10 14 18]\n",
      "[10 11 12 13]\n",
      "[10 11 12 13]\n"
     ]
    }
   ],
   "source": [
    "# 로우별 최소값\n",
    "print(np.min(c, axis = 1))\n",
    "print(c.min(axis = 1))\n",
    "\n",
    "# 컬럼별 최소값 \n",
    "print(np.min(c, axis = 0))\n",
    "print(c.min(axis = 0))"
   ]
  },
  {
   "cell_type": "code",
   "execution_count": 130,
   "metadata": {},
   "outputs": [
    {
     "name": "stdout",
     "output_type": "stream",
     "text": [
      "[[10 11 12 13]\n",
      " [14 15 16 17]\n",
      " [18 19 20 21]]\n"
     ]
    }
   ],
   "source": [
    "print(c)"
   ]
  },
  {
   "cell_type": "code",
   "execution_count": 131,
   "metadata": {},
   "outputs": [
    {
     "name": "stdout",
     "output_type": "stream",
     "text": [
      "186\n",
      "[ 10  21  33  46  60  75  91 108 126 145 165 186]\n",
      "--------------------------------------------------\n",
      "[[10 21 33 46]\n",
      " [14 29 45 62]\n",
      " [18 37 57 78]]\n",
      "[[10 21 33 46]\n",
      " [14 29 45 62]\n",
      " [18 37 57 78]]\n",
      "--------------------------------------------------\n",
      "[[10 11 12 13]\n",
      " [24 26 28 30]\n",
      " [42 45 48 51]]\n",
      "[[10 11 12 13]\n",
      " [24 26 28 30]\n",
      " [42 45 48 51]]\n"
     ]
    }
   ],
   "source": [
    "# 누적합계\n",
    "print(c.sum())\n",
    "print(c.cumsum())\n",
    "print('-' * 50)\n",
    "\n",
    "# 로우별 누적합계\n",
    "print(c.cumsum(axis = 1))\n",
    "print(np.cumsum(c, axis = 1))\n",
    "print('-' * 50)\n",
    "\n",
    "# 컬럼별 누적합계\n",
    "print(c.cumsum(axis = 0))\n",
    "print(np.cumsum(c, axis = 0))"
   ]
  },
  {
   "cell_type": "code",
   "execution_count": 132,
   "metadata": {},
   "outputs": [
    {
     "name": "stdout",
     "output_type": "stream",
     "text": [
      "15.5\n",
      "15.5\n",
      "--------------------------------------------------\n",
      "[11.5 15.5 19.5]\n",
      "[11.5 15.5 19.5]\n",
      "--------------------------------------------------\n",
      "[14. 15. 16. 17.]\n",
      "[14. 15. 16. 17.]\n"
     ]
    }
   ],
   "source": [
    "# 평균 \n",
    "print(c.mean())\n",
    "print(np.mean(c))\n",
    "print('-' * 50)\n",
    "\n",
    "# 로우 평균 \n",
    "print(c.mean(axis = 1))\n",
    "print(np.mean(c, axis = 1))\n",
    "print('-' * 50)\n",
    "\n",
    "# 컬럼 평균\n",
    "print(c.mean(axis = 0))\n",
    "print(np.mean(c, axis = 0))"
   ]
  },
  {
   "cell_type": "code",
   "execution_count": 133,
   "metadata": {},
   "outputs": [
    {
     "name": "stdout",
     "output_type": "stream",
     "text": [
      "[[10 11 12 13]\n",
      " [14 15 16 17]\n",
      " [18 19 20 21]]\n"
     ]
    }
   ],
   "source": [
    "print(c)"
   ]
  },
  {
   "cell_type": "code",
   "execution_count": 134,
   "metadata": {},
   "outputs": [
    {
     "name": "stdout",
     "output_type": "stream",
     "text": [
      "15.5\n",
      "[11.5 15.5 19.5]\n",
      "[14. 15. 16. 17.]\n"
     ]
    }
   ],
   "source": [
    "# 중앙값\n",
    "print(np.median(c))\n",
    "\n",
    "# 로우별 중앙값\n",
    "print(np.median(c, axis = 1))\n",
    "\n",
    "# 컬럼별 중앙값\n",
    "print(np.median(c, axis = 0))"
   ]
  },
  {
   "cell_type": "code",
   "execution_count": 135,
   "metadata": {},
   "outputs": [
    {
     "name": "stdout",
     "output_type": "stream",
     "text": [
      "[12 24 44 31 55  1] [ 9 19 32 41 42  6]\n",
      "[[1.         0.89521205]\n",
      " [0.89521205 1.        ]]\n"
     ]
    }
   ],
   "source": [
    "# 상관계수\n",
    "x = np.array([12, 24, 44, 31, 55, 1])\n",
    "y = np.array([9, 19, 32, 41, 42, 6])\n",
    "print(x, y)\n",
    "print(np.corrcoef(x,y))"
   ]
  },
  {
   "cell_type": "code",
   "execution_count": 136,
   "metadata": {},
   "outputs": [
    {
     "name": "stdout",
     "output_type": "stream",
     "text": [
      "[[1 2 3]\n",
      " [4 5 6]\n",
      " [7 8 9]]\n",
      "--------------------------------------------------\n",
      "2.581988897471611\n",
      "--------------------------------------------------\n",
      "2.581988897471611\n",
      "--------------------------------------------------\n",
      "[0.81649658 0.81649658 0.81649658]\n",
      "[0.81649658 0.81649658 0.81649658]\n",
      "--------------------------------------------------\n",
      "[2.44948974 2.44948974 2.44948974]\n",
      "[2.44948974 2.44948974 2.44948974]\n"
     ]
    }
   ],
   "source": [
    "# 표준편차 - 전체 기준\n",
    "print(a)\n",
    "\n",
    "print('-' * 50)\n",
    "\n",
    "print(np.std(a))\n",
    "\n",
    "print('-' * 50)\n",
    "\n",
    "print(a.std())\n",
    "\n",
    "print('-' * 50)\n",
    "\n",
    "# 로우별 표준편차\n",
    "print(np.std(a, axis = 1))\n",
    "print(a.std(axis = 1))\n",
    "\n",
    "print('-' * 50)\n",
    "\n",
    "# 컬럼별 표준편차\n",
    "print(np.std(a, axis = 0))\n",
    "print(np.std(a, axis = 0))"
   ]
  },
  {
   "cell_type": "code",
   "execution_count": 137,
   "metadata": {},
   "outputs": [
    {
     "data": {
      "text/plain": [
       "array([       0,        1,        2, ..., 99999997, 99999998, 99999999])"
      ]
     },
     "execution_count": 137,
     "metadata": {},
     "output_type": "execute_result"
    }
   ],
   "source": [
    "x = np.arange(100000000)\n",
    "x"
   ]
  },
  {
   "cell_type": "code",
   "execution_count": 138,
   "metadata": {},
   "outputs": [
    {
     "name": "stderr",
     "output_type": "stream",
     "text": [
      "<timed exec>:5: RuntimeWarning: overflow encountered in long_scalars\n"
     ]
    },
    {
     "name": "stdout",
     "output_type": "stream",
     "text": [
      "887459712\n",
      "Wall time: 18.7 s\n"
     ]
    }
   ],
   "source": [
    "%%time\n",
    "# for문으로 실행했을 때\n",
    "\n",
    "loop_result = 0\n",
    "for i in x:\n",
    "    loop_result = loop_result + i\n",
    "\n",
    "print(loop_result)"
   ]
  },
  {
   "cell_type": "code",
   "execution_count": 139,
   "metadata": {},
   "outputs": [
    {
     "name": "stdout",
     "output_type": "stream",
     "text": [
      "Wall time: 46 ms\n"
     ]
    },
    {
     "data": {
      "text/plain": [
       "887459712"
      ]
     },
     "execution_count": 139,
     "metadata": {},
     "output_type": "execute_result"
    }
   ],
   "source": [
    "%%time\n",
    "# numpy연산으로실행 할 떄\n",
    "\n",
    "x.sum()"
   ]
  },
  {
   "cell_type": "code",
   "execution_count": 140,
   "metadata": {},
   "outputs": [
    {
     "name": "stdout",
     "output_type": "stream",
     "text": [
      "\n",
      "    타 입 : <class 'numpy.ndarray'>\n",
      "    모 양 : (5,)\n",
      "    차 원 : 1\n",
      "    데이터 타입 : int32\n",
      "    배열내용 : \n",
      " [0 1 2 3 4]\n"
     ]
    }
   ],
   "source": [
    "# 배열정렬\n",
    "x = np.arange(0, 5)\n",
    "np_print(x)"
   ]
  },
  {
   "cell_type": "code",
   "execution_count": 141,
   "metadata": {},
   "outputs": [
    {
     "data": {
      "text/plain": [
       "array([4, 3, 2, 1, 0])"
      ]
     },
     "execution_count": 141,
     "metadata": {},
     "output_type": "execute_result"
    }
   ],
   "source": [
    "# 배열을 반대로 뒤집을 떄 사용\n",
    "# 기존 파이썬문법의 reverse와는 다르게 뒤집어짐\n",
    "x[::-1]"
   ]
  },
  {
   "cell_type": "code",
   "execution_count": 142,
   "metadata": {},
   "outputs": [],
   "source": [
    "np.random.seed(199)"
   ]
  },
  {
   "cell_type": "code",
   "execution_count": 143,
   "metadata": {},
   "outputs": [
    {
     "name": "stdout",
     "output_type": "stream",
     "text": [
      "\n",
      "    타 입 : <class 'numpy.ndarray'>\n",
      "    모 양 : (5,)\n",
      "    차 원 : 1\n",
      "    데이터 타입 : int32\n",
      "    배열내용 : \n",
      " [ 4  0  7 11  2]\n"
     ]
    }
   ],
   "source": [
    "a = np.random.randint(0, 20, 5)\n",
    "np_print(a)"
   ]
  },
  {
   "cell_type": "code",
   "execution_count": 144,
   "metadata": {},
   "outputs": [
    {
     "data": {
      "text/plain": [
       "array([ 0,  2,  4,  7, 11])"
      ]
     },
     "execution_count": 144,
     "metadata": {},
     "output_type": "execute_result"
    }
   ],
   "source": [
    "# np.sort는 원본에 반영X\n",
    "np.sort(a)"
   ]
  },
  {
   "cell_type": "code",
   "execution_count": 149,
   "metadata": {},
   "outputs": [
    {
     "data": {
      "text/plain": [
       "array([ 0,  2,  4,  7, 11])"
      ]
     },
     "execution_count": 149,
     "metadata": {},
     "output_type": "execute_result"
    }
   ],
   "source": [
    "# array.sort는 원본에 반영 O\n",
    "a.sort()\n",
    "a"
   ]
  },
  {
   "cell_type": "code",
   "execution_count": 150,
   "metadata": {},
   "outputs": [
    {
     "name": "stdout",
     "output_type": "stream",
     "text": [
      "\n",
      "    타 입 : <class 'numpy.ndarray'>\n",
      "    모 양 : (6,)\n",
      "    차 원 : 1\n",
      "    데이터 타입 : int32\n",
      "    배열내용 : \n",
      " [8 2 5 2 2 3]\n"
     ]
    }
   ],
   "source": [
    "b = np.random.randint(0, 10, 6)\n",
    "np_print(b)"
   ]
  },
  {
   "cell_type": "code",
   "execution_count": 151,
   "metadata": {},
   "outputs": [
    {
     "data": {
      "text/plain": [
       "array([1, 3, 4, 5, 2, 0], dtype=int64)"
      ]
     },
     "execution_count": 151,
     "metadata": {},
     "output_type": "execute_result"
    }
   ],
   "source": [
    "# np.argsort(자료)는 내부의 아이템을 오름차순 정렬하기위해\n",
    "# 어느위치로 가야하는지 와야될 위치를 알려줍니다.\n",
    "np.argsort(b)"
   ]
  },
  {
   "cell_type": "code",
   "execution_count": 153,
   "metadata": {},
   "outputs": [
    {
     "name": "stdout",
     "output_type": "stream",
     "text": [
      "\n",
      "    타 입 : <class 'numpy.ndarray'>\n",
      "    모 양 : (3, 3)\n",
      "    차 원 : 2\n",
      "    데이터 타입 : float64\n",
      "    배열내용 : \n",
      " [[0.22719234 0.23754871 0.70355256]\n",
      " [0.09625486 0.62798412 0.35468441]\n",
      " [0.48909031 0.94063918 0.6023539 ]]\n",
      "--------------------------------------------------\n",
      "\n",
      "    타 입 : <class 'numpy.ndarray'>\n",
      "    모 양 : (3, 3)\n",
      "    차 원 : 2\n",
      "    데이터 타입 : float64\n",
      "    배열내용 : \n",
      " [[0.81645361 0.31906794 0.84638705]\n",
      " [0.3829008  0.27263978 0.41428607]\n",
      " [0.62308247 0.17064533 0.51625286]]\n"
     ]
    }
   ],
   "source": [
    "a = np.random.random((3,3))\n",
    "b = np.random.random((3,3))\n",
    "\n",
    "np_print(a)\n",
    "print('-'*50)\n",
    "np_print(b)"
   ]
  },
  {
   "cell_type": "code",
   "execution_count": null,
   "metadata": {},
   "outputs": [],
   "source": []
  },
  {
   "cell_type": "code",
   "execution_count": null,
   "metadata": {},
   "outputs": [],
   "source": []
  },
  {
   "cell_type": "code",
   "execution_count": null,
   "metadata": {},
   "outputs": [],
   "source": []
  },
  {
   "cell_type": "code",
   "execution_count": null,
   "metadata": {},
   "outputs": [],
   "source": []
  },
  {
   "cell_type": "code",
   "execution_count": null,
   "metadata": {},
   "outputs": [],
   "source": []
  },
  {
   "cell_type": "code",
   "execution_count": null,
   "metadata": {},
   "outputs": [],
   "source": []
  },
  {
   "cell_type": "code",
   "execution_count": null,
   "metadata": {},
   "outputs": [],
   "source": []
  },
  {
   "cell_type": "code",
   "execution_count": null,
   "metadata": {},
   "outputs": [],
   "source": []
  },
  {
   "cell_type": "code",
   "execution_count": null,
   "metadata": {},
   "outputs": [],
   "source": []
  },
  {
   "cell_type": "code",
   "execution_count": null,
   "metadata": {},
   "outputs": [],
   "source": []
  },
  {
   "cell_type": "code",
   "execution_count": null,
   "metadata": {},
   "outputs": [],
   "source": []
  },
  {
   "cell_type": "code",
   "execution_count": null,
   "metadata": {},
   "outputs": [],
   "source": []
  },
  {
   "cell_type": "code",
   "execution_count": null,
   "metadata": {},
   "outputs": [],
   "source": []
  },
  {
   "cell_type": "code",
   "execution_count": null,
   "metadata": {},
   "outputs": [],
   "source": []
  },
  {
   "cell_type": "code",
   "execution_count": null,
   "metadata": {},
   "outputs": [],
   "source": []
  },
  {
   "cell_type": "code",
   "execution_count": null,
   "metadata": {},
   "outputs": [],
   "source": []
  },
  {
   "cell_type": "code",
   "execution_count": null,
   "metadata": {},
   "outputs": [],
   "source": []
  },
  {
   "cell_type": "code",
   "execution_count": null,
   "metadata": {},
   "outputs": [],
   "source": []
  },
  {
   "cell_type": "code",
   "execution_count": null,
   "metadata": {},
   "outputs": [],
   "source": []
  },
  {
   "cell_type": "code",
   "execution_count": null,
   "metadata": {},
   "outputs": [],
   "source": []
  },
  {
   "cell_type": "code",
   "execution_count": null,
   "metadata": {},
   "outputs": [],
   "source": []
  },
  {
   "cell_type": "code",
   "execution_count": null,
   "metadata": {},
   "outputs": [],
   "source": []
  },
  {
   "cell_type": "code",
   "execution_count": null,
   "metadata": {},
   "outputs": [],
   "source": []
  },
  {
   "cell_type": "code",
   "execution_count": null,
   "metadata": {},
   "outputs": [],
   "source": []
  },
  {
   "cell_type": "code",
   "execution_count": null,
   "metadata": {},
   "outputs": [],
   "source": []
  },
  {
   "cell_type": "code",
   "execution_count": null,
   "metadata": {},
   "outputs": [],
   "source": []
  },
  {
   "cell_type": "code",
   "execution_count": null,
   "metadata": {},
   "outputs": [],
   "source": []
  },
  {
   "cell_type": "code",
   "execution_count": null,
   "metadata": {},
   "outputs": [],
   "source": []
  },
  {
   "cell_type": "code",
   "execution_count": null,
   "metadata": {},
   "outputs": [],
   "source": []
  }
 ],
 "metadata": {
  "kernelspec": {
   "display_name": "Python 3.9.7 ('base')",
   "language": "python",
   "name": "python3"
  },
  "language_info": {
   "codemirror_mode": {
    "name": "ipython",
    "version": 3
   },
   "file_extension": ".py",
   "mimetype": "text/x-python",
   "name": "python",
   "nbconvert_exporter": "python",
   "pygments_lexer": "ipython3",
   "version": "3.9.7"
  },
  "orig_nbformat": 4,
  "vscode": {
   "interpreter": {
    "hash": "b34b863c255992f18be4e3271ad309d6f472a641574d2a36abb232a0d7577314"
   }
  }
 },
 "nbformat": 4,
 "nbformat_minor": 2
}
