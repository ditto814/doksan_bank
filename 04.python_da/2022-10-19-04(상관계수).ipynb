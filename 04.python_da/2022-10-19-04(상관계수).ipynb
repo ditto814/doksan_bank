{
 "cells": [
  {
   "cell_type": "markdown",
   "metadata": {},
   "source": [
    "#### 상관계수 : 두 데이터 간의 상관관계(양/음 의 상관관계)\n",
    "#### numpy함수 : np.corrcoef(arr1, arr2)"
   ]
  },
  {
   "cell_type": "code",
   "execution_count": 13,
   "metadata": {},
   "outputs": [],
   "source": [
    "import numpy as np\n",
    "\n",
    "def np_print(arr):\n",
    "    text=\"\"\"\n",
    "    type : {}\n",
    "    shape : {}\n",
    "    dimension : {}\n",
    "    dtype : {}\n",
    "    data : \\n {}\"\"\".format(type(arr), arr.shape, arr.ndim, arr.dtype, arr)\n",
    "    print(text)"
   ]
  },
  {
   "cell_type": "code",
   "execution_count": 14,
   "metadata": {},
   "outputs": [
    {
     "name": "stdout",
     "output_type": "stream",
     "text": [
      "\n",
      "    type : <class 'numpy.ndarray'>\n",
      "    shape : (9,)\n",
      "    dimension : 1\n",
      "    dtype : int32\n",
      "    data : \n",
      " [1 2 3 4 5 6 7 8 9]\n",
      "\n",
      "    type : <class 'numpy.ndarray'>\n",
      "    shape : (3, 3)\n",
      "    dimension : 2\n",
      "    dtype : int32\n",
      "    data : \n",
      " [[1 2 3]\n",
      " [4 5 6]\n",
      " [7 8 9]]\n"
     ]
    }
   ],
   "source": [
    "a = np.arange(1,10)\n",
    "np_print(a)\n",
    "\n",
    "\n",
    "a = np.arange(1,10).reshape(3,3)\n",
    "np_print(a)"
   ]
  },
  {
   "cell_type": "code",
   "execution_count": 15,
   "metadata": {},
   "outputs": [],
   "source": [
    "x = np.array([15, 12, 27, 37, 29])\n",
    "y = np.array([1, 4, 2, 9, 7])"
   ]
  },
  {
   "cell_type": "code",
   "execution_count": 16,
   "metadata": {},
   "outputs": [
    {
     "name": "stdout",
     "output_type": "stream",
     "text": [
      "[15 12 27 37 29]\n",
      "[1 4 2 9 7]\n",
      "[[1.         0.72615657]\n",
      " [0.72615657 1.        ]]\n"
     ]
    }
   ],
   "source": [
    "print(x)\n",
    "print(y)\n",
    "print(np.corrcoef(x,y))"
   ]
  },
  {
   "cell_type": "code",
   "execution_count": 17,
   "metadata": {},
   "outputs": [],
   "source": [
    "# numpy에서 3개 요소를 이용한 상관도를 구하는 것이 불가능\n",
    "# pandas를 이용하는 경우 2개씩 짝지은 모든 경우의 수를 구함\n",
    "z = np.array([0.3, 0.5, 0.6, 0.8, 1.3])\n",
    "# np.corrcoef(x,y,z)\n",
    "# 3개의 인자는 받을 수 없습니다."
   ]
  },
  {
   "cell_type": "code",
   "execution_count": 18,
   "metadata": {},
   "outputs": [
    {
     "data": {
      "text/plain": [
       "array([[1, 2, 3],\n",
       "       [4, 5, 6],\n",
       "       [7, 8, 9]])"
      ]
     },
     "execution_count": 18,
     "metadata": {},
     "output_type": "execute_result"
    }
   ],
   "source": [
    "# 표준편차 - 전체 기준\n",
    "# 1) 배열 타입의 메서드 : arr.std()\n",
    "# 2) numpy함수 : np.std(arr)\n",
    "a"
   ]
  },
  {
   "cell_type": "code",
   "execution_count": 24,
   "metadata": {},
   "outputs": [
    {
     "name": "stdout",
     "output_type": "stream",
     "text": [
      "2.581988897471611\n",
      "2.581988897471611\n",
      "--------------------------------------------------\n",
      "[2.44948974 2.44948974 2.44948974]\n",
      "[2.44948974 2.44948974 2.44948974]\n",
      "--------------------------------------------------\n",
      "[0.81649658 0.81649658 0.81649658]\n",
      "[0.81649658 0.81649658 0.81649658]\n"
     ]
    }
   ],
   "source": [
    "# 전체\n",
    "print(a.std())\n",
    "print(np.std(a))\n",
    "\n",
    "print('-'*50)\n",
    "\n",
    "# 세로축\n",
    "print(a.std(axis = 0))\n",
    "print(np.std(a, axis = 0))\n",
    "\n",
    "print('-'*50)\n",
    "\n",
    "# 세로축\n",
    "print(a.std(axis = 1))\n",
    "print(np.std(a, axis = 1))"
   ]
  }
 ],
 "metadata": {
  "kernelspec": {
   "display_name": "Python 3.9.7 ('base')",
   "language": "python",
   "name": "python3"
  },
  "language_info": {
   "codemirror_mode": {
    "name": "ipython",
    "version": 3
   },
   "file_extension": ".py",
   "mimetype": "text/x-python",
   "name": "python",
   "nbconvert_exporter": "python",
   "pygments_lexer": "ipython3",
   "version": "3.9.7"
  },
  "orig_nbformat": 4,
  "vscode": {
   "interpreter": {
    "hash": "b34b863c255992f18be4e3271ad309d6f472a641574d2a36abb232a0d7577314"
   }
  }
 },
 "nbformat": 4,
 "nbformat_minor": 2
}
