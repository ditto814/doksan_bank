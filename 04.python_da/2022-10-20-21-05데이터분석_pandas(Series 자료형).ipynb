{
 "cells": [
  {
   "cell_type": "markdown",
   "id": "a4309402",
   "metadata": {},
   "source": [
    "### Pandas\n",
    "\n",
    "- 데이터 처리 및 분석을 위한 라이브러리\n",
    "- 대용량 데이터를 안정적이면서도 간편하게 처리\n",
    "- 서로 다른 데이터타입으로 열을 구성할 수 있음 <br>\n",
    "(참고) Numpy : 전체 배열 원소를 동일한 타입으로 제한\n",
    "- 주요 기능\n",
    "    - 데이터 입출력 : csv, excel, RDB, JSON 등 다양한 포맷의 데이터를 효율적으로 처리할 수 있는 형식을 사용\n",
    "    - 데이터 가공 : 분리, 결합, 계층, 피봇 등\n",
    "    - 통계 분석 처리\n",
    "\n",
    "#### 자료형\n",
    "- Series <br>\n",
    "\n",
    "    - 1차원 배열과 유사한 자료형\n",
    "    - 색인(index) : 행 번호\n",
    "        - 각각의 데이터에 부여하는 속성으로 기본값은 0부터 1씩 증가하는 숫자 지정\n",
    "        - index 파라미터를 통해 새로운 값으로 변경 가능\n",
    "        - 리스트, 튜플 타입으로 새로운 값을 전달해야하며 다차원 자료형은 사용할 수 없음\n",
    "        - 전달하는 색인의 개수와 데이터의 개수가 일치해야 함\n",
    "    - 각각의 색인과 데이터가 매핑되어 있으므로 dictionary 자료형과 유사\n",
    "    - 여러 가지 데이터 타입 사용 가능\n",
    "\n",
    "<img src=\"img/series_example.png\" width=\"250\" align=\"center\">"
   ]
  },
  {
   "cell_type": "code",
   "execution_count": 74,
   "id": "792c9b69",
   "metadata": {},
   "outputs": [],
   "source": [
    "# pandas 라이브러리 및 Series, dataFrame 네임스페이스 불러오기\n",
    "import pandas as pd"
   ]
  },
  {
   "cell_type": "code",
   "execution_count": 75,
   "id": "fe5c1620",
   "metadata": {},
   "outputs": [
    {
     "name": "stderr",
     "output_type": "stream",
     "text": [
      "C:\\Users\\rx178\\AppData\\Local\\Temp/ipykernel_16900/3816399240.py:2: DeprecationWarning: The default dtype for empty Series will be 'object' instead of 'float64' in a future version. Specify a dtype explicitly to silence this warning.\n",
      "  pd.Series()\n"
     ]
    },
    {
     "data": {
      "text/plain": [
       "Series([], dtype: float64)"
      ]
     },
     "execution_count": 75,
     "metadata": {},
     "output_type": "execute_result"
    }
   ],
   "source": [
    "# Series 생성\n",
    "pd.Series()"
   ]
  },
  {
   "cell_type": "markdown",
   "id": "d1008f76",
   "metadata": {},
   "source": [
    "### Series 생성\n",
    "\n",
    "- 하나의 값(숫자, 문자) 또는 자료형(리스트, 튜플, np 배열)으로 데이터 전달\n",
    "\n",
    "### Series 속성\n",
    "\n",
    "- 속성은 소괄호를 붙이지 않음\n",
    "- index : series 객체의 인덱스 배열을 반환\n",
    "- values : series 객체의 데이터(값) 배열을 반환\n",
    "- name : series 객체의 이름을 반환 \n",
    "- dtype : series 객체의 데이터 타입을 반환\n",
    "- size : series 객체의 데이터 개수(길이)를 반환\n",
    "- shape : series 객체의 구조(행, 열, 차원)를 반환"
   ]
  },
  {
   "cell_type": "code",
   "execution_count": 76,
   "id": "99bd977c",
   "metadata": {},
   "outputs": [
    {
     "data": {
      "text/plain": [
       "0    10\n",
       "dtype: int64"
      ]
     },
     "execution_count": 76,
     "metadata": {},
     "output_type": "execute_result"
    }
   ],
   "source": [
    "# 숫자 10을 데이터로 가지고 있는 Series\n",
    "# 결과 해석\n",
    "# 왼쪽 0 = 자동으로 생성되는 기본 인덱스번호(0부터 시작)\n",
    "# 오른쪽 10 = 입력한 데이터 값\n",
    "s1 = pd.Series(10)\n",
    "s1"
   ]
  },
  {
   "cell_type": "code",
   "execution_count": 77,
   "id": "654b09ce",
   "metadata": {},
   "outputs": [
    {
     "data": {
      "text/plain": [
       "10"
      ]
     },
     "execution_count": 77,
     "metadata": {},
     "output_type": "execute_result"
    }
   ],
   "source": [
    "# 값을 얻을때는 인덱싱이나 슬라이싱을 활용함\n",
    "s1[0]"
   ]
  },
  {
   "cell_type": "code",
   "execution_count": 78,
   "id": "dbaa0722",
   "metadata": {},
   "outputs": [
    {
     "data": {
      "text/plain": [
       "array([10], dtype=int64)"
      ]
     },
     "execution_count": 78,
     "metadata": {},
     "output_type": "execute_result"
    }
   ],
   "source": [
    "# 데이터 내부에 저장된 값 확인\n",
    "s1.values"
   ]
  },
  {
   "cell_type": "code",
   "execution_count": 79,
   "id": "8b7e0c3c",
   "metadata": {},
   "outputs": [
    {
     "data": {
      "text/plain": [
       "RangeIndex(start=0, stop=1, step=1)"
      ]
     },
     "execution_count": 79,
     "metadata": {},
     "output_type": "execute_result"
    }
   ],
   "source": [
    "# 인덱스 번호 확인\n",
    "# RangeIndex : 기본적으로 생성되는 인덱스번호를 사용하는 경우 부여\n",
    "s1.index"
   ]
  },
  {
   "cell_type": "code",
   "execution_count": 80,
   "id": "68e74cfb",
   "metadata": {},
   "outputs": [
    {
     "data": {
      "text/plain": [
       "0    abc\n",
       "dtype: object"
      ]
     },
     "execution_count": 80,
     "metadata": {},
     "output_type": "execute_result"
    }
   ],
   "source": [
    "# 문자\n",
    "s2 = pd.Series('abc')\n",
    "s2"
   ]
  },
  {
   "cell_type": "code",
   "execution_count": 81,
   "id": "f7f4429a",
   "metadata": {},
   "outputs": [
    {
     "data": {
      "text/plain": [
       "array(['abc'], dtype=object)"
      ]
     },
     "execution_count": 81,
     "metadata": {},
     "output_type": "execute_result"
    }
   ],
   "source": [
    "# 데이터 확인\n",
    "s2.values"
   ]
  },
  {
   "cell_type": "code",
   "execution_count": 82,
   "id": "9bf032cc",
   "metadata": {},
   "outputs": [
    {
     "data": {
      "text/plain": [
       "RangeIndex(start=0, stop=1, step=1)"
      ]
     },
     "execution_count": 82,
     "metadata": {},
     "output_type": "execute_result"
    }
   ],
   "source": [
    "# 인덱스 확인\n",
    "s2.index"
   ]
  },
  {
   "cell_type": "code",
   "execution_count": 83,
   "id": "fc2ed1cb",
   "metadata": {},
   "outputs": [
    {
     "data": {
      "text/plain": [
       "0    10\n",
       "1    20\n",
       "2    30\n",
       "dtype: int64"
      ]
     },
     "execution_count": 83,
     "metadata": {},
     "output_type": "execute_result"
    }
   ],
   "source": [
    "# 리스트 자료형\n",
    "s3 = pd.Series([10, 20, 30])\n",
    "s3"
   ]
  },
  {
   "cell_type": "code",
   "execution_count": 84,
   "id": "ce20b930",
   "metadata": {},
   "outputs": [
    {
     "data": {
      "text/plain": [
       "array([10, 20, 30], dtype=int64)"
      ]
     },
     "execution_count": 84,
     "metadata": {},
     "output_type": "execute_result"
    }
   ],
   "source": [
    "# 데이터 확인\n",
    "s3.values"
   ]
  },
  {
   "cell_type": "code",
   "execution_count": 85,
   "id": "bb836516",
   "metadata": {},
   "outputs": [
    {
     "data": {
      "text/plain": [
       "RangeIndex(start=0, stop=3, step=1)"
      ]
     },
     "execution_count": 85,
     "metadata": {},
     "output_type": "execute_result"
    }
   ],
   "source": [
    "# 인덱스 확인\n",
    "# 0이상 3미만의 RangeIndex : 0, 1, 2\n",
    "s3.index"
   ]
  },
  {
   "cell_type": "code",
   "execution_count": 86,
   "id": "b452ddf0",
   "metadata": {},
   "outputs": [
    {
     "data": {
      "text/plain": [
       "0         10.3\n",
       "1         test\n",
       "2          200\n",
       "3    [1, 2, 3]\n",
       "dtype: object"
      ]
     },
     "execution_count": 86,
     "metadata": {},
     "output_type": "execute_result"
    }
   ],
   "source": [
    "# 데이터 타입이 서로 다른 리스트 자료형\n",
    "s4 = pd.Series([10.3, 'test', 200, [1, 2, 3]])\n",
    "s4"
   ]
  },
  {
   "cell_type": "code",
   "execution_count": 87,
   "id": "26684a19",
   "metadata": {},
   "outputs": [
    {
     "data": {
      "text/plain": [
       "array([10.3, 'test', 200, list([1, 2, 3])], dtype=object)"
      ]
     },
     "execution_count": 87,
     "metadata": {},
     "output_type": "execute_result"
    }
   ],
   "source": [
    "# 데이터 확인\n",
    "s4.values"
   ]
  },
  {
   "cell_type": "code",
   "execution_count": 88,
   "id": "f0c9dc75",
   "metadata": {},
   "outputs": [
    {
     "data": {
      "text/plain": [
       "RangeIndex(start=0, stop=4, step=1)"
      ]
     },
     "execution_count": 88,
     "metadata": {},
     "output_type": "execute_result"
    }
   ],
   "source": [
    "# 인덱스 확인\n",
    "s4.index"
   ]
  },
  {
   "cell_type": "code",
   "execution_count": 89,
   "id": "559d6cd8",
   "metadata": {},
   "outputs": [
    {
     "data": {
      "text/plain": [
       "a    10\n",
       "b    20\n",
       "c    30\n",
       "dtype: int64"
      ]
     },
     "execution_count": 89,
     "metadata": {},
     "output_type": "execute_result"
    }
   ],
   "source": [
    "# 딕셔너리 자료형(자동으로 라벨 부여, key가 index, value가 실제 데이터)\n",
    "s5 = pd.Series({'a':10, 'b':20, 'c':30})\n",
    "s5"
   ]
  },
  {
   "cell_type": "code",
   "execution_count": 90,
   "id": "c2855350",
   "metadata": {},
   "outputs": [
    {
     "data": {
      "text/plain": [
       "array([10, 20, 30], dtype=int64)"
      ]
     },
     "execution_count": 90,
     "metadata": {},
     "output_type": "execute_result"
    }
   ],
   "source": [
    "# 데이터 확인\n",
    "s5.values"
   ]
  },
  {
   "cell_type": "code",
   "execution_count": 91,
   "id": "4709ac36",
   "metadata": {},
   "outputs": [
    {
     "data": {
      "text/plain": [
       "Index(['a', 'b', 'c'], dtype='object')"
      ]
     },
     "execution_count": 91,
     "metadata": {},
     "output_type": "execute_result"
    }
   ],
   "source": [
    "# 인덱스 확인\n",
    "s5.index"
   ]
  },
  {
   "cell_type": "code",
   "execution_count": 92,
   "id": "6da0ca0d",
   "metadata": {},
   "outputs": [
    {
     "data": {
      "text/plain": [
       "10"
      ]
     },
     "execution_count": 92,
     "metadata": {},
     "output_type": "execute_result"
    }
   ],
   "source": [
    "# 숫자인덱스도 병행해서 사용 가능\n",
    "s5[0]"
   ]
  },
  {
   "cell_type": "code",
   "execution_count": 93,
   "id": "eab04180",
   "metadata": {},
   "outputs": [
    {
     "data": {
      "text/plain": [
       "10"
      ]
     },
     "execution_count": 93,
     "metadata": {},
     "output_type": "execute_result"
    }
   ],
   "source": [
    "s5['a']"
   ]
  },
  {
   "cell_type": "code",
   "execution_count": 94,
   "id": "12efbf8d",
   "metadata": {},
   "outputs": [
    {
     "data": {
      "text/plain": [
       "Index(['a', 'b', 'c'], dtype='object')"
      ]
     },
     "execution_count": 94,
     "metadata": {},
     "output_type": "execute_result"
    }
   ],
   "source": [
    "# 인덱스 새롭게 지정하기\n",
    "# 인덱스 속성(길이)을 참조하여 리스트, 튜플 타입으로 전달\n",
    "# 라벨 인덱스가 없던 경우 => 새롭게 라벨 인덱스 부여\n",
    "# 라벨 인덱스가 있던 경우 => 기존에 있던 라벨 인덱스에 덮어씌우기\n",
    "s5.index"
   ]
  },
  {
   "cell_type": "code",
   "execution_count": 95,
   "id": "2c908c74",
   "metadata": {},
   "outputs": [
    {
     "data": {
      "text/plain": [
       "RangeIndex(start=0, stop=4, step=1)"
      ]
     },
     "execution_count": 95,
     "metadata": {},
     "output_type": "execute_result"
    }
   ],
   "source": [
    "s4.index"
   ]
  },
  {
   "cell_type": "code",
   "execution_count": 96,
   "id": "05fda093",
   "metadata": {},
   "outputs": [
    {
     "data": {
      "text/plain": [
       "0    1.0\n",
       "1    2.0\n",
       "2    3.0\n",
       "3    4.0\n",
       "4    5.0\n",
       "dtype: float64"
      ]
     },
     "execution_count": 96,
     "metadata": {},
     "output_type": "execute_result"
    }
   ],
   "source": [
    "# 튜플로도 생성 가능\n",
    "s6 = pd.Series((1, 2, 3, 4, 5.0))\n",
    "s6"
   ]
  },
  {
   "cell_type": "code",
   "execution_count": 97,
   "id": "974d4306",
   "metadata": {},
   "outputs": [],
   "source": [
    "# 인덱스를 새롭게 지정할때는 RangeIndex 범위만큼 길이를 가지는 리스트를 사용\n",
    "# 행 개수(데이터 개수)와 동일한 길이를 전달해야 한다\n",
    "s6.index = [2018, 2019, 2020, 2021, 2022]"
   ]
  },
  {
   "cell_type": "code",
   "execution_count": 98,
   "id": "64da5341",
   "metadata": {},
   "outputs": [
    {
     "data": {
      "text/plain": [
       "2018    1.0\n",
       "2019    2.0\n",
       "2020    3.0\n",
       "2021    4.0\n",
       "2022    5.0\n",
       "dtype: float64"
      ]
     },
     "execution_count": 98,
     "metadata": {},
     "output_type": "execute_result"
    }
   ],
   "source": [
    "s6"
   ]
  },
  {
   "cell_type": "code",
   "execution_count": 99,
   "id": "5da1f012",
   "metadata": {},
   "outputs": [
    {
     "data": {
      "text/plain": [
       "2021"
      ]
     },
     "execution_count": 99,
     "metadata": {},
     "output_type": "execute_result"
    }
   ],
   "source": [
    "# 인덱스를 지정하여 객체 생성\n",
    "# 인덱스 객체에 대해서 아이템 참조는 가능\n",
    "s6.index[3]"
   ]
  },
  {
   "cell_type": "code",
   "execution_count": 100,
   "id": "8b993b5a",
   "metadata": {
    "collapsed": true
   },
   "outputs": [],
   "source": [
    "# 인덱스 객체 내부의 단일 라벨 인덱스만 수정하는것은 불가능\n",
    "# s6.index[-1] = 2023"
   ]
  },
  {
   "cell_type": "code",
   "execution_count": 101,
   "id": "111433e3",
   "metadata": {},
   "outputs": [],
   "source": [
    "# 인덱스 라벨링 수정시 전체 인덱스를 대입해줘야 한다.\n",
    "s6.index = [2018, 2019, 2020, 2021, 2023]"
   ]
  },
  {
   "cell_type": "code",
   "execution_count": 102,
   "id": "6f9de14d",
   "metadata": {},
   "outputs": [
    {
     "data": {
      "text/plain": [
       "2018    1.0\n",
       "2019    2.0\n",
       "2020    3.0\n",
       "2021    4.0\n",
       "2023    5.0\n",
       "dtype: float64"
      ]
     },
     "execution_count": 102,
     "metadata": {},
     "output_type": "execute_result"
    }
   ],
   "source": [
    "s6"
   ]
  },
  {
   "cell_type": "code",
   "execution_count": 103,
   "id": "8258c604",
   "metadata": {},
   "outputs": [
    {
     "data": {
      "text/plain": [
       "mon     10\n",
       "tue     20\n",
       "wed     30\n",
       "thur    40\n",
       "dtype: int64"
      ]
     },
     "execution_count": 103,
     "metadata": {},
     "output_type": "execute_result"
    }
   ],
   "source": [
    "# 딕셔너리 없이 시리즈에 라벨인덱스를 부여하고 싶은경우\n",
    "# Series() 생성시 index를 파라미터로 줘서 처리할 수 있음\n",
    "# pd.Series(data, index=[...])\n",
    "s7 = pd.Series([10, 20, 30, 40], index=['mon', 'tue', 'wed', 'thur'])\n",
    "s7"
   ]
  },
  {
   "cell_type": "code",
   "execution_count": 104,
   "id": "597d3cb7",
   "metadata": {},
   "outputs": [
    {
     "data": {
      "text/plain": [
       "array([10, 20, 30, 40], dtype=int64)"
      ]
     },
     "execution_count": 104,
     "metadata": {},
     "output_type": "execute_result"
    }
   ],
   "source": [
    "s7.values"
   ]
  },
  {
   "cell_type": "code",
   "execution_count": 105,
   "id": "27371e5f",
   "metadata": {},
   "outputs": [
    {
     "data": {
      "text/plain": [
       "Index(['mon', 'tue', 'wed', 'thur'], dtype='object')"
      ]
     },
     "execution_count": 105,
     "metadata": {},
     "output_type": "execute_result"
    }
   ],
   "source": [
    "s7.index"
   ]
  },
  {
   "cell_type": "code",
   "execution_count": 106,
   "id": "4ffd74b5",
   "metadata": {},
   "outputs": [
    {
     "data": {
      "text/plain": [
       "40"
      ]
     },
     "execution_count": 106,
     "metadata": {},
     "output_type": "execute_result"
    }
   ],
   "source": [
    "# 자동 부여된 숫자 인덱스도 여전히 사용 가능\n",
    "s7[3]"
   ]
  },
  {
   "cell_type": "code",
   "execution_count": 107,
   "id": "8e511a96",
   "metadata": {},
   "outputs": [
    {
     "data": {
      "text/plain": [
       "40"
      ]
     },
     "execution_count": 107,
     "metadata": {},
     "output_type": "execute_result"
    }
   ],
   "source": [
    "s7['thur']"
   ]
  },
  {
   "cell_type": "markdown",
   "id": "2258ae6a",
   "metadata": {},
   "source": [
    "### dictionary 자료형과 유사한 Series 자료형"
   ]
  },
  {
   "cell_type": "code",
   "execution_count": 108,
   "id": "35fe332d",
   "metadata": {},
   "outputs": [
    {
     "name": "stdout",
     "output_type": "stream",
     "text": [
      "{'서울': 100, '경기': 200, '강원': 300, '부산': 400}\n",
      "서울    100\n",
      "경기    200\n",
      "강원    300\n",
      "부산    400\n",
      "dtype: int64\n"
     ]
    }
   ],
   "source": [
    "# dictionary 자료형으로 Series 생성\n",
    "data = {'서울':100, '경기':200, '강원':300, '부산':400}\n",
    "sample = pd.Series(data)\n",
    "print(data)\n",
    "print(sample)"
   ]
  },
  {
   "cell_type": "code",
   "execution_count": 109,
   "id": "3e8414dc",
   "metadata": {},
   "outputs": [
    {
     "name": "stdout",
     "output_type": "stream",
     "text": [
      "True\n",
      "True\n"
     ]
    }
   ],
   "source": [
    "# Series 객체와 in 연산자\n",
    "# dictionary와 유사 : in 연산자를 사용해 내부 요소 검사시\n",
    "# key값에 해당하는 라벨을 이용해 해당 요소가 있는지 없는지 여부를 True, False로 출력\n",
    "print('서울' in data)\n",
    "print('서울' in sample)"
   ]
  },
  {
   "cell_type": "code",
   "execution_count": 110,
   "id": "8c01c067",
   "metadata": {},
   "outputs": [
    {
     "name": "stdout",
     "output_type": "stream",
     "text": [
      "서울\n",
      "경기\n",
      "강원\n",
      "부산\n",
      "--------------\n",
      "100\n",
      "200\n",
      "300\n",
      "400\n"
     ]
    }
   ],
   "source": [
    "# for문에서 in연산자로 접근 : Series의 value값을 참조\n",
    "for key in data:\n",
    "    print(key)\n",
    "print(\"--------------\")\n",
    "for value in sample.values:\n",
    "    print(value)"
   ]
  },
  {
   "cell_type": "code",
   "execution_count": 111,
   "id": "17f07169",
   "metadata": {},
   "outputs": [
    {
     "data": {
      "text/plain": [
       "서울    100.0\n",
       "경기    200.0\n",
       "강원    300.0\n",
       "제주      NaN\n",
       "dtype: float64"
      ]
     },
     "execution_count": 111,
     "metadata": {},
     "output_type": "execute_result"
    }
   ],
   "source": [
    "# 서울, 경기, 강원, 부산 => 서울, 경기, 강원, 제주로 라벨 인덱싱 변경\n",
    "# 지정한 index 기준으로 Series 생성\n",
    "# 사용하는 인덱스에 없는 값은 Series에 NaN값으로 저장\n",
    "# NaN : Not a Number(결측치) -> numpy에서 해당 위치가 비었음을 의미하는 자료(null)\n",
    "# None : 파이썬 기본 자료형에서 값이 없음을 의미하는 자료\n",
    "index2 = ['서울', '경기', '강원', '제주']\n",
    "sample2 = pd.Series(data, index=index2)\n",
    "sample2"
   ]
  },
  {
   "cell_type": "code",
   "execution_count": 112,
   "id": "f804198d",
   "metadata": {},
   "outputs": [
    {
     "data": {
      "text/plain": [
       "{'서울': 100, '경기': 200, '강원': 300, '부산': 400}"
      ]
     },
     "execution_count": 112,
     "metadata": {},
     "output_type": "execute_result"
    }
   ],
   "source": [
    "data"
   ]
  },
  {
   "cell_type": "markdown",
   "id": "0d8e4619",
   "metadata": {},
   "source": [
    "### 인덱싱(Indexing) \n",
    "\n",
    "- 하나의 특정 값을 선택하거나 변경\n",
    "- 참조하는 인덱스 : 기본 숫자 인덱스, 라벨 인덱스\n",
    "- 새로운 인덱스를 설정해도 기본 숫자 인덱스 사용 가능"
   ]
  },
  {
   "cell_type": "code",
   "execution_count": 113,
   "id": "a82f3532",
   "metadata": {},
   "outputs": [
    {
     "data": {
      "text/plain": [
       "a    10\n",
       "b    20\n",
       "c    30\n",
       "dtype: int64"
      ]
     },
     "execution_count": 113,
     "metadata": {},
     "output_type": "execute_result"
    }
   ],
   "source": [
    "s6_data = {'a':10, 'b':20, 'c':30}\n",
    "s6 = pd.Series(s6_data)\n",
    "s6"
   ]
  },
  {
   "cell_type": "code",
   "execution_count": 114,
   "id": "dae35a7a",
   "metadata": {},
   "outputs": [
    {
     "name": "stdout",
     "output_type": "stream",
     "text": [
      "a\n",
      "10\n"
     ]
    }
   ],
   "source": [
    "# Series s6의 첫 번째 데이터 => 인덱스 0으로 조회\n",
    "# Series객체[인덱스번호 or 라벨숫자]\n",
    "print(s6.index[0]) # 인덱스의 0번째는 'a'\n",
    "print(s6[0]) # s6자체의 0번째 자료는 10"
   ]
  },
  {
   "cell_type": "code",
   "execution_count": 115,
   "id": "0cb8c529",
   "metadata": {},
   "outputs": [
    {
     "data": {
      "text/plain": [
       "10"
      ]
     },
     "execution_count": 115,
     "metadata": {},
     "output_type": "execute_result"
    }
   ],
   "source": [
    "# Series s6의 인덱스 a에 매칭된 데이터 조회\n",
    "s6['a']"
   ]
  },
  {
   "cell_type": "code",
   "execution_count": 116,
   "id": "c818350c",
   "metadata": {},
   "outputs": [
    {
     "data": {
      "text/plain": [
       "mon     10\n",
       "tue     20\n",
       "wed     30\n",
       "thur    40\n",
       "dtype: int64"
      ]
     },
     "execution_count": 116,
     "metadata": {},
     "output_type": "execute_result"
    }
   ],
   "source": [
    "# 요일 - 자료 매칭 데이터 조회\n",
    "s7"
   ]
  },
  {
   "cell_type": "code",
   "execution_count": 117,
   "id": "ff8e97d5",
   "metadata": {},
   "outputs": [
    {
     "data": {
      "text/plain": [
       "mon      10\n",
       "tue     700\n",
       "wed      30\n",
       "thur     40\n",
       "dtype: int64"
      ]
     },
     "execution_count": 117,
     "metadata": {},
     "output_type": "execute_result"
    }
   ],
   "source": [
    "# Series s7의 인덱스 tue에 해당하는 데이터 값을 변경\n",
    "# 인덱스(라벨링)은 개별적으로 하나하나 변경 불가능\n",
    "# 인덱스에 매칭된 데이터는 개별 데이터별 변경 가능\n",
    "s7['tue'] = 700\n",
    "s7"
   ]
  },
  {
   "cell_type": "code",
   "execution_count": 118,
   "id": "a486f82b",
   "metadata": {},
   "outputs": [
    {
     "data": {
      "text/plain": [
       "wed    30\n",
       "mon    10\n",
       "dtype: int64"
      ]
     },
     "execution_count": 118,
     "metadata": {},
     "output_type": "execute_result"
    }
   ],
   "source": [
    "# 시리즈에서 원하는 로우(행)만 조회하기 : 조회할 로우명을 리스트로 묶어서 전달\n",
    "# Series s7에서 wed, mon 라벨 조회\n",
    "# 이중리스트를 사용해 조회해야함 -> s7['wed', 'mon'] 에러 발생\n",
    "s7[['wed', 'mon']]"
   ]
  },
  {
   "cell_type": "code",
   "execution_count": 119,
   "id": "7a59fe92",
   "metadata": {
    "collapsed": true
   },
   "outputs": [],
   "source": [
    "# 여러개의 인덱스를 조회할때는 리스트만 대입할 수 있다.\n",
    "# s7[('mon', 'wed')]"
   ]
  },
  {
   "cell_type": "markdown",
   "id": "17fbff20",
   "metadata": {},
   "source": [
    "### 슬라이싱(Slicing) \n",
    "\n",
    "- Series객체[시작인덱스 : 끝인덱스 : 간격]\n",
    "- 특정 범위의 값을 선택하거나 변경\n",
    "- 기본 숫자 인덱스 또는 새로운 인덱스 모두 사용 가능\n",
    "- 기본 숫자 인덱스를 사용해서 슬라이싱 할 때는 끝 인덱스 미포함\n",
    "- 라벨 인덱스를 사용해서 슬라이싱 할 때 끝 인덱스까지 모두 포함"
   ]
  },
  {
   "cell_type": "code",
   "execution_count": 120,
   "id": "8e1e480d",
   "metadata": {},
   "outputs": [
    {
     "data": {
      "text/plain": [
       "a    10\n",
       "b    20\n",
       "c    30\n",
       "d    40\n",
       "e    50\n",
       "dtype: int64"
      ]
     },
     "execution_count": 120,
     "metadata": {},
     "output_type": "execute_result"
    }
   ],
   "source": [
    "# 인덱스 0에서 인덱스 2(포함)까지 조회\n",
    "s1 = pd.Series([10, 20, 30, 40, 50], index=list('abcde'))\n",
    "s1"
   ]
  },
  {
   "cell_type": "code",
   "execution_count": 121,
   "id": "1fcdab29",
   "metadata": {},
   "outputs": [
    {
     "data": {
      "text/plain": [
       "a    10\n",
       "b    20\n",
       "dtype: int64"
      ]
     },
     "execution_count": 121,
     "metadata": {},
     "output_type": "execute_result"
    }
   ],
   "source": [
    "# RangeIndex : 0, 1\n",
    "s1[0:2]"
   ]
  },
  {
   "cell_type": "code",
   "execution_count": 122,
   "id": "b30359a6",
   "metadata": {},
   "outputs": [
    {
     "data": {
      "text/plain": [
       "a    10\n",
       "b    20\n",
       "c    30\n",
       "dtype: int64"
      ]
     },
     "execution_count": 122,
     "metadata": {},
     "output_type": "execute_result"
    }
   ],
   "source": [
    "# 라벻 'a'에서 라벨'c'(c포함)\n",
    "s1['a' : 'c']"
   ]
  },
  {
   "cell_type": "code",
   "execution_count": 123,
   "id": "e76f93ee",
   "metadata": {},
   "outputs": [
    {
     "data": {
      "text/plain": [
       "a    10\n",
       "c    30\n",
       "dtype: int64"
      ]
     },
     "execution_count": 123,
     "metadata": {},
     "output_type": "execute_result"
    }
   ],
   "source": [
    "# 0 ~ 3범위를 2개 간격으로 인덱싱\n",
    "s1[0:4:2]\n"
   ]
  },
  {
   "cell_type": "code",
   "execution_count": 124,
   "id": "f0516cab",
   "metadata": {},
   "outputs": [
    {
     "data": {
      "text/plain": [
       "b    20\n",
       "d    40\n",
       "dtype: int64"
      ]
     },
     "execution_count": 124,
     "metadata": {},
     "output_type": "execute_result"
    }
   ],
   "source": [
    "# 인덱스 'b'에서 인덱스 'd'(포함) 까지 2개 간격으로 조회\n",
    "\n",
    "s1['b' : 'd' : 2]"
   ]
  },
  {
   "cell_type": "markdown",
   "id": "1505f157",
   "metadata": {},
   "source": [
    "### 조건 색인(Boolean Indexing)\n",
    "- 객체에 벡터와 스칼라 연산을 적용하여 True인 데이터만 반환\n",
    "\n",
    "<img src=\"img/conditional_index.png\" width=\"500\" align=\"center\">"
   ]
  },
  {
   "cell_type": "code",
   "execution_count": 125,
   "id": "780a27b5",
   "metadata": {},
   "outputs": [
    {
     "data": {
      "text/plain": [
       "0     10\n",
       "1     -3\n",
       "2     14\n",
       "3     70\n",
       "4    -44\n",
       "5    -18\n",
       "6     -5\n",
       "7      1\n",
       "8     -2\n",
       "9     12\n",
       "10     5\n",
       "dtype: int64"
      ]
     },
     "execution_count": 125,
     "metadata": {},
     "output_type": "execute_result"
    }
   ],
   "source": [
    "# 양수와 음수 데이터를 저장하고 있는 Series 생성\n",
    "s2 = pd.Series([10, -3, 14, 70, -44, -18, -5, 1, -2, 12, 5])\n",
    "s2"
   ]
  },
  {
   "cell_type": "code",
   "execution_count": 127,
   "id": "256ac1c2",
   "metadata": {},
   "outputs": [
    {
     "data": {
      "text/plain": [
       "0     False\n",
       "1      True\n",
       "2     False\n",
       "3     False\n",
       "4      True\n",
       "5      True\n",
       "6      True\n",
       "7     False\n",
       "8      True\n",
       "9     False\n",
       "10    False\n",
       "dtype: bool"
      ]
     },
     "execution_count": 127,
     "metadata": {},
     "output_type": "execute_result"
    }
   ],
   "source": [
    "# 음수인 데이터는 True로, 양수인 데이터는 False로 만드기\n",
    "s2 < 0"
   ]
  },
  {
   "cell_type": "code",
   "execution_count": 128,
   "id": "194bcdef",
   "metadata": {},
   "outputs": [
    {
     "data": {
      "text/plain": [
       "1    -3\n",
       "4   -44\n",
       "5   -18\n",
       "6    -5\n",
       "8    -2\n",
       "dtype: int64"
      ]
     },
     "execution_count": 128,
     "metadata": {},
     "output_type": "execute_result"
    }
   ],
   "source": [
    "# 위의 조건식을 이용하여 조건색인으로 s2내부 데이터중 음수만 남겨주세요\n",
    "s2[s2 < 0]"
   ]
  },
  {
   "cell_type": "code",
   "execution_count": 130,
   "id": "241f41ff",
   "metadata": {},
   "outputs": [
    {
     "data": {
      "text/plain": [
       "7     1\n",
       "10    5\n",
       "dtype: int64"
      ]
     },
     "execution_count": 130,
     "metadata": {},
     "output_type": "execute_result"
    }
   ],
   "source": [
    "# 두 개 이상의 조건 병렬형태로 처리하기\n",
    "# 양수이면서 10보다 작은 값만 조건식으로 남겨주세요\n",
    "\n",
    "s2[(s2 > 0) & (s2 < 10)]\n"
   ]
  }
 ],
 "metadata": {
  "kernelspec": {
   "display_name": "Python 3.9.7 ('base')",
   "language": "python",
   "name": "python3"
  },
  "language_info": {
   "codemirror_mode": {
    "name": "ipython",
    "version": 3
   },
   "file_extension": ".py",
   "mimetype": "text/x-python",
   "name": "python",
   "nbconvert_exporter": "python",
   "pygments_lexer": "ipython3",
   "version": "3.9.7"
  },
  "vscode": {
   "interpreter": {
    "hash": "b34b863c255992f18be4e3271ad309d6f472a641574d2a36abb232a0d7577314"
   }
  }
 },
 "nbformat": 4,
 "nbformat_minor": 5
}
