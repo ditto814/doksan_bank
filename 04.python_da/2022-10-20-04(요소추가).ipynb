{
 "cells": [
  {
   "cell_type": "code",
   "execution_count": 1,
   "metadata": {},
   "outputs": [],
   "source": [
    "### (공통) 라이브러리 불러오기 및 사용자 함수 정의\n",
    "import numpy as np\n",
    "\n",
    "def np_print(nparr):\n",
    "\n",
    "    print('''\n",
    "    type : {}\n",
    "    shape : {}\n",
    "    dimension : {}\n",
    "    dtype : {}\n",
    "    data :\\n {}\n",
    "    '''.format(type(nparr), nparr.shape, nparr.ndim, nparr.dtype, nparr))"
   ]
  },
  {
   "cell_type": "markdown",
   "metadata": {},
   "source": [
    "2) 요소 추가\n",
    "- np.append(arr, values, axis=None)\n",
    "    - arr 마지막에 values를 추가\n",
    "    - axis 지정하지 않는 경우(기본값) : 1차원 배열로 변형되어 결합\n",
    "    - axis = 0 : 행 방향으로 결합 (단, 열의 개수가 동일해야 함)\n",
    "    - axis = 1 : 열 방향으로 결합 (단, 행의 개수가 동일해야 함)\n",
    "    - 원본 배열들에 반영되지 않음"
   ]
  },
  {
   "cell_type": "code",
   "execution_count": 6,
   "metadata": {},
   "outputs": [
    {
     "name": "stdout",
     "output_type": "stream",
     "text": [
      "\n",
      "    type : <class 'numpy.ndarray'>\n",
      "    shape : (3, 3)\n",
      "    dimension : 2\n",
      "    dtype : int32\n",
      "    data :\n",
      " [[1 2 3]\n",
      " [4 5 6]\n",
      " [7 8 9]]\n",
      "    \n",
      "\n",
      "    type : <class 'numpy.ndarray'>\n",
      "    shape : (3, 3)\n",
      "    dimension : 2\n",
      "    dtype : int32\n",
      "    data :\n",
      " [[10 11 12]\n",
      " [13 14 15]\n",
      " [16 17 18]]\n",
      "    \n"
     ]
    }
   ],
   "source": [
    "# 1 이상 10 미만의 범위에서 1씩 증가하는 숫자로 3 * 3 구조의 배열 a 생성\n",
    "# 10 이상 19 미만의 범위에서 1씩 증가하는 숫자로 3 * 3 구조의 배열 b 생성\n",
    "\n",
    "a = np.arange(1,10).reshape(3,3)\n",
    "\n",
    "b = np.arange(10,19).reshape(3,3)\n",
    "\n",
    "np_print(a)\n",
    "np_print(b)"
   ]
  },
  {
   "cell_type": "code",
   "execution_count": 7,
   "metadata": {},
   "outputs": [
    {
     "data": {
      "text/plain": [
       "array([ 1,  2,  3,  4,  5,  6,  7,  8,  9, 10, 11, 12, 13, 14, 15, 16, 17,\n",
       "       18])"
      ]
     },
     "execution_count": 7,
     "metadata": {},
     "output_type": "execute_result"
    }
   ],
   "source": [
    "# 2개의 배열 결합\n",
    "# axis를 지정하지 않는 경우 : np.append(arr1, arr2) -> axis = None\n",
    "# arr1, arr2 모두 1차원으로 변형해서 추가함\n",
    "np.append(a, b)"
   ]
  },
  {
   "cell_type": "code",
   "execution_count": 8,
   "metadata": {},
   "outputs": [
    {
     "data": {
      "text/plain": [
       "array([[ 1,  2,  3],\n",
       "       [ 4,  5,  6],\n",
       "       [ 7,  8,  9],\n",
       "       [10, 11, 12],\n",
       "       [13, 14, 15],\n",
       "       [16, 17, 18]])"
      ]
     },
     "execution_count": 8,
     "metadata": {},
     "output_type": "execute_result"
    }
   ],
   "source": [
    "# 2개의 배열 결합\n",
    "# axis = 0 : 행 단위 결합 : 열 개수는 3개로 동일\n",
    "np.append(a, b, axis = 0)"
   ]
  },
  {
   "cell_type": "code",
   "execution_count": 9,
   "metadata": {},
   "outputs": [
    {
     "data": {
      "text/plain": [
       "array([[ 1,  2,  3, 10, 11, 12],\n",
       "       [ 4,  5,  6, 13, 14, 15],\n",
       "       [ 7,  8,  9, 16, 17, 18]])"
      ]
     },
     "execution_count": 9,
     "metadata": {},
     "output_type": "execute_result"
    }
   ],
   "source": [
    "# 2개의 배열 결합\n",
    "# axis = 1 : 열 단위 결합 : 행 개수는 3개로 동일\n",
    "np.append(a, b, axis = 1)"
   ]
  },
  {
   "cell_type": "code",
   "execution_count": 17,
   "metadata": {},
   "outputs": [
    {
     "name": "stdout",
     "output_type": "stream",
     "text": [
      "\n",
      "    type : <class 'numpy.ndarray'>\n",
      "    shape : (3, 5)\n",
      "    dimension : 2\n",
      "    dtype : int32\n",
      "    data :\n",
      " [[30 31 32 33 34]\n",
      " [35 36 37 38 39]\n",
      " [40 41 42 43 44]]\n",
      "    \n"
     ]
    }
   ],
   "source": [
    "# 열의 개수가 다은 배열과의 결합\n",
    "# 구조상 axis = 1같은 모양만 가능함\n",
    "c = np.arange(30, 45).reshape(3,5)\n",
    "np_print(c)"
   ]
  },
  {
   "cell_type": "code",
   "execution_count": 18,
   "metadata": {},
   "outputs": [
    {
     "data": {
      "text/plain": [
       "array([[ 1,  2,  3, 30, 31, 32, 33, 34],\n",
       "       [ 4,  5,  6, 35, 36, 37, 38, 39],\n",
       "       [ 7,  8,  9, 40, 41, 42, 43, 44]])"
      ]
     },
     "execution_count": 18,
     "metadata": {},
     "output_type": "execute_result"
    }
   ],
   "source": [
    "np.append(a,c, axis = 1)"
   ]
  },
  {
   "cell_type": "code",
   "execution_count": 20,
   "metadata": {},
   "outputs": [
    {
     "ename": "ValueError",
     "evalue": "all the input array dimensions for the concatenation axis must match exactly, but along dimension 1, the array at index 0 has size 3 and the array at index 1 has size 5",
     "output_type": "error",
     "traceback": [
      "\u001b[1;31m---------------------------------------------------------------------------\u001b[0m",
      "\u001b[1;31mValueError\u001b[0m                                Traceback (most recent call last)",
      "\u001b[1;32m~\\AppData\\Local\\Temp/ipykernel_22716/2674331228.py\u001b[0m in \u001b[0;36m<module>\u001b[1;34m\u001b[0m\n\u001b[0;32m      1\u001b[0m \u001b[1;31m# 이러면 결합방향을 맞춰달라고 에러메세지를 띄움\u001b[0m\u001b[1;33m\u001b[0m\u001b[1;33m\u001b[0m\u001b[0m\n\u001b[1;32m----> 2\u001b[1;33m \u001b[0mnp\u001b[0m\u001b[1;33m.\u001b[0m\u001b[0mappend\u001b[0m\u001b[1;33m(\u001b[0m\u001b[0ma\u001b[0m\u001b[1;33m,\u001b[0m\u001b[0mc\u001b[0m\u001b[1;33m,\u001b[0m \u001b[0maxis\u001b[0m \u001b[1;33m=\u001b[0m \u001b[1;36m0\u001b[0m\u001b[1;33m)\u001b[0m\u001b[1;33m\u001b[0m\u001b[1;33m\u001b[0m\u001b[0m\n\u001b[0m",
      "\u001b[1;32m<__array_function__ internals>\u001b[0m in \u001b[0;36mappend\u001b[1;34m(*args, **kwargs)\u001b[0m\n",
      "\u001b[1;32mc:\\Users\\rx178\\anaconda3\\lib\\site-packages\\numpy\\lib\\function_base.py\u001b[0m in \u001b[0;36mappend\u001b[1;34m(arr, values, axis)\u001b[0m\n\u001b[0;32m   4815\u001b[0m         \u001b[0mvalues\u001b[0m \u001b[1;33m=\u001b[0m \u001b[0mravel\u001b[0m\u001b[1;33m(\u001b[0m\u001b[0mvalues\u001b[0m\u001b[1;33m)\u001b[0m\u001b[1;33m\u001b[0m\u001b[1;33m\u001b[0m\u001b[0m\n\u001b[0;32m   4816\u001b[0m         \u001b[0maxis\u001b[0m \u001b[1;33m=\u001b[0m \u001b[0marr\u001b[0m\u001b[1;33m.\u001b[0m\u001b[0mndim\u001b[0m\u001b[1;33m-\u001b[0m\u001b[1;36m1\u001b[0m\u001b[1;33m\u001b[0m\u001b[1;33m\u001b[0m\u001b[0m\n\u001b[1;32m-> 4817\u001b[1;33m     \u001b[1;32mreturn\u001b[0m \u001b[0mconcatenate\u001b[0m\u001b[1;33m(\u001b[0m\u001b[1;33m(\u001b[0m\u001b[0marr\u001b[0m\u001b[1;33m,\u001b[0m \u001b[0mvalues\u001b[0m\u001b[1;33m)\u001b[0m\u001b[1;33m,\u001b[0m \u001b[0maxis\u001b[0m\u001b[1;33m=\u001b[0m\u001b[0maxis\u001b[0m\u001b[1;33m)\u001b[0m\u001b[1;33m\u001b[0m\u001b[1;33m\u001b[0m\u001b[0m\n\u001b[0m\u001b[0;32m   4818\u001b[0m \u001b[1;33m\u001b[0m\u001b[0m\n\u001b[0;32m   4819\u001b[0m \u001b[1;33m\u001b[0m\u001b[0m\n",
      "\u001b[1;32m<__array_function__ internals>\u001b[0m in \u001b[0;36mconcatenate\u001b[1;34m(*args, **kwargs)\u001b[0m\n",
      "\u001b[1;31mValueError\u001b[0m: all the input array dimensions for the concatenation axis must match exactly, but along dimension 1, the array at index 0 has size 3 and the array at index 1 has size 5"
     ]
    }
   ],
   "source": [
    "# 이러면 결합방향을 맞춰달라고 에러메세지를 띄움\n",
    "np.append(a,c, axis = 0)"
   ]
  },
  {
   "cell_type": "code",
   "execution_count": 21,
   "metadata": {},
   "outputs": [
    {
     "data": {
      "text/plain": [
       "array([[30, 31, 32],\n",
       "       [33, 34, 35],\n",
       "       [36, 37, 38],\n",
       "       [39, 40, 41],\n",
       "       [42, 43, 44]])"
      ]
     },
     "execution_count": 21,
     "metadata": {},
     "output_type": "execute_result"
    }
   ],
   "source": [
    "# 행 단위로 결합할 수 있는 구조로 변경(resize 활용)\n",
    "c.resize(5,3)\n",
    "c"
   ]
  },
  {
   "cell_type": "code",
   "execution_count": 23,
   "metadata": {},
   "outputs": [
    {
     "name": "stdout",
     "output_type": "stream",
     "text": [
      "\n",
      "    type : <class 'numpy.ndarray'>\n",
      "    shape : (4, 3)\n",
      "    dimension : 2\n",
      "    dtype : int32\n",
      "    data :\n",
      " [[ 90  91  92]\n",
      " [ 93  94  95]\n",
      " [ 96  97  98]\n",
      " [ 99 100 101]]\n",
      "    \n"
     ]
    }
   ],
   "source": [
    "# 행 개수가 다른 배열과의 결합\n",
    "d = np.arange(90, 102).reshape(4,3)\n",
    "np_print(d)"
   ]
  },
  {
   "cell_type": "code",
   "execution_count": 24,
   "metadata": {},
   "outputs": [
    {
     "data": {
      "text/plain": [
       "array([[10, 11, 12],\n",
       "       [13, 14, 15],\n",
       "       [16, 17, 18]])"
      ]
     },
     "execution_count": 24,
     "metadata": {},
     "output_type": "execute_result"
    }
   ],
   "source": [
    "b"
   ]
  },
  {
   "cell_type": "code",
   "execution_count": 25,
   "metadata": {},
   "outputs": [
    {
     "data": {
      "text/plain": [
       "array([[ 10,  11,  12],\n",
       "       [ 13,  14,  15],\n",
       "       [ 16,  17,  18],\n",
       "       [ 90,  91,  92],\n",
       "       [ 93,  94,  95],\n",
       "       [ 96,  97,  98],\n",
       "       [ 99, 100, 101]])"
      ]
     },
     "execution_count": 25,
     "metadata": {},
     "output_type": "execute_result"
    }
   ],
   "source": [
    "np.append(b,d, axis = 0)"
   ]
  },
  {
   "cell_type": "code",
   "execution_count": 26,
   "metadata": {},
   "outputs": [
    {
     "data": {
      "text/plain": [
       "array([[ 10,  11,  12,  90,  91,  92,  93],\n",
       "       [ 13,  14,  15,  94,  95,  96,  97],\n",
       "       [ 16,  17,  18,  98,  99, 100, 101]])"
      ]
     },
     "execution_count": 26,
     "metadata": {},
     "output_type": "execute_result"
    }
   ],
   "source": [
    "# 굳이 가로로 결합해야된다면 reshape, resize를 이용해서 바꾸기는 가능합니다.\n",
    "np.append(b, d.reshape(3,4), axis = 1)"
   ]
  },
  {
   "cell_type": "markdown",
   "metadata": {},
   "source": [
    "- np.insert(arr, idx, values, axis=None)\n",
    "    - 지정한 인덱스(idx)에 value를 추가\n",
    "    - axis 지정하지 않는 경우(기본값) : 1차원 배열의 변형되고 해당 인덱스에 추가\n",
    "    - axis = 0 : 행 방향으로 n번째 행에 추가\n",
    "    - axis = 1 : 열 방향으로 n번째 열에 추가\n",
    "    - 원본 배열에 반영되지 않음"
   ]
  },
  {
   "cell_type": "code",
   "execution_count": 27,
   "metadata": {},
   "outputs": [
    {
     "name": "stdout",
     "output_type": "stream",
     "text": [
      "\n",
      "    type : <class 'numpy.ndarray'>\n",
      "    shape : (3, 3)\n",
      "    dimension : 2\n",
      "    dtype : int32\n",
      "    data :\n",
      " [[1 2 3]\n",
      " [4 5 6]\n",
      " [7 8 9]]\n",
      "    \n"
     ]
    }
   ],
   "source": [
    "# 1이상 10 미만 범위에서 1씩 증가하는 숫자로 3 * 3 구조의 배열 생성\n",
    "arr = np.arange(1,10).reshape(3,3)\n",
    "np_print(arr)"
   ]
  },
  {
   "cell_type": "code",
   "execution_count": 28,
   "metadata": {},
   "outputs": [
    {
     "data": {
      "text/plain": [
       "array([  1, 100,   2,   3,   4,   5,   6,   7,   8,   9])"
      ]
     },
     "execution_count": 28,
     "metadata": {},
     "output_type": "execute_result"
    }
   ],
   "source": [
    "# axis 지정하지 않는 경우 : arr를 1차원 배열로 변형한 후\n",
    "# 변형된 배열의 지정 index에 값 추가\n",
    "# 2차원 array를 1차원 array로 변형, 1번 인덱스에 100 추가\n",
    "np.insert(arr, 1, 100)\n",
    "# 9개에서 10개로 증가했기 떄문에  2차원 배열에서 해제됩니다."
   ]
  },
  {
   "cell_type": "code",
   "execution_count": 30,
   "metadata": {},
   "outputs": [
    {
     "data": {
      "text/plain": [
       "array([[  1,   2,   3],\n",
       "       [100, 100, 100],\n",
       "       [  4,   5,   6],\n",
       "       [  7,   8,   9]])"
      ]
     },
     "execution_count": 30,
     "metadata": {},
     "output_type": "execute_result"
    }
   ],
   "source": [
    "# axis = 0 : 행 방향응로 index번째 행을 추가\n",
    "# a배열의 1번 인덱스 행에 100을 추가 -> 행의 요소 개수(열 개수)만큼 100이 추가됨\n",
    "np.insert(arr, 1, 100, axis = 0)"
   ]
  },
  {
   "cell_type": "code",
   "execution_count": 32,
   "metadata": {},
   "outputs": [
    {
     "data": {
      "text/plain": [
       "array([[  1,   2, 200,   3],\n",
       "       [  4,   5, 200,   6],\n",
       "       [  7,   8, 200,   9]])"
      ]
     },
     "execution_count": 32,
     "metadata": {},
     "output_type": "execute_result"
    }
   ],
   "source": [
    "# axis = 1 : 열 방향으로 index번째 행을 추가\n",
    "# a배열의 2번 인덱스 열에 200추가\n",
    "np.insert(arr, 2, 200, axis = 1)"
   ]
  },
  {
   "cell_type": "code",
   "execution_count": 35,
   "metadata": {},
   "outputs": [
    {
     "name": "stdout",
     "output_type": "stream",
     "text": [
      "[[ 1  2 10  3]\n",
      " [ 4  5 20  6]\n",
      " [ 7  8 30  9]]\n",
      "--------------------------------------------------\n",
      "[[ 1  2  3]\n",
      " [ 4  5  6]\n",
      " [10 20 30]\n",
      " [ 7  8  9]]\n"
     ]
    }
   ],
   "source": [
    "# 요소마다 다른 값으로 행/열 추가\n",
    "# 요소의 개수를 동일하게 작성 -> 축을 기준으로 요소개수 결정 -> axis로 축 설정\n",
    "print(np.insert(arr, 2, [10, 20, 30], axis = 1))\n",
    "print('-'*50)\n",
    "print(np.insert(arr, 2, [10, 20, 30], axis = 0))"
   ]
  },
  {
   "cell_type": "markdown",
   "metadata": {},
   "source": [
    "3) 요소 삭제\n",
    "- np.delete(arr, idx, axis=None)\n",
    "    - 지정한 인덱스(idx)에 해당하는 요소를 삭제\n",
    "    - axis 지정하지 않는 경우(기본값) : 1차원 배열로 변형되어 해당 인덱스에 해당하는 요소를 삭제\n",
    "    - axis = 0 : 행 방향으로 n번째 행을 삭제\n",
    "    - axis = 1 : 열 방향으로 n번째 열을 삭제\n",
    "    - 원본 배열에 반영되지 않음"
   ]
  },
  {
   "cell_type": "code",
   "execution_count": 36,
   "metadata": {},
   "outputs": [
    {
     "data": {
      "text/plain": [
       "array([[1, 2, 3],\n",
       "       [4, 5, 6],\n",
       "       [7, 8, 9]])"
      ]
     },
     "execution_count": 36,
     "metadata": {},
     "output_type": "execute_result"
    }
   ],
   "source": [
    "a"
   ]
  },
  {
   "cell_type": "code",
   "execution_count": 38,
   "metadata": {},
   "outputs": [
    {
     "name": "stdout",
     "output_type": "stream",
     "text": [
      "[1 2 3 4 5 6 7 8 9]\n",
      "[1 2 3 4 5 6 7 8 9]\n"
     ]
    }
   ],
   "source": [
    "print(a.reshape(9))\n",
    "print(np.ravel(a))"
   ]
  },
  {
   "cell_type": "code",
   "execution_count": 39,
   "metadata": {},
   "outputs": [
    {
     "data": {
      "text/plain": [
       "array([1, 3, 4, 5, 6, 7, 8, 9])"
      ]
     },
     "execution_count": 39,
     "metadata": {},
     "output_type": "execute_result"
    }
   ],
   "source": [
    "# axis를 지정하지 않는 경우 : 1차원 배열로 변환 -> 지정한 index에 해당하는 요소를 삭제\n",
    "# a배열에 대해 1번 인덱스 요소를 삭제\n",
    "# 숫자1을 삭제하는 것이 아닌 인덱스 1번항목을 삭제합니다.\n",
    "np.delete(a,1)"
   ]
  },
  {
   "cell_type": "code",
   "execution_count": 40,
   "metadata": {},
   "outputs": [
    {
     "data": {
      "text/plain": [
       "array([[1, 2, 3],\n",
       "       [4, 5, 6],\n",
       "       [7, 8, 9]])"
      ]
     },
     "execution_count": 40,
     "metadata": {},
     "output_type": "execute_result"
    }
   ],
   "source": [
    "# 삭제되어도 원본배열은 변경되지 않습니다.\n",
    "a"
   ]
  },
  {
   "cell_type": "code",
   "execution_count": 42,
   "metadata": {},
   "outputs": [
    {
     "data": {
      "text/plain": [
       "array([[4, 5, 6],\n",
       "       [7, 8, 9]])"
      ]
     },
     "execution_count": 42,
     "metadata": {},
     "output_type": "execute_result"
    }
   ],
   "source": [
    "# a배열 세로축으로 0번째 삭제\n",
    "np.delete(a,0, axis = 0)"
   ]
  },
  {
   "cell_type": "code",
   "execution_count": 43,
   "metadata": {},
   "outputs": [
    {
     "data": {
      "text/plain": [
       "array([[2, 3],\n",
       "       [5, 6],\n",
       "       [8, 9]])"
      ]
     },
     "execution_count": 43,
     "metadata": {},
     "output_type": "execute_result"
    }
   ],
   "source": [
    "# a배열 가로축으로 0번째 삭제\n",
    "np.delete(a,0, axis = 1)"
   ]
  },
  {
   "cell_type": "markdown",
   "metadata": {},
   "source": [
    "4) 배열 결합\n",
    "- np.concatenate((arr1, arr2, ...), axis=0)\n",
    "    - axis = 0(기본값) : 행 방향으로 두 배열 결합 (단, 열의 개수가 동일)\n",
    "    - axis = 1 : 열 방향으로 두 배열 결합 (단, 행의 개수가 동일)\n",
    "    - 원본 배열들은 변경되지 않음"
   ]
  },
  {
   "cell_type": "code",
   "execution_count": 44,
   "metadata": {},
   "outputs": [],
   "source": [
    "# 1이상 7미만의 범위에서 1씩 증가하는 숫자로 2 x 3 구조의 배열 a 생성\n",
    "# 7이상 13미만의 범위에서 1씩 증가하는 숫자로 2 x 3 구조의 배열 b 생성\n",
    "# 13이상 23미만의 범위에서 1씩 증가하는 숫자로 2 x 5 구조의 배열 c 생성(열개수 다름)\n",
    "# 23이상 38미만의 범위에서 1씩 증가하는 숫자로 5 x 3 구조읩 배열 d 생성(행개수 다름)\n",
    "a = np.arange(1, 7).reshape(2, 3)\n",
    "b = np.arange(7, 13).reshape(2, 3)\n",
    "c = np.arange(13, 23).reshape(2, 5)\n",
    "d = np.arange(23, 38).reshape(5, 3)"
   ]
  },
  {
   "cell_type": "code",
   "execution_count": 45,
   "metadata": {},
   "outputs": [
    {
     "name": "stdout",
     "output_type": "stream",
     "text": [
      "[[1 2 3]\n",
      " [4 5 6]]\n",
      "--------------------------------------------------\n",
      "[[ 7  8  9]\n",
      " [10 11 12]]\n",
      "--------------------------------------------------\n",
      "[[13 14 15 16 17]\n",
      " [18 19 20 21 22]]\n",
      "--------------------------------------------------\n",
      "[[23 24 25]\n",
      " [26 27 28]\n",
      " [29 30 31]\n",
      " [32 33 34]\n",
      " [35 36 37]]\n",
      "--------------------------------------------------\n"
     ]
    }
   ],
   "source": [
    "print(a)\n",
    "print('-'*50)\n",
    "\n",
    "print(b)\n",
    "print('-'*50)\n",
    "\n",
    "print(c)\n",
    "print('-'*50)\n",
    "\n",
    "print(d)\n",
    "print('-'*50)\n",
    "\n"
   ]
  },
  {
   "cell_type": "code",
   "execution_count": 47,
   "metadata": {},
   "outputs": [
    {
     "data": {
      "text/plain": [
       "array([[ 1,  2,  3],\n",
       "       [ 4,  5,  6],\n",
       "       [ 7,  8,  9],\n",
       "       [10, 11, 12]])"
      ]
     },
     "execution_count": 47,
     "metadata": {},
     "output_type": "execute_result"
    }
   ],
   "source": [
    "# axis = 0(기본값) : 행 방향으로 두 배열 결합\n",
    "# np.append(a, b)\n",
    "# [1,2,3,4,5,6,7,8,9,10,11,12]\n",
    "np.concatenate((a,b))"
   ]
  },
  {
   "cell_type": "code",
   "execution_count": 48,
   "metadata": {},
   "outputs": [
    {
     "data": {
      "text/plain": [
       "array([[ 1,  2,  3,  7,  8,  9],\n",
       "       [ 4,  5,  6, 10, 11, 12]])"
      ]
     },
     "execution_count": 48,
     "metadata": {},
     "output_type": "execute_result"
    }
   ],
   "source": [
    "# axis = 1 : 열 방향으로 두 배열 결합\n",
    "np.concatenate((a,b), axis = 1)"
   ]
  },
  {
   "cell_type": "code",
   "execution_count": 52,
   "metadata": {},
   "outputs": [
    {
     "data": {
      "text/plain": [
       "array([[ 1,  2,  3, 13, 14, 15, 16, 17],\n",
       "       [ 4,  5,  6, 18, 19, 20, 21, 22]])"
      ]
     },
     "execution_count": 52,
     "metadata": {},
     "output_type": "execute_result"
    }
   ],
   "source": [
    "# 행 방향으로 결합 : 열 갯수가 동일 해야함\n",
    "# np.concatenate((a,c)) -> 에러\n",
    "np.concatenate((a,c), axis = 1)"
   ]
  },
  {
   "cell_type": "code",
   "execution_count": 51,
   "metadata": {},
   "outputs": [
    {
     "data": {
      "text/plain": [
       "array([[ 1,  2,  3],\n",
       "       [ 4,  5,  6],\n",
       "       [23, 24, 25],\n",
       "       [26, 27, 28],\n",
       "       [29, 30, 31],\n",
       "       [32, 33, 34],\n",
       "       [35, 36, 37]])"
      ]
     },
     "execution_count": 51,
     "metadata": {},
     "output_type": "execute_result"
    }
   ],
   "source": [
    "# 열 방향으로 결합 : 행 갯수 동일\n",
    "# np.concatenate((a,d), axis = 1) -> 에러\n",
    "np.concatenate((a,d), axis = 0)\n"
   ]
  },
  {
   "cell_type": "markdown",
   "metadata": {},
   "source": [
    "- np.split(arr, indices_or_sections, axis=0)\n",
    "    - axis = 0(기본값) : 행 단위로 분리\n",
    "    - axis = 1 : 열 단위로 분리\n",
    "    - 원본 배열은 변경되지 않음"
   ]
  },
  {
   "cell_type": "code",
   "execution_count": 54,
   "metadata": {},
   "outputs": [
    {
     "data": {
      "text/plain": [
       "array([[ 1,  2,  3,  4,  5,  6],\n",
       "       [ 7,  8,  9, 10, 11, 12],\n",
       "       [13, 14, 15, 16, 17, 18],\n",
       "       [19, 20, 21, 22, 23, 24],\n",
       "       [25, 26, 27, 28, 29, 30],\n",
       "       [31, 32, 33, 34, 35, 36]])"
      ]
     },
     "execution_count": 54,
     "metadata": {},
     "output_type": "execute_result"
    }
   ],
   "source": [
    "a = np.arange(1, 37).reshape(6,6)\n",
    "a"
   ]
  },
  {
   "cell_type": "code",
   "execution_count": 59,
   "metadata": {},
   "outputs": [
    {
     "data": {
      "text/plain": [
       "[array([[1, 2, 3, 4, 5, 6]]),\n",
       " array([[ 7,  8,  9, 10, 11, 12]]),\n",
       " array([[13, 14, 15, 16, 17, 18]]),\n",
       " array([[19, 20, 21, 22, 23, 24],\n",
       "        [25, 26, 27, 28, 29, 30],\n",
       "        [31, 32, 33, 34, 35, 36]])]"
      ]
     },
     "execution_count": 59,
     "metadata": {},
     "output_type": "execute_result"
    }
   ],
   "source": [
    "# 균등하지 않게 행 기준으로 분리\n",
    "np.split(a, [1,2,3], axis = 0)\n"
   ]
  },
  {
   "cell_type": "code",
   "execution_count": 58,
   "metadata": {},
   "outputs": [
    {
     "data": {
      "text/plain": [
       "array([[1, 2, 3, 4, 5, 6]])"
      ]
     },
     "execution_count": 58,
     "metadata": {},
     "output_type": "execute_result"
    }
   ],
   "source": [
    "# 인덱싱 기능합니다.\n",
    "np.split(a, [1,2,3], axis = 0)[0]"
   ]
  },
  {
   "cell_type": "code",
   "execution_count": 60,
   "metadata": {},
   "outputs": [
    {
     "data": {
      "text/plain": [
       "[array([[ 1,  2,  3,  4,  5,  6],\n",
       "        [ 7,  8,  9, 10, 11, 12]]),\n",
       " array([[13, 14, 15, 16, 17, 18],\n",
       "        [19, 20, 21, 22, 23, 24]]),\n",
       " array([[25, 26, 27, 28, 29, 30],\n",
       "        [31, 32, 33, 34, 35, 36]])]"
      ]
     },
     "execution_count": 60,
     "metadata": {},
     "output_type": "execute_result"
    }
   ],
   "source": [
    "# 균등하게 분리\n",
    "# 리스트로 넘기면 위치를 지정합니다.\n",
    "# 스칼라 값을 엄기면 균등하게 갯수를 맞춰서 쪼갭니다.\n",
    "# 스칼라 값이로 처리시 반드시 나눈 갯수가 정수로 떨어져야합니다.\n",
    "np.split(a, 3, axis = 0)"
   ]
  },
  {
   "cell_type": "code",
   "execution_count": 62,
   "metadata": {},
   "outputs": [
    {
     "data": {
      "text/plain": [
       "[array([[ 1,  2],\n",
       "        [ 7,  8],\n",
       "        [13, 14],\n",
       "        [19, 20],\n",
       "        [25, 26],\n",
       "        [31, 32]]),\n",
       " array([[ 3,  4],\n",
       "        [ 9, 10],\n",
       "        [15, 16],\n",
       "        [21, 22],\n",
       "        [27, 28],\n",
       "        [33, 34]]),\n",
       " array([[ 5,  6],\n",
       "        [11, 12],\n",
       "        [17, 18],\n",
       "        [23, 24],\n",
       "        [29, 30],\n",
       "        [35, 36]])]"
      ]
     },
     "execution_count": 62,
     "metadata": {},
     "output_type": "execute_result"
    }
   ],
   "source": [
    "np.split(a, 3, axis = 1)"
   ]
  }
 ],
 "metadata": {
  "kernelspec": {
   "display_name": "Python 3.9.7 ('base')",
   "language": "python",
   "name": "python3"
  },
  "language_info": {
   "codemirror_mode": {
    "name": "ipython",
    "version": 3
   },
   "file_extension": ".py",
   "mimetype": "text/x-python",
   "name": "python",
   "nbconvert_exporter": "python",
   "pygments_lexer": "ipython3",
   "version": "3.9.7"
  },
  "orig_nbformat": 4,
  "vscode": {
   "interpreter": {
    "hash": "b34b863c255992f18be4e3271ad309d6f472a641574d2a36abb232a0d7577314"
   }
  }
 },
 "nbformat": 4,
 "nbformat_minor": 2
}
