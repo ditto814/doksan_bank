{
 "cells": [
  {
   "cell_type": "markdown",
   "metadata": {},
   "source": [
    "#### ※ 난수 : 무작위 숫자\n",
    "- 프로그래밍에서 추출되는 난수는 무작위로 만들어진 것 처럼 보이나 실제로는 고정된\n",
    "  기준(시작점)을 가지고 규칙적으로 생성됩니다.\n",
    "\n",
    "- 시작점을 설절한다면 동일한 난수를 똑같이 생성 가능합니다.\n",
    "\n",
    "- 난수의 시작점 설정 : np.random.seed()"
   ]
  },
  {
   "cell_type": "code",
   "execution_count": 2,
   "metadata": {},
   "outputs": [],
   "source": [
    "import numpy as np\n",
    "\n",
    "def np_print(arr):\n",
    "    text = '''\n",
    "    type : {}\n",
    "    shape : {}\n",
    "    ndim : {}\n",
    "    dtype : {}\n",
    "    array data : \\n {}'''.format(type(arr), arr.shape, arr.ndim, arr.dtype, arr)\n",
    "    print(text)"
   ]
  },
  {
   "cell_type": "code",
   "execution_count": 13,
   "metadata": {},
   "outputs": [
    {
     "data": {
      "text/plain": [
       "array([[0, 4],\n",
       "       [3, 4]])"
      ]
     },
     "execution_count": 13,
     "metadata": {},
     "output_type": "execute_result"
    }
   ],
   "source": [
    "# 난수 시작 설정하기\n",
    "# seed값 : 100\n",
    "np.random.seed(100)\n",
    "\n",
    "# 0 이상 1미만의 범위(고정범위)에서 실수값을 가지는 3행 3열 난수 생성\n",
    "np.random.random((3,3))\n",
    "\n",
    "# 0 이상 5미만의 범위(고정범위)에서 정수값을 가지는 2행 2열 난수 생성\n",
    "np.random.randint(0, 5, size = (2,2))"
   ]
  },
  {
   "cell_type": "code",
   "execution_count": 14,
   "metadata": {},
   "outputs": [
    {
     "data": {
      "text/plain": [
       "array([[0.77937273, 0.1712938 , 0.7930203 ],\n",
       "       [0.27449093, 0.85439717, 0.36899855],\n",
       "       [0.33318559, 0.95284289, 0.74671814]])"
      ]
     },
     "execution_count": 14,
     "metadata": {},
     "output_type": "execute_result"
    }
   ],
   "source": [
    "# 시작점 초기화\n",
    "# np.random.seed() 안쪽의 정수를 기입하지 않고 실행하면 초기화\n",
    "np.random.seed()\n",
    "np.random.random((3,3))"
   ]
  }
 ],
 "metadata": {
  "kernelspec": {
   "display_name": "Python 3.9.7 ('base')",
   "language": "python",
   "name": "python3"
  },
  "language_info": {
   "codemirror_mode": {
    "name": "ipython",
    "version": 3
   },
   "file_extension": ".py",
   "mimetype": "text/x-python",
   "name": "python",
   "nbconvert_exporter": "python",
   "pygments_lexer": "ipython3",
   "version": "3.9.7"
  },
  "orig_nbformat": 4,
  "vscode": {
   "interpreter": {
    "hash": "b34b863c255992f18be4e3271ad309d6f472a641574d2a36abb232a0d7577314"
   }
  }
 },
 "nbformat": 4,
 "nbformat_minor": 2
}
