{
 "cells": [
  {
   "cell_type": "markdown",
   "metadata": {},
   "source": [
    "### 산술연산\n",
    "- series 객체와 스칼라 값의 산술연산 => BroadCasting\n",
    "- series 객체 간의 산술연산\n",
    "    - 인덱스의 라벨이 동일한 것끼리 연산 수행, 공통으로 존재하지 않는 경우 NaN 반환\n",
    "    - 라벨이 없는 경우 차례대로 연산 수행, 개수가 동일하지 않는 경우 NaN 반환\n",
    "    - fill_value 인자를 통해 NaN이 아닌 특정 값으로 대체 가능\n",
    "\n",
    "    <img src=\"img/series_math.png\" width=\"400\" align=\"center\">\n",
    "\n",
    "- 연산의 종류\n",
    "    - 더하기 : +, add() 메서드\n",
    "    - 빼기 : -, sub() 메서드\n",
    "    - 곱하기 : *, mul() 메서드\n",
    "    - 나머지만 반환 : %\n",
    "    - 몫만 반환 : //"
   ]
  },
  {
   "cell_type": "code",
   "execution_count": 3,
   "metadata": {},
   "outputs": [],
   "source": [
    "import pandas as pd"
   ]
  },
  {
   "cell_type": "code",
   "execution_count": 4,
   "metadata": {},
   "outputs": [],
   "source": [
    "# Numpy의 브로드캐스팅과 비슷합니다.\n",
    "\n",
    "# s1 -> 라벨 : a, b, c, d -> 데이터 4개 [1, 2, 3, 4]\n",
    "# s2 -> 라벨 : a, c, d, e, f, g -> 데이터 6개 [10, 20, 30, 40, 50, 60]\n",
    "\n",
    "s1 = pd.Series([1, 2, 3, 4], index=list('abcd'))\n",
    "s2 = pd.Series([10, 20, 30, 40, 50, 60], index=list('acdefg'))"
   ]
  },
  {
   "cell_type": "code",
   "execution_count": 5,
   "metadata": {},
   "outputs": [
    {
     "data": {
      "text/plain": [
       "a    1\n",
       "b    2\n",
       "c    3\n",
       "d    4\n",
       "dtype: int64"
      ]
     },
     "execution_count": 5,
     "metadata": {},
     "output_type": "execute_result"
    }
   ],
   "source": [
    "s1"
   ]
  },
  {
   "cell_type": "code",
   "execution_count": 6,
   "metadata": {},
   "outputs": [
    {
     "data": {
      "text/plain": [
       "a    10\n",
       "c    20\n",
       "d    30\n",
       "e    40\n",
       "f    50\n",
       "g    60\n",
       "dtype: int64"
      ]
     },
     "execution_count": 6,
     "metadata": {},
     "output_type": "execute_result"
    }
   ],
   "source": [
    "s2"
   ]
  },
  {
   "cell_type": "code",
   "execution_count": 7,
   "metadata": {},
   "outputs": [
    {
     "data": {
      "text/plain": [
       "a     3\n",
       "b     6\n",
       "c     9\n",
       "d    12\n",
       "dtype: int64"
      ]
     },
     "execution_count": 7,
     "metadata": {},
     "output_type": "execute_result"
    }
   ],
   "source": [
    "# Series 객체와 스칼라값의 연산\n",
    "s1 * 3"
   ]
  },
  {
   "cell_type": "code",
   "execution_count": 9,
   "metadata": {},
   "outputs": [
    {
     "data": {
      "text/plain": [
       "a    11.0\n",
       "b     NaN\n",
       "c    23.0\n",
       "d    34.0\n",
       "e     NaN\n",
       "f     NaN\n",
       "g     NaN\n",
       "dtype: float64"
      ]
     },
     "execution_count": 9,
     "metadata": {},
     "output_type": "execute_result"
    }
   ],
   "source": [
    "# Series끼리 더하기\n",
    "# 공통라벨인 a, c, d에만 값 부여,\n",
    "# 어느 한쪽에만 존재하는 라벨들은 NaN\n",
    "# b는 s1에만, e,f,g는 s2d에만 있어서 NaN으로 취급됨\n",
    "\n",
    "# tip : NaN은 실수최급됩니다.\n",
    "s1 + s2"
   ]
  },
  {
   "cell_type": "code",
   "execution_count": 10,
   "metadata": {},
   "outputs": [
    {
     "data": {
      "text/plain": [
       "a    11.0\n",
       "b     NaN\n",
       "c    23.0\n",
       "d    34.0\n",
       "e     NaN\n",
       "f     NaN\n",
       "g     NaN\n",
       "dtype: float64"
      ]
     },
     "execution_count": 10,
     "metadata": {},
     "output_type": "execute_result"
    }
   ],
   "source": [
    "#fill_value 파라미터 : 공통으로 존재하지 않는 라벨에대해 NaN 값을\n",
    "# 적용하지 않고 특정 값으로 대체해서 사용가능합니다.\n",
    "# Series 메서드를 사용할 때의 파라미터로 입력 가능\n",
    "s1.add(s2)"
   ]
  },
  {
   "cell_type": "code",
   "execution_count": 11,
   "metadata": {},
   "outputs": [
    {
     "data": {
      "text/plain": [
       "a    11.0\n",
       "b     2.0\n",
       "c    23.0\n",
       "d    34.0\n",
       "e    40.0\n",
       "f    50.0\n",
       "g    60.0\n",
       "dtype: float64"
      ]
     },
     "execution_count": 11,
     "metadata": {},
     "output_type": "execute_result"
    }
   ],
   "source": [
    "# NaN값이 0으로 채워져 연산이 가능해집니다.\n",
    "# NaN값이 0으로 치환되었습니다.\n",
    "s1.add(s2, fill_value = 0)"
   ]
  },
  {
   "cell_type": "code",
   "execution_count": 12,
   "metadata": {},
   "outputs": [
    {
     "data": {
      "text/plain": [
       "a    -9.0\n",
       "b     NaN\n",
       "c   -17.0\n",
       "d   -26.0\n",
       "e     NaN\n",
       "f     NaN\n",
       "g     NaN\n",
       "dtype: float64"
      ]
     },
     "execution_count": 12,
     "metadata": {},
     "output_type": "execute_result"
    }
   ],
   "source": [
    "# Series간의 뺄셈\n",
    "s1 - s2"
   ]
  },
  {
   "cell_type": "code",
   "execution_count": 13,
   "metadata": {},
   "outputs": [
    {
     "data": {
      "text/plain": [
       "a    -9.0\n",
       "b   -98.0\n",
       "c   -17.0\n",
       "d   -26.0\n",
       "e    60.0\n",
       "f    50.0\n",
       "g    40.0\n",
       "dtype: float64"
      ]
     },
     "execution_count": 13,
     "metadata": {},
     "output_type": "execute_result"
    }
   ],
   "source": [
    "# Series간의 뺄셈\n",
    "# 지금 fill_value는 100으로 치환했습니다.\n",
    "s1.sub(s2, fill_value = 100)"
   ]
  },
  {
   "cell_type": "code",
   "execution_count": 14,
   "metadata": {},
   "outputs": [
    {
     "data": {
      "text/plain": [
       "a     10.0\n",
       "b      NaN\n",
       "c     60.0\n",
       "d    120.0\n",
       "e      NaN\n",
       "f      NaN\n",
       "g      NaN\n",
       "dtype: float64"
      ]
     },
     "execution_count": 14,
     "metadata": {},
     "output_type": "execute_result"
    }
   ],
   "source": [
    "# Series간의 곱셈\n",
    "s1 * s2"
   ]
  },
  {
   "cell_type": "code",
   "execution_count": 15,
   "metadata": {},
   "outputs": [
    {
     "data": {
      "text/plain": [
       "a     10.0\n",
       "b      2.0\n",
       "c     60.0\n",
       "d    120.0\n",
       "e     40.0\n",
       "f     50.0\n",
       "g     60.0\n",
       "dtype: float64"
      ]
     },
     "execution_count": 15,
     "metadata": {},
     "output_type": "execute_result"
    }
   ],
   "source": [
    "# 곱셈은 fill_value를 0이아닌 1로 채우는것이 적당합니다.\n",
    "s1.mul(s2, fill_value = 1)"
   ]
  },
  {
   "cell_type": "code",
   "execution_count": 16,
   "metadata": {},
   "outputs": [
    {
     "data": {
      "text/plain": [
       "a    0.100000\n",
       "b         NaN\n",
       "c    0.150000\n",
       "d    0.133333\n",
       "e         NaN\n",
       "f         NaN\n",
       "g         NaN\n",
       "dtype: float64"
      ]
     },
     "execution_count": 16,
     "metadata": {},
     "output_type": "execute_result"
    }
   ],
   "source": [
    "# Series간의 나눗셈\n",
    "s1 / s2"
   ]
  },
  {
   "cell_type": "code",
   "execution_count": 17,
   "metadata": {},
   "outputs": [
    {
     "data": {
      "text/plain": [
       "a    0.100000\n",
       "b    2.000000\n",
       "c    0.150000\n",
       "d    0.133333\n",
       "e    0.025000\n",
       "f    0.020000\n",
       "g    0.016667\n",
       "dtype: float64"
      ]
     },
     "execution_count": 17,
     "metadata": {},
     "output_type": "execute_result"
    }
   ],
   "source": [
    "# 나눗셈도 fill_value를 0이아닌 1로 채우는것이 적당합니다.\n",
    "s1.divide(s2, fill_value = 1)"
   ]
  },
  {
   "cell_type": "markdown",
   "metadata": {},
   "source": [
    "https://pandas.pydata.org/pandas-docs/stable/reference/series.html\n",
    "\n",
    "위 사이트에서 추가적인 fill_value 사용 가능 연산자별 명령어를 확인할 수 있다."
   ]
  },
  {
   "cell_type": "markdown",
   "metadata": {},
   "source": [
    "#### 연습 문제\n",
    "##### 1. 실습 데이터 생성 : 1 ~ 100(미만) 사이의 랜덤 정수 값을 26개 저장한 Series를 생성하고 A~Z까지의 알파벳으로 라벨링 설정"
   ]
  },
  {
   "cell_type": "code",
   "execution_count": 3,
   "metadata": {},
   "outputs": [],
   "source": [
    "import numpy as np"
   ]
  },
  {
   "cell_type": "code",
   "execution_count": 4,
   "metadata": {},
   "outputs": [],
   "source": [
    "np.random.seed(1021)"
   ]
  },
  {
   "cell_type": "code",
   "execution_count": 5,
   "metadata": {},
   "outputs": [
    {
     "data": {
      "text/plain": [
       "array([18, 66, 34, 34,  8, 25,  6, 14, 70, 73, 72, 85, 20, 35, 84, 69,  7,\n",
       "       86, 64,  5, 30, 12, 25, 96,  6, 44])"
      ]
     },
     "execution_count": 5,
     "metadata": {},
     "output_type": "execute_result"
    }
   ],
   "source": [
    "arr = np.random.randint(1, 100, 26)\n",
    "arr"
   ]
  },
  {
   "cell_type": "code",
   "execution_count": 6,
   "metadata": {},
   "outputs": [],
   "source": [
    "index_data = [ chr(i) for i in range(ord('A'), ord('Z')+1) ]\n",
    "\n",
    "# for i in range(ord('a'), ord('z')+1):\n",
    "#     print(chr(i))"
   ]
  },
  {
   "cell_type": "code",
   "execution_count": 53,
   "metadata": {},
   "outputs": [
    {
     "data": {
      "text/plain": [
       "a    18\n",
       "b    66\n",
       "c    34\n",
       "d    34\n",
       "e     8\n",
       "f    25\n",
       "g     6\n",
       "h    14\n",
       "i    70\n",
       "j    73\n",
       "k    72\n",
       "l    85\n",
       "m    20\n",
       "n    35\n",
       "o    84\n",
       "p    69\n",
       "q     7\n",
       "r    86\n",
       "s    64\n",
       "t     5\n",
       "u    30\n",
       "v    12\n",
       "w    25\n",
       "x    96\n",
       "y     6\n",
       "z    44\n",
       "dtype: int64"
      ]
     },
     "execution_count": 53,
     "metadata": {},
     "output_type": "execute_result"
    }
   ],
   "source": [
    "# arr = pd.Series([18, 66, 34, 34,  8, 25,  6, 14, 70, 73, 72, 85, 20, 35, 84, 69,  7,\n",
    "#        86, 64,  5, 30, 12, 25, 96,  6, 44], index = list('abcdefghijklmnopqrstuvwxyz'))\n",
    "# arr\n",
    "\n",
    "# 더 나은 방법\n",
    "pd.Series(arr, index = list('abcdefghijklmnopqrstuvwxyz'))"
   ]
  },
  {
   "cell_type": "markdown",
   "metadata": {},
   "source": [
    "##### 2. 인덱스 라벨이 'K' 항목의 값 출력"
   ]
  },
  {
   "cell_type": "code",
   "execution_count": 54,
   "metadata": {},
   "outputs": [
    {
     "data": {
      "text/plain": [
       "72"
      ]
     },
     "execution_count": 54,
     "metadata": {},
     "output_type": "execute_result"
    }
   ],
   "source": [
    "arr['k']"
   ]
  },
  {
   "cell_type": "markdown",
   "metadata": {},
   "source": [
    "##### 3. 인덱스 라벨이 'A','F','C' 항목의 값 출력"
   ]
  },
  {
   "cell_type": "code",
   "execution_count": 57,
   "metadata": {},
   "outputs": [
    {
     "data": {
      "text/plain": [
       "a    18\n",
       "f    25\n",
       "c    34\n",
       "dtype: int64"
      ]
     },
     "execution_count": 57,
     "metadata": {},
     "output_type": "execute_result"
    }
   ],
   "source": [
    "arr[['a', 'f', 'c']]\n",
    "# 값만 추출\n",
    "# arr[['a', 'f', 'c']].values"
   ]
  },
  {
   "cell_type": "markdown",
   "metadata": {},
   "source": [
    "##### 4. 5번 인덱스 부터 15번 인덱스 까지 항목 출력"
   ]
  },
  {
   "cell_type": "code",
   "execution_count": 60,
   "metadata": {},
   "outputs": [
    {
     "data": {
      "text/plain": [
       "f    25\n",
       "g     6\n",
       "h    14\n",
       "i    70\n",
       "j    73\n",
       "k    72\n",
       "l    85\n",
       "m    20\n",
       "n    35\n",
       "o    84\n",
       "p    69\n",
       "dtype: int64"
      ]
     },
     "execution_count": 60,
     "metadata": {},
     "output_type": "execute_result"
    }
   ],
   "source": [
    "arr[5:16]\n",
    "# arr['f':'p']\n"
   ]
  },
  {
   "cell_type": "markdown",
   "metadata": {},
   "source": [
    "##### 5. 뒤에서 5개 항목 출력"
   ]
  },
  {
   "cell_type": "code",
   "execution_count": 62,
   "metadata": {},
   "outputs": [
    {
     "data": {
      "text/plain": [
       "v    12\n",
       "w    25\n",
       "x    96\n",
       "y     6\n",
       "z    44\n",
       "dtype: int64"
      ]
     },
     "execution_count": 62,
     "metadata": {},
     "output_type": "execute_result"
    }
   ],
   "source": [
    "# arr[:-6:-1]\n",
    "arr[-5:]"
   ]
  },
  {
   "cell_type": "markdown",
   "metadata": {},
   "source": [
    "##### 6. data의 항목의 갯수 출력"
   ]
  },
  {
   "cell_type": "code",
   "execution_count": 63,
   "metadata": {},
   "outputs": [
    {
     "data": {
      "text/plain": [
       "26"
      ]
     },
     "execution_count": 63,
     "metadata": {},
     "output_type": "execute_result"
    }
   ],
   "source": [
    "len(arr)\n",
    "# arr.size"
   ]
  },
  {
   "cell_type": "markdown",
   "metadata": {},
   "source": [
    "#### 7.data 항목 값들의 평균보다 큰 항목만 출력"
   ]
  },
  {
   "cell_type": "code",
   "execution_count": 66,
   "metadata": {},
   "outputs": [
    {
     "data": {
      "text/plain": [
       "b    66\n",
       "i    70\n",
       "j    73\n",
       "k    72\n",
       "l    85\n",
       "o    84\n",
       "p    69\n",
       "r    86\n",
       "s    64\n",
       "x    96\n",
       "z    44\n",
       "dtype: int64"
      ]
     },
     "execution_count": 66,
     "metadata": {},
     "output_type": "execute_result"
    }
   ],
   "source": [
    "# arr[arr > (sum(arr)/len(arr))]\n",
    "arr[arr > arr.mean()]"
   ]
  },
  {
   "cell_type": "markdown",
   "metadata": {},
   "source": [
    "##### 8. data의 항목 값 중에 50이 있는지 확인하여, 있으면 True, 없으면 False"
   ]
  },
  {
   "cell_type": "code",
   "execution_count": 68,
   "metadata": {},
   "outputs": [
    {
     "data": {
      "text/plain": [
       "False"
      ]
     },
     "execution_count": 68,
     "metadata": {},
     "output_type": "execute_result"
    }
   ],
   "source": [
    "# 50 이 인덱스 중이 있는지 찾기\n",
    "50 in arr"
   ]
  },
  {
   "cell_type": "code",
   "execution_count": 70,
   "metadata": {},
   "outputs": [
    {
     "data": {
      "text/plain": [
       "False"
      ]
     },
     "execution_count": 70,
     "metadata": {},
     "output_type": "execute_result"
    }
   ],
   "source": [
    "# 50 이 데이터 값중에 있는지 찾기\n",
    "50 in arr.values"
   ]
  }
 ],
 "metadata": {
  "kernelspec": {
   "display_name": "Python 3.9.7 ('base')",
   "language": "python",
   "name": "python3"
  },
  "language_info": {
   "codemirror_mode": {
    "name": "ipython",
    "version": 3
   },
   "file_extension": ".py",
   "mimetype": "text/x-python",
   "name": "python",
   "nbconvert_exporter": "python",
   "pygments_lexer": "ipython3",
   "version": "3.9.7"
  },
  "orig_nbformat": 4,
  "vscode": {
   "interpreter": {
    "hash": "b34b863c255992f18be4e3271ad309d6f472a641574d2a36abb232a0d7577314"
   }
  }
 },
 "nbformat": 4,
 "nbformat_minor": 2
}
