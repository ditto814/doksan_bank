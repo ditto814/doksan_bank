{
 "cells": [
  {
   "cell_type": "markdown",
   "metadata": {},
   "source": [
    "### Ⅱ. 배열 생성 및 초기화\n",
    "3. 난수(특정한 순서나 규칙을 가지지 않는 무작위의 수)를 데이터로 가지는 배열을 생성\n",
    "    - np.random.normal()\n",
    "    - np.random.rand()\n",
    "    - np.random.randn()\n",
    "    - np.random.randint()\n",
    "    - np.random.random()\n",
    "#### 3-1. np.random.normal(loc=0.0, scale=1.0, size=None)\n",
    "- 정규 분포 확률 밀도에서 표본을 추출하여 데이터로 가지는 배열을 생성\n",
    "- loc : 정규분포의 평균, 기본값 = 0.0\n",
    "- scale : 정규분포의 표준편차, 기본값 = 1.0\n",
    "- size : (행,열,차원)의 배열 구조, 기본값 = single value(배열이 아닌 하나의 값을 반환)"
   ]
  },
  {
   "cell_type": "markdown",
   "metadata": {},
   "source": [
    "##### 정규분포 \n",
    "\n",
    "- 분포의 종류\n",
    "    - 균등분포 : 모든 요소가 출력될 확률이 동등한 경우 -> 로또 번호\n",
    "\n",
    "- 정규 분포 \n",
    "    - 평균에 가까울수록 출력될 확률이 높고, 평균에서 멀어질수록 확률이 낮아짐 -> 신장, 성적\n"
   ]
  },
  {
   "cell_type": "code",
   "execution_count": 20,
   "metadata": {},
   "outputs": [],
   "source": [
    "import numpy as np"
   ]
  },
  {
   "cell_type": "code",
   "execution_count": 21,
   "metadata": {},
   "outputs": [
    {
     "data": {
      "text/plain": [
       "-0.03770066630363439"
      ]
     },
     "execution_count": 21,
     "metadata": {},
     "output_type": "execute_result"
    }
   ],
   "source": [
    "# 기본값\n",
    "# 평균0, 표준편차 1로 설정하고 난수 뽑기\n",
    "v = np.random.normal(0,1)\n",
    "v "
   ]
  },
  {
   "cell_type": "markdown",
   "metadata": {},
   "source": [
    "### 분산과 표준편차\n",
    "- 어떤 집단간 평균이 같다고 해서 반드시 분포가 같지는 않습니다.\n",
    "- 평균에서 어떤 요소가 얼마나 멀리 떨어져있는지를 나태낸것을 분산\n",
    "- 분산에 제곱급을 씌워 표준편차화하는 작업이 필요합니다.\n",
    "\n",
    "##### 평균이라고 다 같은 평균이 아니다 이를 구분하기위해 분산, 표준편차가 필요합니다.\n",
    "##### [10,0,0,0,0] -> 평균 2 // [2,2,2,2,2] -> 평균 2 는 평균은 같을지 몰라도 둘은 엄연히 다릅니다."
   ]
  },
  {
   "cell_type": "code",
   "execution_count": 22,
   "metadata": {},
   "outputs": [],
   "source": [
    "# 분산 : 특정 요소가 평균값으로부터 얼마나 떨어져 있는가?\n",
    "# 표준편차 : 분산과정에서 제곱을 하여 정확한 거리가 나오지 않으므로 이를 다시 제곱근을 씌워 얻어내는 값"
   ]
  },
  {
   "cell_type": "code",
   "execution_count": 23,
   "metadata": {},
   "outputs": [
    {
     "data": {
      "text/plain": [
       "0.9493244440131783"
      ]
     },
     "execution_count": 23,
     "metadata": {},
     "output_type": "execute_result"
    }
   ],
   "source": [
    "# 기본값 (평균은0, 표준편차는 1인 난수 추출)\n",
    "v = np.random.normal(0,1)\n",
    "v"
   ]
  },
  {
   "cell_type": "markdown",
   "metadata": {},
   "source": [
    "###### 영어평균은 80 편차는 3 인데 A는 87점을 획득하였습니다. \n",
    "###### 87 - 80 = 7을 편차 3으로 나누면... -> 2.33333\n",
    "\n",
    "###### 수학평균은 60 편차는 10 인데 B는 77점을 획득하였습니다.\n",
    "######  77 - 60 = 17을 편차 10으로 나누면  -> 1.7\n",
    "\n",
    "###### 두 과목간 직접비교하는 것은 무리가 있지만 정규분포 비교를 해보면\n",
    "###### A학생 2.333 이 B학생 1.7보다높아 A학생이 더 잘 봤다고 할 수있습니다."
   ]
  },
  {
   "cell_type": "code",
   "execution_count": 24,
   "metadata": {},
   "outputs": [],
   "source": [
    "import numpy as np\n",
    "\n",
    "def np_print(arr):\n",
    "    text = '''\n",
    "    type : {}\n",
    "    shape : {}\n",
    "    ndim : {}\n",
    "    dtype : {}\n",
    "    array data : \\n {}'''.format(type(arr), arr.shape, arr.ndim, arr.dtype, arr)\n",
    "    print(text)"
   ]
  },
  {
   "cell_type": "code",
   "execution_count": 25,
   "metadata": {},
   "outputs": [
    {
     "name": "stdout",
     "output_type": "stream",
     "text": [
      "\n",
      "    type : <class 'numpy.ndarray'>\n",
      "    shape : (2, 3)\n",
      "    ndim : 2\n",
      "    dtype : float64\n",
      "    array data : \n",
      " [[ 0.40192384  0.44882655 -0.31218176]\n",
      " [-0.22646073 -0.20921518 -1.54790009]]\n"
     ]
    }
   ],
   "source": [
    "# size 설정 : 2행 3열의 구조 설정\n",
    "arr = np.random.normal(0, 1, size=(2,3))\n",
    "np_print(arr)"
   ]
  },
  {
   "cell_type": "code",
   "execution_count": 26,
   "metadata": {},
   "outputs": [],
   "source": [
    "# 정규분포 데이터로 이루어진 배열에 대한 시각화"
   ]
  }
 ],
 "metadata": {
  "kernelspec": {
   "display_name": "Python 3.9.7 ('base')",
   "language": "python",
   "name": "python3"
  },
  "language_info": {
   "codemirror_mode": {
    "name": "ipython",
    "version": 3
   },
   "file_extension": ".py",
   "mimetype": "text/x-python",
   "name": "python",
   "nbconvert_exporter": "python",
   "pygments_lexer": "ipython3",
   "version": "3.9.7"
  },
  "orig_nbformat": 4,
  "vscode": {
   "interpreter": {
    "hash": "b34b863c255992f18be4e3271ad309d6f472a641574d2a36abb232a0d7577314"
   }
  }
 },
 "nbformat": 4,
 "nbformat_minor": 2
}
