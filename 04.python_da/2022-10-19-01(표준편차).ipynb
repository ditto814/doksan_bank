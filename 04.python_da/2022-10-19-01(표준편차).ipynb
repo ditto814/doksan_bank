{
 "cells": [
  {
   "cell_type": "markdown",
   "metadata": {},
   "source": [
    "### 분산과 표준편차\n",
    "- 어떤 집단간 평균이 같다고 해서 반드시 분포가 같지는 않습니다.\n",
    "- 평균에서 어떤 요소가 얼마나 멀리 떨어져있는지를 나태낸것을 분산\n",
    "- 분산에 제곱급을 씌워 표준편차화하는 작업이 필요합니다.\n",
    "\n",
    "##### 평균이라고 다 같은 평균이 아니다 이를 구분하기위해 분산, 표준편차가 필요합니다.\n",
    "##### [10,0,0,0,0] -> 평균 2 // [2,2,2,2,2] -> 평균 2 는 평균은 같을지 몰라도 둘은 엄연히 다릅니다.\n",
    "\n",
    "https://onlinestatbook.com/2/calculators/normal_dist.html"
   ]
  },
  {
   "cell_type": "code",
   "execution_count": 1,
   "metadata": {},
   "outputs": [],
   "source": [
    "import numpy as np\n",
    "\n",
    "def np_print(arr):\n",
    "    text = '''\n",
    "    type : {}\n",
    "    shape : {}\n",
    "    ndim : {}\n",
    "    dtype : {}\n",
    "    array data : \\n {}'''.format(type(arr), arr.shape, arr.ndim, arr.dtype, arr)\n",
    "    print(text)"
   ]
  },
  {
   "cell_type": "code",
   "execution_count": 2,
   "metadata": {},
   "outputs": [],
   "source": [
    "# 분산 : 특정 요소가 평균값으로부터 얼마나 떨어져 있는가?\n",
    "# 표준편차 : 분산과정에서 제곱을 하여 정확한 거리가 나오지 않으므로 이를 다시 제곱근을 씌워 얻어내는 값"
   ]
  },
  {
   "cell_type": "code",
   "execution_count": 3,
   "metadata": {},
   "outputs": [
    {
     "data": {
      "text/plain": [
       "0.06551543708063036"
      ]
     },
     "execution_count": 3,
     "metadata": {},
     "output_type": "execute_result"
    }
   ],
   "source": [
    "# 기본값 (평균은0, 표준편차는 1인 난수 추출)\n",
    "v = np.random.normal(0,1)\n",
    "v"
   ]
  },
  {
   "cell_type": "markdown",
   "metadata": {},
   "source": [
    "###### 영어평균은 80 편차는 3 인데 A는 87점을 획득하였습니다. \n",
    "###### 87 - 80 = 7을 편차 3으로 나누면... -> 2.33333\n",
    "\n",
    "###### 수학평균은 60 편차는 10 인데 B는 77점을 획득하였습니다.\n",
    "######  77 - 60 = 17을 편차 10으로 나누면  -> 1.7\n",
    "\n",
    "###### 두 과목간 직접비교하는 것은 무리가 있지만 정규분포 비교를 해보면\n",
    "###### A학생 2.333 이 B학생 1.7보다높아 A학생이 더 잘 봤다고 할 수있습니다."
   ]
  },
  {
   "cell_type": "code",
   "execution_count": 4,
   "metadata": {},
   "outputs": [
    {
     "name": "stdout",
     "output_type": "stream",
     "text": [
      "\n",
      "    type : <class 'numpy.ndarray'>\n",
      "    shape : (2, 3)\n",
      "    ndim : 2\n",
      "    dtype : float64\n",
      "    array data : \n",
      " [[-1.33697561 -1.09277652  1.18748467]\n",
      " [ 1.07091468  0.15808804  0.09735338]]\n"
     ]
    }
   ],
   "source": [
    "# size 설정 : 2행 3열의 구조 설정\n",
    "arr = np.random.normal(0, 1, size=(2,3))\n",
    "np_print(arr)"
   ]
  },
  {
   "cell_type": "code",
   "execution_count": 9,
   "metadata": {},
   "outputs": [
    {
     "name": "stdout",
     "output_type": "stream",
     "text": [
      "\n",
      "    type : <class 'numpy.ndarray'>\n",
      "    shape : (10000,)\n",
      "    ndim : 1\n",
      "    dtype : float64\n",
      "    array data : \n",
      " [7.96397887 9.80533331 8.2739488  ... 9.31477051 9.13924973 9.43806476]\n"
     ]
    }
   ],
   "source": [
    "# 정규분포 데이터로 이루어진 배열에 대한 시각화\n",
    "# 평균 10, 표준편차 2인 정규분포에서 추출한 10000개의 데이터(v)\n",
    "\n",
    "data = np.random.normal(10, 2, size = 10000)\n",
    "np_print(data)\n",
    "# 8 ~ 12 : 1시그마구간 : 68.2%\n",
    "# 6.08 ~ 13.92 : 2시그마구간 : 95%(2 * 1.9744)\n",
    "# 2시그마까지는 95.4정도 나오는데 95에 딱 맞추려면"
   ]
  },
  {
   "cell_type": "code",
   "execution_count": 11,
   "metadata": {},
   "outputs": [
    {
     "data": {
      "image/png": "[encoded data removed]",
      "text/plain": [
       "<Figure size 432x288 with 1 Axes>"
      ]
     },
     "metadata": {
      "needs_background": "light"
     },
     "output_type": "display_data"
    }
   ],
   "source": [
    "# 100개 구간으로 구분한 분포\n",
    "import matplotlib.pyplot as plt\n",
    "\n",
    "plt.hist(data, bins = 100)\n",
    "plt.show()"
   ]
  },
  {
   "cell_type": "markdown",
   "metadata": {},
   "source": [
    "#### 3-2 np.random.rand(d0m d1,d2....., dn)\n",
    "\n",
    "- 지정한 shape(d0, d1....)에 따라 배열을 생성한 후 난수로 초기화\n",
    "- 사용되는 난수는 0이상 1미만의 범위에서 균등 분포로 추출\n",
    "\n",
    "###### 정규분포 - 종모양 \n",
    "###### 균등분포 - 상자모양 (로또번호는 모두 동일한 확률을 가진다)"
   ]
  },
  {
   "cell_type": "code",
   "execution_count": 20,
   "metadata": {},
   "outputs": [
    {
     "name": "stdout",
     "output_type": "stream",
     "text": [
      "\n",
      "    type : <class 'numpy.ndarray'>\n",
      "    shape : (2, 3)\n",
      "    ndim : 2\n",
      "    dtype : float64\n",
      "    array data : \n",
      " [[0.39433878 0.91322102 0.96931975]\n",
      " [0.91717249 0.69332634 0.72388904]]\n"
     ]
    }
   ],
   "source": [
    "# 2행 3열 구조\n",
    "arr = np.random.rand(2,3) \n",
    "# 2행 3열 데이터라는 뜻입니다. \n",
    "# 아까 했던 노멀라이즈는 가변인자(이터레이트)였습니다. \n",
    "np_print(arr)"
   ]
  },
  {
   "cell_type": "code",
   "execution_count": 26,
   "metadata": {},
   "outputs": [
    {
     "name": "stdout",
     "output_type": "stream",
     "text": [
      "\n",
      "    type : <class 'numpy.ndarray'>\n",
      "    shape : (10000,)\n",
      "    ndim : 1\n",
      "    dtype : float64\n",
      "    array data : \n",
      " [0.07033116 0.47941709 0.43098592 ... 0.63952132 0.62272229 0.31446599]\n"
     ]
    },
    {
     "data": {
      "image/png": "[encoded data removed]",
      "text/plain": [
       "<Figure size 432x288 with 1 Axes>"
      ]
     },
     "metadata": {
      "needs_background": "light"
     },
     "output_type": "display_data"
    }
   ],
   "source": [
    "# 균등분포로 데이터로 이루어진 배열에 대한 시각화\n",
    "# 10000개의 데이터로 이루어진 배열을 10개 구간으로 구분해보세요\n",
    "arr = np.random.rand(10000) \n",
    "np_print(arr)\n",
    "plt.hist(arr, bins = 10)\n",
    "plt.show()"
   ]
  },
  {
   "cell_type": "code",
   "execution_count": 31,
   "metadata": {},
   "outputs": [
    {
     "data": {
      "image/png": "[encoded data removed]",
      "text/plain": [
       "<Figure size 432x288 with 1 Axes>"
      ]
     },
     "metadata": {
      "needs_background": "light"
     },
     "output_type": "display_data"
    }
   ],
   "source": [
    "# 디폴트는 0~1이지만 계산만 해주면 지금처엄 범위를 1~10도 가능합니다.\n",
    "plt.hist(arr * 9 + 1, bins = 10)\n",
    "plt.show()"
   ]
  },
  {
   "cell_type": "code",
   "execution_count": 29,
   "metadata": {},
   "outputs": [
    {
     "data": {
      "text/plain": [
       "array([10, 20, 30, 40])"
      ]
     },
     "execution_count": 29,
     "metadata": {},
     "output_type": "execute_result"
    }
   ],
   "source": [
    "# 넘파이 배열은 곱하기를 받았을 때 반복해서 연장하는것이 아니라\n",
    "# 내장된 데이터 하나하나에 곱해줍니다.\n",
    "np.array([1,2,3,4]) * 10"
   ]
  },
  {
   "cell_type": "markdown",
   "metadata": {},
   "source": [
    "#### 3-3 np.random.randn(d0,d1,....dn)\n",
    "- 지정한 shape(d0, d1....)에따라 배열을 생성한 하 난수로 초기화\n",
    "- 사용되는 난수는 표준정구분포에서 추출된 데이터"
   ]
  },
  {
   "cell_type": "code",
   "execution_count": 40,
   "metadata": {},
   "outputs": [
    {
     "name": "stdout",
     "output_type": "stream",
     "text": [
      "\n",
      "    type : <class 'numpy.ndarray'>\n",
      "    shape : (2, 4)\n",
      "    ndim : 2\n",
      "    dtype : float64\n",
      "    array data : \n",
      " [[-1.1261299  -0.06425701  0.31683001  0.22153913]\n",
      " [ 0.13972465  0.41184578 -0.86633661  0.54057048]]\n"
     ]
    }
   ],
   "source": [
    "arr = np.random.randn(2,4)\n",
    "np_print(arr)"
   ]
  },
  {
   "cell_type": "code",
   "execution_count": 43,
   "metadata": {},
   "outputs": [
    {
     "name": "stdout",
     "output_type": "stream",
     "text": [
      "\n",
      "    type : <class 'numpy.ndarray'>\n",
      "    shape : (10000,)\n",
      "    ndim : 1\n",
      "    dtype : float64\n",
      "    array data : \n",
      " [ 0.18500224  1.83633211  0.66967169 ... -0.66020462 -0.62118703\n",
      "  1.41371685]\n"
     ]
    },
    {
     "data": {
      "image/png": "[encoded data removed]",
      "text/plain": [
       "<Figure size 432x288 with 1 Axes>"
      ]
     },
     "metadata": {
      "needs_background": "light"
     },
     "output_type": "display_data"
    }
   ],
   "source": [
    "# 정규분포 데이터로 이루어진 배열에 대한 시각화\n",
    "# 평균 0, 표준편차 1인 표준정규분포에서 추출한 10000개의 데이터에 대해\n",
    "# 100개 구간으로 구분한 분포\n",
    "\n",
    "data = np.random.randn(10000)\n",
    "np_print(data)\n",
    "plt.hist(data, bins = 100)\n",
    "plt.show()"
   ]
  },
  {
   "cell_type": "markdown",
   "metadata": {},
   "source": [
    "#### 2-4 np.random.randint(low, hight = None, size = None, dtype = 'i')\n",
    "\n",
    "- low 이상 high 미만의 범위에서 정수로 구성된 데이터를 가지고 지정한 size의 배열을 생성\n",
    "\n",
    "- low : high값이 지정되지 않으면 low값이 최대값(포함하지 않음)으로 설정\n",
    "\n",
    "- high : 최대값(포함하지 않음), 기본값 = None\n",
    "\n",
    "- size : 배열의 구조, 기본값 = None(배열이 아닌 하나의 값으로 반환)"
   ]
  },
  {
   "cell_type": "code",
   "execution_count": 46,
   "metadata": {},
   "outputs": [
    {
     "data": {
      "text/plain": [
       "0"
      ]
     },
     "execution_count": 46,
     "metadata": {},
     "output_type": "execute_result"
    }
   ],
   "source": [
    "# 1미만의 양수 중 하나의 값 추출\n",
    "# 1미만의 정수는 0 한개\n",
    "a = np.random.randint(1)\n",
    "a"
   ]
  },
  {
   "cell_type": "code",
   "execution_count": 47,
   "metadata": {},
   "outputs": [
    {
     "name": "stdout",
     "output_type": "stream",
     "text": [
      "\n",
      "    type : <class 'numpy.ndarray'>\n",
      "    shape : (10,)\n",
      "    ndim : 1\n",
      "    dtype : int32\n",
      "    array data : \n",
      " [0 0 0 0 0 0 0 0 0 0]\n"
     ]
    }
   ],
   "source": [
    "# 1미만의 양수 10개 추출\n",
    "arr = np.random.randint(1, size = 10)\n",
    "np_print(arr)"
   ]
  },
  {
   "cell_type": "code",
   "execution_count": 58,
   "metadata": {},
   "outputs": [
    {
     "name": "stdout",
     "output_type": "stream",
     "text": [
      "\n",
      "    type : <class 'numpy.ndarray'>\n",
      "    shape : (10,)\n",
      "    ndim : 1\n",
      "    dtype : int32\n",
      "    array data : \n",
      " [2 2 2 2 2 2 2 1 1 2]\n",
      "--------------------------------------------------\n",
      "\n",
      "    type : <class 'numpy.ndarray'>\n",
      "    shape : (2, 3)\n",
      "    ndim : 2\n",
      "    dtype : int32\n",
      "    array data : \n",
      " [[1 2 2]\n",
      " [1 1 0]]\n"
     ]
    }
   ],
   "source": [
    "# 3미만 양수 10개 추출\n",
    "arr = np.random.randint(3, size = 10)\n",
    "np_print(arr)\n",
    "print('-'*50)\n",
    "arr = np.random.randint(3, size = (2,3))\n",
    "np_print(arr)"
   ]
  },
  {
   "cell_type": "code",
   "execution_count": 63,
   "metadata": {},
   "outputs": [
    {
     "name": "stdout",
     "output_type": "stream",
     "text": [
      "\n",
      "    type : <class 'numpy.ndarray'>\n",
      "    shape : (2, 4)\n",
      "    ndim : 2\n",
      "    dtype : int32\n",
      "    array data : \n",
      " [[8 4 9 8]\n",
      " [5 4 8 8]]\n"
     ]
    }
   ],
   "source": [
    "# 3초과 10미만의 정수로 구성된 2행 4열 배열\n",
    "arr = np.random.randint(4, 10, size = (2,4))\n",
    "np_print(arr)"
   ]
  },
  {
   "cell_type": "code",
   "execution_count": 67,
   "metadata": {},
   "outputs": [
    {
     "name": "stdout",
     "output_type": "stream",
     "text": [
      "\n",
      "    type : <class 'numpy.ndarray'>\n",
      "    shape : (10000,)\n",
      "    ndim : 1\n",
      "    dtype : int32\n",
      "    array data : \n",
      " [ 1 -1 63 ... 95 23 38]\n"
     ]
    },
    {
     "data": {
      "image/png": "[encoded data removed]",
      "text/plain": [
       "<Figure size 432x288 with 1 Axes>"
      ]
     },
     "metadata": {
      "needs_background": "light"
     },
     "output_type": "display_data"
    }
   ],
   "source": [
    "# 균등분포로 이루어진 배열에 대한 시각화\n",
    "# -100 ~ 100의 범위에서 추출한 10000개의\n",
    "# 데이터에 대해 5개 구간으로 히스토그램을 만들어보세요\n",
    "\n",
    "arr = np.random.randint(-100, 101, size = 10000)\n",
    "np_print(arr)\n",
    "plt.hist(arr, bins = 5)\n",
    "plt.show()"
   ]
  }
 ],
 "metadata": {
  "kernelspec": {
   "display_name": "Python 3.9.7 ('base')",
   "language": "python",
   "name": "python3"
  },
  "language_info": {
   "codemirror_mode": {
    "name": "ipython",
    "version": 3
   },
   "file_extension": ".py",
   "mimetype": "text/x-python",
   "name": "python",
   "nbconvert_exporter": "python",
   "pygments_lexer": "ipython3",
   "version": "3.9.7"
  },
  "orig_nbformat": 4,
  "vscode": {
   "interpreter": {
    "hash": "b34b863c255992f18be4e3271ad309d6f472a641574d2a36abb232a0d7577314"
   }
  }
 },
 "nbformat": 4,
 "nbformat_minor": 2
}
