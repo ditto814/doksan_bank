{
 "cells": [
  {
   "cell_type": "code",
   "execution_count": null,
   "metadata": {},
   "outputs": [],
   "source": [
    "aa, bb = map(int,input().split())\n",
    "\n",
    "cc = aa -bb\n",
    "print(cc)"
   ]
  },
  {
   "cell_type": "code",
   "execution_count": null,
   "metadata": {},
   "outputs": [],
   "source": [
    "f1, f2 = map(float,input().split())\n",
    "\n",
    "m = f1 * f2\n",
    "print(m)"
   ]
  },
  {
   "cell_type": "code",
   "execution_count": null,
   "metadata": {},
   "outputs": [],
   "source": [
    "w, n = input().split()\n",
    "\n",
    "print(w * int(n))"
   ]
  },
  {
   "cell_type": "code",
   "execution_count": null,
   "metadata": {},
   "outputs": [],
   "source": [
    "n = input()\n",
    "w = input()\n",
    "\n",
    "print(w * int(n))"
   ]
  },
  {
   "cell_type": "code",
   "execution_count": null,
   "metadata": {},
   "outputs": [],
   "source": [
    "a, b = map(int, input().split())\n",
    "\n",
    "c = a**b\n",
    "\n",
    "print(c)"
   ]
  },
  {
   "cell_type": "code",
   "execution_count": null,
   "metadata": {},
   "outputs": [],
   "source": [
    "f1, f2 = map(float, input().split())\n",
    "\n",
    "c = f1**f2\n",
    "\n",
    "print(c)"
   ]
  },
  {
   "cell_type": "code",
   "execution_count": null,
   "metadata": {},
   "outputs": [],
   "source": [
    "a, b = map(int, input().split())\n",
    "\n",
    "print(a//b)"
   ]
  },
  {
   "cell_type": "code",
   "execution_count": null,
   "metadata": {},
   "outputs": [],
   "source": [
    "a, b = map(int, input().split())\n",
    "\n",
    "print(a%b)"
   ]
  },
  {
   "cell_type": "code",
   "execution_count": null,
   "metadata": {},
   "outputs": [],
   "source": [
    "a = float(input())\n",
    "\n",
    "print(format(a, '.2f'))"
   ]
  },
  {
   "cell_type": "code",
   "execution_count": null,
   "metadata": {},
   "outputs": [],
   "source": [
    "f1, f2 = map(float,(input().split()))\n",
    "\n",
    "c = f1 / f2\n",
    "\n",
    "print(format(c, '.3f'))"
   ]
  },
  {
   "cell_type": "code",
   "execution_count": null,
   "metadata": {},
   "outputs": [],
   "source": [
    "a, b = map(int,input().split())\n",
    "\n",
    "print(a + b)\n",
    "print(a - b)\n",
    "print(a * b)\n",
    "print(a // b)\n",
    "print(a % b)\n",
    "c = a/b\n",
    "print(format(c, '.2f'))\n"
   ]
  },
  {
   "cell_type": "code",
   "execution_count": null,
   "metadata": {},
   "outputs": [],
   "source": [
    "a, b, c = map(int,input().split())\n",
    "abc_hap = a + b + c\n",
    "abc_avg = abc_hap / 3\n",
    "\n",
    "print(abc_hap, format(abc_avg, '.2f'))"
   ]
  },
  {
   "cell_type": "code",
   "execution_count": null,
   "metadata": {},
   "outputs": [],
   "source": [
    "a = int(input())\n",
    "\n",
    "print(a<<1)"
   ]
  },
  {
   "cell_type": "code",
   "execution_count": null,
   "metadata": {},
   "outputs": [],
   "source": [
    "a, b = map(int,input().split())\n",
    "\n",
    "print(a<<b)"
   ]
  },
  {
   "cell_type": "code",
   "execution_count": null,
   "metadata": {},
   "outputs": [],
   "source": [
    "a, b = map(int,input().split())\n",
    "\n",
    "print(a < b)\n"
   ]
  },
  {
   "cell_type": "code",
   "execution_count": null,
   "metadata": {},
   "outputs": [],
   "source": [
    "a, b = map(int,input().split())\n",
    "\n",
    "print(a == b)"
   ]
  },
  {
   "cell_type": "code",
   "execution_count": null,
   "metadata": {},
   "outputs": [],
   "source": [
    "a, b = map(int,input().split())\n",
    "\n",
    "print(a <= b)"
   ]
  },
  {
   "cell_type": "code",
   "execution_count": null,
   "metadata": {},
   "outputs": [],
   "source": [
    "a, b = map(int,input().split())\n",
    "\n",
    "print(a != b)"
   ]
  },
  {
   "cell_type": "code",
   "execution_count": null,
   "metadata": {},
   "outputs": [],
   "source": [
    "# a는 0입니까 아닙니까\n",
    "a = int(input())\n",
    "\n",
    "print(bool(a))"
   ]
  },
  {
   "cell_type": "code",
   "execution_count": null,
   "metadata": {},
   "outputs": [],
   "source": [
    "# not 연산자를 이용하여 기존 불 값을 반대로 출력\n",
    "a = int(input())\n",
    "\n",
    "print(not a)"
   ]
  },
  {
   "cell_type": "code",
   "execution_count": null,
   "metadata": {},
   "outputs": [],
   "source": [
    "# 두 값 모두 True이면 True\n",
    "a, b = map(int, input().split())\n",
    "\n",
    "print(bool(a) and bool(b))"
   ]
  },
  {
   "cell_type": "code",
   "execution_count": null,
   "metadata": {},
   "outputs": [],
   "source": [
    "# 둘 둥 하나 이상이 True일때\n",
    "a, b = map(int, input().split())\n",
    "\n",
    "print(bool(a) or bool(b))"
   ]
  },
  {
   "cell_type": "code",
   "execution_count": null,
   "metadata": {},
   "outputs": [],
   "source": [
    "# 둘중 하나만 True면 True 아니면 False\n",
    "a, b = map(int,(input().split()))\n",
    "\n",
    "# 0이면 false 아니면 true\n",
    "c = bool(int(a))\n",
    "# 0이면 false 아니면 true\n",
    "d = bool(int(b))\n",
    "\n",
    "print(c and (not d) or d and (not c)) \n",
    "# 1, 0 을 투입\n",
    "    # True\n",
    "    # False\n",
    "    # True and True /or/ True and False\n",
    "    # True or True\n",
    "\n",
    "# 1, 1 을 투입\n",
    "    # True\n",
    "    # True\n",
    "    # True and False /or/ True and False\n",
    "    # False or False\n",
    "\n",
    "# 0, 0 을 투입\n",
    "    # False\n",
    "    # False\n",
    "    # False and True /or/ False and True\n",
    "    # False or False\n",
    "\n",
    "# 0, 1 을 투입\n",
    "    # False\n",
    "    # True\n",
    "    # False and True /or/ True and True \n",
    "    # False or True"
   ]
  },
  {
   "cell_type": "code",
   "execution_count": null,
   "metadata": {},
   "outputs": [],
   "source": [
    "a, b = map(int,input().split())\n",
    "\n",
    "c = bool(a)\n",
    "d = bool(b)\n",
    "\n",
    "print(c==d)"
   ]
  },
  {
   "cell_type": "code",
   "execution_count": null,
   "metadata": {},
   "outputs": [],
   "source": [
    "# 코드업 6058\n",
    "a, b = map(int,input().split())\n",
    "\n",
    "c = bool(a) # 1투입시 True\n",
    "d = bool(b) # 1투입시 True\n",
    "\n",
    "print((not c) and (not c) == (not d) and  (not d))\n",
    "\n",
    "# 해설 \n",
    "# (0,0)\n",
    "    # False and False -> False 반환\n",
    "    # False and False -> Flase 반환 \n",
    "\n",
    "# (1,1)\n",
    "    # True and True -> True 반환\n",
    "    # True and True -> True 반환\n",
    "\n",
    "# a,b = map(int,input().split())\n",
    "a = 1\n",
    "b = 0\n",
    "# a == b\n",
    "# not a and not b\n",
    "not(a or b)"
   ]
  },
  {
   "cell_type": "code",
   "execution_count": null,
   "metadata": {},
   "outputs": [],
   "source": [
    "n = int(input())\n",
    "\n",
    "print(~n)\n"
   ]
  },
  {
   "cell_type": "code",
   "execution_count": null,
   "metadata": {},
   "outputs": [],
   "source": [
    "n,m = map(int,input().split())\n",
    "\n",
    "print(n&m)"
   ]
  },
  {
   "cell_type": "code",
   "execution_count": null,
   "metadata": {},
   "outputs": [],
   "source": [
    "n,m = map(int,input().split())\n",
    "\n",
    "print(n^m)"
   ]
  },
  {
   "cell_type": "code",
   "execution_count": null,
   "metadata": {},
   "outputs": [],
   "source": [
    "n, m = map(int,input().split())\n",
    "\n",
    "if n < m :\n",
    "    print(m)\n",
    "\n",
    "else :\n",
    "    print(n)"
   ]
  },
  {
   "cell_type": "code",
   "execution_count": null,
   "metadata": {},
   "outputs": [],
   "source": [
    "a, b, c = map(int,input().split())\n",
    "\n",
    "if a < b and b < c :\n",
    "    print(a)\n",
    "elif b < a and b < c:\n",
    "    print(b)\n",
    "else :\n",
    "    print(c)"
   ]
  },
  {
   "cell_type": "code",
   "execution_count": null,
   "metadata": {},
   "outputs": [],
   "source": [
    "a, b, c = map(int,input().split())\n",
    "\n",
    "if a % 2 == 0 :\n",
    "    print(a)\n",
    "    \n",
    "if b % 2 == 0:\n",
    "    print(b)\n",
    "\n",
    "if c % 2 == 0 :\n",
    "    print(c)"
   ]
  },
  {
   "cell_type": "code",
   "execution_count": null,
   "metadata": {},
   "outputs": [],
   "source": [
    "a, b, c = map(int, input().split())\n",
    "\n",
    "if a % 2 == 0:\n",
    "    print(\"even\")\n",
    "else:\n",
    "    print('odd')\n",
    "\n",
    "if b % 2 == 0:\n",
    "    print(\"even\")\n",
    "else:\n",
    "    print('odd')\n",
    "\n",
    "if c % 2 == 0:\n",
    "    print(\"even\")\n",
    "else:\n",
    "    print('odd')\n"
   ]
  },
  {
   "cell_type": "code",
   "execution_count": null,
   "metadata": {},
   "outputs": [],
   "source": [
    "a = int(input())\n",
    "\n",
    "if a < 0 and a % 2 == 0:\n",
    "    print('A')\n",
    "\n",
    "if a < 0 and a % 2 != 0:\n",
    "    print('B')\n",
    "\n",
    "if a > 0 and a % 2 == 0:\n",
    "    print('C')\n",
    "\n",
    "if a > 0 and a % 2 != 0:\n",
    "    print('D')"
   ]
  },
  {
   "cell_type": "code",
   "execution_count": null,
   "metadata": {},
   "outputs": [],
   "source": [
    "a = str(input())\n",
    "\n",
    "if a == 'A' :\n",
    "    print('best!!!')\n",
    "\n",
    "elif a == 'B' :\n",
    "    print('good!!')\n",
    "\n",
    "elif a == 'C' :\n",
    "    print('run!')\n",
    "\n",
    "elif a == 'D' :\n",
    "    print('slowly~')\n",
    "\n",
    "else :\n",
    "    print('what?')"
   ]
  },
  {
   "cell_type": "code",
   "execution_count": null,
   "metadata": {},
   "outputs": [],
   "source": [
    "a = int(input())\n",
    "\n",
    "if 3 <= a <= 5:\n",
    "    print('spring')\n",
    "\n",
    "elif 6 <= a <= 8:\n",
    "    print('summer')\n",
    "\n",
    "elif 9 <= a <= 11:\n",
    "    print('fall')\n",
    "\n",
    "else : \n",
    "    print('winter')\n"
   ]
  },
  {
   "cell_type": "code",
   "execution_count": 108,
   "metadata": {},
   "outputs": [
    {
     "name": "stdout",
     "output_type": "stream",
     "text": [
      "5\n",
      "4\n",
      "3\n",
      "2\n",
      "1\n"
     ]
    }
   ],
   "source": [
    "while True:\n",
    "    a = int(input())\n",
    "    if a == 0:\n",
    "        break\n",
    "    print(a)"
   ]
  },
  {
   "cell_type": "code",
   "execution_count": 109,
   "metadata": {},
   "outputs": [
    {
     "name": "stdout",
     "output_type": "stream",
     "text": [
      "5\n",
      "4\n",
      "3\n",
      "2\n",
      "1\n"
     ]
    }
   ],
   "source": [
    "a = int(input())\n",
    "\n",
    "while True :\n",
    "    print(a)\n",
    "    a -= 1\n",
    "\n",
    "    if a == 0:\n",
    "        break"
   ]
  },
  {
   "cell_type": "code",
   "execution_count": 110,
   "metadata": {},
   "outputs": [
    {
     "name": "stdout",
     "output_type": "stream",
     "text": [
      "4\n",
      "3\n",
      "2\n",
      "1\n",
      "0\n"
     ]
    }
   ],
   "source": [
    "# a = int(input())-1\n",
    "\n",
    "# while True :\n",
    "#     print(a)\n",
    "#     a -= 1\n",
    "\n",
    "#     if a < 0:\n",
    "#         break\n",
    "\n",
    "# 더 나은 예제\n",
    "a=int(input())\n",
    "\n",
    "while a!=0:\n",
    "    a=a-1\n",
    "    print(a)"
   ]
  },
  {
   "cell_type": "code",
   "execution_count": null,
   "metadata": {},
   "outputs": [],
   "source": [
    "a = ord(input())\n",
    "start = ord('a')\n",
    "\n",
    "while start <= a :\n",
    "    start += 1\n",
    "    print(chr(start-1))"
   ]
  },
  {
   "cell_type": "code",
   "execution_count": null,
   "metadata": {},
   "outputs": [],
   "source": [
    "a = ord(input())\n",
    "start = ord('a')\n",
    "\n",
    "while start <= a :\n",
    "    print(chr(start))\n",
    "    start += 1"
   ]
  },
  {
   "cell_type": "code",
   "execution_count": null,
   "metadata": {},
   "outputs": [],
   "source": [
    "# for문 풀이법\n",
    "a = int(input())\n",
    "for i in range(0,a+1):\n",
    "    print(i)"
   ]
  },
  {
   "cell_type": "code",
   "execution_count": null,
   "metadata": {},
   "outputs": [],
   "source": [
    "# while문 풀이법\n",
    "a = int(input())\n",
    "i = 0\n",
    "\n",
    "while i <= a :\n",
    "    print(i)\n",
    "    i += 1"
   ]
  },
  {
   "cell_type": "code",
   "execution_count": null,
   "metadata": {},
   "outputs": [],
   "source": [
    "a = int(input())\n",
    "s = 0\n",
    "for i in range(a+1):\n",
    "    if i % 2 == 0:\n",
    "        s  = s + i\n",
    "\n",
    "print(s)"
   ]
  },
  {
   "cell_type": "code",
   "execution_count": 111,
   "metadata": {},
   "outputs": [
    {
     "name": "stdout",
     "output_type": "stream",
     "text": [
      "f\n",
      "r\n",
      "d\n",
      "w\n",
      "22\n",
      "q\n"
     ]
    }
   ],
   "source": [
    "while True :\n",
    "    a = input()\n",
    "    print(a)\n",
    "    if a == 'q':\n",
    "        break"
   ]
  },
  {
   "cell_type": "code",
   "execution_count": 141,
   "metadata": {},
   "outputs": [
    {
     "name": "stdout",
     "output_type": "stream",
     "text": [
      "10\n"
     ]
    }
   ],
   "source": [
    "a = int(input())\n",
    "s = 0\n",
    "\n",
    "for i in range(1, a+1):\n",
    "    s = s + i\n",
    "    if s >= a :\n",
    "        print(i)\n",
    "        break"
   ]
  },
  {
   "cell_type": "code",
   "execution_count": 140,
   "metadata": {},
   "outputs": [
    {
     "name": "stdout",
     "output_type": "stream",
     "text": [
      "10\n"
     ]
    }
   ],
   "source": [
    "x = int(input())\n",
    "result = 0\n",
    "\n",
    "for i in range(1, x+1):\n",
    "  result += i\n",
    "  if result >= x :\n",
    "    print(i)\n",
    "    break"
   ]
  },
  {
   "cell_type": "code",
   "execution_count": 4,
   "metadata": {},
   "outputs": [
    {
     "name": "stdout",
     "output_type": "stream",
     "text": [
      "1 1\n",
      "1 2\n",
      "1 3\n",
      "2 1\n",
      "2 2\n",
      "2 3\n"
     ]
    }
   ],
   "source": [
    "n,m = map(int,input().split())\n",
    "\n",
    "for i in range(1,n+1):\n",
    "    for j in range(1,m+1):\n",
    "        print(i,j)"
   ]
  },
  {
   "cell_type": "code",
   "execution_count": null,
   "metadata": {},
   "outputs": [],
   "source": [
    "n = int(input())\n",
    "\n",
    "ns = n.sort()"
   ]
  },
  {
   "cell_type": "code",
   "execution_count": null,
   "metadata": {},
   "outputs": [],
   "source": []
  },
  {
   "cell_type": "code",
   "execution_count": null,
   "metadata": {},
   "outputs": [],
   "source": []
  },
  {
   "cell_type": "code",
   "execution_count": null,
   "metadata": {},
   "outputs": [],
   "source": []
  },
  {
   "cell_type": "code",
   "execution_count": null,
   "metadata": {},
   "outputs": [],
   "source": []
  },
  {
   "cell_type": "code",
   "execution_count": null,
   "metadata": {},
   "outputs": [],
   "source": []
  },
  {
   "cell_type": "code",
   "execution_count": null,
   "metadata": {},
   "outputs": [],
   "source": []
  },
  {
   "cell_type": "code",
   "execution_count": null,
   "metadata": {},
   "outputs": [],
   "source": []
  },
  {
   "cell_type": "code",
   "execution_count": null,
   "metadata": {},
   "outputs": [],
   "source": []
  },
  {
   "cell_type": "code",
   "execution_count": null,
   "metadata": {},
   "outputs": [],
   "source": []
  },
  {
   "cell_type": "code",
   "execution_count": null,
   "metadata": {},
   "outputs": [],
   "source": []
  }
 ],
 "metadata": {
  "kernelspec": {
   "display_name": "Python 3.9.7 ('base')",
   "language": "python",
   "name": "python3"
  },
  "language_info": {
   "codemirror_mode": {
    "name": "ipython",
    "version": 3
   },
   "file_extension": ".py",
   "mimetype": "text/x-python",
   "name": "python",
   "nbconvert_exporter": "python",
   "pygments_lexer": "ipython3",
   "version": "3.9.7"
  },
  "orig_nbformat": 4,
  "vscode": {
   "interpreter": {
    "hash": "b34b863c255992f18be4e3271ad309d6f472a641574d2a36abb232a0d7577314"
   }
  }
 },
 "nbformat": 4,
 "nbformat_minor": 2
}
