{
 "cells": [
  {
   "cell_type": "markdown",
   "metadata": {},
   "source": [
    "### Python 배우기 (1~50)"
   ]
  },
  {
   "cell_type": "code",
   "execution_count": 12,
   "metadata": {},
   "outputs": [
    {
     "name": "stdout",
     "output_type": "stream",
     "text": [
      "40\n"
     ]
    }
   ],
   "source": [
    "# 1000\n",
    "a, b = map(int, input().split())\n",
    "print(a+b)\n"
   ]
  },
  {
   "cell_type": "code",
   "execution_count": 16,
   "metadata": {},
   "outputs": [
    {
     "name": "stdout",
     "output_type": "stream",
     "text": [
      "25\n"
     ]
    }
   ],
   "source": [
    "# 10998-1\n",
    "a, b = map(int, input().split())\n",
    "print(a*b)\n",
    "\n"
   ]
  },
  {
   "cell_type": "code",
   "execution_count": 17,
   "metadata": {},
   "outputs": [
    {
     "name": "stdout",
     "output_type": "stream",
     "text": [
      "25\n"
     ]
    }
   ],
   "source": [
    "# 10998-2\n",
    "a, b = input().split()\n",
    "print(int(a) * int(b))"
   ]
  },
  {
   "cell_type": "code",
   "execution_count": 23,
   "metadata": {},
   "outputs": [
    {
     "name": "stdout",
     "output_type": "stream",
     "text": [
      "400\n"
     ]
    }
   ],
   "source": [
    "# 1001\n",
    "a, b = input().split()\n",
    "print(int(a) - int(b))"
   ]
  },
  {
   "cell_type": "code",
   "execution_count": 26,
   "metadata": {},
   "outputs": [
    {
     "name": "stdout",
     "output_type": "stream",
     "text": [
      "1.25\n"
     ]
    }
   ],
   "source": [
    "# 1008\n",
    "a, b = input().split('?')\n",
    "print(int(a) / int(b))"
   ]
  },
  {
   "cell_type": "code",
   "execution_count": 29,
   "metadata": {},
   "outputs": [
    {
     "name": "stdout",
     "output_type": "stream",
     "text": [
      "10\n",
      "4\n",
      "21\n",
      "2\n",
      "1\n"
     ]
    }
   ],
   "source": [
    "# 10869\n",
    "a, b = input().split()\n",
    "print(int(a) + int(b))\n",
    "print(int(a) - int(b))\n",
    "print(int(a) * int(b))\n",
    "print(int(a) // int(b))\n",
    "print(int(a) % int(b))"
   ]
  },
  {
   "cell_type": "code",
   "execution_count": 36,
   "metadata": {},
   "outputs": [
    {
     "name": "stdout",
     "output_type": "stream",
     "text": [
      "1\n",
      "1\n",
      "0\n",
      "0\n"
     ]
    }
   ],
   "source": [
    "# 10430\n",
    "a, b, c = map(int, input().split())\n",
    "\n",
    "print((a+b)%c)\n",
    "print(((a%c) + (b%c))%c)\n",
    "print((a*b)%c)\n",
    "print(((a%c) * (b%c)) % c)"
   ]
  },
  {
   "cell_type": "code",
   "execution_count": 37,
   "metadata": {},
   "outputs": [
    {
     "name": "stdout",
     "output_type": "stream",
     "text": [
      "10\n"
     ]
    }
   ],
   "source": [
    "# 2558\n",
    "a, b  = map(int, input().split())\n",
    "\n",
    "print(a+b)"
   ]
  },
  {
   "cell_type": "code",
   "execution_count": 2,
   "metadata": {},
   "outputs": [
    {
     "name": "stdout",
     "output_type": "stream",
     "text": [
      "2360\n",
      "3776\n",
      "1416\n",
      "181720\n"
     ]
    }
   ],
   "source": [
    "# 2588\n",
    "a = int(input())\n",
    "b = input()\n",
    "\n",
    "print(a * int(b[2]))\n",
    "print(a * int(b[1]))\n",
    "print(a * int(b[0]))\n",
    "print(a * int(b))\n",
    "\n",
    "# 2588 - 설명\n",
    "# print(b[0])\n",
    "# print(b[1])\n",
    "# print(b[2])\n"
   ]
  },
  {
   "cell_type": "code",
   "execution_count": 12,
   "metadata": {},
   "outputs": [
    {
     "name": "stdout",
     "output_type": "stream",
     "text": [
      "19\n"
     ]
    }
   ],
   "source": [
    "# 3046 (★)\n",
    "R1, S = map(int, input().split())\n",
    "print(2*S -R1)\n"
   ]
  },
  {
   "cell_type": "code",
   "execution_count": 15,
   "metadata": {},
   "outputs": [
    {
     "name": "stdout",
     "output_type": "stream",
     "text": [
      "11\n"
     ]
    }
   ],
   "source": [
    "# 2163 (★)\n",
    "N, M = map(int, input().split())\n",
    "print((N*M)-1)"
   ]
  },
  {
   "cell_type": "code",
   "execution_count": 27,
   "metadata": {},
   "outputs": [
    {
     "name": "stdout",
     "output_type": "stream",
     "text": [
      "Case #1: 2\n",
      "Case #2: 4\n"
     ]
    }
   ],
   "source": [
    "# 11021\n",
    "T = int(input())\n",
    "\n",
    "for i in range(T):\n",
    "    A, B = map(int, input().split())\n",
    "    C = A + B\n",
    "    print(f'Case #{i+1}: {C}')\n",
    "\n",
    "\n",
    "# # 11021\n",
    "# T = int(input())\n",
    "\n",
    "# for i in range(T):\n",
    "#     A, B = map(int, input().split())\n",
    "#     C = A + B\n",
    "#     print('Case #%s: %s'%(i+1, C))\n",
    "\n"
   ]
  },
  {
   "cell_type": "code",
   "execution_count": 34,
   "metadata": {},
   "outputs": [
    {
     "name": "stdout",
     "output_type": "stream",
     "text": [
      "Case #1: 1 + 1 = 2\n",
      "Case #2: 2 + 2 = 4\n"
     ]
    }
   ],
   "source": [
    "# 11022\n",
    "T = int(input())\n",
    "\n",
    "for i in range(T):\n",
    "    A, B = map(int, input().split())\n",
    "    C = A + B\n",
    "    print(f'Case #{i+1}: {A} + {B} = {C}')"
   ]
  },
  {
   "cell_type": "code",
   "execution_count": 46,
   "metadata": {},
   "outputs": [
    {
     "name": "stdout",
     "output_type": "stream",
     "text": [
      "2022-10-19\n"
     ]
    }
   ],
   "source": [
    "# 10699 (★★★)\n",
    "import datetime\n",
    "print(str(datetime.datetime.now())[:10])"
   ]
  },
  {
   "cell_type": "code",
   "execution_count": 18,
   "metadata": {},
   "outputs": [
    {
     "name": "stdout",
     "output_type": "stream",
     "text": [
      "13\n",
      "raraeg\n"
     ]
    }
   ],
   "source": [
    "# 7287\n",
    "print(13)\n",
    "print('raraeg')"
   ]
  },
  {
   "cell_type": "code",
   "execution_count": 140,
   "metadata": {},
   "outputs": [
    {
     "name": "stdout",
     "output_type": "stream",
     "text": [
      "         ,r'\"7\n",
      "r`-_   ,'  ,/\n",
      " \\. \". L_r'\n",
      "   `~\\/\n",
      "      |\n",
      "      |\n"
     ]
    }
   ],
   "source": [
    "# 25083 (따옴표문제)\n",
    "print(\"\"\"         ,r'\"7\n",
    "r`-_   ,'  ,/\n",
    " \\. \". L_r'\n",
    "   `~\\/\n",
    "      |\n",
    "      |\"\"\")"
   ]
  },
  {
   "cell_type": "code",
   "execution_count": 146,
   "metadata": {},
   "outputs": [
    {
     "name": "stdout",
     "output_type": "stream",
     "text": [
      "강한친구 대한육군 \n",
      "강한친구 대한육군\n"
     ]
    }
   ],
   "source": [
    "# 10718\n",
    "print('강한친구 대한육군 \\n강한친구 대한육군')"
   ]
  },
  {
   "cell_type": "code",
   "execution_count": 149,
   "metadata": {},
   "outputs": [
    {
     "name": "stdout",
     "output_type": "stream",
     "text": [
      "1998\n"
     ]
    }
   ],
   "source": [
    "# 18108\n",
    "ohm = int(input())\n",
    "\n",
    "print(ohm - 543)\n"
   ]
  },
  {
   "cell_type": "code",
   "execution_count": 167,
   "metadata": {},
   "outputs": [
    {
     "name": "stdout",
     "output_type": "stream",
     "text": [
      " \\    /\\ \n",
      "  )  ( ') \n",
      " (  /  )\n",
      "  \\(__)|\n"
     ]
    }
   ],
   "source": [
    "# 10171\n",
    "print(\" \\\\    /\\\\ \")\n",
    "print(\"  )  ( ') \")\n",
    "print(\" (  /  )\")\n",
    "print(\"  \\\\(__)|\")"
   ]
  },
  {
   "cell_type": "code",
   "execution_count": 183,
   "metadata": {},
   "outputs": [
    {
     "name": "stdout",
     "output_type": "stream",
     "text": [
      "|\\_/|\n",
      "|q p|   /}\n",
      "( 0 )\"\"\"\\\n",
      "|\"^\"`    |\n",
      "||_/=\\\\__|\n"
     ]
    }
   ],
   "source": [
    "# 10172\n",
    "print(\"|\\\\_/|\")\n",
    "print(\"|q p|   /}\")\n",
    "print('( 0 )\"\"\"\\\\')\n",
    "print(\"\"\"|\"^\"`    |\"\"\")\n",
    "print(\"||_/=\\\\\\__|\")"
   ]
  },
  {
   "cell_type": "code",
   "execution_count": 20,
   "metadata": {},
   "outputs": [
    {
     "name": "stdout",
     "output_type": "stream",
     "text": [
      "5\n",
      "4\n",
      "3\n",
      "2\n",
      "1\n"
     ]
    }
   ],
   "source": [
    "# 2742\n",
    "N = int(input())\n",
    "\n",
    "for i in range(1,N+1):\n",
    "    print(N-i+1)"
   ]
  },
  {
   "cell_type": "code",
   "execution_count": null,
   "metadata": {},
   "outputs": [],
   "source": [
    "# 11720 (★★)\n",
    "a = int(input())\n",
    "b = input()\n",
    "\n",
    "hap = 0\n",
    "\n",
    "for i in range(a):\n",
    "    hap = hap + int(b[i])\n",
    "\n",
    "print(hap)"
   ]
  },
  {
   "cell_type": "code",
   "execution_count": 56,
   "metadata": {},
   "outputs": [
    {
     "name": "stdout",
     "output_type": "stream",
     "text": [
      "6\n"
     ]
    }
   ],
   "source": [
    "# 11720 (★★) - 다른 풀이\n",
    "n = int(input())\n",
    "a = 0\n",
    "\n",
    "for i in range(n):\n",
    "    a = a + int(input())\n",
    "    \n",
    "print(a)"
   ]
  },
  {
   "cell_type": "code",
   "execution_count": 54,
   "metadata": {},
   "outputs": [
    {
     "name": "stdout",
     "output_type": "stream",
     "text": [
      "4\n"
     ]
    }
   ],
   "source": [
    "# 14681\n",
    "x = int(input())\n",
    "y = int(input())\n",
    "\n",
    "if x > 0 and y > 0:\n",
    "    print(int(1))\n",
    "\n",
    "elif x < 0 and y > 0 :\n",
    "    print(int(2))\n",
    "\n",
    "elif x < 0 and y < 0 :\n",
    "    print(int(3))\n",
    "\n",
    "elif x > 0 and y < 0 :\n",
    "    print(int(4))"
   ]
  },
  {
   "cell_type": "code",
   "execution_count": 3,
   "metadata": {},
   "outputs": [
    {
     "name": "stdout",
     "output_type": "stream",
     "text": [
      "5 * 1 = 5\n",
      "5 * 2 = 10\n",
      "5 * 3 = 15\n",
      "5 * 4 = 20\n",
      "5 * 5 = 25\n",
      "5 * 6 = 30\n",
      "5 * 7 = 35\n",
      "5 * 8 = 40\n",
      "5 * 9 = 45\n"
     ]
    }
   ],
   "source": [
    "# 2739\n",
    "n = int(input())\n",
    "\n",
    "for i in range(1, 10):\n",
    "    print(f'{n} * {i} = {n*i}')"
   ]
  },
  {
   "cell_type": "code",
   "execution_count": 20,
   "metadata": {},
   "outputs": [
    {
     "name": "stdout",
     "output_type": "stream",
     "text": [
      "13000\n"
     ]
    }
   ],
   "source": [
    "# 2480 ★\n",
    "first, second, third = map(int, input().split())\n",
    "\n",
    "if first == second == third :\n",
    "    print(first * 1000 + 10000)\n",
    "\n",
    "elif first == second or first == third:\n",
    "    print(first * 100 + 1000)\n",
    "\n",
    "elif second == third:\n",
    "    print(second * 100 + 1000)\n",
    "\n",
    "else:\n",
    "    print(max(first, second, third) * 100)\n"
   ]
  },
  {
   "cell_type": "code",
   "execution_count": 57,
   "metadata": {},
   "outputs": [
    {
     "name": "stdout",
     "output_type": "stream",
     "text": [
      "1\n"
     ]
    }
   ],
   "source": [
    "# 2475\n",
    "n1, n2, n3, n4, n5 = map(int, input().split())\n",
    "n6 = ((n1**2) + (n2**2) + (n3**2) + (n4**2) + (n5**2)) % 10\n",
    "print(n6)\n",
    "\n",
    "# 다른 방법\n",
    "# n1, n2, n3, n4, n5 = map(int, input().split())\n",
    "# n6 = ((n1*n1) + (n2*n2) + (n3*n3) + (n4*n4) + (n5*n5)) % 10\n",
    "# print(n6)"
   ]
  },
  {
   "cell_type": "code",
   "execution_count": null,
   "metadata": {},
   "outputs": [],
   "source": []
  },
  {
   "cell_type": "code",
   "execution_count": null,
   "metadata": {},
   "outputs": [],
   "source": []
  },
  {
   "cell_type": "code",
   "execution_count": null,
   "metadata": {},
   "outputs": [],
   "source": []
  },
  {
   "cell_type": "code",
   "execution_count": null,
   "metadata": {},
   "outputs": [],
   "source": []
  },
  {
   "cell_type": "code",
   "execution_count": null,
   "metadata": {},
   "outputs": [],
   "source": []
  },
  {
   "cell_type": "code",
   "execution_count": 17,
   "metadata": {},
   "outputs": [
    {
     "name": "stdout",
     "output_type": "stream",
     "text": [
      "17 45\n"
     ]
    }
   ],
   "source": [
    "# 2525(★★★)\n",
    "h, m = map(int, input().split())\n",
    "cook = int(input())\n",
    "\n",
    "h = h + cook // 60\n",
    "m = m + cook % 60\n",
    "\n",
    "if m >= 60 :\n",
    "    h = h + 1\n",
    "    m = m - 60\n",
    "\n",
    "if h >= 24 :\n",
    "    h = h -24\n",
    "\n",
    "print(h, m)\n"
   ]
  },
  {
   "cell_type": "code",
   "execution_count": 51,
   "metadata": {},
   "outputs": [
    {
     "name": "stdout",
     "output_type": "stream",
     "text": [
      "23 55\n"
     ]
    }
   ],
   "source": [
    "# 2884(★★★)\n",
    "h,m = map(int,input().split())\n",
    "\n",
    "if m >= 45 :\n",
    "    print(h, m - 45)\n",
    "\n",
    "elif h > 0 and  m < 45 :\n",
    "    print(h-1, m + 15)\n",
    "\n",
    "else:\n",
    "    print(23, m + 15)\n"
   ]
  },
  {
   "cell_type": "code",
   "execution_count": 6,
   "metadata": {},
   "outputs": [
    {
     "name": "stdout",
     "output_type": "stream",
     "text": [
      "[1, 2, 3, 4, 5]\n",
      "1 5\n"
     ]
    }
   ],
   "source": [
    "# 10818\n",
    "\n",
    "n = int(input())\n",
    "a = list(map(int, input().split()))\n",
    "\n",
    "print(a)\n",
    "print(min(a), max(a))"
   ]
  },
  {
   "cell_type": "code",
   "execution_count": 111,
   "metadata": {},
   "outputs": [
    {
     "name": "stdout",
     "output_type": "stream",
     "text": [
      "85\n",
      "8\n"
     ]
    }
   ],
   "source": [
    "# 2562(★★)\n",
    "\n",
    "b = []\n",
    "\n",
    "for i in range(9):\n",
    "    n = int(input())\n",
    "    b.append(n)\n",
    "\n",
    "print(max(b))\n",
    "print(b.index(max(b))+1)"
   ]
  },
  {
   "cell_type": "code",
   "execution_count": 9,
   "metadata": {},
   "outputs": [
    {
     "name": "stdout",
     "output_type": "stream",
     "text": [
      "10\n",
      "1\n"
     ]
    }
   ],
   "source": [
    "# 8958(★★★★)\n",
    "n = int(input())\n",
    "\n",
    "for i in range(n):\n",
    "    ox = list(input())\n",
    "    sum_ = 0\n",
    "    score = 0\n",
    "\n",
    "    for j in ox:\n",
    "        if j == 'O':\n",
    "            score += 1\n",
    "            sum_ += score\n",
    "        else :\n",
    "            score = 0\n",
    "    print(sum_)"
   ]
  },
  {
   "cell_type": "code",
   "execution_count": null,
   "metadata": {},
   "outputs": [],
   "source": [
    "h, m, s = map(int,input().split())\n",
    "p = int(input())\n",
    "\n",
    "start = h * 3600 + m * 60 +  # 시작 시각을 초로 변환\n",
    "end = start + p # 변환한 시작 시각 + 경과시간\n",
    "temp_m = end // 60   # 초를 60으로 나누면 몫 = 분\n",
    "end_s = end % 60     # 초를 60으로 나눈 나머지 = 남은 초\n",
    "end_m = temp_m % 60  # 분을 60으로 나눈 나머지 = 남은 분\n",
    "end_h = temp_m // 60 # 분을 60으로 나누면 몫 = 시간\n",
    "print(end_h, end_m, end_s)"
   ]
  },
  {
   "cell_type": "code",
   "execution_count": 3,
   "metadata": {},
   "outputs": [
    {
     "name": "stdout",
     "output_type": "stream",
     "text": [
      "19 21 0\n"
     ]
    }
   ],
   "source": [
    "h, m, s = 17, 40, 45\n",
    "p = 6015\n",
    "\n",
    "start = 17 * 3600 + 40 * 60 + 45 # 시작 시각을 초로 변환\n",
    "end = start + p # 변환한 시작 시각 + 경과시간\n",
    "temp_m = end // 60   # 초를 60으로 나누면 몫 = 분\n",
    "end_s = end % 60     # 초를 60으로 나눈 나머지 = 남은 초\n",
    "end_m = temp_m % 60  # 분을 60으로 나눈 나머지 = 남은 분\n",
    "end_h = temp_m // 60 # 분을 60으로 나누면 몫 = 시간\n",
    "print(end_h, end_m, end_s)\n"
   ]
  },
  {
   "cell_type": "code",
   "execution_count": 2,
   "metadata": {},
   "outputs": [
    {
     "ename": "ValueError",
     "evalue": "Invalid format string",
     "output_type": "error",
     "traceback": [
      "\u001b[1;31m---------------------------------------------------------------------------\u001b[0m",
      "\u001b[1;31mValueError\u001b[0m                                Traceback (most recent call last)",
      "\u001b[1;32m~\\AppData\\Local\\Temp/ipykernel_35464/509874517.py\u001b[0m in \u001b[0;36m<module>\u001b[1;34m\u001b[0m\n\u001b[0;32m      7\u001b[0m \u001b[1;33m\u001b[0m\u001b[0m\n\u001b[0;32m      8\u001b[0m \u001b[0mend\u001b[0m \u001b[1;33m=\u001b[0m \u001b[0mstart\u001b[0m \u001b[1;33m+\u001b[0m \u001b[0mdatetime\u001b[0m\u001b[1;33m.\u001b[0m\u001b[0mtimedelta\u001b[0m\u001b[1;33m(\u001b[0m\u001b[0mseconds\u001b[0m \u001b[1;33m=\u001b[0m \u001b[0ma\u001b[0m\u001b[1;33m)\u001b[0m\u001b[1;33m\u001b[0m\u001b[1;33m\u001b[0m\u001b[0m\n\u001b[1;32m----> 9\u001b[1;33m \u001b[0mprint\u001b[0m\u001b[1;33m(\u001b[0m\u001b[0mend\u001b[0m\u001b[1;33m.\u001b[0m\u001b[0mstrftime\u001b[0m\u001b[1;33m(\u001b[0m\u001b[1;34m\"%-H %-M %-S\"\u001b[0m\u001b[1;33m)\u001b[0m\u001b[1;33m)\u001b[0m\u001b[1;33m\u001b[0m\u001b[1;33m\u001b[0m\u001b[0m\n\u001b[0m",
      "\u001b[1;31mValueError\u001b[0m: Invalid format string"
     ]
    }
   ],
   "source": [
    "import datetime\n",
    "\n",
    "h,m,s = map(int,input().split())\n",
    "a = int(input())\n",
    "\n",
    "start = datetime.datetime(100, 1, 1, h, m, s)\n",
    "\n",
    "end = start + datetime.timedelta(seconds = a)\n",
    "print(end.strftime(\"%-H %-M %-S\"))"
   ]
  }
 ],
 "metadata": {
  "kernelspec": {
   "display_name": "Python 3.9.7 ('base')",
   "language": "python",
   "name": "python3"
  },
  "language_info": {
   "codemirror_mode": {
    "name": "ipython",
    "version": 3
   },
   "file_extension": ".py",
   "mimetype": "text/x-python",
   "name": "python",
   "nbconvert_exporter": "python",
   "pygments_lexer": "ipython3",
   "version": "3.9.7"
  },
  "orig_nbformat": 4,
  "vscode": {
   "interpreter": {
    "hash": "b34b863c255992f18be4e3271ad309d6f472a641574d2a36abb232a0d7577314"
   }
  }
 },
 "nbformat": 4,
 "nbformat_minor": 2
}
