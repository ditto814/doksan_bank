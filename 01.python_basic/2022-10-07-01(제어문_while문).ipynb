{
 "cells": [
  {
   "cell_type": "markdown",
   "metadata": {},
   "source": [
    "# << 제어문 >>\n",
    "## 2-1. while 반복문(+조건문)\n",
    "주어진 조건을 판단하여 조건이 참일 동안 특정한 명령문을 반복적으로 수행하는 것 <br>\n",
    "기본 문법 <br>\n",
    "        while 조건문: <br>\n",
    "            반복적으로 수행할 문장1<br>\n",
    "            반복적으로 수행할 문장2<br>\n",
    "            ...<br>\n",
    "            \n",
    "주의해야할 문법 : <br>\n",
    "- 조건문 뒤에 반드시 콜론(:)을 써야 한다.\n",
    "- 조건문이 있는 문장 하위에 속하는 실행문장들은 반드시 한 번 들여쓰기 되어야 한다. ( 자동 / tab / space 4번)\n",
    "- 무한반복문에 대한 이해와 관련된 키워드(break, continue 등)를 활용할 수 있어야 한다.\n",
    ":앞쪽_화살표: 무한반복문 : 조건문이 무조건 참인 경우, while 반복문은 무한히 반복된다.\n",
    "- break 키워드 : 특정 조건을 만족할 경우 제어문을 빠져나가 반복을 종료한다.\n",
    "- continue : 특정 조건을 만족할 경우 반복문을 종료하는 것이 아니라 반복문의 시작으로 돌아간다. (참고) pass"
   ]
  },
  {
   "cell_type": "code",
   "execution_count": 1,
   "metadata": {},
   "outputs": [
    {
     "name": "stdout",
     "output_type": "stream",
     "text": [
      "Hello Wrold\n",
      "Hello Wrold\n",
      "Hello Wrold\n"
     ]
    }
   ],
   "source": [
    "# Hello world 3번 출력\n",
    "loop = 0\n",
    "\n",
    "while loop <= 2:\n",
    "    #loop = loop +1\n",
    "    loop += 1\n",
    "    print('Hello Wrold')"
   ]
  },
  {
   "cell_type": "code",
   "execution_count": 2,
   "metadata": {},
   "outputs": [
    {
     "name": "stdout",
     "output_type": "stream",
     "text": [
      "무한루프 1\n",
      "무한루프 2\n",
      "무한루프 3\n"
     ]
    }
   ],
   "source": [
    "# while문의 조건식이 무조건 참으로만 판단되는 겨웅 무한루프가 됩니다.\n",
    "# 이 경우는 보통 break문을 사용하여 종료시킵니다.\n",
    "\n",
    "a = 1\n",
    "while True: # while블록(5줄)\n",
    "    print('무한루프', a)\n",
    "    if a > 2: # if블록(2줄)\n",
    "        break\n",
    "    a += 1"
   ]
  },
  {
   "cell_type": "code",
   "execution_count": 3,
   "metadata": {},
   "outputs": [],
   "source": [
    "# 파이썬 기초 및 변수 등 설명 동영상\n",
    "# https://youtu.be/mo1BtZYrtkA\n",
    "# 자료형, 조건문 등 설명 동영상\n",
    "# https://youtu.be/B4CZ9pdGCr8\n",
    "# 깃/깃허브 설치 및 가이드\n",
    "# https://youtu.be/CGtxQymjLoE\n",
    "# https://youtu.be/rcbQhKAbXRg\n",
    "# https://youtu.be/PSvnlDD9ogY"
   ]
  },
  {
   "cell_type": "code",
   "execution_count": 4,
   "metadata": {},
   "outputs": [
    {
     "name": "stdout",
     "output_type": "stream",
     "text": [
      "3\n",
      "5\n",
      "7\n",
      "9\n"
     ]
    }
   ],
   "source": [
    "# 돌던 바퀴만 스킵하고\n",
    "# 전체 반복문 실행은 유지하고싶다면 continue 사용합니다.\n",
    "# 2로 떨어지는 컨티뉴 때문에 2의 배수는 와일문을 다시돌고 2의 배수가 아닌 수만 프린트됩니다.\n",
    "\n",
    "a = 1\n",
    "while a <10:\n",
    "    a += 1\n",
    "    if a % 2 == 0:\n",
    "        continue # While문으로 다시 돌아감\n",
    "    print(a)\n"
   ]
  },
  {
   "cell_type": "markdown",
   "metadata": {},
   "source": [
    "#### 연습문제\n",
    "\n",
    "- 초기식에는 score변수에 100 저장, 이후 while문에서 score가 60점 이상인 경우에\n",
    "  다시 score 새 점수를 받고, 입력받은 점수들은 리스트 자료형인 score_list에 저장\n"
   ]
  },
  {
   "cell_type": "code",
   "execution_count": 5,
   "metadata": {},
   "outputs": [
    {
     "name": "stdout",
     "output_type": "stream",
     "text": [
      "점수를 입력해주세요 : 95점\n",
      "점수를 입력해주세요 : 93점\n",
      "점수를 입력해주세요 : 91점\n",
      "점수를 입력해주세요 : 78점\n",
      "점수를 입력해주세요 : 60점\n",
      "점수를 입력해주세요 : 54점\n",
      "[95, 93, 91, 78, 60, 54]\n"
     ]
    }
   ],
   "source": [
    "# break 안쓰는 예제\n",
    "# 점수를 100점 주는 이유는 첫 실행시 60이상의 값을 받아야 \n",
    "# 다음 구문이 실행되기 때문에 처음 100을 줬습니다.\n",
    "# python 에는 Do - while 문이 없기 때문입니다.\n",
    "\n",
    "score = 100\n",
    "score_list = list()\n",
    "\n",
    "# 60점이상인 경우 재실행하기\n",
    "while score >= 60:\n",
    "    # 점수 재입력 받기\n",
    "    score = int(input('점수를 입력해주세요.'))\n",
    "    # 입력받은 점수를 리스트에 추가\n",
    "    score_list.append(score)\n",
    "\n",
    "    print(f'점수를 입력해주세요 : {score}점')\n",
    "\n",
    "# 탈출한 후에 (들여쓰기 X) 점수 내림차순 정렬\n",
    "score_list.sort(reverse = True)\n",
    "print(score_list)"
   ]
  },
  {
   "cell_type": "code",
   "execution_count": 6,
   "metadata": {},
   "outputs": [
    {
     "name": "stdout",
     "output_type": "stream",
     "text": [
      "점수를 입력해주세요 : 98점\n",
      "점수를 입력해주세요 : 99점\n",
      "점수를 입력해주세요 : 100점\n",
      "점수를 입력해주세요 : 76점\n",
      "점수를 입력해주세요 : 88점\n",
      "[100, 99, 98, 88, 76, 54]\n"
     ]
    }
   ],
   "source": [
    "# 내가 푼 예제\n",
    "score = 100\n",
    "score_list = []\n",
    "\n",
    "while score >= 60 :\n",
    "    score = int(input())\n",
    "    score_list.append(score)\n",
    "    \n",
    "    if score < 60 :\n",
    "        break\n",
    "\n",
    "    print(f'점수를 입력해주세요 : {score}점')\n",
    "\n",
    "score_list.sort(reverse=True)\n",
    "print(score_list)\n",
    "\n",
    "# .sort() 찍으면 안나오거나 None나오는 이유\n",
    "# None이 리턴되는 것들은 즉시적용되는 함수 -> append 등\n",
    "# 그대로 리턴되는 것들은 시뮬레이션 함수 -> split 등\n",
    "# return 구문유무(리턴값을 반환하는 함수냐 아니냐)"
   ]
  },
  {
   "cell_type": "code",
   "execution_count": null,
   "metadata": {},
   "outputs": [],
   "source": []
  },
  {
   "cell_type": "code",
   "execution_count": null,
   "metadata": {},
   "outputs": [],
   "source": []
  },
  {
   "cell_type": "code",
   "execution_count": null,
   "metadata": {},
   "outputs": [],
   "source": []
  },
  {
   "cell_type": "code",
   "execution_count": null,
   "metadata": {},
   "outputs": [],
   "source": []
  },
  {
   "cell_type": "code",
   "execution_count": null,
   "metadata": {},
   "outputs": [],
   "source": []
  },
  {
   "cell_type": "code",
   "execution_count": null,
   "metadata": {},
   "outputs": [],
   "source": []
  },
  {
   "cell_type": "code",
   "execution_count": null,
   "metadata": {},
   "outputs": [],
   "source": []
  },
  {
   "cell_type": "code",
   "execution_count": null,
   "metadata": {},
   "outputs": [],
   "source": []
  },
  {
   "cell_type": "code",
   "execution_count": null,
   "metadata": {},
   "outputs": [],
   "source": []
  },
  {
   "cell_type": "code",
   "execution_count": null,
   "metadata": {},
   "outputs": [],
   "source": []
  },
  {
   "cell_type": "code",
   "execution_count": null,
   "metadata": {},
   "outputs": [],
   "source": []
  },
  {
   "cell_type": "code",
   "execution_count": null,
   "metadata": {},
   "outputs": [],
   "source": []
  },
  {
   "cell_type": "code",
   "execution_count": null,
   "metadata": {},
   "outputs": [],
   "source": []
  },
  {
   "cell_type": "code",
   "execution_count": null,
   "metadata": {},
   "outputs": [],
   "source": []
  },
  {
   "cell_type": "code",
   "execution_count": null,
   "metadata": {},
   "outputs": [],
   "source": []
  },
  {
   "cell_type": "code",
   "execution_count": null,
   "metadata": {},
   "outputs": [],
   "source": []
  },
  {
   "cell_type": "code",
   "execution_count": null,
   "metadata": {},
   "outputs": [],
   "source": []
  },
  {
   "cell_type": "code",
   "execution_count": null,
   "metadata": {},
   "outputs": [],
   "source": []
  },
  {
   "cell_type": "code",
   "execution_count": null,
   "metadata": {},
   "outputs": [],
   "source": []
  },
  {
   "cell_type": "code",
   "execution_count": null,
   "metadata": {},
   "outputs": [],
   "source": []
  },
  {
   "cell_type": "code",
   "execution_count": null,
   "metadata": {},
   "outputs": [],
   "source": []
  },
  {
   "cell_type": "code",
   "execution_count": null,
   "metadata": {},
   "outputs": [],
   "source": []
  }
 ],
 "metadata": {
  "kernelspec": {
   "display_name": "Python 3.9.7 ('base')",
   "language": "python",
   "name": "python3"
  },
  "language_info": {
   "codemirror_mode": {
    "name": "ipython",
    "version": 3
   },
   "file_extension": ".py",
   "mimetype": "text/x-python",
   "name": "python",
   "nbconvert_exporter": "python",
   "pygments_lexer": "ipython3",
   "version": "3.9.7"
  },
  "orig_nbformat": 4,
  "vscode": {
   "interpreter": {
    "hash": "b34b863c255992f18be4e3271ad309d6f472a641574d2a36abb232a0d7577314"
   }
  }
 },
 "nbformat": 4,
 "nbformat_minor": 2
}
