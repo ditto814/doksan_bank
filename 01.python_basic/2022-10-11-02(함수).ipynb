{
 "cells": [
  {
   "cell_type": "markdown",
   "metadata": {},
   "source": [
    "# << 함수 >>\n",
    "반복적으로 사용하는 기능을 묶어서 함수로 정의하면 간편하게 사용할 수 있다.<br>\n",
    "▶: 기본 문법<br>        \n",
    "         def 함수이름(매개변수) :<br>\n",
    "             <수행할 내용1> <br>\n",
    "             <수행할 내용2> <br>\n",
    "             <수행할 내용3> <br>\n",
    "             return <br>\n",
    "▶: 매개변수 <br>\n",
    "        - 함수 안에서 사용할 값을 전달하는 변수로 <수행할 내용> 문장에서 변수로 사용된다. <br>\n",
    "        - 함수 정의문에서는 매개변수로서 선언되며 실제로 함수를 호출할 때는 인자값으로 전달된다. <br>\n",
    "▶: 용어 <br>\n",
    "        - def : 함수를 정의할 때 사용하는 키워드 <br>\n",
    "        - return : 함수의 결과값을 반환하는 키워드 <br>\n",
    "        - 입력값 = 인수, 입력 인수, 인자 <br>\n",
    "        - 결과값 = 출력값, 리턴값, 돌려주는 값, 반환 값 <br>"
   ]
  },
  {
   "cell_type": "code",
   "execution_count": 4,
   "metadata": {},
   "outputs": [
    {
     "name": "stdout",
     "output_type": "stream",
     "text": [
      "팔을 얼굴 앞으로\n",
      "관절을 역으로 꺾고\n",
      "디귿자 모양으로 만듭니다.\n"
     ]
    }
   ],
   "source": [
    "# 기본적인 함수의 예제(완전한 실행문)\n",
    "\n",
    "def 디귿춤():\n",
    "    print('팔을 얼굴 앞으로')\n",
    "    print('관절을 역으로 꺾고')\n",
    "    print('디귿자 모양으로 만듭니다.')\n",
    "\n",
    "디귿춤()"
   ]
  },
  {
   "cell_type": "code",
   "execution_count": null,
   "metadata": {},
   "outputs": [],
   "source": [
    "# 디귿춤이 힙에 저장\n",
    "# 스택에 디귿춤 지역이 생성\n",
    "# 다만, 여기에는 지역에 별다른 입력값없음\n",
    "# 디귿춤 실행\n",
    "# 실행되고나서 디귿춤 지역 메모리에서 삭제됩니다."
   ]
  },
  {
   "cell_type": "code",
   "execution_count": 12,
   "metadata": {},
   "outputs": [],
   "source": [
    "# 기본적인 함수의 예제(불완전 실행문)\n",
    "# a가 얼마인지 몰라서 함수를 실행해도 에러를 출력함\n",
    "# plus(), plus(a) 에러 출력\n",
    "\n",
    "def plus_one(a):\n",
    "    print(a + 1)"
   ]
  },
  {
   "cell_type": "code",
   "execution_count": 13,
   "metadata": {},
   "outputs": [
    {
     "name": "stdout",
     "output_type": "stream",
     "text": [
      "11\n"
     ]
    }
   ],
   "source": [
    "# 추가적 정보를 입력해야 실행 가능한 함수를 불완전 실행문이라고 합니다.\n",
    "# a자리에 10를입력하면 실행됩니다.\n"
   ]
  },
  {
   "cell_type": "code",
   "execution_count": 14,
   "metadata": {},
   "outputs": [
    {
     "name": "stdout",
     "output_type": "stream",
     "text": [
      "6\n",
      "함수 끝나면 실행\n",
      "20\n",
      "함수 2번째\n"
     ]
    }
   ],
   "source": [
    "# 기본적인 함수의 예제(불완전한 실행문)\n",
    "def plus(a):\n",
    "    print(a + 1)\n",
    "plus(5)\n",
    "print(\"함수 끝나면 실행\")\n",
    "plus(19)\n",
    "print(\"함수 2번째\")"
   ]
  },
  {
   "cell_type": "code",
   "execution_count": null,
   "metadata": {},
   "outputs": [],
   "source": [
    "# 함수도 기본적으로 자료형입니다(정수, 실수처럼 다만 실행문이 들어갑니다.)\n",
    "\n",
    "# 1. plus 함수정의 및 코드 저장(실행X)\n",
    "# 2. 현재 본 함수는 클래스가없어서 스택지역에서 참조됨\n",
    "# 3. plus지역이 a = 5값과 같이 스택에 생성\n",
    "# 4. print(a+1)실행\n",
    "# 5.(6)을 결과값으로 출력\n",
    "# 6. plus지역이 스택에서 사라짐\n",
    "# 7. \"함수 끝나면 실행\"이 출력\n",
    "# 8. 다시 함수가 호출됨\n",
    "# 9. plus 지역이 또, a = 19값과 같이 스택에 생성\n",
    "# 10. 함수의 print(a+1) 실행\n",
    "# 11. (20)을 결과 값으로 출력\n",
    "# 12. plus지역이 스택에서 또 사라짐\n",
    "# 13. \"함수 2번째\" 출력"
   ]
  },
  {
   "cell_type": "code",
   "execution_count": 15,
   "metadata": {},
   "outputs": [
    {
     "ename": "NameError",
     "evalue": "name 'a' is not defined",
     "output_type": "error",
     "traceback": [
      "\u001b[1;31m---------------------------------------------------------------------------\u001b[0m",
      "\u001b[1;31mNameError\u001b[0m                                 Traceback (most recent call last)",
      "\u001b[1;32m~\\AppData\\Local\\Temp/ipykernel_39964/1189138062.py\u001b[0m in \u001b[0;36m<module>\u001b[1;34m\u001b[0m\n\u001b[1;32m----> 1\u001b[1;33m \u001b[0mprint\u001b[0m\u001b[1;33m(\u001b[0m\u001b[0ma\u001b[0m\u001b[1;33m)\u001b[0m\u001b[1;33m\u001b[0m\u001b[1;33m\u001b[0m\u001b[0m\n\u001b[0m",
      "\u001b[1;31mNameError\u001b[0m: name 'a' is not defined"
     ]
    }
   ],
   "source": [
    "print(a)\n",
    "# 에러출력 a뿐만 아니라 a가 속해있던 plus지역도 같이 날아가서 볼 수 없습니다.\n",
    "# 함수 내부에 선언된 변수는 함수 외부에서 호출할 수 없습니다.\n",
    "# 함수나 기타 블록 내부에 선언된 변수를 '지역변수' 라고 부릅니다.\n",
    "# 지역화폐가 해당 지역에서만 통용되듯, 지역변수도 다른 지역에서 호출할 수 없습니다."
   ]
  },
  {
   "cell_type": "code",
   "execution_count": null,
   "metadata": {},
   "outputs": [],
   "source": []
  },
  {
   "cell_type": "code",
   "execution_count": null,
   "metadata": {},
   "outputs": [],
   "source": []
  },
  {
   "cell_type": "code",
   "execution_count": null,
   "metadata": {},
   "outputs": [],
   "source": []
  },
  {
   "cell_type": "code",
   "execution_count": null,
   "metadata": {},
   "outputs": [],
   "source": []
  },
  {
   "cell_type": "code",
   "execution_count": null,
   "metadata": {},
   "outputs": [],
   "source": []
  }
 ],
 "metadata": {
  "kernelspec": {
   "display_name": "Python 3.9.7 ('base')",
   "language": "python",
   "name": "python3"
  },
  "language_info": {
   "codemirror_mode": {
    "name": "ipython",
    "version": 3
   },
   "file_extension": ".py",
   "mimetype": "text/x-python",
   "name": "python",
   "nbconvert_exporter": "python",
   "pygments_lexer": "ipython3",
   "version": "3.9.7"
  },
  "orig_nbformat": 4,
  "vscode": {
   "interpreter": {
    "hash": "b34b863c255992f18be4e3271ad309d6f472a641574d2a36abb232a0d7577314"
   }
  }
 },
 "nbformat": 4,
 "nbformat_minor": 2
}
