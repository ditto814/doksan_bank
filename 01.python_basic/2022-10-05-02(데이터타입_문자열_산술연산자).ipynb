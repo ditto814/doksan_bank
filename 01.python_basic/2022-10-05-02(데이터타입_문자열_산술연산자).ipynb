{
 "cells": [
  {
   "cell_type": "markdown",
   "metadata": {},
   "source": [
    "### > 연산하기\n",
    "#### 1) 산술연산자 : 문자, 숫자를 할께 연산하기 위한 문법 기호\n",
    "- 문자와 문자를 연결\n",
    "- 동일한 문자를 반복해서 연결"
   ]
  },
  {
   "cell_type": "code",
   "execution_count": 1,
   "metadata": {},
   "outputs": [
    {
     "data": {
      "text/plain": [
       "'대한민국'"
      ]
     },
     "execution_count": 1,
     "metadata": {},
     "output_type": "execute_result"
    }
   ],
   "source": [
    "# 문자와 문자를 연결 : +\n",
    "\"대한\" + \"민국\""
   ]
  },
  {
   "cell_type": "code",
   "execution_count": 2,
   "metadata": {},
   "outputs": [
    {
     "data": {
      "text/plain": [
       "'대 한 민 국'"
      ]
     },
     "execution_count": 2,
     "metadata": {},
     "output_type": "execute_result"
    }
   ],
   "source": [
    "# 1. 문자열 자체에 공백 추가하기('가 나' 로 출력되게 만들기)\n",
    "'대' + ' ' + '한' + ' ' + '민' + ' ' + '국'"
   ]
  },
  {
   "cell_type": "code",
   "execution_count": 3,
   "metadata": {},
   "outputs": [],
   "source": [
    "# 파이썬의 더하기는 양변 자료가 같거나 논리적으로 비슷하다고 인정되어야 함\n",
    "# 2.. 문자 + 숫자 = Error\n",
    "# '가' + 1"
   ]
  },
  {
   "cell_type": "code",
   "execution_count": 4,
   "metadata": {},
   "outputs": [
    {
     "data": {
      "text/plain": [
       "'갤럭시 S22'"
      ]
     },
     "execution_count": 4,
     "metadata": {},
     "output_type": "execute_result"
    }
   ],
   "source": [
    "'갤럭시 S' + '22'"
   ]
  },
  {
   "cell_type": "code",
   "execution_count": 5,
   "metadata": {},
   "outputs": [
    {
     "data": {
      "text/plain": [
       "'abcabcabc'"
      ]
     },
     "execution_count": 5,
     "metadata": {},
     "output_type": "execute_result"
    }
   ],
   "source": [
    "# 3. 문자를 여러 번 반복하기 : *\n",
    "# 동일한 문자열을 여러 번 반복 연결시켜줌\n",
    "'abc' * 3\n",
    "# 'abc' + 'abc' + 'abc'"
   ]
  }
 ],
 "metadata": {
  "kernelspec": {
   "display_name": "Python 3.9.7 ('base')",
   "language": "python",
   "name": "python3"
  },
  "language_info": {
   "codemirror_mode": {
    "name": "ipython",
    "version": 3
   },
   "file_extension": ".py",
   "mimetype": "text/x-python",
   "name": "python",
   "nbconvert_exporter": "python",
   "pygments_lexer": "ipython3",
   "version": "3.9.7"
  },
  "orig_nbformat": 4,
  "vscode": {
   "interpreter": {
    "hash": "b34b863c255992f18be4e3271ad309d6f472a641574d2a36abb232a0d7577314"
   }
  }
 },
 "nbformat": 4,
 "nbformat_minor": 2
}
