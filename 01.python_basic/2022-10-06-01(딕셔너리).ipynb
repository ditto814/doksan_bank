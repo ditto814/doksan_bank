{
 "cells": [
  {
   "cell_type": "markdown",
   "metadata": {},
   "source": [
    "# 3. 딕셔너리(Dictionary)\n",
    "- 문법 기호/함수 : {key1 : value1, key2 : value2, key3 : value3 ... } / 함수 : dict()<br>\n",
    "- key로 가질 수 있는 데이터 타입 : 문자, 숫자, 튜플(Tuple)<br>\n",
    "- value로 가질 수 있는 데이터 타입 : 문자, 숫자, 리스트(List), 딕셔너리(Dict) ...<br>\n",
    "- 아이템 = key&value 하나의 쌍<br>\n",
    "- 종류<br>\n",
    "     * 아이템이 없는 딕셔너리<br>\n",
    "     * 1차원 딕셔너리<br>\n",
    "     * 다차원 딕셔너리<br>\n",
    "-  특징<br>\n",
    "     * key, value의 차이점<br>\n",
    "     * 인덱스 번호를 가지지 않는다.<br>"
   ]
  },
  {
   "cell_type": "markdown",
   "metadata": {},
   "source": [
    "#### 1. 생성하기"
   ]
  },
  {
   "cell_type": "code",
   "execution_count": 1,
   "metadata": {},
   "outputs": [
    {
     "data": {
      "text/plain": [
       "dict"
      ]
     },
     "execution_count": 1,
     "metadata": {},
     "output_type": "execute_result"
    }
   ],
   "source": [
    "# 딕셔너리 생성하기\n",
    "# 문법기호 : {k1:v1, k2:v2......kn:vn}\n",
    "d1 = {1:10, 2:20, 3:30}\n",
    "type(d1)"
   ]
  },
  {
   "cell_type": "code",
   "execution_count": 2,
   "metadata": {},
   "outputs": [
    {
     "data": {
      "text/plain": [
       "dict"
      ]
     },
     "execution_count": 2,
     "metadata": {},
     "output_type": "execute_result"
    }
   ],
   "source": [
    "# dict()를 이용해서 딕셔너리를 저장할 수 있습니다.\n",
    "# d2 = {} or d2 = dict()\n",
    "# 빈 dict 생성\n",
    "\n",
    "d2 = dict()\n",
    "type(d2)"
   ]
  },
  {
   "cell_type": "code",
   "execution_count": 3,
   "metadata": {},
   "outputs": [
    {
     "data": {
      "text/plain": [
       "list"
      ]
     },
     "execution_count": 3,
     "metadata": {},
     "output_type": "execute_result"
    }
   ],
   "source": [
    "# 2차원 자료를 이용해 딕셔너리로 변환 가능\n",
    "x = [['a','b'],\n",
    "    ['a1','b1'],\n",
    "    ['a2','b2']]\n",
    "\n",
    "type(x)"
   ]
  },
  {
   "cell_type": "code",
   "execution_count": 4,
   "metadata": {},
   "outputs": [
    {
     "data": {
      "text/plain": [
       "{'a': 'b', 'a1': 'b1', 'a2': 'b2'}"
      ]
     },
     "execution_count": 4,
     "metadata": {},
     "output_type": "execute_result"
    }
   ],
   "source": [
    "# 딕셔너리로 변환\n",
    "dict(x)"
   ]
  },
  {
   "cell_type": "code",
   "execution_count": 5,
   "metadata": {},
   "outputs": [
    {
     "data": {
      "text/plain": [
       "{1: [1, 2, 3], 2: {'a', 'b'}}"
      ]
     },
     "execution_count": 5,
     "metadata": {},
     "output_type": "execute_result"
    }
   ],
   "source": [
    "# 딕셔너리의 value값에 들어갈 수 있는 자료에는 제약이 없다\n",
    "# 이중 딕셔너리도 가능\n",
    "\n",
    "{1:[1,2,3], 2:{'a', 'b'}}"
   ]
  },
  {
   "cell_type": "code",
   "execution_count": 6,
   "metadata": {},
   "outputs": [
    {
     "data": {
      "text/plain": [
       "{'name': '행맨', 'name2': '루스터'}"
      ]
     },
     "execution_count": 6,
     "metadata": {},
     "output_type": "execute_result"
    }
   ],
   "source": [
    "# key와 value의 차이\n",
    "# key갑에는 중복된 자료가 들어갈수 없으며\n",
    "# 만약 선언단계에서 중복된 key로 선언기 가장 마지막 하나만 반영됩니다.\n",
    "{'name' : '매버릭', 'name' : '아이스맨', 'name2' : '루스터', 'name' : '행맨'}\n",
    "# 중복된 키값 name 때문에 키값이 곂친 맨 나중 값 행맨만 나옵니다.\n",
    "# 반면 키값이 곂치지 않은 루스터는 그대로 출력됩니다."
   ]
  },
  {
   "cell_type": "markdown",
   "metadata": {},
   "source": [
    "### 2.인덱싱\n",
    "- 인덱싱 문법 기호\n",
    "- 일차원 VS 다차원 인덱싱\n",
    "- 딕셔너리 내장함수로 인덱싱"
   ]
  },
  {
   "cell_type": "code",
   "execution_count": 7,
   "metadata": {},
   "outputs": [
    {
     "data": {
      "text/plain": [
       "1"
      ]
     },
     "execution_count": 7,
     "metadata": {},
     "output_type": "execute_result"
    }
   ],
   "source": [
    "# 기초의 인덱싱 방법 : 객체[인덱싱 번호]\n",
    "\n",
    "a = [1,2,3]\n",
    "a[0]"
   ]
  },
  {
   "cell_type": "code",
   "execution_count": 8,
   "metadata": {},
   "outputs": [
    {
     "data": {
      "text/plain": [
       "30"
      ]
     },
     "execution_count": 8,
     "metadata": {},
     "output_type": "execute_result"
    }
   ],
   "source": [
    "# 문자, 리스트타입 인덱싱과의 차이점 : 기준값이 인덱스 번호가 아닌 key값을 사용\n",
    "d1 = {'a':10, 'b':20, 'c':30}\n",
    "\n",
    "# d1[0] <- 이렇게 호출할 수 없습니다. 딕셔너리 요소를 호출하려면 키값을 써야합니다.\n",
    "d1['c']"
   ]
  },
  {
   "cell_type": "code",
   "execution_count": 9,
   "metadata": {},
   "outputs": [
    {
     "name": "stdout",
     "output_type": "stream",
     "text": [
      "30\n",
      "None\n"
     ]
    }
   ],
   "source": [
    "# 내장함수 .get()을 사용하면 없는 키값으로 조회해도 에러는 나지 않습니다.\n",
    "# 결과값을 아무것도 내지 않을뿐 프로그램 에러로 멈추지는 않습니다.\n",
    "\n",
    "print(d1.get('c')) # -> 있는 키값으로 접근\n",
    "print(d1.get('dd')) # -> 없는 키값으로 접근"
   ]
  },
  {
   "cell_type": "code",
   "execution_count": 10,
   "metadata": {},
   "outputs": [],
   "source": [
    "# 딕셔너리는 슬라이싱이 불가능합니다.\n",
    "# d1['a' : 'c'] -> unhashable type: 'slice'"
   ]
  },
  {
   "cell_type": "markdown",
   "metadata": {},
   "source": [
    "#### << 연습문제 >>\n",
    "아래와 같은 다차원 딕셔너리를 만들고 제시한 값을 출력해보세요.\n",
    "    {'a' : [1, 2, 3], 'b' : 100, 'c' : {'key1' : ['파인애플', '포도', '바나나'], 'key2' : (55, 66)}}\n",
    "* 1) 3 출력하기\n",
    "* 2) ['파인애플', '포도', '바나나']\n",
    "* 3) 포도 출력하기\n",
    "* 4) 55 출력하기\n",
    "4:31\n",
    "d1= {'a' : [1, 2, 3],\n",
    "     'b' : 100,\n",
    "     'c' : {'key1' : ['파인애플', '포도', '바나나'],\n",
    "            'key2' : (55, 66)}}"
   ]
  },
  {
   "cell_type": "code",
   "execution_count": 11,
   "metadata": {},
   "outputs": [],
   "source": [
    "d1 = {'a' : [1,2,3],\n",
    "     'b' : 100,\n",
    "     'c' : {'key1' : ['파인애플', '포도', '바나나'],\n",
    "            'key2' : (55,66)}}"
   ]
  },
  {
   "cell_type": "code",
   "execution_count": 12,
   "metadata": {},
   "outputs": [
    {
     "name": "stdout",
     "output_type": "stream",
     "text": [
      "{'a': [1, 2, 3], 'b': 100, 'c': {'key1': ['파인애플', '포도', '바나나'], 'key2': (55, 66)}}\n"
     ]
    }
   ],
   "source": [
    "print(d1)"
   ]
  },
  {
   "cell_type": "code",
   "execution_count": 13,
   "metadata": {},
   "outputs": [
    {
     "name": "stdout",
     "output_type": "stream",
     "text": [
      "3\n"
     ]
    }
   ],
   "source": [
    "print(d1['a'][2])"
   ]
  },
  {
   "cell_type": "code",
   "execution_count": 14,
   "metadata": {},
   "outputs": [
    {
     "name": "stdout",
     "output_type": "stream",
     "text": [
      "['파인애플', '포도', '바나나']\n"
     ]
    }
   ],
   "source": [
    "print(d1['c']['key1'])"
   ]
  },
  {
   "cell_type": "code",
   "execution_count": 15,
   "metadata": {},
   "outputs": [
    {
     "name": "stdout",
     "output_type": "stream",
     "text": [
      "포도\n"
     ]
    }
   ],
   "source": [
    "print(d1['c']['key1'][1])"
   ]
  },
  {
   "cell_type": "code",
   "execution_count": 16,
   "metadata": {},
   "outputs": [
    {
     "name": "stdout",
     "output_type": "stream",
     "text": [
      "55\n"
     ]
    }
   ],
   "source": [
    "print(d1['c']['key2'][0])"
   ]
  },
  {
   "cell_type": "markdown",
   "metadata": {},
   "source": [
    "#### 3. 아이템 추가하기\n",
    "- 인덱싱 방식으로 새로운 아이템 추가\n",
    "- 메소드 : update()"
   ]
  },
  {
   "cell_type": "code",
   "execution_count": 17,
   "metadata": {},
   "outputs": [],
   "source": [
    "d1 = {'a' : 1, 'b' : 2, 'c' : 3}"
   ]
  },
  {
   "cell_type": "code",
   "execution_count": 18,
   "metadata": {},
   "outputs": [
    {
     "name": "stdout",
     "output_type": "stream",
     "text": [
      "{'a': 1, 'b': 2, 'c': 3, 'd': 4}\n"
     ]
    }
   ],
   "source": [
    "# 새로운 key값(인덱싱)에 value값을 하당하여 아이템 추가\n",
    "# 없는 키값을 적고 값을 대입해주면 추가됩니다.\n",
    "d1['d'] = 4\n",
    "print(d1)"
   ]
  },
  {
   "cell_type": "code",
   "execution_count": 19,
   "metadata": {},
   "outputs": [
    {
     "name": "stdout",
     "output_type": "stream",
     "text": [
      "{'a': 8, 'b': 2, 'c': 3, 'd': 4}\n"
     ]
    }
   ],
   "source": [
    "# 기존에 존재하는 키값에 대해 값을 할당하면 값이 갱신됩니다.\n",
    "# 리스트에 비해 번호가없어서 추가, 업데이트 가 자유롭습니다.\n",
    "d1['a'] = 8\n",
    "print(d1)"
   ]
  },
  {
   "cell_type": "code",
   "execution_count": 20,
   "metadata": {},
   "outputs": [
    {
     "data": {
      "text/plain": [
       "{'a': 1, 'b': 2, 'c': 3, 'e': 10, 'z': 40, 'v': 100}"
      ]
     },
     "execution_count": 20,
     "metadata": {},
     "output_type": "execute_result"
    }
   ],
   "source": [
    "# 하나 이상의 아이템(key & value) 추가 / 수정 : 딕셔너리자료.update()\n",
    "# 추가할 아이템 타입 : 딕셔너리를 직접 기입해도 되고\n",
    "# 딕셔너리로 변환이 가능한 리스트를 기입해도 됩니다,\n",
    "# 'e' : 10, 'z' : 40, 'v' : 100\n",
    "d1 = {'a' : 1, 'b' : 2, 'c' : 3}\n",
    "d1 .update({'e' : 10, 'z' : 40, 'v' : 100})\n",
    "d1"
   ]
  },
  {
   "cell_type": "code",
   "execution_count": 21,
   "metadata": {},
   "outputs": [
    {
     "data": {
      "text/plain": [
       "{'a': 10, 'b': 10, 'c': 13, 'd': 4, 'e': 10, 'f': 10}"
      ]
     },
     "execution_count": 21,
     "metadata": {},
     "output_type": "execute_result"
    }
   ],
   "source": [
    "d2 = {'a' : 10, 'b' : 2, 'c' : 13, 'd' : 4}\n",
    "\n",
    "data = [['b' , 10],\n",
    "        ['e' , 10],\n",
    "        ['f' , 10]]\n",
    "\n",
    "d2.update(data)\n",
    "d2"
   ]
  },
  {
   "cell_type": "code",
   "execution_count": 22,
   "metadata": {},
   "outputs": [
    {
     "data": {
      "text/plain": [
       "{'b': 10, 'e': 10, 'f': 10}"
      ]
     },
     "execution_count": 22,
     "metadata": {},
     "output_type": "execute_result"
    }
   ],
   "source": [
    "# 딕셔너리로 변환되는 리스트 형식이기 때문에 가능합니다.\n",
    "# 리스트 -> 딕셔너리\n",
    "dict(data)"
   ]
  },
  {
   "cell_type": "code",
   "execution_count": 23,
   "metadata": {},
   "outputs": [
    {
     "data": {
      "text/plain": [
       "['a', 'b', 'c', 'd', 'e', 'f']"
      ]
     },
     "execution_count": 23,
     "metadata": {},
     "output_type": "execute_result"
    }
   ],
   "source": [
    "# 딕셔너리를 리스트로 전환하면 키값만 복원됩니다.\n",
    "# 딕셔너리 -> 리스트 (다만, 키값만 복원)\n",
    "list(d2)"
   ]
  },
  {
   "cell_type": "code",
   "execution_count": 24,
   "metadata": {},
   "outputs": [],
   "source": [
    "# key 로 value를 찾는건 가능하지만 value로 key를 찾는건 불가능합니다."
   ]
  },
  {
   "cell_type": "markdown",
   "metadata": {},
   "source": [
    "#### 4. 삭제하기\n",
    "- 하나의 아이템 삭제하기\n",
    "- 모든 아이템 삭제하기 : 빈 딕셔너리만 남습니다."
   ]
  },
  {
   "cell_type": "code",
   "execution_count": 25,
   "metadata": {},
   "outputs": [
    {
     "data": {
      "text/plain": [
       "{'a': 10, 'b': 10, 'c': 13, 'd': 4, 'e': 10, 'f': 10}"
      ]
     },
     "execution_count": 25,
     "metadata": {},
     "output_type": "execute_result"
    }
   ],
   "source": [
    "# 하나의 아이템 삭제하기 : del 키워드 + 딕셔너리 인덱싱\n",
    "# 단, .get()을 이용한 삭제는 불가능 합니다.\n",
    "d2"
   ]
  },
  {
   "cell_type": "code",
   "execution_count": 26,
   "metadata": {},
   "outputs": [
    {
     "data": {
      "text/plain": [
       "{'a': 10, 'b': 10, 'c': 13, 'e': 10, 'f': 10}"
      ]
     },
     "execution_count": 26,
     "metadata": {},
     "output_type": "execute_result"
    }
   ],
   "source": [
    "del d2['d'] # del. d2.get('d')는 동작하지 않으므로 주의해주세요\n",
    "d2"
   ]
  },
  {
   "cell_type": "code",
   "execution_count": 27,
   "metadata": {},
   "outputs": [],
   "source": [
    "# 딕셔너리 통째로 비우기 : 딕셔너리.clear()\n",
    "# del은 딕셔너리 자체를 삭제(저장소도 같이 사라짐)\n",
    "# 하지만 .clear()는 빈 딕셔너리 공간을 남김\n",
    "d2.clear()"
   ]
  },
  {
   "cell_type": "code",
   "execution_count": 28,
   "metadata": {},
   "outputs": [
    {
     "data": {
      "text/plain": [
       "{}"
      ]
     },
     "execution_count": 28,
     "metadata": {},
     "output_type": "execute_result"
    }
   ],
   "source": [
    "d2\n",
    "# d2의 내용은 다 비워지나 저장소는 삭제되지 않음"
   ]
  },
  {
   "cell_type": "code",
   "execution_count": 29,
   "metadata": {},
   "outputs": [
    {
     "data": {
      "text/plain": [
       "{'a': 1, 'b': 2, 'c': 3, 'e': 10, 'z': 40, 'v': 100}"
      ]
     },
     "execution_count": 29,
     "metadata": {},
     "output_type": "execute_result"
    }
   ],
   "source": [
    "d1"
   ]
  },
  {
   "cell_type": "code",
   "execution_count": 30,
   "metadata": {},
   "outputs": [],
   "source": [
    "del d1\n",
    "# d1\n",
    "# 주의 : del 키워드로 변수 삭제시 통째로 자료가 날아감(빈 딕셔너리도 없음)"
   ]
  },
  {
   "cell_type": "markdown",
   "metadata": {},
   "source": [
    "#### 5. 딕셔너리 내장함수 & 관련 연산자\n",
    "\n",
    "- 딕셔너리타입.keys() -> key만 보여주기\n",
    "- 딕셔너리타입.values() -> value만 보여주기\n",
    "- 딕셔너리타입.items() -> key, value 둘다 보여주기\n",
    "- in 연산자"
   ]
  },
  {
   "cell_type": "code",
   "execution_count": 31,
   "metadata": {},
   "outputs": [
    {
     "data": {
      "text/plain": [
       "dict_keys(['name', '도감번호', '나이', '체중'])"
      ]
     },
     "execution_count": 31,
     "metadata": {},
     "output_type": "execute_result"
    }
   ],
   "source": [
    "d3 = {'name' : '메타몽', '도감번호' : '132', '나이' : 6, '체중' :  '4.0kg'}\n",
    "d3.keys()"
   ]
  },
  {
   "cell_type": "code",
   "execution_count": 32,
   "metadata": {},
   "outputs": [
    {
     "data": {
      "text/plain": [
       "['name', '도감번호', '나이', '체중']"
      ]
     },
     "execution_count": 32,
     "metadata": {},
     "output_type": "execute_result"
    }
   ],
   "source": [
    "# 리스트로 교환 가능 (자료형변환, 캐스팅)\n",
    "list(d3.keys())\n",
    "# 단 리스트로 가져오면 키값만 가져옵니다."
   ]
  },
  {
   "cell_type": "code",
   "execution_count": 33,
   "metadata": {},
   "outputs": [
    {
     "data": {
      "text/plain": [
       "dict_values(['메타몽', '132', 6, '4.0kg'])"
      ]
     },
     "execution_count": 33,
     "metadata": {},
     "output_type": "execute_result"
    }
   ],
   "source": [
    "# 딕셔너리가 가지고있는 value만 리스트형식으로 면환 .values\n",
    "d3.values()"
   ]
  },
  {
   "cell_type": "code",
   "execution_count": 34,
   "metadata": {},
   "outputs": [
    {
     "data": {
      "text/plain": [
       "dict_items([('name', '메타몽'), ('도감번호', '132'), ('나이', 6), ('체중', '4.0kg')])"
      ]
     },
     "execution_count": 34,
     "metadata": {},
     "output_type": "execute_result"
    }
   ],
   "source": [
    "# 딕셔너리가 가진 아이템(키,값) 을 튜플로 묶어서 리스트 형식으로 반환\n",
    "#.items()\n",
    "d3.items()"
   ]
  },
  {
   "cell_type": "code",
   "execution_count": 35,
   "metadata": {},
   "outputs": [
    {
     "data": {
      "text/plain": [
       "[('name', '메타몽'), ('도감번호', '132'), ('나이', 6), ('체중', '4.0kg')]"
      ]
     },
     "execution_count": 35,
     "metadata": {},
     "output_type": "execute_result"
    }
   ],
   "source": [
    "list(d3.items())"
   ]
  },
  {
   "cell_type": "code",
   "execution_count": 36,
   "metadata": {},
   "outputs": [
    {
     "name": "stdout",
     "output_type": "stream",
     "text": [
      "True\n",
      "False\n"
     ]
    }
   ],
   "source": [
    "# in 키워드로 조회할 key값이 존재하는지 여부를 검사할 수 있습니다.\n",
    "print('name' in d3)\n",
    "\n",
    "# 우리눈에는 메타몽이 딕셔너리에 존재하는것 같지만\n",
    "# 딕셔너리는 키값 중심이라 values는 찾을 수 없음\n",
    "print('메타몽' in d3)\n"
   ]
  },
  {
   "cell_type": "markdown",
   "metadata": {},
   "source": [
    "##### << 연습문제 >>\n",
    "1. 아래와 같은 딕셔너리를 생성하고 해당 딕셔너리의 value 중 최소값을 구하여 형식에 맞게 출력하세요.\n",
    "    - 생성 딕셔너리 : {'A':9, 'B':80, 'C':70}\n",
    "    - 조건1. 생성한 딕셔너리에 \" 'D' : 20, 'E' : 100, 'F' : 10  \" 아이템 3개를 추가하세요.\n",
    "    - 조건2. key 'A'의 값을 9 에서 90 으로 변경하세요.\n",
    "    - 조건3. '최소 값 10을 가진 key는 F입니다.'로 포맷팅을 사용하여 출력하고 10을 포맷팅 값으로 사용하세요.\n",
    "    - 조건4. 최소 값은 딕셔너리에 속한 내장함수와 파이썬 내장함수를 모두 사용하여 구해보세요."
   ]
  },
  {
   "cell_type": "code",
   "execution_count": 37,
   "metadata": {},
   "outputs": [
    {
     "data": {
      "text/plain": [
       "{'A': 9, 'B': 80, 'C': 70}"
      ]
     },
     "execution_count": 37,
     "metadata": {},
     "output_type": "execute_result"
    }
   ],
   "source": [
    "dd1 = {'A' : 9, 'B' : 80, 'C' : 70}\n",
    "dd1"
   ]
  },
  {
   "cell_type": "code",
   "execution_count": 38,
   "metadata": {},
   "outputs": [
    {
     "data": {
      "text/plain": [
       "{'A': 9, 'B': 80, 'C': 70, 'D': 20}"
      ]
     },
     "execution_count": 38,
     "metadata": {},
     "output_type": "execute_result"
    }
   ],
   "source": [
    "dd1['D'] = 20\n",
    "dd1"
   ]
  },
  {
   "cell_type": "code",
   "execution_count": 39,
   "metadata": {},
   "outputs": [
    {
     "data": {
      "text/plain": [
       "{'A': 9, 'B': 80, 'C': 70, 'D': 20, 'E': 100, 'F': 10}"
      ]
     },
     "execution_count": 39,
     "metadata": {},
     "output_type": "execute_result"
    }
   ],
   "source": [
    "add = {'E' : 100, 'F':10}\n",
    "dd1.update(add)\n",
    "dd1"
   ]
  },
  {
   "cell_type": "code",
   "execution_count": 40,
   "metadata": {},
   "outputs": [
    {
     "data": {
      "text/plain": [
       "{'A': 90, 'B': 80, 'C': 70, 'D': 20, 'E': 100, 'F': 10}"
      ]
     },
     "execution_count": 40,
     "metadata": {},
     "output_type": "execute_result"
    }
   ],
   "source": [
    "dd1['A'] = 90\n",
    "dd1"
   ]
  },
  {
   "cell_type": "code",
   "execution_count": 41,
   "metadata": {},
   "outputs": [
    {
     "data": {
      "text/plain": [
       "'최소 값 10을 가진 key는 F입니다.'"
      ]
     },
     "execution_count": 41,
     "metadata": {},
     "output_type": "execute_result"
    }
   ],
   "source": [
    "'최소 값 %d을 가진 key는 %s입니다.' % (dd1['F'], 'F')"
   ]
  },
  {
   "cell_type": "code",
   "execution_count": 42,
   "metadata": {},
   "outputs": [
    {
     "data": {
      "text/plain": [
       "10"
      ]
     },
     "execution_count": 42,
     "metadata": {},
     "output_type": "execute_result"
    }
   ],
   "source": [
    "min(dd1.values())"
   ]
  }
 ],
 "metadata": {
  "kernelspec": {
   "display_name": "Python 3.9.7 ('base')",
   "language": "python",
   "name": "python3"
  },
  "language_info": {
   "codemirror_mode": {
    "name": "ipython",
    "version": 3
   },
   "file_extension": ".py",
   "mimetype": "text/x-python",
   "name": "python",
   "nbconvert_exporter": "python",
   "pygments_lexer": "ipython3",
   "version": "3.9.7"
  },
  "orig_nbformat": 4,
  "vscode": {
   "interpreter": {
    "hash": "b34b863c255992f18be4e3271ad309d6f472a641574d2a36abb232a0d7577314"
   }
  }
 },
 "nbformat": 4,
 "nbformat_minor": 2
}
