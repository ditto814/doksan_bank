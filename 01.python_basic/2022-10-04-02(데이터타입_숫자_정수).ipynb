{
 "cells": [
  {
   "cell_type": "markdown",
   "metadata": {},
   "source": [
    "# 데이터 타입\n",
    "## -> 숫자형\n",
    "- 종류\n",
    "    - 정수 : 0, 양수, 음수인 숫자  \n",
    "    - 실수 : 소숫점을 포함하는 숫자  \n",
    "    - 8진수 : (Oo 또는 OO(대문자o) 로 시작) : Oo34, Oo25  \n",
    "    - 16진수 : (Ox로시작) : Ox2A  \n",
    "    - 2진수 : (Ob로시작) : 0b10, 0b11  \n",
    "\n",
    "파이썬 -> 인터프리터  \n",
    "Java , C++ -> 컴파일러"
   ]
  },
  {
   "cell_type": "markdown",
   "metadata": {},
   "source": [
    "### 정수형"
   ]
  },
  {
   "cell_type": "code",
   "execution_count": 1,
   "metadata": {},
   "outputs": [],
   "source": [
    "# 양수, 음수, 0\n",
    "a = 10\n",
    "b = -15\n",
    "c = 0"
   ]
  },
  {
   "cell_type": "code",
   "execution_count": 2,
   "metadata": {},
   "outputs": [
    {
     "name": "stdout",
     "output_type": "stream",
     "text": [
      "10\n",
      "-15\n",
      "0\n"
     ]
    }
   ],
   "source": [
    "# 출력 : print(자료)\n",
    "print(a)\n",
    "print(b)\n",
    "print(c)"
   ]
  },
  {
   "cell_type": "code",
   "execution_count": 4,
   "metadata": {},
   "outputs": [
    {
     "name": "stdout",
     "output_type": "stream",
     "text": [
      "a\n",
      "10\n",
      "Hello Python\n"
     ]
    }
   ],
   "source": [
    "# 따옴표로 둘러싸여 있는 a는 'a' 라는 문자로 출력\n",
    "print('a')\n",
    "print(a)\n",
    "\n",
    "print('Hello Python')"
   ]
  },
  {
   "cell_type": "code",
   "execution_count": 5,
   "metadata": {},
   "outputs": [
    {
     "name": "stdout",
     "output_type": "stream",
     "text": [
      "<class 'int'>\n",
      "<class 'int'>\n",
      "<class 'int'>\n"
     ]
    }
   ],
   "source": [
    "print(type(a))\n",
    "print(type(b))\n",
    "print(type(c))"
   ]
  }
 ],
 "metadata": {
  "kernelspec": {
   "display_name": "Python 3.9.7 ('base')",
   "language": "python",
   "name": "python3"
  },
  "language_info": {
   "codemirror_mode": {
    "name": "ipython",
    "version": 3
   },
   "file_extension": ".py",
   "mimetype": "text/x-python",
   "name": "python",
   "nbconvert_exporter": "python",
   "pygments_lexer": "ipython3",
   "version": "3.9.7"
  },
  "orig_nbformat": 4,
  "vscode": {
   "interpreter": {
    "hash": "b34b863c255992f18be4e3271ad309d6f472a641574d2a36abb232a0d7577314"
   }
  }
 },
 "nbformat": 4,
 "nbformat_minor": 2
}
