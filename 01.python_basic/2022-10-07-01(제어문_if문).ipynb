{
 "cells": [
  {
   "cell_type": "markdown",
   "metadata": {},
   "source": [
    "# << 제어문 >>\n",
    "## 1. 조건문(if , elif, else)\n",
    "주어진 조건을 판단하여 해당 조건이 참일 때와 거짓일 때에 맞는 명령문을 수행하는 것\n",
    "- 기본 문법\n",
    "        if 조건문1 :\n",
    "            조건문1이 참일 때 실행할 문장1<br>\n",
    "            조건문1이 참일 때 실행할 문장2<br>\n",
    "\n",
    "        elif 조건문2 :<br>\n",
    "            (조건문1이 거짓일 때 elif 블럭으로 이동)<br>\n",
    "            조건문2가 참일 때 실행할 문장1<br>\n",
    "            조건문2가 참일 때 실행할 문장2<br>\n",
    "            조건문2가 참일 때 실행할 문장2<br>\n",
    "        else :\n",
    "            조건문1, 조건문2가 모두 거짓일 때 실행할 문장1 <br>\n",
    "            조건문1, 조건문2가 모두 거짓일 때 실행할 문장2<br>\n",
    "        => elif, else는 상황에 따라 생략될 수 있다. <br>\n",
    "\n",
    "- 주의해야할 문법 :<br>\n",
    "    - 조건문 및 else 뒤에 반드시 콜론(:)을 써야 한다.<br>\n",
    "    - 조건문이 있는 문장 하위에 속하는 실행문장들은 반드시 한 번 들여쓰기 되어야 한다. ( 자동 / tab / space 4번)<br>\n",
    "    - 각 조건문이 참/거짓일 때 실행되는 문장이 무엇인지 알아야 한다.<br>\n",
    "    - else는 조건문을 작성하지 않는다.<br>\n",
    "        :앞쪽_화살표: 조건문 : 참(True)과 거짓(False)으로 구분되는 문장<br>\n",
    "    - 비교 연산자를 사용한 조건문 : >, <, >=, <=, ==, !=<br>\n",
    "    - 값을 이용한 조건문 : 무조건 참, 무조건 거짓<br>\n",
    "    - 논리 연산자를 사용한 조건문 : and, or, not<br>\n",
    "    - IN 연산자를 사용한 조건문<br>\n",
    "\n",
    "cf. True vs False<br>\n",
    "     - bool type : True, False 값의 타입<br>"
   ]
  },
  {
   "cell_type": "markdown",
   "metadata": {},
   "source": [
    "#### 1. if ~ else 조건문\n",
    "\n",
    "- 조건식 : 결과가 T or F로 해석되는 명령어로 구성"
   ]
  },
  {
   "cell_type": "code",
   "execution_count": 1,
   "metadata": {},
   "outputs": [
    {
     "name": "stdout",
     "output_type": "stream",
     "text": [
      "도서를 구매합니다\n",
      "집에 왔습니다.\n"
     ]
    }
   ],
   "source": [
    "# 가장 기초적인 조건문\n",
    "money = True\n",
    "\n",
    "if money :\n",
    "    print('도서를 구매합니다')\n",
    "\n",
    "else:\n",
    "    print('도서 구매를 하지 못했습니다.')\n",
    "\n",
    "print('집에 왔습니다.')"
   ]
  },
  {
   "cell_type": "code",
   "execution_count": 5,
   "metadata": {},
   "outputs": [
    {
     "name": "stdout",
     "output_type": "stream",
     "text": [
      "구내식당을 이용합니다.\n"
     ]
    }
   ],
   "source": [
    "# 논리 연산자를 사용한 조건\n",
    "# 아래에 if문을 활용해서 돈이 6000원 이상이면\n",
    "# 구내식당을 이용합니다.라는 구문을 출력하는 if문을 작성해보세요\n",
    "\n",
    "현금 = 57000\n",
    "\n",
    "if 현금 >= 6000:\n",
    "    print('구내식당을 이용합니다.')\n",
    "\n",
    "else:\n",
    "    print('굶는다.')"
   ]
  },
  {
   "cell_type": "code",
   "execution_count": 6,
   "metadata": {},
   "outputs": [
    {
     "name": "stdout",
     "output_type": "stream",
     "text": [
      "컵라면을 먹는다.\n"
     ]
    }
   ],
   "source": [
    "현금 = 2780\n",
    "\n",
    "if 현금 >= 6000: # 당신의 현금이 6000원 이상이면\n",
    "    print('구내식당을 이용합니다.')\n",
    "\n",
    "elif 현금 >= 1000:\n",
    "    print('컵라면을 먹는다.')\n",
    "\n",
    "else:\n",
    "    print('굶는다.')"
   ]
  },
  {
   "cell_type": "code",
   "execution_count": 7,
   "metadata": {},
   "outputs": [
    {
     "name": "stdout",
     "output_type": "stream",
     "text": [
      "김치찌개 백반을 먹는다.\n"
     ]
    }
   ],
   "source": [
    "# not 키워드를 이용한 논리연산자 뒤집기\n",
    "\n",
    "money = 9000\n",
    "\n",
    "if not money >= 8000: # 당신의 money가 8000원도 안되면\n",
    "    print('컵라면을 먹는다.')\n",
    "\n",
    "else : \n",
    "    print('김치찌개 백반을 먹는다.')\n"
   ]
  },
  {
   "cell_type": "code",
   "execution_count": 9,
   "metadata": {},
   "outputs": [
    {
     "name": "stdout",
     "output_type": "stream",
     "text": [
      "사쿠라\n",
      "낙첨입니다. 다음 기회에...\n"
     ]
    }
   ],
   "source": [
    "# in 키워드를 사용한 조건문\n",
    "name01 = input('응모자 성함을 입력해주세요.')\n",
    "\n",
    "reward = ['안유진', '김채원', '장원영']\n",
    "\n",
    "if (name01 in reward):\n",
    "    print('축하합니다! 당첨입니다!')\n",
    "\n",
    "else:\n",
    "    print(name01)\n",
    "    print('낙첨입니다. 다음 기회에...')"
   ]
  },
  {
   "cell_type": "code",
   "execution_count": 10,
   "metadata": {},
   "outputs": [
    {
     "name": "stdout",
     "output_type": "stream",
     "text": [
      "식권 8장이 출력되었습니다. 가격은 50400원 이 결제되었습니다.\n",
      "잔액은 99600원 입니다.\n"
     ]
    }
   ],
   "source": [
    "# 식권구매 코드\n",
    "meal_ticket = int(input('식권을 몇장 구매하시겠습니까? 가격은 6300원입니다. ' ))\n",
    "check_card = 150000\n",
    "\n",
    "# for i in range(1,meal_ticket+1):\n",
    "\n",
    "if check_card < meal_ticket * 6300:\n",
    "    print('잔고가 부족합니다. 다시 시도해주세요')\n",
    "\n",
    "elif check_card // meal_ticket * 6300 :\n",
    "    check_card  = check_card - (meal_ticket*6300)\n",
    "    print(f'식권 {meal_ticket}장이 출력되었습니다. 가격은 {meal_ticket * 6300}원 이 결제되었습니다.')\n",
    "    print(f'잔액은 {check_card}원 입니다.')\n",
    "\n",
    "    \n"
   ]
  },
  {
   "cell_type": "code",
   "execution_count": 11,
   "metadata": {},
   "outputs": [
    {
     "name": "stdout",
     "output_type": "stream",
     "text": [
      "0입니다.\n"
     ]
    }
   ],
   "source": [
    "# 주어진 정수가 양수인지, 음수인지, 0인자 판별하는 조건문\n",
    "\n",
    "intger = int(input('숫자를 입력해주세요'))\n",
    "\n",
    "if (intger > 0):\n",
    "    print('양수입니다.')\n",
    "\n",
    "elif (intger < 0):\n",
    "    print('음수입니다.')\n",
    "\n",
    "else:\n",
    "    print('0입니다.')\n"
   ]
  },
  {
   "cell_type": "code",
   "execution_count": 12,
   "metadata": {},
   "outputs": [
    {
     "name": "stdout",
     "output_type": "stream",
     "text": [
      "숫자를 제대로 입력해주세요\n"
     ]
    }
   ],
   "source": [
    "# 주어진 정수가 양수인지, 음수인지, 0인자 판별하는 조건문\n",
    "# 보통 아스키 코드로 해결합니다.\n",
    "# 아니면 예외처리를 이용하면됩니다.\n",
    "\n",
    "integer = input('숫자를 입력해주세요')\n",
    "\n",
    "if integer.isalpha() :\n",
    "    print('숫자를 제대로 입력해주세요')\n",
    "\n",
    "elif (int(integer) > 0):\n",
    "    print('양수입니다.')\n",
    "\n",
    "elif (int(integer) < 0):\n",
    "    print('음수입니다.')\n",
    "\n",
    "else:\n",
    "    print('0입니다.')"
   ]
  },
  {
   "cell_type": "code",
   "execution_count": null,
   "metadata": {},
   "outputs": [],
   "source": []
  },
  {
   "cell_type": "code",
   "execution_count": null,
   "metadata": {},
   "outputs": [],
   "source": []
  },
  {
   "cell_type": "code",
   "execution_count": null,
   "metadata": {},
   "outputs": [],
   "source": []
  },
  {
   "cell_type": "code",
   "execution_count": null,
   "metadata": {},
   "outputs": [],
   "source": []
  },
  {
   "cell_type": "code",
   "execution_count": null,
   "metadata": {},
   "outputs": [],
   "source": []
  },
  {
   "cell_type": "code",
   "execution_count": null,
   "metadata": {},
   "outputs": [],
   "source": []
  },
  {
   "cell_type": "code",
   "execution_count": null,
   "metadata": {},
   "outputs": [],
   "source": []
  },
  {
   "cell_type": "code",
   "execution_count": null,
   "metadata": {},
   "outputs": [],
   "source": []
  },
  {
   "cell_type": "code",
   "execution_count": null,
   "metadata": {},
   "outputs": [],
   "source": []
  },
  {
   "cell_type": "code",
   "execution_count": null,
   "metadata": {},
   "outputs": [],
   "source": []
  },
  {
   "cell_type": "code",
   "execution_count": null,
   "metadata": {},
   "outputs": [],
   "source": []
  },
  {
   "cell_type": "code",
   "execution_count": null,
   "metadata": {},
   "outputs": [],
   "source": []
  },
  {
   "cell_type": "code",
   "execution_count": null,
   "metadata": {},
   "outputs": [],
   "source": []
  },
  {
   "cell_type": "code",
   "execution_count": null,
   "metadata": {},
   "outputs": [],
   "source": []
  },
  {
   "cell_type": "code",
   "execution_count": null,
   "metadata": {},
   "outputs": [],
   "source": []
  },
  {
   "cell_type": "code",
   "execution_count": null,
   "metadata": {},
   "outputs": [],
   "source": []
  },
  {
   "cell_type": "code",
   "execution_count": null,
   "metadata": {},
   "outputs": [],
   "source": []
  },
  {
   "cell_type": "code",
   "execution_count": null,
   "metadata": {},
   "outputs": [],
   "source": []
  },
  {
   "cell_type": "code",
   "execution_count": null,
   "metadata": {},
   "outputs": [],
   "source": []
  },
  {
   "cell_type": "code",
   "execution_count": null,
   "metadata": {},
   "outputs": [],
   "source": []
  },
  {
   "cell_type": "code",
   "execution_count": null,
   "metadata": {},
   "outputs": [],
   "source": []
  },
  {
   "cell_type": "code",
   "execution_count": null,
   "metadata": {},
   "outputs": [],
   "source": []
  },
  {
   "cell_type": "code",
   "execution_count": null,
   "metadata": {},
   "outputs": [],
   "source": []
  },
  {
   "cell_type": "code",
   "execution_count": null,
   "metadata": {},
   "outputs": [],
   "source": []
  },
  {
   "cell_type": "code",
   "execution_count": null,
   "metadata": {},
   "outputs": [],
   "source": []
  },
  {
   "cell_type": "code",
   "execution_count": null,
   "metadata": {},
   "outputs": [],
   "source": []
  },
  {
   "cell_type": "code",
   "execution_count": null,
   "metadata": {},
   "outputs": [],
   "source": []
  },
  {
   "cell_type": "code",
   "execution_count": null,
   "metadata": {},
   "outputs": [],
   "source": []
  },
  {
   "cell_type": "code",
   "execution_count": null,
   "metadata": {},
   "outputs": [],
   "source": []
  },
  {
   "cell_type": "code",
   "execution_count": null,
   "metadata": {},
   "outputs": [],
   "source": []
  }
 ],
 "metadata": {
  "kernelspec": {
   "display_name": "Python 3.9.7 ('base')",
   "language": "python",
   "name": "python3"
  },
  "language_info": {
   "codemirror_mode": {
    "name": "ipython",
    "version": 3
   },
   "file_extension": ".py",
   "mimetype": "text/x-python",
   "name": "python",
   "nbconvert_exporter": "python",
   "pygments_lexer": "ipython3",
   "version": "3.9.7"
  },
  "orig_nbformat": 4,
  "vscode": {
   "interpreter": {
    "hash": "b34b863c255992f18be4e3271ad309d6f472a641574d2a36abb232a0d7577314"
   }
  }
 },
 "nbformat": 4,
 "nbformat_minor": 2
}
