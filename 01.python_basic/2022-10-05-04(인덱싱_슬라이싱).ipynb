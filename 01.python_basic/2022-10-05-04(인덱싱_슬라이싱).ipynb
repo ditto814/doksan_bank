{
 "cells": [
  {
   "cell_type": "markdown",
   "metadata": {},
   "source": [
    "## 인덱스\n",
    "- 아이템(대상이 가지고있는 최소 단위의 값)의 위치를 나타내는 고유한 번호\n",
    "- 첫번째 위치는 0부터 시작\n",
    "- 마지막위치는 -1부터 시작"
   ]
  },
  {
   "cell_type": "markdown",
   "metadata": {},
   "source": [
    "### 1) 인덱싱(indexing) : 특정 위치중 하나의 아이템에 접근하기\n",
    "\n",
    "- 인덱싱 문법기호 : 객체[인덱스번호]"
   ]
  },
  {
   "cell_type": "code",
   "execution_count": 2,
   "metadata": {},
   "outputs": [],
   "source": [
    "# Tistory 라는 문자열 인덱싱\n",
    "text = 'Tistory'"
   ]
  },
  {
   "cell_type": "code",
   "execution_count": 3,
   "metadata": {},
   "outputs": [
    {
     "name": "stdout",
     "output_type": "stream",
     "text": [
      "T\n",
      "y\n"
     ]
    }
   ],
   "source": [
    "# Tistory라는 문자열에서 첫 번째 아이템 = 0번째 인덱스로 접근\n",
    "# 인덱싱 문법 : 객체(대상 : 값, 자료형)[인덱스 번호]\n",
    "\n",
    "print(text[0])\n",
    "print(text[-1])"
   ]
  },
  {
   "cell_type": "markdown",
   "metadata": {},
   "source": [
    "### 2) 슬라이싱 : 연속된 범위의 여러 아이템에 접근\n",
    "\n",
    "- 대상객체[처음인덱스 : 마지막인덱스(:간격)]\n",
    "- 처음 인덱스 번호는 포함(n부터~)\n",
    "- 마지막 인덱스번호는 포함하지 않음(~n-1 까지)\n",
    "- 간격조정은 할 수도 있고 하지 않을수도 있음(기본 1씩 증가)"
   ]
  },
  {
   "cell_type": "code",
   "execution_count": 4,
   "metadata": {},
   "outputs": [],
   "source": [
    "# 문자열 생성\n",
    "text = 'Hello Python World'"
   ]
  },
  {
   "cell_type": "code",
   "execution_count": 5,
   "metadata": {},
   "outputs": [
    {
     "name": "stdout",
     "output_type": "stream",
     "text": [
      "Hello Python\n",
      "Hello Python\n",
      "Hello Python\n"
     ]
    }
   ],
   "source": [
    "# 처음부터 특정 위치까지 : ~ Python 까지 자르기\n",
    "# 처음 인덱스 0\n",
    "# 마지막 인덱스 : -7(뒤에서 7번째까지 가져와야 하므로 실제로는 -6까지를 타겟으로)\n",
    "# 간격 : 기본값(1)\n",
    "\n",
    "print(text[0:12])\n",
    "print(text[0:-6])\n",
    "print(text[:-6])"
   ]
  },
  {
   "cell_type": "code",
   "execution_count": 6,
   "metadata": {},
   "outputs": [
    {
     "name": "stdout",
     "output_type": "stream",
     "text": [
      "World\n",
      "--------------------------------------------------\n",
      "Hello\n",
      "Hello\n",
      "--------------------------------------------------\n",
      "Python\n",
      "Python\n"
     ]
    }
   ],
   "source": [
    "# World만 가져오기\n",
    "print(text[13:18])\n",
    "\n",
    "print('-' * 50)\n",
    "\n",
    "# Hello만 가져오기\n",
    "print(text[:5])\n",
    "print(text[:-13])\n",
    "\n",
    "print('-' * 50)\n",
    "\n",
    "# Python만 가져오기 \n",
    "print(text[6:12])\n",
    "print(text[6:-6])"
   ]
  },
  {
   "cell_type": "code",
   "execution_count": 7,
   "metadata": {},
   "outputs": [
    {
     "name": "stdout",
     "output_type": "stream",
     "text": [
      "Hello Python World\n",
      "Hello Python World\n"
     ]
    }
   ],
   "source": [
    "# 전체 범위 지정 : 처음 인덱스와 마지막 인덱스를 모두 쓰지않으면 전체지정\n",
    "# 처음 인덱스 기본값 : 0 자동입력\n",
    "# 마지막 인덱스 기본값 : 마지막까지로 자동입력\n",
    "print(text[0:18])\n",
    "print(text[:])"
   ]
  },
  {
   "cell_type": "code",
   "execution_count": 8,
   "metadata": {},
   "outputs": [
    {
     "name": "stdout",
     "output_type": "stream",
     "text": [
      "HloPto ol\n",
      "dlroW nohtyP olleH\n"
     ]
    }
   ],
   "source": [
    "# 전체 범위 지정 + 간격을 2로 넣었을 때\n",
    "print(text[::2])\n",
    "\n",
    "# 음수로 입력시 글자를 뒤집어서 보여줍니다.\n",
    "print(text[::-1])"
   ]
  },
  {
   "cell_type": "code",
   "execution_count": 25,
   "metadata": {},
   "outputs": [
    {
     "name": "stdout",
     "output_type": "stream",
     "text": [
      "olleH\n",
      "dlroW nohtyP\n"
     ]
    }
   ],
   "source": [
    "print(text[4::-1])\n",
    "print(text[:5:-1])"
   ]
  },
  {
   "cell_type": "markdown",
   "metadata": {},
   "source": [
    "### > 연습문제\n",
    "##### 20221005미세먼지양호함\n",
    "###### 위의 문장을 weather 변수에 저장후\n",
    "###### 날짜는 date 변수에 슬라이싱 하여 받아오고\n",
    "###### dust 변수에 미세먼지 정도를 슬라이싱으로 받아오도록 만들어서 출력하세요\n",
    "\n",
    "출력양식 : <br>\n",
    "날짜  : 20221005<br>\n",
    "날씨 : 미세먼지양호함"
   ]
  },
  {
   "cell_type": "code",
   "execution_count": 10,
   "metadata": {},
   "outputs": [
    {
     "name": "stdout",
     "output_type": "stream",
     "text": [
      "출력양식 : \n",
      "날짜 : 20221005\n",
      "날씨 : 미세먼지양호함\n"
     ]
    }
   ],
   "source": [
    "weather = '20221005미세먼지양호함'\n",
    "date = weather[:8]\n",
    "dust = weather[8:]\n",
    "\n",
    "print('출력양식 : ')\n",
    "print('날짜 :', date)\n",
    "print('날씨 :', dust)"
   ]
  },
  {
   "cell_type": "code",
   "execution_count": 11,
   "metadata": {},
   "outputs": [],
   "source": [
    "import datetime"
   ]
  },
  {
   "cell_type": "code",
   "execution_count": 12,
   "metadata": {},
   "outputs": [],
   "source": [
    "# h, m, s = map(int, input.split())\n",
    "#  = int(input())"
   ]
  }
 ],
 "metadata": {
  "kernelspec": {
   "display_name": "Python 3.9.7 ('base')",
   "language": "python",
   "name": "python3"
  },
  "language_info": {
   "codemirror_mode": {
    "name": "ipython",
    "version": 3
   },
   "file_extension": ".py",
   "mimetype": "text/x-python",
   "name": "python",
   "nbconvert_exporter": "python",
   "pygments_lexer": "ipython3",
   "version": "3.9.7"
  },
  "orig_nbformat": 4,
  "vscode": {
   "interpreter": {
    "hash": "b34b863c255992f18be4e3271ad309d6f472a641574d2a36abb232a0d7577314"
   }
  }
 },
 "nbformat": 4,
 "nbformat_minor": 2
}
