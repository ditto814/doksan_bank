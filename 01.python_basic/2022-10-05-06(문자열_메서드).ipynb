{
 "cells": [
  {
   "cell_type": "markdown",
   "metadata": {},
   "source": [
    "## > 문자열 내장함수* = 문자열 메서드\n",
    "    └≫ 내장함수 : 특정 데이터 타입이 자체적으로 가지고 있는 속성으로 존재하는 함수\n",
    "    └≫ 문법 : 변수(데이터타입값).함수명()\n",
    "* .count( ) : 특정 문자의 개수\n",
    "* .find( ) :특정 문자의 인덱스 번호(위치)\n",
    "* .join( ) : 특정 기호를 문자열 아이템 사이에 입력\n",
    "* .upper( ) : 문자열을 대문자로 변경\n",
    "* .lower( ) : 문자열을 소문자로 변경\n",
    "* .capitalize( ) : 문자열의 첫 글자를 대문자로\n",
    "* .swapcase( ) : 대문자는 소문자로, 소문자는 대문자로 전환\n",
    "* .lstrip( ) / rstrip( ) / strip( ) : 좌 / 우 / 앞뒤 공백(기본) 및 특정 문자 지우기\n",
    "* .replace( ) : 기존 문자를 새로운 문자로 바꾸기\n",
    "* .split( ) : 특정 기호를 기준으로 문자열을 아이템 단위로 나누어 리스트로 반환\n",
    "* .center( ) : 문자열 길이를 지정하여 대상 문자열을 중앙 정렬\n",
    "* .ljust( ) : 문자열 길이를 지정하여 대상 문자열을 왼쪽 정렬\n",
    "* .rjust( ) : 문자열 길이를 지정하여 대상 문자열을 오른쪽 정렬"
   ]
  },
  {
   "cell_type": "code",
   "execution_count": 1,
   "metadata": {},
   "outputs": [],
   "source": [
    "# 문자열 생성\n",
    "text = 'Dollar inflation'"
   ]
  },
  {
   "cell_type": "code",
   "execution_count": 2,
   "metadata": {},
   "outputs": [
    {
     "name": "stdout",
     "output_type": "stream",
     "text": [
      "3\n",
      "1\n"
     ]
    }
   ],
   "source": [
    "# .count()\n",
    "# text문자열의 l의 갯수\n",
    "print(text.count('l'))\n",
    "print(text.count('Do'))"
   ]
  },
  {
   "cell_type": "code",
   "execution_count": 3,
   "metadata": {},
   "outputs": [
    {
     "data": {
      "text/plain": [
       "9"
      ]
     },
     "execution_count": 3,
     "metadata": {},
     "output_type": "execute_result"
    }
   ],
   "source": [
    "# .find() : 특정 값의 인덱스 번호를 반환\n",
    "# txt 문자열에서의 a의 인덱스 번호\n",
    "# .find('찾을자료', 시작번호) 입력으로 0번이 아닌 이후 번호를 시작점으로 지정 가능\n",
    "text.find('flation',1)\n",
    "# 9번째자리에 flation이 시작됨"
   ]
  },
  {
   "cell_type": "code",
   "execution_count": 4,
   "metadata": {},
   "outputs": [
    {
     "data": {
      "text/plain": [
       "2"
      ]
     },
     "execution_count": 4,
     "metadata": {},
     "output_type": "execute_result"
    }
   ],
   "source": [
    "text.find('l')"
   ]
  },
  {
   "cell_type": "code",
   "execution_count": 5,
   "metadata": {},
   "outputs": [
    {
     "data": {
      "text/plain": [
       "'DOLLAR INFLATION'"
      ]
     },
     "execution_count": 5,
     "metadata": {},
     "output_type": "execute_result"
    }
   ],
   "source": [
    "# .upper()\n",
    "# 변경된 결과를 시뮬레이션 해서 보여줌(원본자료는 대문자화 되지않음)\n",
    "text.upper()\n",
    "# 대문자화 한 것을 저장하려면\n",
    "text_u = text.upper()\n",
    "text_u"
   ]
  },
  {
   "cell_type": "code",
   "execution_count": 6,
   "metadata": {},
   "outputs": [
    {
     "data": {
      "text/plain": [
       "'dollar inflation'"
      ]
     },
     "execution_count": 6,
     "metadata": {},
     "output_type": "execute_result"
    }
   ],
   "source": [
    "# .lower()\n",
    "# # 변경된 결과를 시뮬레이션 해서 보여줌(원본자료는 대문자화 되지않음)\n",
    "text.lower()\n",
    "# 소문자화 한 것 저장\n",
    "text_l = text.lower()\n",
    "text_l"
   ]
  },
  {
   "cell_type": "code",
   "execution_count": 7,
   "metadata": {},
   "outputs": [
    {
     "data": {
      "text/plain": [
       "'          132          132          132          '"
      ]
     },
     "execution_count": 7,
     "metadata": {},
     "output_type": "execute_result"
    }
   ],
   "source": [
    "text = '          132          132          132          '\n",
    "text"
   ]
  },
  {
   "cell_type": "code",
   "execution_count": 8,
   "metadata": {},
   "outputs": [
    {
     "data": {
      "text/plain": [
       "'132          132          132          '"
      ]
     },
     "execution_count": 8,
     "metadata": {},
     "output_type": "execute_result"
    }
   ],
   "source": [
    "# .lstrip()\n",
    "# 문자열 좌측의 공백 모두 제거합니다.(가운데 공백은 제거X)\n",
    "# 시뮬레이션 결과만 보여줍니다.(원본 데이터에 영향 X)\n",
    "text.lstrip()"
   ]
  },
  {
   "cell_type": "code",
   "execution_count": 9,
   "metadata": {},
   "outputs": [
    {
     "data": {
      "text/plain": [
       "'          132          132          132'"
      ]
     },
     "execution_count": 9,
     "metadata": {},
     "output_type": "execute_result"
    }
   ],
   "source": [
    "# .rstrip()\n",
    "# 문자열 우측의 공백 모두 제거합니다.(가운데 공백은 제거X)\n",
    "# 시뮬레이션 결과만 보여줍니다.(원본 데이터에 영향 X)\n",
    "text.rstrip()"
   ]
  },
  {
   "cell_type": "code",
   "execution_count": 10,
   "metadata": {},
   "outputs": [
    {
     "data": {
      "text/plain": [
       "'132          132          132'"
      ]
     },
     "execution_count": 10,
     "metadata": {},
     "output_type": "execute_result"
    }
   ],
   "source": [
    "# .strip()\n",
    "# 양쪽 공백 모두 제거합니다.\n",
    "text.strip()"
   ]
  },
  {
   "cell_type": "code",
   "execution_count": 11,
   "metadata": {},
   "outputs": [
    {
     "data": {
      "text/plain": [
       "'          001          001          001          '"
      ]
     },
     "execution_count": 11,
     "metadata": {},
     "output_type": "execute_result"
    }
   ],
   "source": [
    "# .replace(old, new)\n",
    "# 찾아바꾸기. 문자열 내에서 old에 해당하는 문자를 찾아 new로 싹 대체합니다.\n",
    "# 공백 찾아 없에게ㅣ에 쓸수 있습니다.\n",
    "# 역시 원본자료에는 영향을 미치지 않습니다\n",
    "text.replace('132', '001')"
   ]
  },
  {
   "cell_type": "code",
   "execution_count": 12,
   "metadata": {},
   "outputs": [
    {
     "data": {
      "text/plain": [
       "'132132132'"
      ]
     },
     "execution_count": 12,
     "metadata": {},
     "output_type": "execute_result"
    }
   ],
   "source": [
    "text.replace(' ','')\n",
    "# null string기능을 이용한 공백제거 (문자가 소멸됩니다.)"
   ]
  },
  {
   "cell_type": "code",
   "execution_count": 13,
   "metadata": {},
   "outputs": [],
   "source": [
    "text2 = 'AAPL PG EL'\n",
    "text3 = 'F-16/F-18/F-22'"
   ]
  },
  {
   "cell_type": "code",
   "execution_count": 14,
   "metadata": {},
   "outputs": [],
   "source": [
    "text2 = 'AAPL PG EL'\n",
    "text3 = 'F-16/F-18/F-22'\n",
    "text4 = '왕도네왕만원왕감사'\n",
    "text4 = '왕도네왕만원왕감사'\n",
    "text5 = '더블린이다, 뉴욕이다, 카불이다, 오클랜드이다'"
   ]
  },
  {
   "cell_type": "code",
   "execution_count": 16,
   "metadata": {},
   "outputs": [
    {
     "name": "stdout",
     "output_type": "stream",
     "text": [
      "['AAPL', 'PG', 'EL']\n",
      "['F-16', 'F-18', 'F-22']\n",
      "['', '도네', '만원', '감사']\n",
      "['더블린', ', 뉴욕', ', 카불', ', 오클랜드', '']\n"
     ]
    }
   ],
   "source": [
    "# .split('기준')\n",
    "# 쪼개기\n",
    "# 기준 입력시 기준점을 기준으로 쪼개고\n",
    "# 입력하지 않으면 ' ', \\n, \\t 등을 기준으로 쪼개줌\n",
    "print(text2.split())\n",
    "print(text3.split('/'))\n",
    "print(text4.split('왕'))\n",
    "print(text5.split('이다'))"
   ]
  },
  {
   "cell_type": "code",
   "execution_count": 17,
   "metadata": {},
   "outputs": [
    {
     "data": {
      "text/plain": [
       "'a,b,c'"
      ]
     },
     "execution_count": 17,
     "metadata": {},
     "output_type": "execute_result"
    }
   ],
   "source": [
    "# .join()\n",
    "# 좌측에 있는 요소를 .join(자료)의\n",
    "# 자료 인덱스 사이사이에 입력해줍니다.\n",
    "text = 'abc'\n",
    "','.join(text)"
   ]
  },
  {
   "cell_type": "code",
   "execution_count": 18,
   "metadata": {},
   "outputs": [
    {
     "name": "stdout",
     "output_type": "stream",
     "text": [
      "18\n",
      "17\n",
      ".\n"
     ]
    }
   ],
   "source": [
    "# 마지막 인덱스 번호 가변적으로 구하기 \n",
    "# len(문자열)-1\n",
    "\n",
    "x = '동해물과 백두산이 마르고 닳도록.'\n",
    "print(len(x))\n",
    "# 마지막 인덱스 번호는 0부터 시작하므로 길이 -1\n",
    "print(len(x)-1)\n",
    "\n",
    "# x의 마지막 글자를 len()을 활용한 인덱싱으로 출력해보세요\n",
    "print(x[len(x)-1:])"
   ]
  },
  {
   "cell_type": "code",
   "execution_count": 19,
   "metadata": {},
   "outputs": [
    {
     "name": "stdout",
     "output_type": "stream",
     "text": [
      "32\n",
      "31\n",
      ".\n"
     ]
    }
   ],
   "source": [
    "# 마지막 인덱스 번호 가변적으로 구하기 \n",
    "# len(문자열)-1\n",
    "\n",
    "x = '미네르바의 부엉이는 황혼이 저물고 나서야 그 날개를 편다.'\n",
    "print(len(x))\n",
    "# 마지막 인덱스 번호는 0부터 시작하므로 길이 -1\n",
    "print(len(x)-1)\n",
    "\n",
    "# x의 마지막 글자를 len()을 활용한 인덱싱으로 출력해보세요\n",
    "print(x[len(x)-1:])"
   ]
  }
 ],
 "metadata": {
  "kernelspec": {
   "display_name": "Python 3.9.7 ('base')",
   "language": "python",
   "name": "python3"
  },
  "language_info": {
   "codemirror_mode": {
    "name": "ipython",
    "version": 3
   },
   "file_extension": ".py",
   "mimetype": "text/x-python",
   "name": "python",
   "nbconvert_exporter": "python",
   "pygments_lexer": "ipython3",
   "version": "3.9.7"
  },
  "orig_nbformat": 4,
  "vscode": {
   "interpreter": {
    "hash": "b34b863c255992f18be4e3271ad309d6f472a641574d2a36abb232a0d7577314"
   }
  }
 },
 "nbformat": 4,
 "nbformat_minor": 2
}
