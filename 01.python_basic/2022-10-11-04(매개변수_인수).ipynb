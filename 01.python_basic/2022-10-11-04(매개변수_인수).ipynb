{
 "cells": [
  {
   "cell_type": "markdown",
   "metadata": {},
   "source": [
    "### 매개변수, 인수\n",
    "\n",
    "#### 매개변수(parameter, 입력인자, 입력값)\n",
    "- 함수에 전달된 값을 저장하는 변수 / 함수를 선언할 때 정의하는 변수\n",
    "\n",
    "#### 인수 / 인자(argument)\n",
    "- 함수를 호출(=사용)할 떄 전달하는 입력 값"
   ]
  },
  {
   "cell_type": "markdown",
   "metadata": {},
   "source": [
    "#### 1.매개변수를 2개 이상 받는 케이스 \n",
    "- sum_func이라는 이름으로 함수선언\n",
    "- 이 함수는 num1, num2 2개의 변수를 입력받고\n",
    "- 둘을 합산한 값 리턴 "
   ]
  },
  {
   "cell_type": "code",
   "execution_count": 1,
   "metadata": {},
   "outputs": [],
   "source": [
    "# 내가 푼 예제\n",
    "def sum_func_01():\n",
    "    num1_1 = input('첫번째 숫자를 입력하세요')\n",
    "    num2_2 = input('두번째 숫자를 입력하세요')\n",
    "\n",
    "    return int(num1_1) + int(num2_2)\n",
    "\n"
   ]
  },
  {
   "cell_type": "code",
   "execution_count": 2,
   "metadata": {},
   "outputs": [
    {
     "data": {
      "text/plain": [
       "11"
      ]
     },
     "execution_count": 2,
     "metadata": {},
     "output_type": "execute_result"
    }
   ],
   "source": [
    "sum_func_01()"
   ]
  },
  {
   "cell_type": "code",
   "execution_count": 3,
   "metadata": {},
   "outputs": [
    {
     "name": "stdout",
     "output_type": "stream",
     "text": [
      "7\n",
      "546\n",
      "-36\n"
     ]
    }
   ],
   "source": [
    "# 정답\n",
    "def sum_func(num1, num2):\n",
    "    result = num1 + num2\n",
    "    return result\n",
    "\n",
    "print(sum_func(3,4))\n",
    "print(sum_func(234,312))\n",
    "print(sum_func(9,-45))"
   ]
  },
  {
   "cell_type": "code",
   "execution_count": 4,
   "metadata": {},
   "outputs": [],
   "source": [
    "# 스네이크, 파스칼, 카멜 케이스\n",
    "# 추가, 파이썬 변수명을 대개 \"스네이크 케이스로 작성합니다.\"\n",
    "# ex) sum_func, ditto_transform"
   ]
  },
  {
   "cell_type": "markdown",
   "metadata": {},
   "source": [
    "### 2.매개변수 있는 함수\n",
    "- 인자 값을 전달 할 때 값만 입력하면 순서대로 매개변수에 할당됩니다.\n",
    "- 매개변수명을 지정하여 전달할 수 있다."
   ]
  },
  {
   "cell_type": "code",
   "execution_count": 5,
   "metadata": {},
   "outputs": [],
   "source": [
    "# 매개변수가 3개인 함수를 만들고\n",
    "# 매개변수명 3개의 이름은 자율적으로 만들어주세요\n",
    "# print()로 매개변수가 뭐였는지 콘솔에 출력한다음\n",
    "# result변수에 3개의 합을 저장한 뒤 리턴\n",
    "# 함수명은 test1"
   ]
  },
  {
   "cell_type": "code",
   "execution_count": 6,
   "metadata": {},
   "outputs": [],
   "source": [
    "def test1(개,고양이,토끼):\n",
    "    print(개,고양이,토끼)\n",
    "    result = 개 + 고양이 + 토끼\n",
    "    return result"
   ]
  },
  {
   "cell_type": "code",
   "execution_count": 7,
   "metadata": {},
   "outputs": [
    {
     "name": "stdout",
     "output_type": "stream",
     "text": [
      "90 40 20\n"
     ]
    },
    {
     "data": {
      "text/plain": [
       "150"
      ]
     },
     "execution_count": 7,
     "metadata": {},
     "output_type": "execute_result"
    }
   ],
   "source": [
    "test1(90, 40, 20)"
   ]
  },
  {
   "cell_type": "code",
   "execution_count": 8,
   "metadata": {},
   "outputs": [
    {
     "name": "stdout",
     "output_type": "stream",
     "text": [
      "10 30 15\n"
     ]
    },
    {
     "data": {
      "text/plain": [
       "55"
      ]
     },
     "execution_count": 8,
     "metadata": {},
     "output_type": "execute_result"
    }
   ],
   "source": [
    "# 순번을 바꿔서 전달하고 싶다면?? 매개변수를 지목해 값을 대입하면 됩니다.\n",
    "test1(고양이=30, 개 = 10, 토끼 = 15)"
   ]
  },
  {
   "cell_type": "markdown",
   "metadata": {},
   "source": [
    "#### 2-1. 매개변수 초기값 설정\n",
    "- 함수 정의문에서 매개변수 값을 할당하면 초기 값으로 설정(디폴트 값)\n",
    "\n",
    "- 함수 호출 시 값을 입력하지 않으면 초기 값으로 사용\n",
    "\n",
    "- 초기화시키고 싶은 매개변수들을 할상 뒤쪽에 위치\n",
    "\n",
    "(참고) 포맷팅함수에서 인덱스 번호, 변수명 사용했던 규칙과 유사"
   ]
  },
  {
   "cell_type": "code",
   "execution_count": 9,
   "metadata": {},
   "outputs": [],
   "source": [
    "# 디폴트값 선언을 사용한 예시\n",
    "def test2(a=1, b=2, c=3):\n",
    "    print(a,b,c)\n",
    "    result = a + b + c\n",
    "    return result"
   ]
  },
  {
   "cell_type": "code",
   "execution_count": 10,
   "metadata": {},
   "outputs": [
    {
     "name": "stdout",
     "output_type": "stream",
     "text": [
      "1 2 3\n"
     ]
    },
    {
     "data": {
      "text/plain": [
       "6"
      ]
     },
     "execution_count": 10,
     "metadata": {},
     "output_type": "execute_result"
    }
   ],
   "source": [
    "test2()"
   ]
  },
  {
   "cell_type": "code",
   "execution_count": 11,
   "metadata": {},
   "outputs": [
    {
     "name": "stdout",
     "output_type": "stream",
     "text": [
      "10 2 3\n",
      "15\n",
      "1 20 3\n",
      "24\n"
     ]
    }
   ],
   "source": [
    "# 원하는 변수만 골라 넣어도 가능합니다.\n",
    "print(test2(10)) # 이때는 a값만 받습니다.\n",
    "print(test2(b = 20)) # b값만 디폴트 값을 받고싶으면 b = 값으로 지정해주면 됩니다."
   ]
  },
  {
   "cell_type": "code",
   "execution_count": 12,
   "metadata": {},
   "outputs": [
    {
     "ename": "SyntaxError",
     "evalue": "non-default argument follows default argument (Temp/ipykernel_39324/364855821.py, line 3)",
     "output_type": "error",
     "traceback": [
      "\u001b[1;36m  File \u001b[1;32m\"C:\\Users\\rx178\\AppData\\Local\\Temp/ipykernel_39324/364855821.py\"\u001b[1;36m, line \u001b[1;32m3\u001b[0m\n\u001b[1;33m    def test3(a=0, b=1, c):\u001b[0m\n\u001b[1;37m                         ^\u001b[0m\n\u001b[1;31mSyntaxError\u001b[0m\u001b[1;31m:\u001b[0m non-default argument follows default argument\n"
     ]
    }
   ],
   "source": [
    "# 디폴트 값 설정은 반드시 오른쪽 요소부터 지정 됩니다.\n",
    "# 예전에는 됐지만 지금은 에러나는  문법\n",
    "def test3(a=0, b=1, c):\n",
    "    print(a, b, c)\n",
    "    result = a + b + c\n",
    "    return result"
   ]
  },
  {
   "cell_type": "code",
   "execution_count": null,
   "metadata": {},
   "outputs": [],
   "source": [
    "# 디폴트 값 설정은 반드시 오른쪽 요소부터 지정 됩니다.(c부터 지정됩니다.)\n",
    "# 어떨때 쓰는가? -> 꼭 반드시 입력해야 하는 요소인경우\n",
    "# (가입자가 실수로 이름을 입력안하고 넘어가면 가입이 안되게 해야합니다. 아니면 디폴트이름으로 가입되버림)\n",
    "def test3(a, b=1, c=2):\n",
    "    print(a, b, c)\n",
    "    result = a + b + c\n",
    "    return result"
   ]
  },
  {
   "cell_type": "code",
   "execution_count": null,
   "metadata": {},
   "outputs": [
    {
     "name": "stdout",
     "output_type": "stream",
     "text": [
      "10 1 2\n"
     ]
    },
    {
     "data": {
      "text/plain": [
       "13"
      ]
     },
     "execution_count": 68,
     "metadata": {},
     "output_type": "execute_result"
    }
   ],
   "source": [
    "test3(10)"
   ]
  }
 ],
 "metadata": {
  "kernelspec": {
   "display_name": "Python 3.9.7 ('base')",
   "language": "python",
   "name": "python3"
  },
  "language_info": {
   "codemirror_mode": {
    "name": "ipython",
    "version": 3
   },
   "file_extension": ".py",
   "mimetype": "text/x-python",
   "name": "python",
   "nbconvert_exporter": "python",
   "pygments_lexer": "ipython3",
   "version": "3.9.7"
  },
  "orig_nbformat": 4,
  "vscode": {
   "interpreter": {
    "hash": "b34b863c255992f18be4e3271ad309d6f472a641574d2a36abb232a0d7577314"
   }
  }
 },
 "nbformat": 4,
 "nbformat_minor": 2
}
