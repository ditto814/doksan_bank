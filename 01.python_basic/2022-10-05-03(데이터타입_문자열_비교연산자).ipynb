{
 "cells": [
  {
   "cell_type": "markdown",
   "metadata": {},
   "source": [
    "### 2) 비교연산자 : 문자의 크기를 비교하기 위한 문법 기호\n",
    "\n",
    "> 문자의 비교\n",
    "- 대문자 VS 소문자 : 대문자 < 소문자 크기가 더 크다\n",
    "- 알파벳 : 알파벳 순서가 뒤에 있을수록 크기가 더 크다 b는 a보다 더 크다\n",
    "- 문자 길이 : 문자열의 길이가 길수록 크기가 더 크다\n",
    "\n",
    "각 문자별 크기 : A - 65 / a - 97 / 0 - 48 / ' ' - 32 / 0(null) - 0"
   ]
  },
  {
   "cell_type": "code",
   "execution_count": 1,
   "metadata": {},
   "outputs": [
    {
     "name": "stdout",
     "output_type": "stream",
     "text": [
      "True\n",
      "True\n"
     ]
    }
   ],
   "source": [
    "# 대문자 vs 소문자 : 비교연산자(==, !=, <, >)로 확인\n",
    "# 소문자는 대문자보다 크기가 더 크다.\n",
    "print('A' < 'a') \n",
    "print('B' < 'b') "
   ]
  },
  {
   "cell_type": "code",
   "execution_count": 2,
   "metadata": {},
   "outputs": [
    {
     "name": "stdout",
     "output_type": "stream",
     "text": [
      "True\n",
      "True\n",
      "True\n"
     ]
    }
   ],
   "source": [
    "# 문자열을 대상으로 할때에는 무조건 첫 글자 끼리만 비교합니다.\n",
    "# 문자열의 실제 크긴 비교에 열향을 미치지 않음\n",
    "\n",
    "print('d' > 'Dauntless') #뒤에 문자가 더 와도 첫글자 크기만 비교함\n",
    "print('dauntless' > 'Dauntless')\n",
    "print('dauntless' > 'dAUNTLESS') # 첫번째 문자가 같은 경우 두 번째 문자와 크기를 비교합니다."
   ]
  },
  {
   "cell_type": "code",
   "execution_count": 3,
   "metadata": {},
   "outputs": [
    {
     "name": "stdout",
     "output_type": "stream",
     "text": [
      "True\n",
      "True\n",
      "True\n"
     ]
    }
   ],
   "source": [
    "# 영문자와 영문자 이외의 다른 문자간 비교는 무조건 영문자가 작게 나온다.\n",
    "# 영문자 이외의 문자는 후대에 와서 추가 되었기 때문입니다.\n",
    "# 아스키코드  VS 유니코드\n",
    "print('a' < '가')\n",
    "print('de' < '가')\n",
    "print('가을' < '다람쥐')"
   ]
  },
  {
   "cell_type": "code",
   "execution_count": 4,
   "metadata": {},
   "outputs": [
    {
     "name": "stdout",
     "output_type": "stream",
     "text": [
      "12593\n",
      "44032\n",
      "44033\n",
      "44034\n",
      "44035\n",
      "--------------------------------------------------\n",
      "21487\n",
      "12364\n"
     ]
    }
   ],
   "source": [
    "# 문자에 배정된 코드값을 확인하는 방법\n",
    "# ord('확인할 문자')를 입력시 해당 문자의 코드가 나옵니다.\n",
    "print(ord('ㄱ'))\n",
    "print(ord('가'))\n",
    "print(ord('각'))\n",
    "print(ord('갂'))\n",
    "print(ord('갃'))\n",
    "print('-' * 50)\n",
    "print(ord('可'))\n",
    "print(ord('が'))"
   ]
  },
  {
   "cell_type": "code",
   "execution_count": 5,
   "metadata": {},
   "outputs": [
    {
     "name": "stdout",
     "output_type": "stream",
     "text": [
      "11\n",
      "13\n"
     ]
    }
   ],
   "source": [
    "# 해당 문자열이 몇 글자인지 알고싶을 때 len(문자열)로 알아볼수 있습니다.\n",
    "print(len('F-14 Tomcat'))\n",
    "print(len('F/A-18 Hornet'))"
   ]
  }
 ],
 "metadata": {
  "kernelspec": {
   "display_name": "Python 3.9.7 ('base')",
   "language": "python",
   "name": "python3"
  },
  "language_info": {
   "codemirror_mode": {
    "name": "ipython",
    "version": 3
   },
   "file_extension": ".py",
   "mimetype": "text/x-python",
   "name": "python",
   "nbconvert_exporter": "python",
   "pygments_lexer": "ipython3",
   "version": "3.9.7"
  },
  "orig_nbformat": 4,
  "vscode": {
   "interpreter": {
    "hash": "b34b863c255992f18be4e3271ad309d6f472a641574d2a36abb232a0d7577314"
   }
  }
 },
 "nbformat": 4,
 "nbformat_minor": 2
}
