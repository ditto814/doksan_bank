{
 "cells": [
  {
   "cell_type": "markdown",
   "metadata": {},
   "source": [
    "-- 중요 --\n",
    "\n",
    "#### 9.리스트 복사하기\n",
    "\n",
    "- 할당기호 (=)\n",
    "\n",
    "- copy()  매서드\n",
    "\n",
    "- list()\n",
    "\n",
    "- 슬라이싱"
   ]
  },
  {
   "cell_type": "code",
   "execution_count": 1,
   "metadata": {},
   "outputs": [],
   "source": [
    "# 스택은 힙에 비해 자료공간이 좁습니다.\n",
    "# 그로인해 생기는 장점은\n",
    "# 스캔이 빨라져 빠른 실행속도 달성이 가능합니다.\n",
    "# 하지만 공간에 제약이 있어 자료전체가 들어갈수 없습니다.\n",
    "\n",
    "# 반면 힙은 스택보다 넓으며 스캔속도는 느리지만\n",
    "# 데이터 적재를 훨씬 많이 할 수있습니다.\n",
    "\n",
    "# 그래서 스택은 1개의 값만 저장이 됩니다(보통 변수명이 저장됨)\n",
    "# a = [1,2,3,4,5]라면 \n",
    "# a는 스택 / [1,2,3,4,5]는 힙에 저장됩니다."
   ]
  },
  {
   "cell_type": "code",
   "execution_count": 2,
   "metadata": {},
   "outputs": [
    {
     "name": "stdout",
     "output_type": "stream",
     "text": [
      "[1, 2, 3, 4, 5] [1, 2, 3, 4, 5]\n"
     ]
    }
   ],
   "source": [
    "# 1. 할당기호(=)로 복사하기\n",
    "# a는 스택에 [1,2,3,4,5]는 힙에 저장합니다.\n",
    "# a는 힙의 가상주소값을 갖습니다. \n",
    "# 예를들어 100번지 라고 하면 a는 힙의 [1,2,3,4,5]를 기억하는 대신\n",
    "# [1,2,3,4,5] 의 주소 100번지를 기억합니다.\n",
    "# 주소간 연산은 당연히 되지않습니다. \n",
    "# 금천구 + 용산구 = ? 성립이 안되는 것처럼 말입니다.\n",
    "\n",
    "a = [1,2,3,4,5]\n",
    "b = a \n",
    "\n",
    "#(100번지)\n",
    "\n",
    "print(a, b)"
   ]
  },
  {
   "cell_type": "code",
   "execution_count": 4,
   "metadata": {},
   "outputs": [
    {
     "name": "stdout",
     "output_type": "stream",
     "text": [
      "2948578674112 2948578674112\n"
     ]
    }
   ],
   "source": [
    "# 값이 아닌 주소를 알고싶다면??\n",
    "# id(변수)를 쓰면 해당 자료가 저장된 주소를 조회할 수 있습니다.\n",
    "print(id(a), id(b))\n",
    "# 우린 그냥 100번지로 예시를 들었지만 실제 주소값이 1632128034368 인것을 알 수 있습니다."
   ]
  },
  {
   "cell_type": "code",
   "execution_count": 5,
   "metadata": {},
   "outputs": [
    {
     "name": "stdout",
     "output_type": "stream",
     "text": [
      "[10, 2, 3, 4, 5] [10, 2, 3, 4, 5]\n"
     ]
    }
   ],
   "source": [
    "# = 을 이용해 복사한 요소는 동일한 지점을 가리키는 복사입니다.\n",
    "\n",
    "a[0] = 10 # 100번지의 0번째 값을 10으로 대입하겠습니다.\n",
    "print(a, b)\n",
    "# a,b 둘다 100번지를 지칭하고있어 같은 결과를 출력합니다."
   ]
  },
  {
   "cell_type": "code",
   "execution_count": 6,
   "metadata": {},
   "outputs": [],
   "source": [
    "# 얕은 복사 : 주소값만 가지고와서 같은 번지를 공유하는 복사\n",
    "# 위의 방식입니다.(데이터 자체가 복사된것이 아닌 데이터의 위치를 복사하여 공유)\n",
    "# 그래서 a의 내용이 바뀌면 b의 내용도 같이 바뀝니다."
   ]
  },
  {
   "cell_type": "code",
   "execution_count": 7,
   "metadata": {},
   "outputs": [],
   "source": [
    "# 2. copy() 메서드로 복사하기\n",
    "# 200번지의 주소를 새로 만들어 100번지의 내용물을 똑같이 가져옵니다.\n",
    "\n",
    "c = a.copy()\n",
    "# 이때 c는 200번지를 지칭합니다.\n",
    "# c의 내용이 바뀌어도 a의 내용은 바뀌지 않습니다.\n",
    "c[0] = 20"
   ]
  },
  {
   "cell_type": "code",
   "execution_count": 8,
   "metadata": {},
   "outputs": [
    {
     "name": "stdout",
     "output_type": "stream",
     "text": [
      "2948578674112\n",
      "2948578674112\n",
      "2948578675008\n"
     ]
    }
   ],
   "source": [
    "# 내용은 같지만 서로 다른 주소를 확인할수 있습니다.\n",
    "print(id(a))\n",
    "print(id(b))\n",
    "print(id(c))"
   ]
  },
  {
   "cell_type": "code",
   "execution_count": 9,
   "metadata": {},
   "outputs": [
    {
     "name": "stdout",
     "output_type": "stream",
     "text": [
      "2948578674112\n",
      "2948578674112\n",
      "2948578675008\n"
     ]
    }
   ],
   "source": [
    "# 내용은 같지만 서로 다른 주소를 확인할수 있습니다.\n",
    "print(id(a))\n",
    "print(id(b))\n",
    "print(id(c))"
   ]
  },
  {
   "cell_type": "code",
   "execution_count": 10,
   "metadata": {},
   "outputs": [],
   "source": [
    "# 3. list()로 복사하기\n",
    "# list(자료)를 넣으면 그 자료를 새로 할당해 리스트화 해줍니다.\n",
    "d = list(c)\n",
    "# 새로운 공간에 또 생성되었기 때문에 c,d 주소는 다릅니다."
   ]
  },
  {
   "cell_type": "code",
   "execution_count": 11,
   "metadata": {},
   "outputs": [
    {
     "name": "stdout",
     "output_type": "stream",
     "text": [
      "[20, 2, 3, 4, 5] [20, 2, 3, 4, 5]\n"
     ]
    }
   ],
   "source": [
    "print(c,d)"
   ]
  },
  {
   "cell_type": "code",
   "execution_count": 12,
   "metadata": {},
   "outputs": [
    {
     "name": "stdout",
     "output_type": "stream",
     "text": [
      "2948578675008\n",
      "2948578422976\n"
     ]
    }
   ],
   "source": [
    "print(id(c))\n",
    "print(id(d))\n",
    "# 새로운 공간이 할당된 다음 힙주소까지 변경된 복사를 '깊은 복사' 라고합니다.\n",
    "# 깊은 복사 : 주소 통째로 가지고온다음 새로운 번지를 생성하는 복사"
   ]
  },
  {
   "cell_type": "code",
   "execution_count": 13,
   "metadata": {},
   "outputs": [
    {
     "name": "stdout",
     "output_type": "stream",
     "text": [
      "2948578422976 2948578321920\n"
     ]
    }
   ],
   "source": [
    "# 4. 슬라이싱으로 전체범위 지정해 대입해도 깊은복사\n",
    "e = d[:]\n",
    "print(id(d), id(e))"
   ]
  },
  {
   "cell_type": "markdown",
   "metadata": {},
   "source": [
    "##### <<연습문제>>\n",
    "\n",
    "1. a 리스트를 이용하여 다음과 같은 문자열을 출력해보세요. <br>\n",
    "a = ['Life', 'is', 'too', 'short', 'you', 'need', 'python']\n",
    "\n",
    "출력문 : you too"
   ]
  },
  {
   "cell_type": "code",
   "execution_count": 14,
   "metadata": {},
   "outputs": [],
   "source": [
    "a = ['Life', 'is', 'too', 'short', 'you', 'need', 'python']"
   ]
  },
  {
   "cell_type": "code",
   "execution_count": 15,
   "metadata": {},
   "outputs": [
    {
     "name": "stdout",
     "output_type": "stream",
     "text": [
      "you too\n"
     ]
    }
   ],
   "source": [
    "print(a[4], a[2])"
   ]
  },
  {
   "cell_type": "code",
   "execution_count": 16,
   "metadata": {},
   "outputs": [
    {
     "name": "stdout",
     "output_type": "stream",
     "text": [
      "7\n",
      "[7, 'Life', 'is', 'too', 'short', 'you', 'need', 'python']\n"
     ]
    }
   ],
   "source": [
    "# a의 리스트 길이는 ?\n",
    "print(len(a))\n",
    "\n",
    "# a리스트의 첫번째 아이템에 길이를 추가하세요\n",
    "a.insert(0,len(a))\n",
    "print(a)"
   ]
  },
  {
   "cell_type": "code",
   "execution_count": 17,
   "metadata": {},
   "outputs": [
    {
     "name": "stdout",
     "output_type": "stream",
     "text": [
      "[1, 4, 9, 2, 6, 10]\n",
      "[10, 9, 6, 4, 2, 1]\n"
     ]
    }
   ],
   "source": [
    "q = [1,4,9,2,6,10]\n",
    "print(q)\n",
    "q.sort(reverse = True)\n",
    "print(q)\n"
   ]
  },
  {
   "cell_type": "code",
   "execution_count": 18,
   "metadata": {},
   "outputs": [
    {
     "data": {
      "text/plain": [
       "[10, 9, 6, 4, 2, 1]"
      ]
     },
     "execution_count": 18,
     "metadata": {},
     "output_type": "execute_result"
    }
   ],
   "source": [
    "# 또 다른 방법\n",
    "q.sort()\n",
    "q.reverse()\n",
    "q"
   ]
  }
 ],
 "metadata": {
  "kernelspec": {
   "display_name": "Python 3.9.7 ('base')",
   "language": "python",
   "name": "python3"
  },
  "language_info": {
   "codemirror_mode": {
    "name": "ipython",
    "version": 3
   },
   "file_extension": ".py",
   "mimetype": "text/x-python",
   "name": "python",
   "nbconvert_exporter": "python",
   "pygments_lexer": "ipython3",
   "version": "3.9.7"
  },
  "orig_nbformat": 4,
  "vscode": {
   "interpreter": {
    "hash": "b34b863c255992f18be4e3271ad309d6f472a641574d2a36abb232a0d7577314"
   }
  }
 },
 "nbformat": 4,
 "nbformat_minor": 2
}
