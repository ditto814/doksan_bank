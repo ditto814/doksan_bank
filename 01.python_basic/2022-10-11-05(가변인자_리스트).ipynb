{
 "cells": [
  {
   "cell_type": "markdown",
   "metadata": {},
   "source": [
    "#### 가변인자 리스트\n",
    "- 입력할 파라미터의 개수가 몇 개인지 모를 때 사용함\n",
    "- 파라미터명 왼쪽에 *을 붙인다."
   ]
  },
  {
   "cell_type": "code",
   "execution_count": 9,
   "metadata": {},
   "outputs": [],
   "source": [
    "def get_member_list(p1):\n",
    "    print('출석학생은 %s님 입니다.' % p1)"
   ]
  },
  {
   "cell_type": "code",
   "execution_count": 10,
   "metadata": {},
   "outputs": [
    {
     "name": "stdout",
     "output_type": "stream",
     "text": [
      "출석학생은 이준형님 입니다.\n"
     ]
    }
   ],
   "source": [
    "get_member_list('이준형')"
   ]
  },
  {
   "cell_type": "code",
   "execution_count": 11,
   "metadata": {},
   "outputs": [],
   "source": [
    "def get_member_list_02(p1, p2):\n",
    "    print('출석학생은 %s님, %s님 입니다.' % (p1, p2))"
   ]
  },
  {
   "cell_type": "code",
   "execution_count": 12,
   "metadata": {},
   "outputs": [
    {
     "name": "stdout",
     "output_type": "stream",
     "text": [
      "출석학생은 이준형님, 안유진님 입니다.\n"
     ]
    }
   ],
   "source": [
    "# 출석학생이 100명이 넘어가면 일일히 하나씩 추가해주어야 합니다.\n",
    "# 이럴 때는 어떻게 할까요?\n",
    "get_member_list_02('이준형', '안유진')"
   ]
  },
  {
   "cell_type": "code",
   "execution_count": 13,
   "metadata": {},
   "outputs": [],
   "source": [
    "# 이렇게 쓰면 튜플로 얼마든지 학생이 추가되어도 문제없습니다.\n",
    "def get_members(*stu):\n",
    "    print(f'출석학생은 {stu} 입니다.')\n",
    "    print(type(stu))\n",
    "    print(len(stu))"
   ]
  },
  {
   "cell_type": "code",
   "execution_count": 14,
   "metadata": {},
   "outputs": [
    {
     "name": "stdout",
     "output_type": "stream",
     "text": [
      "출석학생은 () 입니다.\n",
      "<class 'tuple'>\n",
      "0\n"
     ]
    }
   ],
   "source": [
    "get_members()"
   ]
  },
  {
   "cell_type": "code",
   "execution_count": 15,
   "metadata": {},
   "outputs": [
    {
     "name": "stdout",
     "output_type": "stream",
     "text": [
      "출석학생은 ('이준형',) 입니다.\n",
      "<class 'tuple'>\n",
      "1\n"
     ]
    }
   ],
   "source": [
    "get_members('이준형',)"
   ]
  },
  {
   "cell_type": "code",
   "execution_count": 16,
   "metadata": {},
   "outputs": [
    {
     "name": "stdout",
     "output_type": "stream",
     "text": [
      "출석학생은 ('이준형', '안유진', '임나연', '슬기', '아이린', '사쿠라', '정연', '예슈화', '제니', '장원영') 입니다.\n",
      "<class 'tuple'>\n",
      "10\n"
     ]
    }
   ],
   "source": [
    "get_members('이준형', '안유진', '임나연', '슬기', '아이린', '사쿠라', '정연', '예슈화', '제니', '장원영')"
   ]
  },
  {
   "cell_type": "markdown",
   "metadata": {},
   "source": [
    "##### 가변 파라미터(*변수명)을 이용해서 학생들의 점수를 입력받는대로 다 저장한뒤\n",
    "##### 총점을 얻어서 평균값을 구해 리턴하는 코드를 작성해보세요"
   ]
  },
  {
   "cell_type": "code",
   "execution_count": 17,
   "metadata": {},
   "outputs": [],
   "source": [
    "# # 내 접근법(잘못된 접근)\n",
    "# def get_avg(*scores):\n",
    "#     total = 0\n",
    "#     print(*scores)\n",
    "#     for i in range(scores):\n",
    "#         avg_calc = scores / len(scores)\n",
    "    "
   ]
  },
  {
   "cell_type": "code",
   "execution_count": 18,
   "metadata": {},
   "outputs": [],
   "source": [
    "# 문제 못풀었으니 다시 풀어보세요\n",
    "\n",
    "# scores에 몇 개건 모든 데이터를 다 때려넣음.\n",
    "def get_average(*scores):\n",
    "    # 들어온 데이터 체크\n",
    "    print(scores)\n",
    "    # 총점 집계를 위해 total 변수 생성 및 0 대입\n",
    "    total = 0\n",
    "    # scores에 있는 모든 점수를 score에 번갈아가면서 대입\n",
    "    for score in scores:\n",
    "        # 개별 점수를 total에 더해서 누적시킴\n",
    "        total += score\n",
    "        # 평균은 총점 / 더한 횟수 이므로, scores 내부 자료 개수만큼으로\n",
    "        # 총점을 나누면 평균이 나옴\n",
    "    return \"총점 : %s, 평균 : %s\" % (total , total / len(scores))"
   ]
  },
  {
   "cell_type": "code",
   "execution_count": 21,
   "metadata": {},
   "outputs": [
    {
     "name": "stdout",
     "output_type": "stream",
     "text": [
      "(100, 89, 99, 78, 86)\n"
     ]
    },
    {
     "data": {
      "text/plain": [
       "'총점 : 452, 평균 : 90.4'"
      ]
     },
     "execution_count": 21,
     "metadata": {},
     "output_type": "execute_result"
    }
   ],
   "source": [
    "def get_average(*scores):\n",
    "    print(scores)\n",
    "    total = 0\n",
    "    for score in scores:\n",
    "        total += score\n",
    "    return \"총점 : %s, 평균 : %s\" % (total , total / len(scores))\n",
    "\n",
    "get_average(100, 89, 99, 78, 86)"
   ]
  },
  {
   "cell_type": "code",
   "execution_count": 19,
   "metadata": {},
   "outputs": [
    {
     "name": "stdout",
     "output_type": "stream",
     "text": [
      "(100, 89, 99, 78, 86)\n"
     ]
    },
    {
     "data": {
      "text/plain": [
       "'총점 : 452, 평균 : 90.4'"
      ]
     },
     "execution_count": 19,
     "metadata": {},
     "output_type": "execute_result"
    }
   ],
   "source": [
    "get_average(100, 89, 99, 78, 86)"
   ]
  },
  {
   "cell_type": "code",
   "execution_count": 40,
   "metadata": {},
   "outputs": [],
   "source": [
    "##### 가변 파라미터(*변수명)을 이용해서 학생들의 점수를 입력받는대로 다 저장한뒤\n",
    "##### 총점을 얻어서 평균값을 구해 리턴하는 코드를 작성해보세요\n",
    "\n",
    "def get_avg(*scores):\n",
    "    print(scores)\n",
    "\n",
    "    total = 0\n",
    "\n",
    "    for score in scores :\n",
    "        total = total + score\n",
    "\n",
    "    return total, total / len(scores)"
   ]
  },
  {
   "cell_type": "code",
   "execution_count": 41,
   "metadata": {},
   "outputs": [
    {
     "name": "stdout",
     "output_type": "stream",
     "text": [
      "(90, 78, 66, 89, 92, 99)\n"
     ]
    },
    {
     "data": {
      "text/plain": [
       "(514, 85.66666666666667)"
      ]
     },
     "execution_count": 41,
     "metadata": {},
     "output_type": "execute_result"
    }
   ],
   "source": [
    "get_avg(90, 78, 66, 89, 92, 99)"
   ]
  },
  {
   "cell_type": "code",
   "execution_count": 45,
   "metadata": {},
   "outputs": [],
   "source": [
    "def avg_00(*scores):\n",
    "    print(scores)\n",
    "    result = 0\n",
    "\n",
    "    for score in scores:\n",
    "        result = result + score\n",
    "\n",
    "    return result, result/len(scores)"
   ]
  },
  {
   "cell_type": "code",
   "execution_count": 46,
   "metadata": {},
   "outputs": [
    {
     "name": "stdout",
     "output_type": "stream",
     "text": [
      "(70, 98, 78, 90, 100, 88)\n"
     ]
    },
    {
     "data": {
      "text/plain": [
       "(524, 87.33333333333333)"
      ]
     },
     "execution_count": 46,
     "metadata": {},
     "output_type": "execute_result"
    }
   ],
   "source": [
    "avg_00(70, 98, 78, 90, 100, 88)"
   ]
  },
  {
   "cell_type": "code",
   "execution_count": 1,
   "metadata": {},
   "outputs": [],
   "source": [
    "##### 가변 파라미터(*변수명)을 이용해서 학생들의 점수를 입력받는대로 다 저장한뒤\n",
    "##### 총점을 얻어서 평균값을 구해 리턴하는 코드를 작성해보세요\n",
    "\n",
    "def avg_ret(*scores):\n",
    "    print(scores)\n",
    "\n",
    "    result = 0\n",
    "\n",
    "    for score in scores:\n",
    "        result = result + score\n",
    "\n",
    "    return result, result/len(scores)\n",
    "    "
   ]
  },
  {
   "cell_type": "code",
   "execution_count": 2,
   "metadata": {},
   "outputs": [
    {
     "name": "stdout",
     "output_type": "stream",
     "text": [
      "(90, 80, 97, 88)\n"
     ]
    },
    {
     "data": {
      "text/plain": [
       "(355, 88.75)"
      ]
     },
     "execution_count": 2,
     "metadata": {},
     "output_type": "execute_result"
    }
   ],
   "source": [
    "avg_ret(90, 80, 97, 88)"
   ]
  }
 ],
 "metadata": {
  "kernelspec": {
   "display_name": "Python 3.9.7 ('base')",
   "language": "python",
   "name": "python3"
  },
  "language_info": {
   "codemirror_mode": {
    "name": "ipython",
    "version": 3
   },
   "file_extension": ".py",
   "mimetype": "text/x-python",
   "name": "python",
   "nbconvert_exporter": "python",
   "pygments_lexer": "ipython3",
   "version": "3.9.7"
  },
  "orig_nbformat": 4,
  "vscode": {
   "interpreter": {
    "hash": "b34b863c255992f18be4e3271ad309d6f472a641574d2a36abb232a0d7577314"
   }
  }
 },
 "nbformat": 4,
 "nbformat_minor": 2
}
