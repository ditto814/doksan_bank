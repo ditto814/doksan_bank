{
 "cells": [
  {
   "cell_type": "markdown",
   "metadata": {},
   "source": [
    "## > 연산자\n",
    "- 산술 : + , -, *, /, //(몫), %(나머지)\n",
    "- 비교 : ==(값이 같은가?), !=(값이 다른가?), <=, >=, <, >\n",
    "- 논리 : and , or\n",
    "- 할당 : =, +=(누적합), -=(누적차), *=(누적곱), /=(몫만 남기기), %=(나머지만 남기기)"
   ]
  },
  {
   "cell_type": "markdown",
   "metadata": {},
   "source": [
    "### 산술연산자 : 숫자를 계산하기위한 문법 기호"
   ]
  },
  {
   "cell_type": "code",
   "execution_count": 1,
   "metadata": {},
   "outputs": [
    {
     "name": "stdout",
     "output_type": "stream",
     "text": [
      "정수 + 정수:  32\n",
      "실수 + 실수 :  32.215\n",
      "실수 + 실수 :  15.700000000000001\n",
      "정수 + 실수 :  13.4\n"
     ]
    }
   ],
   "source": [
    "# 덧셈 : +\n",
    "# 정수 + 정수 -> 정수로 출력\n",
    "print('정수 + 정수: ', 14 + 18)\n",
    "# 실수 +  실수 -> 실수로 출력\n",
    "print('실수 + 실수 : ', 13.17 + 19.045)\n",
    "print('실수 + 실수 : ', 13.3 + 2.4) \n",
    "# 15.7 이 아닌 이유는 이진수의 특성때문입니다.\n",
    "# 2진수화 나누는 과정이 무한번이라 이와 근접한 값을 가져옴 이게 반복되다 보면 자연히 오차가 발생함\n",
    "# https://www.youtube.com/watch?v=vOO-oLS0H68\n",
    "print('정수 + 실수 : ', 10 + 3.4) # -> 정수 + 실수는 실수로 출력됩니다."
   ]
  },
  {
   "cell_type": "code",
   "execution_count": 2,
   "metadata": {},
   "outputs": [
    {
     "name": "stdout",
     "output_type": "stream",
     "text": [
      "5\n",
      "14\n",
      "3.5\n",
      "3\n",
      "1\n"
     ]
    }
   ],
   "source": [
    "a = 7\n",
    "print(a-2) # 7-2\n",
    "print(a*2) # 7*2\n",
    "print(a/2) # 7/2\n",
    "print(a//2) # 7/2 의 몫\n",
    "print(a%2) # 7/2 의 나머지"
   ]
  },
  {
   "cell_type": "code",
   "execution_count": 3,
   "metadata": {},
   "outputs": [
    {
     "name": "stdout",
     "output_type": "stream",
     "text": [
      "정수 - 정수 :  11\n",
      "실수 - 실수 :  32.125\n",
      "실수 - 실수 :  10.9\n",
      "정수 - 실수 :  6.6\n"
     ]
    }
   ],
   "source": [
    "# 뺄셈 : -\n",
    "# 주피터노트북은 print() 구문을 사용하지 않을 시 가장 마지막 주의 결과만 화면에 보여줍니다.\n",
    "# 만약 모든 줄의 결과를 화면에 보여주고 싶다면 매 구문마다 위에 썼던 것처럼 print() 구문을 작성해야됩니다.\n",
    "\n",
    "\n",
    "print('정수 - 정수 : ', 18 - 7)\n",
    "# 정수 +  정수 -> 실수로 출력\n",
    "print('실수 - 실수 : ', 41.17 - 9.045)\n",
    "print('실수 - 실수 : ', 13.3 - 2.4) \n",
    "# 실수 +  실수\n",
    "print('정수 - 실수 : ', 14 - 7.4) # -> 정수 - 실수 역시 실수로 출력됩니다. (셈 자체는 같은 자리끼리-같은 자료형 끼리만 가능합니다.)\n",
    "# 정수 + 실수"
   ]
  },
  {
   "cell_type": "code",
   "execution_count": 4,
   "metadata": {},
   "outputs": [
    {
     "name": "stdout",
     "output_type": "stream",
     "text": [
      "1.0\n",
      "3.5\n"
     ]
    }
   ],
   "source": [
    "# 나눗셈 : /  \n",
    "# 자바, C++은 정수 나누기 정수시 몫에 해당하는 값만 정수로 출력하는 반면...\n",
    "# 파이썬은 정수 나누기 정수도 실수로 출력합니다.\n",
    "print(3/3)\n",
    "print(7/2)"
   ]
  },
  {
   "cell_type": "code",
   "execution_count": 5,
   "metadata": {},
   "outputs": [
    {
     "name": "stdout",
     "output_type": "stream",
     "text": [
      "12\n",
      "-15\n",
      "--------------------------------------------------\n",
      "-17\n",
      "-5\n"
     ]
    }
   ],
   "source": [
    "# 곱셈 : *\n",
    "print(3 * 4)\n",
    "print(-3 * 5)\n",
    "\n",
    "print('-' * 50)\n",
    "\n",
    "# 파이썬에서도 사칙연산의 우선순위를 ()로 조절 가능합니다.\n",
    "print(3-4*5)\n",
    "print((3-4)*5)"
   ]
  },
  {
   "cell_type": "code",
   "execution_count": 6,
   "metadata": {},
   "outputs": [
    {
     "name": "stdout",
     "output_type": "stream",
     "text": [
      "1.25\n",
      "1\n",
      "-1.25\n",
      "-2\n"
     ]
    }
   ],
   "source": [
    "# 정수 몫만 반환 : //\n",
    "# 나눗셈의 결과값보다 작은 정수중의 가장 큰정수\n",
    "print(5/4)\n",
    "print(5//4)\n",
    "print(-5/4)\n",
    "print(-5//4)"
   ]
  },
  {
   "cell_type": "code",
   "execution_count": 7,
   "metadata": {},
   "outputs": [
    {
     "name": "stdout",
     "output_type": "stream",
     "text": [
      "1.5\n",
      "2\n"
     ]
    }
   ],
   "source": [
    "# 정수 몫을 구하고 남은 나머지만 반환\n",
    "print(6/4)\n",
    "print(6%4)"
   ]
  },
  {
   "cell_type": "code",
   "execution_count": 8,
   "metadata": {},
   "outputs": [
    {
     "name": "stdout",
     "output_type": "stream",
     "text": [
      "8\n",
      "1.4142135623730951\n"
     ]
    }
   ],
   "source": [
    "# 지수 : **\n",
    "print(2 ** 3)\n",
    "# 재곱근, 거듭재곱등도 계산 가능\n",
    "print(2 ** 0.5) # 2의 제곱근"
   ]
  }
 ],
 "metadata": {
  "kernelspec": {
   "display_name": "Python 3.9.7 ('base')",
   "language": "python",
   "name": "python3"
  },
  "language_info": {
   "codemirror_mode": {
    "name": "ipython",
    "version": 3
   },
   "file_extension": ".py",
   "mimetype": "text/x-python",
   "name": "python",
   "nbconvert_exporter": "python",
   "pygments_lexer": "ipython3",
   "version": "3.9.7"
  },
  "orig_nbformat": 4,
  "vscode": {
   "interpreter": {
    "hash": "b34b863c255992f18be4e3271ad309d6f472a641574d2a36abb232a0d7577314"
   }
  }
 },
 "nbformat": 4,
 "nbformat_minor": 2
}
