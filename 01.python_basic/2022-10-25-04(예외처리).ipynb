{
 "cells": [
  {
   "cell_type": "markdown",
   "metadata": {},
   "source": [
    "### 에러와 예외\n",
    "- 에러는 물리적인 이유로 발생하는(인터넷 연결없이 접속하기 등...)것\n",
    "- 예외는 논리적인 이유로 발생하는 것\n",
    "\n",
    "예외가 발생하면 코드가 그 즉시 정지되어 다음로직으로 진행할 수 없는데 <br>\n",
    "크롤링등을 하다보면 종종 모종의 이유로 특정단계에서 발생한 예외를 <br>\n",
    "무시하고 다음 단계로 넘어가야 할 수 있기 때문에 이에 대해 사용하는 <br>\n",
    "`try ~ except` 구문을 알아야 합니다. <br>"
   ]
  },
  {
   "cell_type": "code",
   "execution_count": 1,
   "metadata": {},
   "outputs": [
    {
     "ename": "TypeError",
     "evalue": "unsupported operand type(s) for +: 'int' and 'str'",
     "output_type": "error",
     "traceback": [
      "\u001b[1;31m---------------------------------------------------------------------------\u001b[0m",
      "\u001b[1;31mTypeError\u001b[0m                                 Traceback (most recent call last)",
      "\u001b[1;32m~\\AppData\\Local\\Temp/ipykernel_27076/1133624657.py\u001b[0m in \u001b[0;36m<module>\u001b[1;34m\u001b[0m\n\u001b[0;32m      1\u001b[0m \u001b[1;31m# 에러 상황()\u001b[0m\u001b[1;33m\u001b[0m\u001b[1;33m\u001b[0m\u001b[0m\n\u001b[1;32m----> 2\u001b[1;33m \u001b[0mprint\u001b[0m\u001b[1;33m(\u001b[0m\u001b[1;36m1\u001b[0m \u001b[1;33m+\u001b[0m \u001b[1;34m'가나다'\u001b[0m\u001b[1;33m)\u001b[0m\u001b[1;33m\u001b[0m\u001b[1;33m\u001b[0m\u001b[0m\n\u001b[0m",
      "\u001b[1;31mTypeError\u001b[0m: unsupported operand type(s) for +: 'int' and 'str'"
     ]
    }
   ],
   "source": [
    "# 에러 상황(문법이 틀렸거나 틀린 구문을 이용함)\n",
    "print(1 + '가나다')"
   ]
  },
  {
   "cell_type": "code",
   "execution_count": 4,
   "metadata": {},
   "outputs": [
    {
     "ename": "NameError",
     "evalue": "name 'rlooos' is not defined",
     "output_type": "error",
     "traceback": [
      "\u001b[1;31m---------------------------------------------------------------------------\u001b[0m",
      "\u001b[1;31mNameError\u001b[0m                                 Traceback (most recent call last)",
      "\u001b[1;32m~\\AppData\\Local\\Temp/ipykernel_27076/3046214565.py\u001b[0m in \u001b[0;36m<module>\u001b[1;34m\u001b[0m\n\u001b[1;32m----> 1\u001b[1;33m \u001b[0mrlooos\u001b[0m\u001b[1;33m\u001b[0m\u001b[1;33m\u001b[0m\u001b[0m\n\u001b[0m",
      "\u001b[1;31mNameError\u001b[0m: name 'rlooos' is not defined"
     ]
    }
   ],
   "source": [
    "rlooos"
   ]
  },
  {
   "cell_type": "code",
   "execution_count": 5,
   "metadata": {},
   "outputs": [
    {
     "ename": "SyntaxError",
     "evalue": "EOL while scanning string literal (Temp/ipykernel_27076/1295303241.py, line 1)",
     "output_type": "error",
     "traceback": [
      "\u001b[1;36m  File \u001b[1;32m\"C:\\Users\\rx178\\AppData\\Local\\Temp/ipykernel_27076/1295303241.py\"\u001b[1;36m, line \u001b[1;32m1\u001b[0m\n\u001b[1;33m    \"rlooos\u001b[0m\n\u001b[1;37m           ^\u001b[0m\n\u001b[1;31mSyntaxError\u001b[0m\u001b[1;31m:\u001b[0m EOL while scanning string literal\n"
     ]
    }
   ],
   "source": [
    "\"rlooos"
   ]
  },
  {
   "cell_type": "code",
   "execution_count": 6,
   "metadata": {},
   "outputs": [
    {
     "ename": "ZeroDivisionError",
     "evalue": "division by zero",
     "output_type": "error",
     "traceback": [
      "\u001b[1;31m---------------------------------------------------------------------------\u001b[0m",
      "\u001b[1;31mZeroDivisionError\u001b[0m                         Traceback (most recent call last)",
      "\u001b[1;32m~\\AppData\\Local\\Temp/ipykernel_27076/682816232.py\u001b[0m in \u001b[0;36m<module>\u001b[1;34m\u001b[0m\n\u001b[0;32m      1\u001b[0m \u001b[1;31m# 예외 상황 : 문법도 맞고 논리적으로 맞지만 연산이 불가능한 경우\u001b[0m\u001b[1;33m\u001b[0m\u001b[1;33m\u001b[0m\u001b[0m\n\u001b[1;32m----> 2\u001b[1;33m \u001b[1;36m2\u001b[0m \u001b[1;33m/\u001b[0m \u001b[1;36m0\u001b[0m\u001b[1;33m\u001b[0m\u001b[1;33m\u001b[0m\u001b[0m\n\u001b[0m",
      "\u001b[1;31mZeroDivisionError\u001b[0m: division by zero"
     ]
    }
   ],
   "source": [
    "# 예외 상황 : 문법도 맞고 논리적으로 맞지만 연산이 불가능한 경우\n",
    "# 정수 / 정수로 문법은 맞음\n",
    "2 / 0"
   ]
  },
  {
   "cell_type": "code",
   "execution_count": 18,
   "metadata": {},
   "outputs": [
    {
     "name": "stdout",
     "output_type": "stream",
     "text": [
      "0으로 값을 나눌수 없습니다.\n",
      "연산이 종료되었습니다.\n"
     ]
    }
   ],
   "source": [
    "# 예외 상황에 대한 처리 1 : if문을 통한 검사\n",
    "a = int(input('나눗셈에 이용할 분자 입력'))\n",
    "b = int(input('나눗셈에 이용할 분모 입력'))\n",
    "\n",
    "# 위 숫자를 검사해서 나눗셈이 가능하면\n",
    "# 나눈 결과값을 콘솔에 띄우고\n",
    "# 나눗셈이 불가능한 경우\n",
    "# print('0으로 나눌수 없습니다')를 출력하기\n",
    "\n",
    "if b != 0 :\n",
    "    print(a/b) \n",
    "\n",
    "else :\n",
    "    print('0으로 값을 나눌수 없습니다.')\n",
    "    \n",
    "print('연산이 종료되었습니다.')\n"
   ]
  },
  {
   "cell_type": "code",
   "execution_count": 19,
   "metadata": {},
   "outputs": [
    {
     "name": "stdout",
     "output_type": "stream",
     "text": [
      "분모에 0이 들어갈 수 없습니다.\n",
      "연산이 종료되었습니다.\n"
     ]
    }
   ],
   "source": [
    "# try ~ except\n",
    "# try에는 예외가 발생할지도 모르는 구문을 넣습니다.\n",
    "# except에는 예외가 발생해서 구문이 멈추었을 때 이어서 실행할 내용을 적습니다.\n",
    "\n",
    "try:\n",
    "    a = int(input('나눗셈에 이용할 분자 입력'))\n",
    "    b = int(input('나눗셈에 이용할 분모 입력'))\n",
    "    print(a/b) #b에 0이 들어오면 except로 자동이동\n",
    "\n",
    "except:\n",
    "    print('분모에 0이 아닌 정수만 들어갈수 있습니다.')\n",
    "\n",
    "print('연산이 종료되었습니다.')"
   ]
  },
  {
   "cell_type": "code",
   "execution_count": null,
   "metadata": {},
   "outputs": [],
   "source": []
  },
  {
   "cell_type": "code",
   "execution_count": null,
   "metadata": {},
   "outputs": [],
   "source": []
  },
  {
   "cell_type": "code",
   "execution_count": null,
   "metadata": {},
   "outputs": [],
   "source": []
  },
  {
   "cell_type": "code",
   "execution_count": null,
   "metadata": {},
   "outputs": [],
   "source": []
  },
  {
   "cell_type": "code",
   "execution_count": null,
   "metadata": {},
   "outputs": [],
   "source": []
  },
  {
   "cell_type": "code",
   "execution_count": null,
   "metadata": {},
   "outputs": [],
   "source": []
  },
  {
   "cell_type": "code",
   "execution_count": null,
   "metadata": {},
   "outputs": [],
   "source": []
  }
 ],
 "metadata": {
  "kernelspec": {
   "display_name": "Python 3.9.7 ('base')",
   "language": "python",
   "name": "python3"
  },
  "language_info": {
   "codemirror_mode": {
    "name": "ipython",
    "version": 3
   },
   "file_extension": ".py",
   "mimetype": "text/x-python",
   "name": "python",
   "nbconvert_exporter": "python",
   "pygments_lexer": "ipython3",
   "version": "3.9.7"
  },
  "orig_nbformat": 4,
  "vscode": {
   "interpreter": {
    "hash": "b34b863c255992f18be4e3271ad309d6f472a641574d2a36abb232a0d7577314"
   }
  }
 },
 "nbformat": 4,
 "nbformat_minor": 2
}
