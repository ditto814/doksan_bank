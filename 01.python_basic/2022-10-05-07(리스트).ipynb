{
 "cells": [
  {
   "cell_type": "markdown",
   "metadata": {},
   "source": [
    "# 자료형\n",
    "여러 개의 아이템들을 저장하는 객체 = 여러 개의 값(데이터타입)을 저장하는 그릇\n",
    "## 1. 리스트(List)\n",
    "- 앞쪽_화살표: 문법 기호 : [아이템1, 아이템2, 아이템3 .... ] <br>\n",
    "- 앞쪽_화살표: 용어 : 아이템 = 요소 <br>\n",
    "- 앞쪽_화살표: 아이템으로 가질 수 있는 데이터 타입 : 문자, 숫자, 리스트, 딕셔너리 ... <br>\n",
    "- 앞쪽_화살표: 종류 <br>\n",
    "     - 아이템이 없는 리스트 <br>\n",
    "     - 1차원 리스트 <br>\n",
    "     - 다차원 리스트 <br>\n",
    "- 앞쪽_화살표: 특징 <br>\n",
    "     -  인덱스 활용 <br>\n",
    "     - 다차원 리스트의 구조에 대한 이해 <br>"
   ]
  },
  {
   "cell_type": "markdown",
   "metadata": {},
   "source": [
    "### 1.생성하기"
   ]
  },
  {
   "cell_type": "code",
   "execution_count": 2,
   "metadata": {},
   "outputs": [
    {
     "name": "stdout",
     "output_type": "stream",
     "text": [
      "<class 'list'> <class 'list'>\n",
      "[] []\n"
     ]
    }
   ],
   "source": [
    "# 빈 리스트 생성하기 = 아이템이 없는 리스트\n",
    "# 문법기호 : []\n",
    "# 함수 : list()\n",
    "a = []\n",
    "a2 = list()\n",
    "print(type(a), type(a2))\n",
    "print(a, a2)"
   ]
  },
  {
   "cell_type": "code",
   "execution_count": 3,
   "metadata": {},
   "outputs": [],
   "source": [
    "# 모든 데이터타입을 아이템으로 가질 수 있다\n",
    "# 다차원 구조예제\n",
    "a3 = ['a', 10, 1.1, [1,23.1,'a']]"
   ]
  },
  {
   "cell_type": "code",
   "execution_count": 4,
   "metadata": {},
   "outputs": [
    {
     "name": "stdout",
     "output_type": "stream",
     "text": [
      "a\n",
      "10\n",
      "1.1\n",
      "[1, 23.1, 'a']\n",
      "--------------------------------------------------\n",
      "한 덩어리로 나옵니다. 중첩 리스트 안에값을 호출하려면??\n",
      "1\n",
      "23.1\n",
      "a\n"
     ]
    }
   ],
   "source": [
    "print(a3[0])\n",
    "print(a3[1])\n",
    "print(a3[2])\n",
    "print(a3[3]) \n",
    "print('-'*50)\n",
    "print('한 덩어리로 나옵니다. 중첩 리스트 안에값을 호출하려면??')\n",
    "print(a3[3][0])\n",
    "print(a3[3][1])\n",
    "print(a3[3][2])\n"
   ]
  },
  {
   "cell_type": "markdown",
   "metadata": {},
   "source": [
    "### 2. 인덱싱, 슬라이싱\n",
    "\n",
    "리스트를 인덱스 번호로 접근하면 해당하는 위치의 값(아이템)을 가져온다.\n",
    "\n",
    "* 복습\n",
    "    - 첫번째 인덱스 번호 : 0번 인덱스\n",
    "    - 마지막인덱스 번호 : -1"
   ]
  },
  {
   "cell_type": "markdown",
   "metadata": {},
   "source": [
    "#### 인덱싱(indexing)\n",
    "특정위치에 있는 하나의 아이템에 접근 = 하나의 값 출력"
   ]
  },
  {
   "cell_type": "code",
   "execution_count": 5,
   "metadata": {},
   "outputs": [
    {
     "data": {
      "text/plain": [
       "1"
      ]
     },
     "execution_count": 5,
     "metadata": {},
     "output_type": "execute_result"
    }
   ],
   "source": [
    "a = [1,2,3,4,5,6,7,8,9]\n",
    "# 첫번째 아이템 인덱스 번호 : 0\n",
    "# 인덱싱 문법 : 객체[인덱스번호]\n",
    "a[0]"
   ]
  },
  {
   "cell_type": "code",
   "execution_count": 6,
   "metadata": {},
   "outputs": [
    {
     "name": "stdout",
     "output_type": "stream",
     "text": [
      "6\n",
      "9\n",
      "9\n",
      "9\n"
     ]
    }
   ],
   "source": [
    "# 리스트에서 6가져오기\n",
    "print(a[5])\n",
    "# 리스트의 마지막 값 가져오기 3가지 방법\n",
    "print(a[-1])\n",
    "print(a[8])\n",
    "print(a[len(a)-1])\n",
    "# len()은 인덱스 번호를 가지는 모든 자료의 길이를 알려줍니다."
   ]
  },
  {
   "cell_type": "markdown",
   "metadata": {},
   "source": [
    "#### 슬라이싱(slicing)\n",
    "- 정의 복습 : 연속된 범위에 있는 하나 혹은 하나 이상의 여러개 아이템에 접근한다\n",
    "- 문법기호 : 리스트[시작번호 : 끝번호(:간격)] -> 역시 마지막번호 -1 까지만 접근"
   ]
  },
  {
   "cell_type": "code",
   "execution_count": 7,
   "metadata": {},
   "outputs": [
    {
     "data": {
      "text/plain": [
       "[1, 2, 3]"
      ]
     },
     "execution_count": 7,
     "metadata": {},
     "output_type": "execute_result"
    }
   ],
   "source": [
    "# 리스트의 0~2번째 아이템까지 확인하기\n",
    "# 시작번호 : 0\n",
    "# 끝번호 : 2~3\n",
    "a[0:3]"
   ]
  },
  {
   "cell_type": "code",
   "execution_count": 8,
   "metadata": {},
   "outputs": [
    {
     "data": {
      "text/plain": [
       "[4, 5, 6, 7, 8, 9]"
      ]
     },
     "execution_count": 8,
     "metadata": {},
     "output_type": "execute_result"
    }
   ],
   "source": [
    "# 리스트의 3~마지막 까지 아이템 확인\n",
    "a[3:]"
   ]
  },
  {
   "cell_type": "markdown",
   "metadata": {},
   "source": [
    "#### 3.아이템 추가하기 : 연산자와 함수를 이용한 리스트 아이템 추가\n",
    "\n",
    "1) 산술연산자 : +, *\n",
    "2) 리스트의 함수(메서드) : 리스트.append(), 리스트.extend(), 리스트.insert()"
   ]
  },
  {
   "cell_type": "markdown",
   "metadata": {},
   "source": [
    "#### 3-1) 산술연산자 \n",
    "\n",
    "- 종류 : +, *\n",
    "- 특징 : 원본에 반영되지않음(시뮬레이션)"
   ]
  },
  {
   "cell_type": "code",
   "execution_count": 9,
   "metadata": {},
   "outputs": [
    {
     "name": "stdout",
     "output_type": "stream",
     "text": [
      "['고등어', '꽁치', '연어', '문어', '오징어', '굴']\n",
      "['고등어', '꽁치', '연어'] ['문어', '오징어', '굴']\n",
      "['문어', '오징어', '굴', '문어', '오징어', '굴', '문어', '오징어', '굴']\n"
     ]
    }
   ],
   "source": [
    "# 리스트끼리 결합 : +\n",
    "a = ['고등어', '꽁치', '연어']\n",
    "b = ['문어', '오징어', '굴']\n",
    "\n",
    "print(a+b)\n",
    "print(a,b)\n",
    "print(b*3)"
   ]
  },
  {
   "cell_type": "markdown",
   "metadata": {},
   "source": [
    "#### 4. 리스트 타입의 함수 (method)\n",
    "* 종류\n",
    "    - 리스트.append(추가할 아이템) : 인자값을 통채로 리스트의 마지막 아이템으로 추가, 인자값은 1개만 받음 = 1개의 아이템만 추가 가능\n",
    "    - 리스트.extend(추가할 아이템) : 인자값의 아이템을 뽑아서 리스트의 마지막 아이템으로 추가, 인자값은 1개만 받음, 단 여러 개의 아이템 추가 가능\n",
    "    - 리스트.insert(인덱스번호, 추가할 아이템) : 위치를 지정해서 아이템을 삽입할 수 있음, 통채로 아이템을 추가\n",
    "    - 특징 : 원본에 바로 적용이 됨\n",
    "* 참고 연산자 : in 연산자 (결과값은 bool type)\n",
    "\n",
    "메서드 = 클래스 내장"
   ]
  },
  {
   "cell_type": "code",
   "execution_count": 10,
   "metadata": {},
   "outputs": [],
   "source": [
    "# append는 리스트 뒤에 하나씩추가\n",
    "# insert는 내가 원하는 리스트 위치에삽입"
   ]
  },
  {
   "cell_type": "code",
   "execution_count": 11,
   "metadata": {},
   "outputs": [
    {
     "name": "stdout",
     "output_type": "stream",
     "text": [
      "['브라질', '칠레', '콜롬비아']\n",
      "['브라질', '칠레', '콜롬비아', '아르헨티나']\n"
     ]
    }
   ],
   "source": [
    "# 리스트 생성\n",
    "# append 사용\n",
    "남미 = ['브라질', '칠레', '콜롬비아']\n",
    "print(남미)\n",
    "\n",
    "남미.append('아르헨티나')\n",
    "print(남미)\n"
   ]
  },
  {
   "cell_type": "code",
   "execution_count": 12,
   "metadata": {},
   "outputs": [],
   "source": [
    "# .append()는 한번에 하나만 추가가능\n",
    "# 남미.append('베네수엘라', '우루과이')\n",
    "# print(남미)"
   ]
  },
  {
   "cell_type": "code",
   "execution_count": 13,
   "metadata": {},
   "outputs": [
    {
     "name": "stdout",
     "output_type": "stream",
     "text": [
      "['브라질', '칠레', '콜롬비아', '아르헨티나', ['베네수엘라', '우루과이']]\n",
      "['베네수엘라', '우루과이']\n"
     ]
    }
   ],
   "source": [
    "# append 는 번호 하나만 인자로 받기 때문에 2개를 넣으려 하면 이렇게 나옵니다.\n",
    "\n",
    "남미.append(['베네수엘라', '우루과이'])\n",
    "print(남미)\n",
    "print(남미[4])"
   ]
  },
  {
   "cell_type": "code",
   "execution_count": 14,
   "metadata": {},
   "outputs": [
    {
     "name": "stdout",
     "output_type": "stream",
     "text": [
      "['브라질', '칠레', '콜롬비아', '아르헨티나', ['베네수엘라', '우루과이'], '페루', '에콰도르']\n"
     ]
    }
   ],
   "source": [
    "# extend()\n",
    "# 문법 : 대상리스트.extend(리스트만입력가능)\n",
    "# append()와의 차이점 : 추가대상으로 리스트만 받을수 있다.\n",
    "# 리스트 길이만큼 인덱스 연장(append는 무조건 1만큼만 연장)\n",
    "\n",
    "# 리스트 차원변경없이 여러개 원소를 추가하고 싶다면 extend를 이용하면 됩니다. \n",
    "남미.extend(['페루', '에콰도르'])\n",
    "print(남미)"
   ]
  },
  {
   "cell_type": "code",
   "execution_count": 15,
   "metadata": {},
   "outputs": [],
   "source": [
    "# extend는 하나만 추가하려해도 리스트형태로 추가해야합니다.\n",
    "# 남미.extend([수리남]) <- 이렇게 추가합니다."
   ]
  },
  {
   "cell_type": "code",
   "execution_count": 16,
   "metadata": {},
   "outputs": [
    {
     "name": "stdout",
     "output_type": "stream",
     "text": [
      "['수리남', '브라질', '칠레', '콜롬비아', '아르헨티나', ['베네수엘라', '우루과이'], '페루', '에콰도르']\n",
      "[['페루', '파라과이'], '수리남', '브라질', '칠레', '콜롬비아', '아르헨티나', ['베네수엘라', '우루과이'], '페루', '에콰도르']\n"
     ]
    }
   ],
   "source": [
    "# insert()\n",
    "# 문법 : 대상리스트.insert(인덱스번호, 추가아이템)\n",
    "# 다른 함수와의 차이점 : 아이템 추가가 지정인덱스에 실행됨\n",
    "# append와의 유사점 : 하나의 인덱스 번호에 인자를 통째로 받음\n",
    "# 교체가 아닌 추가이기 때문에 실제 소실되는 자료는 없음\n",
    "남미.insert(0, '수리남')\n",
    "print(남미)\n",
    "\n",
    "남미.insert(0, ['페루', '파라과이'])\n",
    "print(남미)"
   ]
  },
  {
   "cell_type": "code",
   "execution_count": 17,
   "metadata": {},
   "outputs": [
    {
     "name": "stdout",
     "output_type": "stream",
     "text": [
      "True\n",
      "False\n",
      "True\n"
     ]
    }
   ],
   "source": [
    "# in 키워드는 특정 요소가 리스트 내에 있는지 없는지 여부를 물어봅니다.\n",
    "# 값 in 리스트\n",
    "# 아르헨티나가 남미 내에 존재하나요? -> 아르헨티나 in a\n",
    "# 답은 True or False값을 출력합니다.\n",
    "\n",
    "print('브라질' in 남미)\n",
    "print('베네수엘라' in 남미) #베네수엘라 있는것처럼 보이지만 데이터상에는 없습니다.\n",
    "print('베네수엘라' in 남미[6]) # 베네수엘라가 남미 6번째 값안에 있습니까?\n"
   ]
  },
  {
   "cell_type": "code",
   "execution_count": 18,
   "metadata": {},
   "outputs": [
    {
     "name": "stdout",
     "output_type": "stream",
     "text": [
      "True\n"
     ]
    }
   ],
   "source": [
    "# not in 키워드는 특정 요소가 리스트 내부에 없는지를 물어봅니다.\n",
    "# 값 not in 리스트\n",
    "# 50이 a 리스트에 없습니까? -> 50 not in a\n",
    "print('캐나다' not in 남미)"
   ]
  },
  {
   "cell_type": "markdown",
   "metadata": {},
   "source": [
    "##### << 연습문제 >>\n",
    "아래의 순서에 맞추어 직접 실행해보세요.\n",
    "1) 빈 리스트 생성\n",
    "2) 1번 리스트에 숫자 1,2,3 을 아이템으로 추가\n",
    "3) 2번 리스트의 2번째(사람기준 3번째) 위치에 문자 100 을 아이템으로 추가\n",
    "4) 3번 리스트의 마지막에 문자 A, B를 아이템으로 가진 리스트를 아이템으로 추가\n",
    "5) 4번 리스트의 아이템을 2번 반복해서 가지는 리스트를 출력"
   ]
  },
  {
   "cell_type": "code",
   "execution_count": 19,
   "metadata": {},
   "outputs": [
    {
     "name": "stdout",
     "output_type": "stream",
     "text": [
      "[1, 2, 3]\n",
      "[1, 2, 100, 3]\n",
      "[1, 2, 100, 3, ['A', 'B']]\n",
      "[1, 2, 100, 3, ['A', 'B'], ['A', 'B', 'A', 'B']]\n"
     ]
    }
   ],
   "source": [
    "bb = []\n",
    "bb.extend([1,2,3])\n",
    "print(bb)\n",
    "bb.insert(2,100)\n",
    "print(bb)\n",
    "bb.append(['A',\"B\"])\n",
    "print(bb)\n",
    "bb.append(['A','B']*2)\n",
    "print(bb)"
   ]
  },
  {
   "cell_type": "code",
   "execution_count": 20,
   "metadata": {},
   "outputs": [
    {
     "name": "stdout",
     "output_type": "stream",
     "text": [
      "[1, 2, 3]\n"
     ]
    }
   ],
   "source": [
    "list1 = list()\n",
    "list1.append(1)\n",
    "list1.append(2)\n",
    "list1.append(3)\n",
    "\n",
    "print(list1)"
   ]
  },
  {
   "cell_type": "code",
   "execution_count": 21,
   "metadata": {},
   "outputs": [
    {
     "name": "stdout",
     "output_type": "stream",
     "text": [
      "[1, 2, 100, 3]\n"
     ]
    }
   ],
   "source": [
    "list1.insert(2, 100)\n",
    "print(list1)"
   ]
  },
  {
   "cell_type": "code",
   "execution_count": 22,
   "metadata": {},
   "outputs": [
    {
     "name": "stdout",
     "output_type": "stream",
     "text": [
      "[1, 2, 100, 3, ['A', 'B']]\n"
     ]
    }
   ],
   "source": [
    "list1.append(['A', 'B'])\n",
    "print(list1)"
   ]
  },
  {
   "cell_type": "code",
   "execution_count": 23,
   "metadata": {},
   "outputs": [
    {
     "name": "stdout",
     "output_type": "stream",
     "text": [
      "[1, 2, 100, 3, ['A', 'B'], 1, 2, 100, 3, ['A', 'B']]\n"
     ]
    }
   ],
   "source": [
    "print(list1 * 2)"
   ]
  },
  {
   "cell_type": "markdown",
   "metadata": {},
   "source": [
    "#### 5. 아이템 수정하기\n",
    "- 인덱싱, 슬라이싱을 이용해서 아이템을 수정할 수 있습니다."
   ]
  },
  {
   "cell_type": "code",
   "execution_count": 24,
   "metadata": {},
   "outputs": [],
   "source": [
    "# 리스트 생성\n",
    "a = [1,2,3,4]"
   ]
  },
  {
   "cell_type": "code",
   "execution_count": 25,
   "metadata": {},
   "outputs": [
    {
     "name": "stdout",
     "output_type": "stream",
     "text": [
      "[[10, 20], 2, 3, 4]\n"
     ]
    }
   ],
   "source": [
    "# 리스트는 기본적으로 하나의 아이템만 수정가능\n",
    "# 0번 인덱스의 값을 [10,20]으로 수정\n",
    "# 결과 : [[10,20],2,3,4]\n",
    "a[0] = [10, 20]\n",
    "print(a)\n",
    "# 기존의 값 1은 사라지고 [10,20]이 대체됩니다."
   ]
  },
  {
   "cell_type": "code",
   "execution_count": 26,
   "metadata": {},
   "outputs": [
    {
     "name": "stdout",
     "output_type": "stream",
     "text": [
      "[10, 20, 2, 3, 4]\n"
     ]
    }
   ],
   "source": [
    "# 연속된 범위에 있는 여러개의 아이템 수정\n",
    "# 0번 인덱스만 석택 <- 슬라이싱 \n",
    "# 슬라이싱은 .extend 처럼 적용됩니다.\n",
    "\n",
    "a2 = [1,2,3,4]\n",
    "a2[:1] = [10,20] # 실제 작동은 0번만 적용됩니다.\n",
    "print(a2)"
   ]
  },
  {
   "cell_type": "code",
   "execution_count": 27,
   "metadata": {},
   "outputs": [
    {
     "name": "stdout",
     "output_type": "stream",
     "text": [
      "[100, [1, 2, 3], 2, 3, 4]\n"
     ]
    }
   ],
   "source": [
    "# 슬라이싱으로 값을 할당할 때의 주의점 : 전달값은 1개여도 리스트로 작성해야됩니다.\n",
    "# extend와 비슷합니다.\n",
    "\n",
    "# a2[0:1] = 100 -> X\n",
    "a2[0:1] = [100] # -> O\n",
    "a2[1:2] = [[1,2,3]]\n",
    "\n",
    "print(a2)"
   ]
  },
  {
   "cell_type": "markdown",
   "metadata": {},
   "source": [
    "##### << 연습문제 >>\n",
    "아래 조건에 맞추어 리스트를 수정하세요. <br>\n",
    "\n",
    "[ 10, 99, 3, '사과', 73, '바나나' ] <br>\n",
    "    \n",
    "조건1)  '사과'를 'apple'로 수정 <br>\n",
    "조건2)  99, 3 을 9, 33으로 수정 <br>\n",
    "조건3)  73 을 [ 73, 74 ] 로 수정 <br>"
   ]
  },
  {
   "cell_type": "code",
   "execution_count": 28,
   "metadata": {},
   "outputs": [],
   "source": [
    "문제 = [10, 99, 3, '사과', 73, '바나나']"
   ]
  },
  {
   "cell_type": "code",
   "execution_count": 29,
   "metadata": {},
   "outputs": [
    {
     "name": "stdout",
     "output_type": "stream",
     "text": [
      "[10, 99, 3, 'Apple', 73, '바나나']\n"
     ]
    }
   ],
   "source": [
    "문제[3] = 'Apple'\n",
    "print(문제)"
   ]
  },
  {
   "cell_type": "code",
   "execution_count": 30,
   "metadata": {},
   "outputs": [
    {
     "name": "stdout",
     "output_type": "stream",
     "text": [
      "[10, 9, 33, 'Apple', 73, '바나나']\n"
     ]
    }
   ],
   "source": [
    "문제[1:3] =  [9,33]\n",
    "print(문제)"
   ]
  },
  {
   "cell_type": "code",
   "execution_count": 31,
   "metadata": {},
   "outputs": [
    {
     "name": "stdout",
     "output_type": "stream",
     "text": [
      "[10, 9, 33, 'Apple', [[73, 74]], '바나나']\n"
     ]
    }
   ],
   "source": [
    "문제[-2] = [[73,74]]\n",
    "print(문제)"
   ]
  },
  {
   "cell_type": "markdown",
   "metadata": {},
   "source": [
    "#### 6.아이템 삭제하기\n",
    "- 슬라이싱\n",
    "- del 키워드 + 인덱싱 / 슬라이싱\n",
    "- remove() 메서드 : 값을 기준으로 삭제합니다.\n",
    "- pop()\n",
    "    - 인자값에 아무것도 입력하지 않거나 -1을 입력하면 마지막 인덱스를 삭제합니다.\n",
    "    - 특정 인덱스를 지정해 삭제도 가능합니다."
   ]
  },
  {
   "cell_type": "code",
   "execution_count": 32,
   "metadata": {},
   "outputs": [],
   "source": [
    "# 리스트 생성하기\n",
    "a1 = [10,20,30,40,50]\n",
    "a2 = [10,20,30,40,50]"
   ]
  },
  {
   "cell_type": "code",
   "execution_count": 33,
   "metadata": {},
   "outputs": [
    {
     "data": {
      "text/plain": [
       "[10]"
      ]
     },
     "execution_count": 33,
     "metadata": {},
     "output_type": "execute_result"
    }
   ],
   "source": [
    "a1[:1]"
   ]
  },
  {
   "cell_type": "code",
   "execution_count": 34,
   "metadata": {},
   "outputs": [
    {
     "data": {
      "text/plain": [
       "[20, 30, 40, 50]"
      ]
     },
     "execution_count": 34,
     "metadata": {},
     "output_type": "execute_result"
    }
   ],
   "source": [
    "# 하나의 아이템 삭제하기 1- 슬라이싱 + 빈 리스트를 이용하는 방법\n",
    "# 0번 인덱스 값을 삭제\n",
    "# 슬라이싱의 개입으로만 데이터 삭제가 가능합니다.\n",
    "a1[:1] = []\n",
    "a1"
   ]
  },
  {
   "cell_type": "code",
   "execution_count": 35,
   "metadata": {},
   "outputs": [
    {
     "data": {
      "text/plain": [
       "[[], 20, 30, 40, 50]"
      ]
     },
     "execution_count": 35,
     "metadata": {},
     "output_type": "execute_result"
    }
   ],
   "source": [
    "# 만약 슬라이싱이 아닌 인덱싱 지정 후 빈 리스트 대입할때는??\n",
    "a2[0] = []\n",
    "a2\n",
    "# 보시는바와 같이 빈 박스가 들어갑니다. 인덱싱과 슬라이싱의 차이를 잘 알아두세요"
   ]
  },
  {
   "cell_type": "code",
   "execution_count": 36,
   "metadata": {},
   "outputs": [
    {
     "data": {
      "text/plain": [
       "[20, 30, 40]"
      ]
     },
     "execution_count": 36,
     "metadata": {},
     "output_type": "execute_result"
    }
   ],
   "source": [
    "# 하나의 아이템 삭제하기 2-del 키워드 + 인덱싱\n",
    "del a1[-1]\n",
    "a1"
   ]
  },
  {
   "cell_type": "code",
   "execution_count": 37,
   "metadata": {},
   "outputs": [],
   "source": [
    "# 만약 인덱싱 없이 del 키워드 사용시\n",
    "# 특정 리스트 통째로 삭제됩니다.\n",
    "del a2"
   ]
  },
  {
   "cell_type": "code",
   "execution_count": 38,
   "metadata": {},
   "outputs": [],
   "source": [
    "# a2\n",
    "# 보시는 것처럼 a2는 메모리에서 완전히 삭제됩니다."
   ]
  },
  {
   "cell_type": "code",
   "execution_count": 39,
   "metadata": {},
   "outputs": [],
   "source": [
    "# 하나의 아이템 삭제하기 3 - remove()메서드\n",
    "# 문법 : 리스트.remove(삭제할 자료(인덱스 아님))\n",
    "a = [1,2,3,3,3,4,5]"
   ]
  },
  {
   "cell_type": "code",
   "execution_count": 40,
   "metadata": {},
   "outputs": [
    {
     "name": "stdout",
     "output_type": "stream",
     "text": [
      "[1, 2, 3, 3, 3, 4]\n"
     ]
    }
   ],
   "source": [
    "a.remove(5)\n",
    "print(a)"
   ]
  },
  {
   "cell_type": "code",
   "execution_count": 41,
   "metadata": {},
   "outputs": [
    {
     "name": "stdout",
     "output_type": "stream",
     "text": [
      "[1, 2, 3, 3, 4]\n"
     ]
    }
   ],
   "source": [
    "# 중복된 아이템이 존재하면 가장 앞서는 인덱스 자료 하나만 삭제합니다.\n",
    "# 0번에 가까운 것부터 삭제됩니다.\n",
    "a.remove(3)\n",
    "print(a)"
   ]
  },
  {
   "cell_type": "code",
   "execution_count": 42,
   "metadata": {},
   "outputs": [
    {
     "data": {
      "text/plain": [
       "[1, 2]"
      ]
     },
     "execution_count": 42,
     "metadata": {},
     "output_type": "execute_result"
    }
   ],
   "source": [
    "# del 키워드는 단일 자료 뿐만 아니라 연속된 범위(슬라이싱) 자료 삭제도 가능합니다.\n",
    "del a[2:]\n",
    "a"
   ]
  },
  {
   "cell_type": "code",
   "execution_count": 43,
   "metadata": {},
   "outputs": [
    {
     "data": {
      "text/plain": [
       "[1, 2, 3, 4, 5, 6]"
      ]
     },
     "execution_count": 43,
     "metadata": {},
     "output_type": "execute_result"
    }
   ],
   "source": [
    "# 하나의 아이템 삭제하기 4 - pop() 메서드\n",
    "# 마지막 위치값이 몇이었는지 확인시켜주소 삭제함\n",
    "a = [1,2,3,4,5,]\n",
    "a.append(6)\n",
    "a"
   ]
  },
  {
   "cell_type": "code",
   "execution_count": 44,
   "metadata": {},
   "outputs": [
    {
     "data": {
      "text/plain": [
       "[1, 2, 3, 4, 5]"
      ]
     },
     "execution_count": 44,
     "metadata": {},
     "output_type": "execute_result"
    }
   ],
   "source": [
    "# 인덱스 번호 미기입시 마지막 인덱스 자료를 삭제합니다.(지금 기준으로는 6이삭제됩니다.)\n",
    "\n",
    "a.pop() \n",
    "a"
   ]
  },
  {
   "cell_type": "code",
   "execution_count": 45,
   "metadata": {},
   "outputs": [
    {
     "name": "stdout",
     "output_type": "stream",
     "text": [
      "3\n",
      "[1, 2, 4, 5]\n"
     ]
    }
   ],
   "source": [
    "# 삭제하려는 인덱스 번호를 지정하면 마지막이 아닌 입력된 인덱스 위치 자료를 삭제합니다.\n",
    "print(a.pop(2)) #-> 3이 삭제된것을 알수 있습니다.\n",
    "print(a)"
   ]
  },
  {
   "cell_type": "markdown",
   "metadata": {},
   "source": [
    "#### 7. 아이템 정렬하기\n",
    "\n",
    "- 함수\n",
    "    - sort() : 기본동작 = 오름차순정렬(작은 값이 먼저오고 큰 값이 나중에옵니다)\n",
    "    - reverse() : 기존 리스트의 처음과 마지막 순서를 뒤집어서 나열합니다."
   ]
  },
  {
   "cell_type": "code",
   "execution_count": 46,
   "metadata": {},
   "outputs": [],
   "source": [
    "a = [10, -30, 57, -33, 71, 1, 34, -2]"
   ]
  },
  {
   "cell_type": "code",
   "execution_count": 47,
   "metadata": {},
   "outputs": [
    {
     "data": {
      "text/plain": [
       "[-33, -30, -2, 1, 10, 34, 57, 71]"
      ]
     },
     "execution_count": 47,
     "metadata": {},
     "output_type": "execute_result"
    }
   ],
   "source": [
    "# 값을 오름차순으로 정렬 : sort() 기본동작 / sort(reverse =  False)\n",
    "# 원본 리스트 변결\n",
    "a. sort()\n",
    "a\n",
    "# 작은숫자일수록 0 위치에 가까워집니다."
   ]
  },
  {
   "cell_type": "code",
   "execution_count": 48,
   "metadata": {},
   "outputs": [
    {
     "data": {
      "text/plain": [
       "[71, 57, 34, 10, 1, -2, -30, -33]"
      ]
     },
     "execution_count": 48,
     "metadata": {},
     "output_type": "execute_result"
    }
   ],
   "source": [
    "# 값을 오름차순이 아닌 내림차순으로 정렬하고 싶다면?? : sort(reverse = True)\n",
    "a.sort(reverse = True)\n",
    "a"
   ]
  },
  {
   "cell_type": "code",
   "execution_count": 49,
   "metadata": {},
   "outputs": [
    {
     "name": "stdout",
     "output_type": "stream",
     "text": [
      "[95, 5, 46, 32, 71, 10]\n"
     ]
    }
   ],
   "source": [
    "# 값을 인덱스기준으로 반대로 뒤집기 : reverse(())\n",
    "# 값의 크기가 아닌 순서를 반대로 뒤집습니다.\n",
    "b = [10, 71, 32, 46, 5, 95]\n",
    "\n",
    "b.reverse()\n",
    "print(b)\n"
   ]
  },
  {
   "cell_type": "code",
   "execution_count": 50,
   "metadata": {},
   "outputs": [
    {
     "name": "stdout",
     "output_type": "stream",
     "text": [
      "['남아프리카공화국', '대한민국', '이란', '캐나다', '콜롬비아']\n",
      "['콜롬비아', '캐나다', '이란', '대한민국', '남아프리카공화국']\n"
     ]
    }
   ],
   "source": [
    "#문자 정렬도 가능합니다.\n",
    "국가 = ['캐나다', '남아프리카공화국', '콜롬비아', '대한민국' , '이란']\n",
    "\n",
    "국가.sort()\n",
    "print(국가)\n",
    "\n",
    "국가.sort(reverse = True)\n",
    "print(국가)"
   ]
  },
  {
   "cell_type": "code",
   "execution_count": 51,
   "metadata": {},
   "outputs": [
    {
     "name": "stdout",
     "output_type": "stream",
     "text": [
      "['이란', '대한민국', '콜롬비아', '남아프리카공화국', '캐나다']\n"
     ]
    }
   ],
   "source": [
    "국가 = ['캐나다', '남아프리카공화국', '콜롬비아', '대한민국' , '이란']\n",
    "\n",
    "국가.reverse()\n",
    "print(국가)"
   ]
  },
  {
   "cell_type": "markdown",
   "metadata": {},
   "source": [
    "#### 8. 아이템 개수 count\n",
    "\n",
    "- 함수 \n",
    "\n",
    "    - 리스트.count(값) : 조회값이 리스트 내부에 몇 개 있느냐 개수를 보여줍니다.\n",
    "    - len() : 파이썬 내장함수로 리스트 내부에서 전체 아이템이 몇 개 있는지 보여줍니다."
   ]
  },
  {
   "cell_type": "code",
   "execution_count": 52,
   "metadata": {},
   "outputs": [],
   "source": [
    "a = [1,2,3,3,3,4,5,6]"
   ]
  },
  {
   "cell_type": "code",
   "execution_count": 53,
   "metadata": {},
   "outputs": [
    {
     "name": "stdout",
     "output_type": "stream",
     "text": [
      "1\n",
      "3\n"
     ]
    }
   ],
   "source": [
    "# 특정 아이템의 갯수 : count()\n",
    "print(a.count(6))\n",
    "print(a.count(3))"
   ]
  },
  {
   "cell_type": "code",
   "execution_count": 54,
   "metadata": {},
   "outputs": [
    {
     "name": "stdout",
     "output_type": "stream",
     "text": [
      "8\n"
     ]
    }
   ],
   "source": [
    "# 전체 아이템의 갯수를 알고싶을 때\n",
    "print(len(a))"
   ]
  }
 ],
 "metadata": {
  "kernelspec": {
   "display_name": "Python 3.9.7 ('base')",
   "language": "python",
   "name": "python3"
  },
  "language_info": {
   "codemirror_mode": {
    "name": "ipython",
    "version": 3
   },
   "file_extension": ".py",
   "mimetype": "text/x-python",
   "name": "python",
   "nbconvert_exporter": "python",
   "pygments_lexer": "ipython3",
   "version": "3.9.7"
  },
  "orig_nbformat": 4,
  "vscode": {
   "interpreter": {
    "hash": "b34b863c255992f18be4e3271ad309d6f472a641574d2a36abb232a0d7577314"
   }
  }
 },
 "nbformat": 4,
 "nbformat_minor": 2
}
