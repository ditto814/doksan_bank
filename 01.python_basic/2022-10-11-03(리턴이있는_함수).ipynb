{
 "cells": [
  {
   "cell_type": "code",
   "execution_count": 1,
   "metadata": {},
   "outputs": [],
   "source": [
    "def plus(a):\n",
    "    print(a + 1)"
   ]
  },
  {
   "cell_type": "code",
   "execution_count": null,
   "metadata": {},
   "outputs": [],
   "source": [
    "# plus를 호출했을 때 a + 1이 콘솔에 찍힙니다.\n",
    "# print(plus(5)) -> 몇이 찍힐까요??"
   ]
  },
  {
   "cell_type": "code",
   "execution_count": 2,
   "metadata": {},
   "outputs": [
    {
     "name": "stdout",
     "output_type": "stream",
     "text": [
      "6\n",
      "None\n"
     ]
    }
   ],
   "source": [
    "print(plus(5))"
   ]
  },
  {
   "cell_type": "code",
   "execution_count": null,
   "metadata": {},
   "outputs": [],
   "source": [
    "# return 구문은, 함수 내 마지막 지점에 사용할 수 있습니다.\n",
    "# return 구문이 실행되면, 함수가 종료되며 동시에 해당 함수의 결과값이\n",
    "# 호출한 위치에 할당됩니다."
   ]
  },
  {
   "cell_type": "code",
   "execution_count": 4,
   "metadata": {},
   "outputs": [],
   "source": [
    "def plus2(a):\n",
    "    return a + 1"
   ]
  },
  {
   "cell_type": "code",
   "execution_count": 5,
   "metadata": {},
   "outputs": [
    {
     "name": "stdout",
     "output_type": "stream",
     "text": [
      "6\n"
     ]
    }
   ],
   "source": [
    "print(plus2(5))"
   ]
  },
  {
   "cell_type": "code",
   "execution_count": null,
   "metadata": {},
   "outputs": [],
   "source": [
    "# return과 print의 차이"
   ]
  },
  {
   "cell_type": "code",
   "execution_count": 8,
   "metadata": {},
   "outputs": [
    {
     "name": "stdout",
     "output_type": "stream",
     "text": [
      "6\n",
      "None\n",
      "first func\n",
      "51\n",
      "second func\n"
     ]
    }
   ],
   "source": [
    "# 기본적인 함수의 예제(불완전한 실행문)\n",
    "def plus(a):\n",
    "    print(a + 1)\n",
    "# return 구문은, 함수 내 마지막 지점에 사용할 수 있습니다.\n",
    "# return구문이 실행되면, 함수가 종료되며 동시에 해당 함수의 결과값이\n",
    "# 호출한 위치에 할당됩니다.\n",
    "def plus2(a):\n",
    "    return a + 1\n",
    "print(plus(5))\n",
    "print(\"first func\")\n",
    "print(plus2(50))\n",
    "print(\"second func\")"
   ]
  }
 ],
 "metadata": {
  "kernelspec": {
   "display_name": "Python 3.9.7 ('base')",
   "language": "python",
   "name": "python3"
  },
  "language_info": {
   "codemirror_mode": {
    "name": "ipython",
    "version": 3
   },
   "file_extension": ".py",
   "mimetype": "text/x-python",
   "name": "python",
   "nbconvert_exporter": "python",
   "pygments_lexer": "ipython3",
   "version": "3.9.7"
  },
  "orig_nbformat": 4,
  "vscode": {
   "interpreter": {
    "hash": "b34b863c255992f18be4e3271ad309d6f472a641574d2a36abb232a0d7577314"
   }
  }
 },
 "nbformat": 4,
 "nbformat_minor": 2
}
