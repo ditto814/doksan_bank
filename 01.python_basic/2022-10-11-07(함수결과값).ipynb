{
 "cells": [
  {
   "cell_type": "markdown",
   "metadata": {},
   "source": [
    "#### 7. 함수의 결과 값\n",
    "- 함수의 결과 값은 항상 1개\n",
    "- 여러 개의 결과를 가질 수 있지만 하나의 튜플로 전달<br>\n",
    "\n",
    "▶: 기본 문법\n",
    "\n",
    "          def 함수이름(매개변수이름):\n",
    "          \n",
    "             return 결과값 1 , 결과값 2"
   ]
  },
  {
   "cell_type": "code",
   "execution_count": 1,
   "metadata": {},
   "outputs": [],
   "source": [
    "# return 키워드는 전달박은 결과들을 하나의 '튜플'로 묶어서 반환\n",
    "# 최종적으로 '하나의 변수'에 담을 수 있는 '하나의 값'으로 처리\n",
    "def test (a,b):\n",
    "    sum_ = a + b\n",
    "    mul = a *b \n",
    "    return sum_, mul"
   ]
  },
  {
   "cell_type": "code",
   "execution_count": 2,
   "metadata": {},
   "outputs": [
    {
     "name": "stdout",
     "output_type": "stream",
     "text": [
      "(7, 12)\n"
     ]
    }
   ],
   "source": [
    "# 결과를 통째로 가져오기\n",
    "a = test(3,4)\n",
    "print(a)"
   ]
  },
  {
   "cell_type": "code",
   "execution_count": 3,
   "metadata": {},
   "outputs": [
    {
     "name": "stdout",
     "output_type": "stream",
     "text": [
      "11\n",
      "30\n"
     ]
    }
   ],
   "source": [
    "# 결과를 개별 변수에 나눠서 가져오기\n",
    "# 튜플리턴시 좌변에 튜플 내부요소 갯수만큼 변수를 선언하면 따로따로 저장받음\n",
    "s, m = test(5,6)\n",
    "print(s)\n",
    "print(m)"
   ]
  },
  {
   "cell_type": "markdown",
   "metadata": {},
   "source": [
    "##### 리스트로 입력받은 수들에 대해 양수만 필터링하여 반환해주는 함수를 작성해보세요\n",
    "\n",
    "- 조건.1 입력값은 인자값으로 가변인자 리스트를 전달\n",
    "- 조건.2 결과값은 양수로만 구성된 새로운 리스트"
   ]
  },
  {
   "cell_type": "code",
   "execution_count": 1,
   "metadata": {},
   "outputs": [],
   "source": [
    "# 리스트 문제\n",
    "def pos_num(num_00):\n",
    "\n",
    "    print(num_00)\n",
    "\n",
    "    pos_list = []\n",
    "\n",
    "    for i in num_00:\n",
    "        if i > 0:\n",
    "            pos_list.append(i)\n",
    "\n",
    "    return pos_list\n"
   ]
  },
  {
   "cell_type": "code",
   "execution_count": 2,
   "metadata": {},
   "outputs": [
    {
     "name": "stdout",
     "output_type": "stream",
     "text": [
      "[50, -30, 40]\n"
     ]
    },
    {
     "data": {
      "text/plain": [
       "[50, 40]"
      ]
     },
     "execution_count": 2,
     "metadata": {},
     "output_type": "execute_result"
    }
   ],
   "source": [
    "pos_num([50, -30, 40])"
   ]
  },
  {
   "cell_type": "code",
   "execution_count": 3,
   "metadata": {},
   "outputs": [],
   "source": [
    "# 튜플 문제\n",
    "def postive_list(*numbers):\n",
    "    # 양수를 적재할 빈 튜플 생성\n",
    "    postive_nums = []\n",
    "\n",
    "    # numbers 내부에 있던 숫자들을 순차적으로 number에 대입해 검사\n",
    "    for number in numbers:\n",
    "        if number > 0 :\n",
    "            postive_nums.append(number)\n",
    "    # 리스트 리턴\n",
    "    return postive_nums"
   ]
  },
  {
   "cell_type": "code",
   "execution_count": 4,
   "metadata": {},
   "outputs": [
    {
     "data": {
      "text/plain": [
       "[1, 5, 6, 7]"
      ]
     },
     "execution_count": 4,
     "metadata": {},
     "output_type": "execute_result"
    }
   ],
   "source": [
    "postive_list(1, -4, 5, 6, 7, -23)"
   ]
  },
  {
   "cell_type": "code",
   "execution_count": null,
   "metadata": {},
   "outputs": [],
   "source": [
    "# ##### 리스트로 입력받은 수들에 대해 양수만 필터링하여 반환해주는 함수를 작성해보세요\n",
    "\n",
    "# - 조건.1 입력값은 인자값으로 가변인자 리스트를 전달\n",
    "# - 조건.2 결과값은 양수로만 구성된 새로운 리스트"
   ]
  },
  {
   "cell_type": "code",
   "execution_count": 21,
   "metadata": {},
   "outputs": [],
   "source": [
    "def pos_filter(numbers):\n",
    "\n",
    "    print(numbers)\n",
    "    pos_list = []\n",
    "\n",
    "    for number in numbers:\n",
    "        if number > 0:\n",
    "            pos_list.append(number)\n",
    "\n",
    "    return pos_list"
   ]
  },
  {
   "cell_type": "code",
   "execution_count": 22,
   "metadata": {},
   "outputs": [
    {
     "name": "stdout",
     "output_type": "stream",
     "text": [
      "[90, 78, -98, 11, -3000]\n"
     ]
    },
    {
     "data": {
      "text/plain": [
       "[90, 78, 11]"
      ]
     },
     "execution_count": 22,
     "metadata": {},
     "output_type": "execute_result"
    }
   ],
   "source": [
    "pos_filter([90, 78, -98, 11, -3000])"
   ]
  },
  {
   "cell_type": "code",
   "execution_count": 1,
   "metadata": {},
   "outputs": [],
   "source": [
    "# ##### 리스트로 입력받은 수들에 대해 양수만 필터링하여 반환해주는 함수를 작성해보세요\n",
    "\n",
    "# - 조건.1 입력값은 인자값으로 가변인자 리스트를 전달\n",
    "# - 조건.2 결과값은 양수로만 구성된 새로운 리스트\n",
    "\n",
    "def pos_ft(scores):\n",
    "    print(scores)\n",
    "\n",
    "    result00 = []\n",
    "\n",
    "    for score in scores:\n",
    "        if score > 0:\n",
    "            result00.append(score)\n",
    "\n",
    "    return result00\n"
   ]
  },
  {
   "cell_type": "code",
   "execution_count": 3,
   "metadata": {},
   "outputs": [
    {
     "name": "stdout",
     "output_type": "stream",
     "text": [
      "[90, 95, 77, 76, -56]\n"
     ]
    },
    {
     "data": {
      "text/plain": [
       "[90, 95, 77, 76]"
      ]
     },
     "execution_count": 3,
     "metadata": {},
     "output_type": "execute_result"
    }
   ],
   "source": [
    "pos_ft([90, 95, 77, 76, -56])"
   ]
  }
 ],
 "metadata": {
  "kernelspec": {
   "display_name": "Python 3.9.7 ('base')",
   "language": "python",
   "name": "python3"
  },
  "language_info": {
   "codemirror_mode": {
    "name": "ipython",
    "version": 3
   },
   "file_extension": ".py",
   "mimetype": "text/x-python",
   "name": "python",
   "nbconvert_exporter": "python",
   "pygments_lexer": "ipython3",
   "version": "3.9.7"
  },
  "orig_nbformat": 4,
  "vscode": {
   "interpreter": {
    "hash": "b34b863c255992f18be4e3271ad309d6f472a641574d2a36abb232a0d7577314"
   }
  }
 },
 "nbformat": 4,
 "nbformat_minor": 2
}
