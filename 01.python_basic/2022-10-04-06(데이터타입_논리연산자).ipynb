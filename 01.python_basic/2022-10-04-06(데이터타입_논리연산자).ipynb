{
 "cells": [
  {
   "cell_type": "markdown",
   "metadata": {},
   "source": [
    "### 3) 논리연산자\n",
    "- 여러개의 조건식을 활용하기 위한 명령어\n",
    "- bool type 결과 반환 : Ture, False"
   ]
  },
  {
   "cell_type": "code",
   "execution_count": 1,
   "metadata": {},
   "outputs": [
    {
     "name": "stdout",
     "output_type": "stream",
     "text": [
      "True\n",
      "False\n"
     ]
    }
   ],
   "source": [
    "# and 연산자 : 조건식1 and 조건식2\n",
    "# 조건식1 and 조건식2 둘가 True 면 True값 반환 \n",
    "# 둘 중 하나만 False여도 최종결과는 False\n",
    "# 둘 다 False면 최종결과는 False\n",
    "\n",
    "print(10 < 12 and 0 > -5)\n",
    "print(8 < 3 and 0 > -5)"
   ]
  },
  {
   "cell_type": "code",
   "execution_count": 2,
   "metadata": {},
   "outputs": [
    {
     "name": "stdout",
     "output_type": "stream",
     "text": [
      "True\n",
      "True\n",
      "False\n",
      "False\n",
      "True\n"
     ]
    }
   ],
   "source": [
    "# bool(자료)는 해당 자료의 참, 거짓 판별\n",
    "# 0.0 / 0만 아니면 전부 Tru로 판별\n",
    "print(bool(10))\n",
    "print(bool(-10))\n",
    "print(bool(0))\n",
    "print(bool(0.0))\n",
    "\n",
    "print(bool(10<12))"
   ]
  }
 ],
 "metadata": {
  "kernelspec": {
   "display_name": "Python 3.9.7 ('base')",
   "language": "python",
   "name": "python3"
  },
  "language_info": {
   "codemirror_mode": {
    "name": "ipython",
    "version": 3
   },
   "file_extension": ".py",
   "mimetype": "text/x-python",
   "name": "python",
   "nbconvert_exporter": "python",
   "pygments_lexer": "ipython3",
   "version": "3.9.7"
  },
  "orig_nbformat": 4,
  "vscode": {
   "interpreter": {
    "hash": "b34b863c255992f18be4e3271ad309d6f472a641574d2a36abb232a0d7577314"
   }
  }
 },
 "nbformat": 4,
 "nbformat_minor": 2
}
