{
 "cells": [
  {
   "cell_type": "markdown",
   "metadata": {},
   "source": [
    "## > 포맷팅(formating)\n",
    "\n",
    "특정 값만 바뀌고 일정한 형식을 가지는 문자열을 작성할 수 있는 기법"
   ]
  },
  {
   "cell_type": "markdown",
   "metadata": {},
   "source": [
    "### % 포맷팅\n",
    "- 데이터 타입에 따른 분류 : 정수, 실수, 문자\n",
    "- 옵션 : 문자열 길이, 표현할 아이템 갯수, 공백\n",
    "\n",
    "### 1) 숫자 값 대입"
   ]
  },
  {
   "cell_type": "code",
   "execution_count": 2,
   "metadata": {},
   "outputs": [],
   "source": [
    "# 1. 가변자료가 들어갈 자리(온도, 습도 등)에 해당하는 구멍(%자료형)을 만들어 줍니다.\n",
    "# 2. 구멍이 뚫린 문자열 뒤에 %로 연결한 다음 집어넣을 값을 적어줍니다."
   ]
  },
  {
   "cell_type": "code",
   "execution_count": 3,
   "metadata": {},
   "outputs": [
    {
     "data": {
      "text/plain": [
       "'오늘은 5일 입니다.'"
      ]
     },
     "execution_count": 3,
     "metadata": {},
     "output_type": "execute_result"
    }
   ],
   "source": [
    "# 정수값 포맷팅 : 정수(int) -> %d\n",
    "'오늘은 %d일 입니다.' % 5 # %뒤에 반드시 숫자를 넣어야 합니다."
   ]
  },
  {
   "cell_type": "code",
   "execution_count": 4,
   "metadata": {},
   "outputs": [
    {
     "data": {
      "text/plain": [
       "'영화관 온도는 22도 입니다.'"
      ]
     },
     "execution_count": 4,
     "metadata": {},
     "output_type": "execute_result"
    }
   ],
   "source": [
    "# 정수 자리의 의미 : 지금 집어넣은 자료를 정수로 변환해 출력 \n",
    "# 실수를 제공하면 정수로 바꿔서 출력(소수점 이하값 버림)\n",
    "'영화관 온도는 %d도 입니다.' % 22.7"
   ]
  },
  {
   "cell_type": "code",
   "execution_count": 5,
   "metadata": {},
   "outputs": [
    {
     "data": {
      "text/plain": [
       "'실험실 온도는 18.774000도 입니다.'"
      ]
     },
     "execution_count": 5,
     "metadata": {},
     "output_type": "execute_result"
    }
   ],
   "source": [
    "# 실수(folat)값 포맷팅 : 실수(float)\n",
    "# %f를 이용하여 값에 대한 구멍을 낸다\n",
    "# %f는 기본적으로 소수점 6자리 까지 표현\n",
    "'실험실 온도는 %f도 입니다.' % 18.774"
   ]
  },
  {
   "cell_type": "code",
   "execution_count": 6,
   "metadata": {},
   "outputs": [
    {
     "data": {
      "text/plain": [
       "'명중률은 약 99.999872 입니다 '"
      ]
     },
     "execution_count": 6,
     "metadata": {},
     "output_type": "execute_result"
    }
   ],
   "source": [
    "# 실수값 포맷팅 2 : %f에 실수 적용시\n",
    "# 소수점 아래 7자리에서 반올림이 이뤄집니다.\n",
    "'명중률은 약 %f 입니다 ' % 99.99987163"
   ]
  },
  {
   "cell_type": "code",
   "execution_count": 7,
   "metadata": {},
   "outputs": [
    {
     "name": "stdout",
     "output_type": "stream",
     "text": [
      "12.743 표기\n",
      "12.7434 표기\n",
      "12.74336 표기\n"
     ]
    }
   ],
   "source": [
    "# 옵션 : 소수점 아래 자리를 몇자리 까지 출력할것인지 변경 가능합니다,\n",
    "# %0.nf : 소수점 아래 n자리까지만 표현하는 실수\n",
    "print('%0.3f 표기' % 12.7433578)\n",
    "print('%0.4f 표기' % 12.7433578)\n",
    "print('%0.5f 표기' % 12.7433578)"
   ]
  },
  {
   "cell_type": "code",
   "execution_count": 8,
   "metadata": {},
   "outputs": [
    {
     "data": {
      "text/plain": [
       "'오늘은 10월 5일입니다.'"
      ]
     },
     "execution_count": 8,
     "metadata": {},
     "output_type": "execute_result"
    }
   ],
   "source": [
    "# 가변자료가 2개이상 들어가는 예제\n",
    "# 집어넣는 값은 왼쪽부터 하나씩 전달\n",
    "# 2개 이상을 입력시 %(첫째 값, 둘째 값, ...)과 같이 괄호로 전달\n",
    "'오늘은 %d월 %d일입니다.' % (10, 5)"
   ]
  },
  {
   "cell_type": "code",
   "execution_count": 9,
   "metadata": {},
   "outputs": [
    {
     "data": {
      "text/plain": [
       "'2022년 10월 5일 종목 : AAPL 종가는 146.10 달러입니다.'"
      ]
     },
     "execution_count": 9,
     "metadata": {},
     "output_type": "execute_result"
    }
   ],
   "source": [
    "# %d, %f에 숫자가아닌 다른 자료형은 에러가 발생합니다.\n",
    "\n",
    "'%d년 %d월 %d일 종목 : AAPL 종가는 %0.2f 달러입니다.' % (2022, 10, 5, 146.10)"
   ]
  },
  {
   "cell_type": "markdown",
   "metadata": {},
   "source": [
    "### 2) 문자 대입\n",
    "- %s로 구멍 뚫기\n",
    "- 집어넣는 값에대해 제한 없음\n",
    "- 만능 포맷팅"
   ]
  },
  {
   "cell_type": "code",
   "execution_count": 10,
   "metadata": {},
   "outputs": [
    {
     "name": "stdout",
     "output_type": "stream",
     "text": [
      "메타몽을 잡았다.\n",
      "에어팟의 가격은 198000원 입니다.\n"
     ]
    }
   ],
   "source": [
    "# 집어넣는 값 : 문자 타입\n",
    "print('%s을 잡았다.' % '메타몽')\n",
    "print('에어팟의 가격은 %s원 입니다.' % '198000')"
   ]
  },
  {
   "cell_type": "code",
   "execution_count": 11,
   "metadata": {},
   "outputs": [
    {
     "name": "stdout",
     "output_type": "stream",
     "text": [
      "갈치 낚시.\n",
      "라면 한 봉지 가격은 1000원 입니다.\n"
     ]
    }
   ],
   "source": [
    "# 집어넣는 값 : 문자 타입\n",
    "print('%s 낚시.' % '갈치')\n",
    "print('라면 한 봉지 가격은 %s 입니다.' % '1000원')"
   ]
  }
 ],
 "metadata": {
  "kernelspec": {
   "display_name": "Python 3.9.7 ('base')",
   "language": "python",
   "name": "python3"
  },
  "language_info": {
   "codemirror_mode": {
    "name": "ipython",
    "version": 3
   },
   "file_extension": ".py",
   "mimetype": "text/x-python",
   "name": "python",
   "nbconvert_exporter": "python",
   "pygments_lexer": "ipython3",
   "version": "3.9.7"
  },
  "orig_nbformat": 4,
  "vscode": {
   "interpreter": {
    "hash": "b34b863c255992f18be4e3271ad309d6f472a641574d2a36abb232a0d7577314"
   }
  }
 },
 "nbformat": 4,
 "nbformat_minor": 2
}
