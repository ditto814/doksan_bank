{
 "cells": [
  {
   "cell_type": "markdown",
   "metadata": {},
   "source": [
    "# << 제어문 >>\n",
    "# 2-2. for 반복문\n",
    "자료형(리스트, 튜플, 문자열)의 모든 아이템에 대하여 처음부터 마지막까지 차례대로 접근하여 실행문을 적용한다.<br>\n",
    "기본 문법<br>\n",
    "        for 임시변수 in 자료형 :<br>\n",
    "            수행할 문장1<br>\n",
    "            수행할 문장2<br>\n",
    "            ...<br>\n",
    "임시변수<br> (보통 i, j, k 자주사용)\n",
    "        - for 반복문이 실행되면 자료형의 아이템이 차례대로 임시변수에 할당된다.<br>\n",
    "        - 기본적으로 변수는 할당문이 존재해야 하지만 임시변수는 할당문이 필요 없는 객체이다.<br>"
   ]
  },
  {
   "cell_type": "code",
   "execution_count": 1,
   "metadata": {},
   "outputs": [],
   "source": [
    "# while문과는 다르게 for문은 사용자가 몇번 실행할지 쉽게 알수있음\n",
    "# while문 -> 로또추첨등 번호 중복없이 계속 시행될때 (언제끝날지 모르는 프로그램을 쓸 때)\n",
    "    # while문 : 심박수 150이 될때까지 운동장 뛰기\n",
    "# for문 정확히 몇번 시행할 프로그램을 짤때 (최대 몇번까지 실행하는지 알 때)\n",
    "    # for문 : 운동장 5바퀴 뛰기"
   ]
  },
  {
   "cell_type": "code",
   "execution_count": 2,
   "metadata": {},
   "outputs": [
    {
     "name": "stdout",
     "output_type": "stream",
     "text": [
      "메타몽\n",
      "메타몽\n",
      "메타몽\n"
     ]
    }
   ],
   "source": [
    "a = [1,2,3]\n",
    "\n",
    "for i in a:\n",
    "    print('메타몽')\n",
    "\n",
    "# a의 갯수 3개라서 3번 for문이 돌아갑니다.\n",
    "# i는 for문 한 바퀴 돌때마다 1,2,3을 차례대로 돌아갑니다.(i = 1, i = 2, i = 3)\n",
    "# 사실상 a 의 갯수만큼 반복이라고 해도 무방합니다."
   ]
  },
  {
   "cell_type": "code",
   "execution_count": 3,
   "metadata": {},
   "outputs": [
    {
     "name": "stdout",
     "output_type": "stream",
     "text": [
      "10\n",
      "20\n",
      "30\n"
     ]
    }
   ],
   "source": [
    "# 하나의 아이템에 접근 : 튜플자료형\n",
    "b = 10, 20, 30\n",
    "\n",
    "for i in b:\n",
    "    print(i)"
   ]
  },
  {
   "cell_type": "code",
   "execution_count": 4,
   "metadata": {},
   "outputs": [
    {
     "data": {
      "text/plain": [
       "True"
      ]
     },
     "execution_count": 4,
     "metadata": {},
     "output_type": "execute_result"
    }
   ],
   "source": [
    "# 하나의 아이템에 접근 : 딕셔너리형\n",
    "# 딕셔너리 자료혀엥 대해서는 반복문 접근시key값으로 접근\n",
    "# 따라서 딕셔너리의 접근은 .keys()요소에 접근하는것과 결과가 동일함\n",
    "d1 = {'A':1, 'B':2, \"C\":3}\n",
    "'A' in d1"
   ]
  },
  {
   "cell_type": "code",
   "execution_count": 5,
   "metadata": {},
   "outputs": [
    {
     "name": "stdout",
     "output_type": "stream",
     "text": [
      "A\n",
      "B\n",
      "C\n"
     ]
    }
   ],
   "source": [
    "for i in d1:\n",
    "    print(i)"
   ]
  },
  {
   "cell_type": "code",
   "execution_count": 6,
   "metadata": {},
   "outputs": [
    {
     "name": "stdout",
     "output_type": "stream",
     "text": [
      "A\n",
      "B\n",
      "C\n"
     ]
    }
   ],
   "source": [
    "for key in d1.keys():\n",
    "    print(key)"
   ]
  },
  {
   "cell_type": "code",
   "execution_count": 7,
   "metadata": {},
   "outputs": [
    {
     "name": "stdout",
     "output_type": "stream",
     "text": [
      "dict_keys(['A', 'B', 'C'])\n"
     ]
    },
    {
     "data": {
      "text/plain": [
       "dict_items([('A', 1), ('B', 2), ('C', 3)])"
      ]
     },
     "execution_count": 7,
     "metadata": {},
     "output_type": "execute_result"
    }
   ],
   "source": [
    "# 키 값만 가져오기\n",
    "print(d1.keys())\n",
    "\n",
    "# 딕셔너리에 대해서 items()로 접근시 key, value 쌍으로 묶인 자료가 출력됨\n",
    "d1.items()"
   ]
  },
  {
   "cell_type": "code",
   "execution_count": 8,
   "metadata": {},
   "outputs": [
    {
     "data": {
      "text/plain": [
       "('A', 1)"
      ]
     },
     "execution_count": 8,
     "metadata": {},
     "output_type": "execute_result"
    }
   ],
   "source": [
    "d1_list = list(d1.items())\n",
    "d1_list[0]"
   ]
  },
  {
   "cell_type": "code",
   "execution_count": 9,
   "metadata": {},
   "outputs": [
    {
     "name": "stdout",
     "output_type": "stream",
     "text": [
      "키값은 A 밸류값은 1\n",
      "키값은 B 밸류값은 2\n",
      "키값은 C 밸류값은 3\n"
     ]
    }
   ],
   "source": [
    "# 튜플을 대상으로 대입받을 때 요소 개수만큼 좌변에 대입하면\n",
    "# 나눠서 대입되는 점을 이용한 기술\n",
    "\n",
    "for k,v in d1.items():\n",
    "    print('키값은', k, '밸류값은',v )"
   ]
  },
  {
   "cell_type": "markdown",
   "metadata": {},
   "source": [
    "#### range 함수\n",
    " 지정된 시작값과 끝값 사이의 숫자들을 자동으로 생성하여 range 객체로 반환하는 함수\n",
    "- 문법 : range(시작하는 값, 끝나는 값, [간격])\n",
    "- 특징 : 슬라이싱과 유사하게 끝나는 값은 포함되지 않는다."
   ]
  },
  {
   "cell_type": "code",
   "execution_count": 10,
   "metadata": {},
   "outputs": [
    {
     "data": {
      "text/plain": [
       "[1, 2, 3, 4, 5]"
      ]
     },
     "execution_count": 10,
     "metadata": {},
     "output_type": "execute_result"
    }
   ],
   "source": [
    "# range()를 list로 감싸야 변환됨, 그러나 변환하지 않아도 for문에서 사용가능\n",
    "range(1,6)\n",
    "list(range(1,6))"
   ]
  },
  {
   "cell_type": "code",
   "execution_count": 11,
   "metadata": {},
   "outputs": [
    {
     "name": "stdout",
     "output_type": "stream",
     "text": [
      "1\n",
      "2\n",
      "3\n",
      "4\n",
      "5\n"
     ]
    }
   ],
   "source": [
    "# 1 ~ 5 까지 출력하기위해 사용하는 range()함수 예제\n",
    "for i in range(1,6):\n",
    "    print(i)"
   ]
  },
  {
   "cell_type": "code",
   "execution_count": 12,
   "metadata": {},
   "outputs": [
    {
     "name": "stdout",
     "output_type": "stream",
     "text": [
      "5\n",
      "4\n",
      "3\n",
      "2\n",
      "1\n"
     ]
    }
   ],
   "source": [
    "# 세번째 숫자는 증가값이 아닌 증감값이므로 음수가 들어갈수 있다.\n",
    "# 이 경우 시작숫자가 목표값보다 큰 숫자에서 시작합니다.\n",
    "\n",
    "for i in range(5,0,-1):\n",
    "    print(i)"
   ]
  },
  {
   "cell_type": "markdown",
   "metadata": {},
   "source": [
    "#### 중첩 반복문\n",
    "- 반복문 내부에 반복문을 작성하는것을 중첩 반복문이라고 합니다.\n",
    "- 반복횟수는 내부 반복문 * 외부 반복문\n",
    "- 동작이해가 어렵기 때문에 여러번 연습이 요구됩니다."
   ]
  },
  {
   "cell_type": "code",
   "execution_count": 13,
   "metadata": {},
   "outputs": [],
   "source": [
    "# 인터벌 트레이닝 좌/우로 5번씩 왕복이 1세트 -> i블럭\n",
    "# 10세트 한다고 하면 50번을 각각 왔다갔다합니다. -> j블럭\n",
    "# 10 * 5 해서 50번 돕니다."
   ]
  },
  {
   "cell_type": "code",
   "execution_count": 14,
   "metadata": {},
   "outputs": [
    {
     "name": "stdout",
     "output_type": "stream",
     "text": [
      "좌로 굴러!\n",
      "우로 굴러!\n",
      "좌로 굴러!\n",
      "우로 굴러!\n",
      "좌로 굴러!\n",
      "우로 굴러!\n",
      "좌로 굴러!\n",
      "우로 굴러!\n",
      "좌로 굴러!\n",
      "우로 굴러!\n",
      "1세트 끝 20초 휴식!\n"
     ]
    }
   ],
   "source": [
    "# 인터벌 1 세트(10번)\n",
    "for i in range(5):\n",
    "    print('좌로 굴러!')\n",
    "    print('우로 굴러!')\n",
    "print('1세트 끝 20초 휴식!')"
   ]
  },
  {
   "cell_type": "code",
   "execution_count": 15,
   "metadata": {},
   "outputs": [
    {
     "name": "stdout",
     "output_type": "stream",
     "text": [
      "좌로 굴러!\n",
      "우로 굴러!\n",
      "좌로 굴러!\n",
      "우로 굴러!\n",
      "좌로 굴러!\n",
      "우로 굴러!\n",
      "좌로 굴러!\n",
      "우로 굴러!\n",
      "좌로 굴러!\n",
      "우로 굴러!\n",
      "1세트 끝 20초 휴식!\n",
      "좌로 굴러!\n",
      "우로 굴러!\n",
      "좌로 굴러!\n",
      "우로 굴러!\n",
      "좌로 굴러!\n",
      "우로 굴러!\n",
      "좌로 굴러!\n",
      "우로 굴러!\n",
      "좌로 굴러!\n",
      "우로 굴러!\n",
      "1세트 끝 20초 휴식!\n",
      "좌로 굴러!\n",
      "우로 굴러!\n",
      "좌로 굴러!\n",
      "우로 굴러!\n",
      "좌로 굴러!\n",
      "우로 굴러!\n",
      "좌로 굴러!\n",
      "우로 굴러!\n",
      "좌로 굴러!\n",
      "우로 굴러!\n",
      "1세트 끝 20초 휴식!\n",
      "풀 세트 끝 수고하셨습니다!\n"
     ]
    }
   ],
   "source": [
    "# 인터벌 1세트 10회 반복(10 * 100)\n",
    "for j in range(3):\n",
    "    for i in range(5):\n",
    "        print('좌로 굴러!')\n",
    "        print('우로 굴러!')\n",
    "    print('1세트 끝 20초 휴식!')\n",
    "\n",
    "print('풀 세트 끝 수고하셨습니다!')\n"
   ]
  },
  {
   "cell_type": "code",
   "execution_count": 16,
   "metadata": {},
   "outputs": [
    {
     "name": "stdout",
     "output_type": "stream",
     "text": [
      "ab"
     ]
    }
   ],
   "source": [
    "# 파이썬 print()는 기본적으로 실해오디면 자동으로 줄바뀜 됩니다.\n",
    "# 다음줄로 내리지 않기 위한 문법\n",
    "print('a', end = '')\n",
    "print('b', end = '')"
   ]
  },
  {
   "cell_type": "code",
   "execution_count": 17,
   "metadata": {},
   "outputs": [
    {
     "name": "stdout",
     "output_type": "stream",
     "text": [
      "ab\n",
      "cd"
     ]
    }
   ],
   "source": [
    "# end = '' 옵션으로 다음줄로 안 내려간 상태에서 다시 내리고 싶다면\n",
    "# 그냥 print()를 한번 더 써줍니다.\n",
    "print('a', end = '')\n",
    "print('b', end = '')\n",
    "print() # 커서를 다음줄로 내림\n",
    "print('c', end = '')\n",
    "print('d', end = '')"
   ]
  },
  {
   "cell_type": "code",
   "execution_count": 18,
   "metadata": {},
   "outputs": [
    {
     "name": "stdout",
     "output_type": "stream",
     "text": [
      "*\n",
      "**\n",
      "***\n",
      "****\n",
      "*****\n"
     ]
    }
   ],
   "source": [
    "a = int(input())\n",
    "\n",
    "for i in range (1,a+1):\n",
    "    print('*' * i)"
   ]
  },
  {
   "cell_type": "code",
   "execution_count": 19,
   "metadata": {},
   "outputs": [
    {
     "name": "stdout",
     "output_type": "stream",
     "text": [
      "*****\n",
      "****\n",
      "***\n",
      "**\n",
      "*\n"
     ]
    }
   ],
   "source": [
    "a = int(input())\n",
    "\n",
    "for i in range (1,a+1):\n",
    "    print('*' * (a-i+1))"
   ]
  },
  {
   "cell_type": "code",
   "execution_count": 20,
   "metadata": {},
   "outputs": [
    {
     "name": "stdout",
     "output_type": "stream",
     "text": [
      "*****\n",
      " ****\n",
      "  ***\n",
      "   **\n",
      "    *\n"
     ]
    }
   ],
   "source": [
    "a = int(input())\n",
    "\n",
    "for i in range(1, a+1):\n",
    "    print(' ' * (i-1), end = '')\n",
    "    print('*' * (a-i+1))"
   ]
  },
  {
   "cell_type": "code",
   "execution_count": 21,
   "metadata": {},
   "outputs": [
    {
     "name": "stdout",
     "output_type": "stream",
     "text": [
      "    *\n",
      "   **\n",
      "  ***\n",
      " ****\n",
      "*****\n"
     ]
    }
   ],
   "source": [
    "a = int(input())\n",
    "\n",
    "for i in range(1, a+1):\n",
    "    print(' ' * (a-i), end = '')\n",
    "    print('*' * i)"
   ]
  },
  {
   "cell_type": "code",
   "execution_count": 22,
   "metadata": {},
   "outputs": [
    {
     "name": "stdout",
     "output_type": "stream",
     "text": [
      "    *\n",
      "   ***\n",
      "  *****\n",
      " *******\n",
      "*********\n"
     ]
    }
   ],
   "source": [
    "a = int(input())\n",
    "\n",
    "for i in range(1, a+1):\n",
    "    print(' ' * (a-i), end = '')\n",
    "    print('*' * (2*i-1))"
   ]
  },
  {
   "cell_type": "code",
   "execution_count": 23,
   "metadata": {},
   "outputs": [
    {
     "name": "stdout",
     "output_type": "stream",
     "text": [
      "*********\n",
      " *******\n",
      "  *****\n",
      "   ***\n",
      "    *\n"
     ]
    }
   ],
   "source": [
    "n = int(input())\n",
    "\n",
    "for i in range(n, 0, -1):\n",
    "    print(' ' * (n-i) + '*' * (i*2-1))"
   ]
  }
 ],
 "metadata": {
  "kernelspec": {
   "display_name": "Python 3.9.7 ('base')",
   "language": "python",
   "name": "python3"
  },
  "language_info": {
   "codemirror_mode": {
    "name": "ipython",
    "version": 3
   },
   "file_extension": ".py",
   "mimetype": "text/x-python",
   "name": "python",
   "nbconvert_exporter": "python",
   "pygments_lexer": "ipython3",
   "version": "3.9.7"
  },
  "orig_nbformat": 4,
  "vscode": {
   "interpreter": {
    "hash": "b34b863c255992f18be4e3271ad309d6f472a641574d2a36abb232a0d7577314"
   }
  }
 },
 "nbformat": 4,
 "nbformat_minor": 2
}
