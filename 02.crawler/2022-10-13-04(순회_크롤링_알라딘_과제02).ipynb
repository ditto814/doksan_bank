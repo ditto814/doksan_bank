{
 "cells": [
  {
   "cell_type": "code",
   "execution_count": 1,
   "metadata": {},
   "outputs": [],
   "source": [
    "# 라이브러리 임포트\n",
    "\n",
    "from bs4 import BeautifulSoup\n",
    "from selenium import webdriver\n",
    "import requests\n",
    "import time\n",
    "from selenium.webdriver.common.by import By\n",
    "import codecs"
   ]
  },
  {
   "cell_type": "code",
   "execution_count": 3,
   "metadata": {},
   "outputs": [],
   "source": [
    "# URL에 접근하여 소스 저장\n",
    "driver = webdriver.Chrome()\n",
    "time.sleep(2)\n",
    "source_list = []\n",
    "\n",
    "for i in range(1,4):\n",
    "    driver.get(f'https://www.aladin.co.kr/shop/common/wbest.aspx?BestType=Bestseller&BranchType=1&CID=0&page={i}&cnt=1000&SortOrder=1')\n",
    "    source = driver.page_source\n",
    "    source_list.append(source)\n",
    "    time.sleep(6)\n",
    "\n",
    "    \n",
    "\n",
    "driver.close()"
   ]
  },
  {
   "cell_type": "code",
   "execution_count": 4,
   "metadata": {},
   "outputs": [],
   "source": [
    "for j in range(len(source_list)):\n",
    "\n",
    "    parsed_source = BeautifulSoup(source_list[j], 'html.parser')\n",
    "    parsed_source"
   ]
  },
  {
   "cell_type": "code",
   "execution_count": 5,
   "metadata": {},
   "outputs": [],
   "source": [
    "# parsed_source = BeautifulSoup(source, 'html.parser')\n",
    "# parsed_source"
   ]
  },
  {
   "cell_type": "code",
   "execution_count": null,
   "metadata": {},
   "outputs": [],
   "source": []
  },
  {
   "cell_type": "code",
   "execution_count": 33,
   "metadata": {},
   "outputs": [
    {
     "data": {
      "text/plain": [
       "50"
      ]
     },
     "execution_count": 33,
     "metadata": {},
     "output_type": "execute_result"
    }
   ],
   "source": [
    "div_book_list = parsed_source. find_all('div', class_ = 'ss_book_box')\n",
    "len(div_book_list)"
   ]
  },
  {
   "cell_type": "code",
   "execution_count": null,
   "metadata": {},
   "outputs": [],
   "source": [
    "print(div_book_list[0].find_all('li')[0].text)\n",
    "print(div_book_list[0].find_all('li')[1].text)\n",
    "print(div_book_list[0].find_all('li')[2].text)\n",
    "print(div_book_list[0].find_all('li')[3].text)\n",
    "print(div_book_list[0].find_all('li')[4].text)\n",
    "print(div_book_list[0].find_all('li')[5].text)\n",
    "print(div_book_list[0].find_all('li')[6].text)\n",
    "print(div_book_list[0].find_all('li')[7].text)"
   ]
  },
  {
   "cell_type": "code",
   "execution_count": null,
   "metadata": {},
   "outputs": [],
   "source": []
  }
 ],
 "metadata": {
  "kernelspec": {
   "display_name": "Python 3.9.7 ('base')",
   "language": "python",
   "name": "python3"
  },
  "language_info": {
   "codemirror_mode": {
    "name": "ipython",
    "version": 3
   },
   "file_extension": ".py",
   "mimetype": "text/x-python",
   "name": "python",
   "nbconvert_exporter": "python",
   "pygments_lexer": "ipython3",
   "version": "3.9.7"
  },
  "orig_nbformat": 4,
  "vscode": {
   "interpreter": {
    "hash": "b34b863c255992f18be4e3271ad309d6f472a641574d2a36abb232a0d7577314"
   }
  }
 },
 "nbformat": 4,
 "nbformat_minor": 2
}
