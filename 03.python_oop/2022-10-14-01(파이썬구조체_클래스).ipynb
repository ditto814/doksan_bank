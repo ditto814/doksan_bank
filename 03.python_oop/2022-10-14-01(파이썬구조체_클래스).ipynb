{
 "cells": [
  {
   "cell_type": "markdown",
   "metadata": {},
   "source": [
    "# 객체 지향 프로그램 (Object-Oriented Programming)"
   ]
  },
  {
   "cell_type": "markdown",
   "metadata": {},
   "source": [
    "### 구조체\n",
    "\n",
    "클래스 이전에 구조체를 먼저 공부하는 이유는 클래스가 C언어의 구조체에서 확장된 개념이기 때문입니다.<br>\n",
    "구조체란 배열과는 달리 인덱스가 아닌 '변수명' 으로 특정 대상을 프로그래밍 적으로 묘사하기 위해 사용합니다.<br>\n",
    "\n",
    "### 추상화\n",
    "\n",
    "추상화는 대상을 간단하게 표현하는것을 의미합니다.<br>\n",
    "이를테면 사람을 컴푸터적으로 표현하려면 표현해야된느 요소가 너무 많습니다.<br>\n",
    "그러나 프로그램적 요소를 줄이고 필수적인 요소만 표현한다면 개발에 보다 유리하기에<br>\n",
    "추상화를 하게 됩니다.<br>\n",
    "이를테면 우리는 회원가입을 할때 이름, 성별, 이메일, 휴대폰번호정도만 필요하지 <br>\n",
    "체온, 심박수, 발 사이즈, 호르몬 분비량까지 알 필요는 없습니다. <br>\n",
    "이렇듯 프로그램 구현도 전부 구현하는것은 매우 오래걸리고 어렵기 때문에 용도에 맞게 필요한것만 구현합니다. <br>\n",
    "#### 추상화 예시\n",
    "고양이의 요소 : 털 색, 수염, 체중, 품종, 이름, 나이, 모수, 섭취 사료, 주인, 집, 성별, 건당상태, 울음소리(주파수), 발톱길이, 선호 간식 등.........<br>\n",
    "그런데 동물병원에 가면 이름, 나이, 체중, 주인 정도만 필요합니다.<br>\n",
    "개발시에는 개발자가 고려할 수 있는(혹은 기능이 요구하는 최소의)사항만을 정의합니다. <br>"
   ]
  },
  {
   "cell_type": "markdown",
   "metadata": {},
   "source": [
    "변수로 나누는 분류\n",
    "\n",
    "동적 변수 언어- dynamic\n",
    "변수자료형을 정하지 않아서 넣고싶은 자료형을 마음껏 넣을 수 있음\n",
    "-> name = '메타몽' (자료형을 엄밀하게 기입하지 않음)\n",
    "\n",
    "정적 변수 언어 - static\n",
    "변수자료형을 정해서 선언하면 그 때부터는 선언한 자료형으로만 저장할 수있음\n",
    "-> String name = '메타몽'; // int a = 5;"
   ]
  },
  {
   "cell_type": "code",
   "execution_count": 1,
   "metadata": {},
   "outputs": [],
   "source": [
    "# 클래스(구조체) 구현 문법\n",
    "# 클래스는 일종의 설계도처럼 작용하고 실제로 변수(객체-인스턴스)를 생성하기 전까지는\n",
    "# 아래 적힌 코드의 기능은 따로 없음\n",
    "class Cat : \n",
    "    name = ''\n",
    "    age = 0\n",
    "    cat_type = ''\n",
    "    care_giver = ''"
   ]
  },
  {
   "cell_type": "code",
   "execution_count": 2,
   "metadata": {},
   "outputs": [
    {
     "name": "stdout",
     "output_type": "stream",
     "text": [
      "<class '__main__.Cat'>\n"
     ]
    }
   ],
   "source": [
    "print(Cat)"
   ]
  },
  {
   "cell_type": "code",
   "execution_count": 3,
   "metadata": {},
   "outputs": [],
   "source": [
    "# 실제로는 생성을 해 줘야 기능합니다.(def 함수처럼 호출을 해줘야 동작합니다.)\n",
    "# 클래스 생성을 저장받은 변수를 객체(object) 혻은 인스턴스(instance)라고 호칭합니다.\n",
    "cat1 = Cat()\n",
    "cat2 = Cat()"
   ]
  },
  {
   "cell_type": "code",
   "execution_count": 4,
   "metadata": {},
   "outputs": [
    {
     "name": "stdout",
     "output_type": "stream",
     "text": [
      "True\n",
      "<__main__.Cat object at 0x000001EEC517C460>\n",
      "<__main__.Cat object at 0x000001EEC517C7F0>\n"
     ]
    }
   ],
   "source": [
    "print(isinstance(cat1, Cat))\n",
    "print(cat1)\n",
    "print(cat2)"
   ]
  },
  {
   "cell_type": "code",
   "execution_count": 5,
   "metadata": {},
   "outputs": [
    {
     "name": "stdout",
     "output_type": "stream",
     "text": [
      "레오\n",
      "<class 'str'>\n",
      "\n",
      "<class 'str'>\n"
     ]
    }
   ],
   "source": [
    "# 1고양이 정보 변경/추가\n",
    "cat1.name = '레오'\n",
    "cat1.age = 4\n",
    "cat1.cat_type = '스코티시 폴드'\n",
    "cat1.care_giver = '루시아'\n",
    "\n",
    "print(cat1.name)\n",
    "print(type(cat1.name))\n",
    "# cat2는 아직 구현된게 없기때문에 값을 출력하지 않습니다.\n",
    "print(cat2.name)\n",
    "print(type(cat2.name))"
   ]
  },
  {
   "cell_type": "code",
   "execution_count": 6,
   "metadata": {},
   "outputs": [],
   "source": [
    "cat2.name = '호두'\n",
    "cat2.age = 3\n",
    "cat2.cat_type = '먼치킨 믹스'\n",
    "cat2.care_giver = '루다'"
   ]
  },
  {
   "cell_type": "code",
   "execution_count": 7,
   "metadata": {},
   "outputs": [
    {
     "name": "stdout",
     "output_type": "stream",
     "text": [
      "레오\n",
      "호두\n"
     ]
    }
   ],
   "source": [
    "print(cat1.name)\n",
    "print(cat2.name)"
   ]
  },
  {
   "cell_type": "code",
   "execution_count": 8,
   "metadata": {},
   "outputs": [],
   "source": [
    "# 직접 구조체를 만들고 메모리를 그려보세요\n",
    "class Aviation_Fighter :\n",
    "    name = ''\n",
    "    engine = ''\n",
    "    produce_year = 0\n",
    "    type = ''"
   ]
  },
  {
   "cell_type": "code",
   "execution_count": 9,
   "metadata": {},
   "outputs": [],
   "source": [
    "fighter_01 = Aviation_Fighter()\n",
    "fighter_02 = Aviation_Fighter()\n",
    "fighter_03 = Aviation_Fighter()"
   ]
  },
  {
   "cell_type": "code",
   "execution_count": 10,
   "metadata": {},
   "outputs": [],
   "source": [
    "fighter_01.name = 'F/A-18 Hornet'\n",
    "fighter_01.engine = 'twin'\n",
    "fighter_01.produce_year = '1980s'\n",
    "fighter_01.type = 'Naval_MR_fighter'"
   ]
  },
  {
   "cell_type": "code",
   "execution_count": 11,
   "metadata": {},
   "outputs": [],
   "source": [
    "fighter_02.name = 'F-22 Raptor'\n",
    "fighter_02.engine = 'twin'\n",
    "fighter_02.produce_year = '2000s'\n",
    "fighter_02.type = 'stealth_AS_fighter'"
   ]
  },
  {
   "cell_type": "code",
   "execution_count": 12,
   "metadata": {},
   "outputs": [],
   "source": [
    "fighter_03.name = 'F-35A Lightning_2'\n",
    "fighter_03.engine = 'single'\n",
    "fighter_03.produce_year = '2010s'\n",
    "fighter_03.type = 'stealth_MR_fighter'"
   ]
  },
  {
   "cell_type": "code",
   "execution_count": 13,
   "metadata": {},
   "outputs": [
    {
     "name": "stdout",
     "output_type": "stream",
     "text": [
      "F/A-18 Hornet\n",
      "F-22 Raptor\n",
      "F-35A Lightning_2\n"
     ]
    }
   ],
   "source": [
    "print(fighter_01.name)\n",
    "print(fighter_02.name)\n",
    "print(fighter_03.name)"
   ]
  },
  {
   "cell_type": "code",
   "execution_count": 14,
   "metadata": {},
   "outputs": [],
   "source": [
    "def fighter_info(fighter):\n",
    "    print('기체명 : %s, 엔진 : %s, 양산년도 : %s, 주요임무 : %s' % \n",
    "    (fighter.name, fighter.engine, fighter.produce_year, fighter.type))"
   ]
  },
  {
   "cell_type": "code",
   "execution_count": 15,
   "metadata": {},
   "outputs": [
    {
     "name": "stdout",
     "output_type": "stream",
     "text": [
      "기체명 : F-35A Lightning_2, 엔진 : single, 양산년도 : 2010s, 주요임무 : stealth_MR_fighter\n"
     ]
    }
   ],
   "source": [
    "# print()값을 찍어서 None이 나오는 데 이는 함수 리턴값이 없어서 None을 출력 합니다.\n",
    "# print(fighter_info(fighter_03))\n",
    "# fighter_03이 300번지라면 fight역시 300번지로 호출합니다. 그래서 이름은 달라도 함수가 300번지를 호출하기 때문에 이름이 달라도 실행이 됩니다.\n",
    "fighter_info(fighter_03)"
   ]
  },
  {
   "cell_type": "markdown",
   "metadata": {},
   "source": [
    "## 구조체와 전용함수\n",
    "- 위에서 cat에 대한 정보를 기입했을때 하나하나 print()를 구문으로 이름, 나이, 품종을 일일히 타이핑 해야하기에 불편합니다.\n",
    "- 이럴때 함수를 선언해두면 편하게 조회가 가능합니다."
   ]
  },
  {
   "cell_type": "code",
   "execution_count": 16,
   "metadata": {},
   "outputs": [],
   "source": [
    "class Cat : \n",
    "    name = ''\n",
    "    age = 0\n",
    "    cat_type = ''\n",
    "    care_giver = ''"
   ]
  },
  {
   "cell_type": "code",
   "execution_count": 17,
   "metadata": {},
   "outputs": [],
   "source": [
    "# cat을 한마리 더 만들어서 전용함수 없이 사용\n",
    "cat3 = Cat()\n",
    "\n",
    "cat3.name = '샤샤'\n",
    "cat3.age = 2\n",
    "cat3.cat_type = '노르웨이 숲'\n",
    "cat3.care_giver = '이준형'"
   ]
  },
  {
   "cell_type": "code",
   "execution_count": 18,
   "metadata": {},
   "outputs": [
    {
     "name": "stdout",
     "output_type": "stream",
     "text": [
      "이름 : 샤샤, 나이 : 2, 품종 : 노르웨이 숲, 집사 : 이준형\n"
     ]
    }
   ],
   "source": [
    "# cat2로 바꾸려면 cat2로 하나하나 일일히 바꿔줘야됩니다.\n",
    "print('이름 : %s, 나이 : %s, 품종 : %s, 집사 : %s' % (cat3.name, cat3.age, cat3.cat_type, cat3.care_giver))"
   ]
  },
  {
   "cell_type": "code",
   "execution_count": 19,
   "metadata": {},
   "outputs": [],
   "source": [
    "# Cat 자료형의 전용함수\n",
    "def show_cat_info(cat):\n",
    "    print('이름 : %s, 나이 : %s, 품종 : %s, 집사 : %s' % \n",
    "    (cat.name, cat.age, cat.cat_type, cat.care_giver))"
   ]
  },
  {
   "cell_type": "code",
   "execution_count": 20,
   "metadata": {},
   "outputs": [
    {
     "name": "stdout",
     "output_type": "stream",
     "text": [
      "이름 : 레오, 나이 : 4, 품종 : 스코티시 폴드, 집사 : 루시아\n",
      "None\n",
      "이름 : 호두, 나이 : 3, 품종 : 먼치킨 믹스, 집사 : 루다\n",
      "None\n",
      "이름 : 샤샤, 나이 : 2, 품종 : 노르웨이 숲, 집사 : 이준형\n",
      "None\n"
     ]
    }
   ],
   "source": [
    "print(show_cat_info(cat1))\n",
    "print(show_cat_info(cat2))\n",
    "print(show_cat_info(cat3))\n"
   ]
  },
  {
   "cell_type": "code",
   "execution_count": 21,
   "metadata": {},
   "outputs": [],
   "source": [
    "# cat 전용인지 비교할 수 있도록 Dog 선언\n",
    "\n",
    "class Dog:\n",
    "    name = ''\n",
    "    age = 0\n",
    "    dog_type = ''\n",
    "    address = ''"
   ]
  },
  {
   "cell_type": "code",
   "execution_count": 22,
   "metadata": {},
   "outputs": [],
   "source": [
    "dog1 = Dog() # 100번지\n",
    "dog1.name = '숑숑'\n",
    "dog1.age = 5\n",
    "dog1.dog_type = '비숑프리제'\n",
    "dog1.address = '인천광역시 부평구'\n",
    "\n",
    "\n",
    "dog2 = Dog() # 200번지\n",
    "dog2.name = '박애정'\n",
    "dog2.age = 6\n",
    "dog2.dog_type = '말티즈'\n",
    "dog2.address = '광주광역시 서구'\n",
    "\n",
    "\n",
    "dog3 = Dog() # 300번지\n",
    "dog3.name = '나무'\n",
    "dog3.age = 8\n",
    "dog3.dog_type = '토이푸들'\n",
    "dog3.address = '서울득별시 영등포구'"
   ]
  },
  {
   "cell_type": "code",
   "execution_count": 34,
   "metadata": {},
   "outputs": [
    {
     "ename": "AttributeError",
     "evalue": "'Dog' object has no attribute 'cat_type'",
     "output_type": "error",
     "traceback": [
      "\u001b[1;31m---------------------------------------------------------------------------\u001b[0m",
      "\u001b[1;31mAttributeError\u001b[0m                            Traceback (most recent call last)",
      "\u001b[1;32m~\\AppData\\Local\\Temp/ipykernel_15624/156955719.py\u001b[0m in \u001b[0;36m<module>\u001b[1;34m\u001b[0m\n\u001b[1;32m----> 1\u001b[1;33m \u001b[0mshow_cat_info\u001b[0m\u001b[1;33m(\u001b[0m\u001b[0mdog1\u001b[0m\u001b[1;33m)\u001b[0m\u001b[1;33m\u001b[0m\u001b[1;33m\u001b[0m\u001b[0m\n\u001b[0m\u001b[0;32m      2\u001b[0m \u001b[1;31m# name, age는 어떻게 있어서 넘어가지만 cat_type는 없어서 에러를 검출합니다.\u001b[0m\u001b[1;33m\u001b[0m\u001b[1;33m\u001b[0m\u001b[0m\n\u001b[0;32m      3\u001b[0m \u001b[1;31m# Python의 단점 만약 cat_type, dog_type을 따로 쓰지않고 그냥 type_이라고 공통으로 지정되었다면\u001b[0m\u001b[1;33m\u001b[0m\u001b[1;33m\u001b[0m\u001b[0m\n\u001b[0;32m      4\u001b[0m \u001b[1;31m# 고양이전용 함수임에도 불구하고 개 의 자료가 들어가버립니다.\u001b[0m\u001b[1;33m\u001b[0m\u001b[1;33m\u001b[0m\u001b[0m\n\u001b[0;32m      5\u001b[0m \u001b[1;31m# 파이썬은 이를 필터링할수 있는 기능이 없으며 동일 attribute를 가지고있더라도 어디에 들어가는지\u001b[0m\u001b[1;33m\u001b[0m\u001b[1;33m\u001b[0m\u001b[0m\n",
      "\u001b[1;32m~\\AppData\\Local\\Temp/ipykernel_15624/3486538354.py\u001b[0m in \u001b[0;36mshow_cat_info\u001b[1;34m(cat)\u001b[0m\n\u001b[0;32m      2\u001b[0m \u001b[1;32mdef\u001b[0m \u001b[0mshow_cat_info\u001b[0m\u001b[1;33m(\u001b[0m\u001b[0mcat\u001b[0m\u001b[1;33m)\u001b[0m\u001b[1;33m:\u001b[0m\u001b[1;33m\u001b[0m\u001b[1;33m\u001b[0m\u001b[0m\n\u001b[0;32m      3\u001b[0m     print('이름 : %s, 나이 : %s, 품종 : %s, 집사 : %s' % \n\u001b[1;32m----> 4\u001b[1;33m     (cat.name, cat.age, cat.cat_type, cat.care_giver))\n\u001b[0m",
      "\u001b[1;31mAttributeError\u001b[0m: 'Dog' object has no attribute 'cat_type'"
     ]
    }
   ],
   "source": [
    "show_cat_info(dog1)\n",
    "# name, age는 어떻게 있어서 넘어가지만 cat_type는 없어서 에러를 검출합니다.\n",
    "# Python의 단점 만약 cat_type, dog_type을 따로 쓰지않고 그냥 type_이라고 공통으로 지정되었다면\n",
    "# 고양이전용 함수임에도 불구하고 개 의 자료가 들어가버립니다. \n",
    "# 파이썬은 이를 필터링할수 있는 기능이 없으며 동일 attribute를 가지고있더라도 어디에 들어가는지 \n",
    "# 사용자가 주의할 핗요가 있습니다.\n"
   ]
  },
  {
   "cell_type": "code",
   "execution_count": 24,
   "metadata": {},
   "outputs": [],
   "source": [
    "def print_dog_info(dog):\n",
    "    print('이름 : %s, 나이 : %s, 품종 : %s, 주소 : %s' %\n",
    "    (dog.name, dog.age, dog.dog_type, dog.address))"
   ]
  },
  {
   "cell_type": "code",
   "execution_count": 25,
   "metadata": {},
   "outputs": [
    {
     "name": "stdout",
     "output_type": "stream",
     "text": [
      "이름 : 숑숑, 나이 : 5, 품종 : 비숑프리제, 주소 : 인천광역시 부평구\n",
      "이름 : 박애정, 나이 : 6, 품종 : 말티즈, 주소 : 광주광역시 서구\n",
      "이름 : 나무, 나이 : 8, 품종 : 토이푸들, 주소 : 서울득별시 영등포구\n"
     ]
    }
   ],
   "source": [
    "print_dog_info(dog1) \n",
    "# dog1도 100번지, print_dog_info 호출시 생성된 임시지역 역시 100번지를 지칭합니다. \n",
    "# 이후 전부 프린트 되었으면 임시지역은 사라집니다.\n",
    "# 함수 호출시 위의 def에 다시 올라갔다가 dog가 dog1임을 알고 dog1의 주소값(100번지)를 출력합니다.\n",
    "print_dog_info(dog2)\n",
    "\n",
    "print_dog_info(dog3)"
   ]
  },
  {
   "cell_type": "markdown",
   "metadata": {},
   "source": [
    "#### 특정 구조체 전용 함수를 외부에 둘 필요가 있는가?\n",
    "##### 특정 구조체에서만 쓰는 함수를 굳이 외부에 빼서 혼란을 야기할 필요가 없다는 결론을 내림\n",
    "##### 그래서 클래스에서는 변수와 함께 함수를 같은 소속에 선언합니다.\n",
    "##### 이렇게 클래스 내부에 선언된 함수를 가리켜 '메서드' 라고 합니다.\n",
    "    메서드는 .string()형식으로 접근합니다.\n",
    "    함수는 그냥 type() 이런식으로 접근합니다.\n",
    "    따로 소속된게 없으면 function이라고 생각해도 무방합니다.\n",
    "\n",
    "ex) 나만 사용할수 있는 노트북을 1층 로비에 비치할 필요가 있을까??"
   ]
  },
  {
   "cell_type": "code",
   "execution_count": 26,
   "metadata": {},
   "outputs": [],
   "source": [
    "class Computer:\n",
    "    cpu = ''\n",
    "    ram = 0\n",
    "    ssd = 0\n",
    "    power = 0\n",
    "\n",
    "    # 메서드는 기본적으로 배부분 self를 파라미터로 선언합니다.\n",
    "    # 변수 지칭시에 self.변수명으로 시작\n",
    "    def get_info(self):\n",
    "        print(\"cpu : %s, ram : %sGB, ssd : %sGB, power : %sW \" % (self.cpu, self.ram, self.ssd, self.power))"
   ]
  },
  {
   "cell_type": "code",
   "execution_count": 27,
   "metadata": {},
   "outputs": [],
   "source": [
    "# Computer 객체 생성\n",
    "com1 = Computer()\n",
    "com1.cpu = '라이젠7'\n",
    "com1.ram = 32\n",
    "com1.ssd = 512\n",
    "com1.power = 700"
   ]
  },
  {
   "cell_type": "code",
   "execution_count": 28,
   "metadata": {},
   "outputs": [
    {
     "name": "stdout",
     "output_type": "stream",
     "text": [
      "cpu : 라이젠7, ram : 32GB, ssd : 512GB, power : 700W \n"
     ]
    }
   ],
   "source": [
    "com1.get_info()"
   ]
  },
  {
   "cell_type": "code",
   "execution_count": 29,
   "metadata": {},
   "outputs": [],
   "source": [
    "# 과제 직접 클래스를 만들고, 클래스 내부에 조회하는 메서드 작성\n",
    "# 메모리 구조도를 그려서 제출"
   ]
  },
  {
   "cell_type": "code",
   "execution_count": 30,
   "metadata": {},
   "outputs": [],
   "source": [
    "class Pok_dict() :\n",
    "    name = ''\n",
    "    dict_num = ''\n",
    "    height = 0\n",
    "    weight = 0\n",
    "    gender = ''\n",
    "    type = ''\n",
    "    catch_spot = ''\n",
    "\n",
    "    def pok_info(self):\n",
    "        print('name : %s, dict_num : %s, height : %sm, weight : %skg, gender : %s ,type : %s, catch_spot : %s' %\n",
    "             (self.name, self.dict_num, self.height, self.weight, self.gender ,self.type, self.catch_spot))"
   ]
  },
  {
   "cell_type": "code",
   "execution_count": 31,
   "metadata": {},
   "outputs": [],
   "source": [
    "pok132 = Pok_dict()\n",
    "\n",
    "pok132.name = '메타몽'\n",
    "pok132.dict_num = '132'\n",
    "pok132.height = 0.4\n",
    "pok132.weight = 4.0\n",
    "pok132.gender = '무성'\n",
    "pok132.type = '노말'\n",
    "pok132.catch_spot = '포켓몬연구소'"
   ]
  },
  {
   "cell_type": "code",
   "execution_count": 33,
   "metadata": {},
   "outputs": [
    {
     "name": "stdout",
     "output_type": "stream",
     "text": [
      "name : 메타몽, dict_num : 132, height : 0.4m, weight : 4.0kg, gender : 무성 ,type : 노말, catch_spot : 포켓몬연구소\n"
     ]
    }
   ],
   "source": [
    "pok132.pok_info()"
   ]
  }
 ],
 "metadata": {
  "kernelspec": {
   "display_name": "Python 3.9.7 ('base')",
   "language": "python",
   "name": "python3"
  },
  "language_info": {
   "codemirror_mode": {
    "name": "ipython",
    "version": 3
   },
   "file_extension": ".py",
   "mimetype": "text/x-python",
   "name": "python",
   "nbconvert_exporter": "python",
   "pygments_lexer": "ipython3",
   "version": "3.9.7"
  },
  "orig_nbformat": 4,
  "vscode": {
   "interpreter": {
    "hash": "b34b863c255992f18be4e3271ad309d6f472a641574d2a36abb232a0d7577314"
   }
  }
 },
 "nbformat": 4,
 "nbformat_minor": 2
}
