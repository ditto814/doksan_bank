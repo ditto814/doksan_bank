{
 "cells": [
  {
   "cell_type": "code",
   "execution_count": 264,
   "metadata": {},
   "outputs": [],
   "source": [
    "class Person:\n",
    "    name = ''\n",
    "    age = 0\n",
    "    height = 0\n",
    "\n",
    "    def get_info(self):\n",
    "        print(f'성 함 : {self.name} , 나 이 : {self.age}, 신 장 : {self.height}')"
   ]
  },
  {
   "cell_type": "code",
   "execution_count": 265,
   "metadata": {},
   "outputs": [],
   "source": [
    "p1 = Person()\n",
    "p1.name = '이준형'\n",
    "p1.age = 30\n",
    "p1.height = 166 "
   ]
  },
  {
   "cell_type": "code",
   "execution_count": 266,
   "metadata": {},
   "outputs": [
    {
     "name": "stdout",
     "output_type": "stream",
     "text": [
      "성 함 : 이준형 , 나 이 : 30, 신 장 : 166\n"
     ]
    }
   ],
   "source": [
    "p1.get_info()"
   ]
  },
  {
   "cell_type": "code",
   "execution_count": 267,
   "metadata": {},
   "outputs": [],
   "source": [
    "# 메서드가 있는 클래스는 상속을 어떻게 받아올까요?\n",
    "class Salaryman(Person):\n",
    "    salary = 0"
   ]
  },
  {
   "cell_type": "code",
   "execution_count": 268,
   "metadata": {},
   "outputs": [
    {
     "name": "stdout",
     "output_type": "stream",
     "text": [
      "성 함 : 이준형 , 나 이 : 30, 신 장 : 166\n"
     ]
    }
   ],
   "source": [
    "worker01 = Salaryman()\n",
    "\n",
    "worker01.name = '이준형'\n",
    "worker01.age = 30\n",
    "worker01.height = 166\n",
    "worker01.salary = '회사내규에 따름'\n",
    "\n",
    "worker01.get_info()"
   ]
  },
  {
   "cell_type": "markdown",
   "metadata": {},
   "source": [
    "### 오버라이딩\n",
    "- 오버라이딩이란 부모가 물려준 메서드를 자식쪽에서 고쳐서 쓰는 것(메서드 재정의)을 의미합니다.\n",
    "- 위와 같이 부모쪽에서 이미 특정 메서드가 생성되었지만, 자식쪽에서 추가된 사항을 따로 반영하지 못한다던지 하는 이슈가 발생했을 때\n",
    "- 자식 쪽에서 물려받은 메서드를 고쳐서 현재 객체 상황에 맞게 쓰는것을 오버라이딩이라고 합니다.\n",
    "- 방법은 자식쪽 클래스 설계부분에 부모쪽과 동일한 메서드를 작성하고\n",
    "- 코드 내용을 새롭게 작성하면 됩니다."
   ]
  },
  {
   "cell_type": "code",
   "execution_count": 269,
   "metadata": {},
   "outputs": [],
   "source": [
    "class Airplane:\n",
    "    velocity = 0\n",
    "    fuel = 0\n",
    "    flight_number = \"\"\n",
    "\n",
    "    # 생성자 생성\n",
    "    def __init__(self, velocity, fuel, flight_number):\n",
    "        self.velocity = velocity\n",
    "        self.fuel = fuel\n",
    "        self.flight_number = flight_number\n",
    "        \n",
    "\n",
    "    # 비행기의 비행기능\n",
    "    def fly(self):\n",
    "        # if 문을 이용한 최대 속도 통제\n",
    "        # 연료가 0이면 작동 X\n",
    "        if(self.fuel <= 0):\n",
    "            print('연료가 없습니다.')\n",
    "            return # break문처럼 함수를 즉시 종료시킴\n",
    "\n",
    "        elif (self.velocity + 200 > 900):\n",
    "            self.velocity = 900\n",
    "\n",
    "        else:\n",
    "            self.velocity += 200\n",
    "        \n",
    "        self.fuel -= 70\n",
    "\n",
    "\n",
    "    # 비행기 감속기능\n",
    "    def decelerate_(self):\n",
    "        # 최저속도를 0으로 만들어보세요\n",
    "        if(self.velocity - 200 < 0):\n",
    "            self.velocity = 0\n",
    "\n",
    "        else:\n",
    "            self.velocity -= 200\n",
    "\n",
    "    # 현재 상태\n",
    "    def get_info(self):\n",
    "        print(f'현재 속도 : {self.velocity}km/h, 현재 연료량 : {self.fuel}L, 편 명 : {self.flight_number}')\n"
   ]
  },
  {
   "cell_type": "code",
   "execution_count": 270,
   "metadata": {},
   "outputs": [
    {
     "name": "stdout",
     "output_type": "stream",
     "text": [
      "현재 속도 : 0km/h, 현재 연료량 : 47000L, 편 명 : KE998\n"
     ]
    }
   ],
   "source": [
    "a1 = Airplane(0, 47000, \"KE998\")\n",
    "a1.get_info()"
   ]
  },
  {
   "cell_type": "code",
   "execution_count": 271,
   "metadata": {},
   "outputs": [
    {
     "name": "stdout",
     "output_type": "stream",
     "text": [
      "현재 속도 : 900km/h, 현재 연료량 : 46650L, 편 명 : KE998\n"
     ]
    }
   ],
   "source": [
    "a1.fly()\n",
    "a1.fly()\n",
    "a1.fly()\n",
    "a1.fly()\n",
    "a1.fly()\n",
    "\n",
    "a1.get_info()"
   ]
  },
  {
   "cell_type": "code",
   "execution_count": 272,
   "metadata": {},
   "outputs": [
    {
     "name": "stdout",
     "output_type": "stream",
     "text": [
      "현재 속도 : 0km/h, 현재 연료량 : 46650L, 편 명 : KE998\n"
     ]
    }
   ],
   "source": [
    "a1.decelerate_()\n",
    "a1.decelerate_()\n",
    "a1.decelerate_()\n",
    "a1.decelerate_()\n",
    "a1.decelerate_()\n",
    "a1.get_info()"
   ]
  },
  {
   "cell_type": "markdown",
   "metadata": {},
   "source": [
    "#### 초음속 콩코드 여객기 Concord를 선언하고 Airplane를 상속 받으세요"
   ]
  },
  {
   "cell_type": "code",
   "execution_count": 273,
   "metadata": {},
   "outputs": [],
   "source": [
    "class Concord(Airplane):\n",
    "# 오버라이딩은 부모에게 물려받은 메서드가 마음에 들지 않을 때\n",
    "# 새롭게 정의하는 것을 의미합니다.\n",
    "# 같은 이름, 같은 파라미터선언으로 정의하면 됩니다.\n",
    "    def fly(self):\n",
    "        # 메서드명과 파라미터는 동일하나 코드는 바뀝니다.\n",
    "\n",
    "        if(self.fuel <= 0):\n",
    "            print('연료가 없습니다.')\n",
    "            return # break문처럼 함수를 즉시 종료시킴\n",
    "\n",
    "        elif (self.velocity + 200 > 2000):\n",
    "            self.velocity = 2000\n",
    "\n",
    "        else:\n",
    "            self.velocity += 200\n",
    "        \n",
    "        self.fuel -= 200"
   ]
  },
  {
   "cell_type": "markdown",
   "metadata": {},
   "source": [
    "##### 비행기 a2를 만들어 최대시속 900을 돌파여부 확인하고\n",
    "##### 비행기 sa1을 만들어 2000 돌파여부를 확인하는 코드를 작성해보세요"
   ]
  },
  {
   "cell_type": "code",
   "execution_count": 274,
   "metadata": {},
   "outputs": [
    {
     "name": "stdout",
     "output_type": "stream",
     "text": [
      "현재 속도 : 900km/h, 현재 연료량 : 49650L, 편 명 : KE232\n"
     ]
    }
   ],
   "source": [
    "a2 = Airplane(0, 50000, 'KE232')\n",
    "\n",
    "n = int(input('가속레버를 설정해주세요'))\n",
    "\n",
    "for i in range(n):\n",
    "    a2.fly()\n",
    "a2.get_info()"
   ]
  },
  {
   "cell_type": "code",
   "execution_count": 275,
   "metadata": {},
   "outputs": [
    {
     "name": "stdout",
     "output_type": "stream",
     "text": [
      "현재 속도 : 2000km/h, 현재 연료량 : 48000L, 편 명 : KE777\n"
     ]
    }
   ],
   "source": [
    "sa1 = Concord(0, 50000, 'KE777')\n",
    "\n",
    "n = int(input('가속레버를 설정해주세요'))\n",
    "\n",
    "for i in range(n):\n",
    "    sa1.fly()\n",
    "sa1.get_info()"
   ]
  }
 ],
 "metadata": {
  "kernelspec": {
   "display_name": "Python 3.9.7 ('base')",
   "language": "python",
   "name": "python3"
  },
  "language_info": {
   "codemirror_mode": {
    "name": "ipython",
    "version": 3
   },
   "file_extension": ".py",
   "mimetype": "text/x-python",
   "name": "python",
   "nbconvert_exporter": "python",
   "pygments_lexer": "ipython3",
   "version": "3.9.7"
  },
  "orig_nbformat": 4,
  "vscode": {
   "interpreter": {
    "hash": "b34b863c255992f18be4e3271ad309d6f472a641574d2a36abb232a0d7577314"
   }
  }
 },
 "nbformat": 4,
 "nbformat_minor": 2
}
