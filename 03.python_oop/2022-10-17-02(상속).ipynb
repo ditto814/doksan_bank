{
 "cells": [
  {
   "cell_type": "markdown",
   "metadata": {},
   "source": [
    "## 상속\n",
    "\n",
    "- 상속은 부모클래스의 정보를 활용해 자식 클래스를 이끌러 내는것을 의미합니다.\n",
    "- 문법은\n",
    "\n",
    "`class 클래스명(부모클래스):\n",
    "\n",
    "내부정의\n",
    "\n",
    "...` \n",
    "\n",
    "\n",
    "현세에서의 상속과 마찬가지로 프로그래밍의 상속에서도 부모는 자식에게 <br>\n",
    "자신이 가진 요소를 물려줍니다.(변수, 메서드) <br>\n",
    "현실과 다른 점은 프로그래밍의 상속은 자식이 부모를 지목해 이뤄지면<br>\n",
    "부모쪽에서 물려받은 변수, 메서드 및 자식쪽에서 새로 저으이한 변소, 메서드 <br>\n",
    "그리도 물려받은 메서드를 재정의(오버라이딩)해 사용할 수 있습니다.<br>\n"
   ]
  },
  {
   "cell_type": "code",
   "execution_count": 10,
   "metadata": {},
   "outputs": [],
   "source": [
    "class Person:\n",
    "    name = ''\n",
    "    age = 0\n",
    "    height = 0"
   ]
  },
  {
   "cell_type": "code",
   "execution_count": 11,
   "metadata": {},
   "outputs": [],
   "source": [
    "# 지금 Student는 Person의 상속을 받았습니다.\n",
    "class Student(Person):\n",
    "    major = ''"
   ]
  },
  {
   "cell_type": "code",
   "execution_count": 15,
   "metadata": {},
   "outputs": [
    {
     "name": "stdout",
     "output_type": "stream",
     "text": [
      "홍길동 26 176 패션디자인\n"
     ]
    }
   ],
   "source": [
    "p1 = Person()\n",
    "p1.name = '홍길동'\n",
    "p1.age = 26\n",
    "p1.height = 176\n",
    "p1.major = '패션디자인'\n",
    "\n",
    "print(p1.name, p1.age, p1.height, p1.major)\n",
    "\n",
    "# 주의 여기서 major가 부모에서 선언되었는데 이것은 자식의 상속이 부모로 올라온것이 아니고\n",
    "# 자체적으로 major가 선언되어서 생긴 개체입니다. 해당 major는 Person 클래스에 소속이 되어있는것이 아니고\n",
    "# 상속객체도 아닙니다. 이점 유의하기를 바랍니다."
   ]
  },
  {
   "cell_type": "code",
   "execution_count": 13,
   "metadata": {},
   "outputs": [
    {
     "name": "stdout",
     "output_type": "stream",
     "text": [
      "성 명 : 이순신, 나 이 : 23세, 신 장 : 183cm, 전 공 : 경제학\n"
     ]
    }
   ],
   "source": [
    "s1 = Student()\n",
    "\n",
    "s1.name = '이순신'\n",
    "s1.age = 23\n",
    "s1.height = 183\n",
    "s1.major = '경제학'\n",
    "\n",
    "print(f'성 명 : {s1.name}, 나 이 : {s1.age}세, 신 장 : {s1.height}cm, 전 공 : {s1.major}')\n"
   ]
  },
  {
   "cell_type": "markdown",
   "metadata": {},
   "source": [
    "#### 다형성\n",
    "- 부모자료형을 선언하면 자식자료형을 대입할 수 있는 상태"
   ]
  },
  {
   "cell_type": "code",
   "execution_count": 19,
   "metadata": {},
   "outputs": [],
   "source": [
    "class Salaryman (Person):\n",
    "    salary = 0"
   ]
  },
  {
   "cell_type": "code",
   "execution_count": 22,
   "metadata": {},
   "outputs": [
    {
     "name": "stdout",
     "output_type": "stream",
     "text": [
      "성 명 : 이준형, 나 이 : 30세, 신 장 : 166cm, 희망연봉 : 회사내규에 따름\n"
     ]
    }
   ],
   "source": [
    "worker01 = Salaryman()\n",
    "\n",
    "worker01.name = '이준형'\n",
    "worker01.age = 30\n",
    "worker01.height = 166\n",
    "worker01.salary = '회사내규에 따름'\n",
    "\n",
    "print(f'성 명 : {worker01.name}, 나 이 : {worker01.age}세, 신 장 : {worker01.height}cm, 희망연봉 : {worker01.salary}')"
   ]
  },
  {
   "cell_type": "code",
   "execution_count": 24,
   "metadata": {},
   "outputs": [],
   "source": [
    "class Soldier(Person):\n",
    "    military_service = ''\n",
    "    branch = ''"
   ]
  },
  {
   "cell_type": "code",
   "execution_count": 28,
   "metadata": {},
   "outputs": [
    {
     "name": "stdout",
     "output_type": "stream",
     "text": [
      "성 명 : 이준형, 소 속 : 육군, 병 과 : 재정\n"
     ]
    }
   ],
   "source": [
    "soldier01 = Soldier()\n",
    "\n",
    "soldier01.name = '이준형'\n",
    "soldier01.military_service = '육군'\n",
    "soldier01.branch = '재정'\n",
    "\n",
    "print(f'성 명 : {soldier01.name}, 소 속 : {soldier01.military_service}, 병 과 : {soldier01.branch}')"
   ]
  }
 ],
 "metadata": {
  "kernelspec": {
   "display_name": "Python 3.9.7 ('base')",
   "language": "python",
   "name": "python3"
  },
  "language_info": {
   "codemirror_mode": {
    "name": "ipython",
    "version": 3
   },
   "file_extension": ".py",
   "mimetype": "text/x-python",
   "name": "python",
   "nbconvert_exporter": "python",
   "pygments_lexer": "ipython3",
   "version": "3.9.7"
  },
  "orig_nbformat": 4,
  "vscode": {
   "interpreter": {
    "hash": "b34b863c255992f18be4e3271ad309d6f472a641574d2a36abb232a0d7577314"
   }
  }
 },
 "nbformat": 4,
 "nbformat_minor": 2
}
