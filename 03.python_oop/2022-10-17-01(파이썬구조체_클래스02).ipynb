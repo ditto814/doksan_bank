{
 "cells": [
  {
   "cell_type": "markdown",
   "metadata": {},
   "source": [
    "#### self 키워드\n",
    "\n",
    "- self는 클래스로 생성한 변수 (==인스턴스) 자신의 주소를 나타내는 키워드입니다.\n",
    "\n",
    "    이렇게 자신의 주소를 나타내야하는 이유는, 인스턴스 양식은 같으나 내용물은 독립적으로 저장되기 때문입니다."
   ]
  },
  {
   "cell_type": "code",
   "execution_count": 173,
   "metadata": {},
   "outputs": [],
   "source": [
    "class Computer:\n",
    "    cpu = ''\n",
    "    ram = 0\n",
    "    ssd = 0\n",
    "    power = 0\n",
    "\n",
    "    # 메서드는 기본적으로 배부분 self를 파라미터로 선언합니다.\n",
    "    # 변수 지칭시에 self.변수명으로 시작\n",
    "    def get_info(self):\n",
    "        print(\"cpu : %s, ram : %sGB, ssd : %sGB, power : %sW \" % (self.cpu, self.ram, self.ssd, self.power))"
   ]
  },
  {
   "cell_type": "code",
   "execution_count": 174,
   "metadata": {},
   "outputs": [],
   "source": [
    "# Computer 객체 생성\n",
    "com1 = Computer()\n",
    "com1.cpu = '라이젠7'\n",
    "com1.ram = 32\n",
    "com1.ssd = 512\n",
    "com1.power = 700"
   ]
  },
  {
   "cell_type": "code",
   "execution_count": 175,
   "metadata": {},
   "outputs": [
    {
     "name": "stdout",
     "output_type": "stream",
     "text": [
      "cpu : 라이젠7, ram : 32GB, ssd : 512GB, power : 700W \n"
     ]
    }
   ],
   "source": [
    "# com1이 100번지라면 100번지의 cpu, ram 등 객체들을 잘 받습니다.\n",
    "com1.get_info()"
   ]
  },
  {
   "cell_type": "code",
   "execution_count": 176,
   "metadata": {},
   "outputs": [],
   "source": [
    "# self가 붙는 이유 : self 없이 cpu가 나온다면 \n",
    "\n",
    "class Computer:\n",
    "    cpu = ''\n",
    "    ram = 0\n",
    "    ssd = 0\n",
    "    power = 0\n",
    "\n",
    "    # 메서드는 기본적으로 배부분 self를 파라미터로 선언합니다.\n",
    "    # 변수 지칭시에 self.변수명으로 시작\n",
    "    def get_info(self):\n",
    "        print(\"cpu : %s, ram : %sGB, ssd : %sGB, power : %sW \" % (self.cpu, self.ram, self.ssd, self.power))\n",
    "\n",
    "    def get_self_add(self):\n",
    "        print(self)"
   ]
  },
  {
   "cell_type": "code",
   "execution_count": 177,
   "metadata": {},
   "outputs": [],
   "source": [
    "# Computer 객체 생성\n",
    "com1 = Computer()\n",
    "com1.cpu = '라이젠7'\n",
    "com1.ram = 32\n",
    "com1.ssd = 512\n",
    "com1.power = 700\n",
    "\n",
    "com2 = Computer()\n",
    "com2.cpu = '인텔 i7'"
   ]
  },
  {
   "cell_type": "code",
   "execution_count": 178,
   "metadata": {},
   "outputs": [
    {
     "name": "stdout",
     "output_type": "stream",
     "text": [
      "cpu : 라이젠7, ram : 32GB, ssd : 512GB, power : 700W \n"
     ]
    }
   ],
   "source": [
    "# 현재 self, com이 2개로 작성되어있어 인자가 무엇인지 판별하지 못함 그래서 self 하나만을 \n",
    "# 지칭할수있게 self만 작성해줍니다.\n",
    "# 재귀대명사처럼 라이젠cpu의 내것, 인텔cpu의 내것 처럼 말하는 내가 누군지에 따라 다릅니다.\n",
    "\n",
    "com1.get_info()"
   ]
  },
  {
   "cell_type": "code",
   "execution_count": 179,
   "metadata": {},
   "outputs": [
    {
     "name": "stdout",
     "output_type": "stream",
     "text": [
      "cpu : 인텔 i7, ram : 0GB, ssd : 0GB, power : 0W \n"
     ]
    }
   ],
   "source": [
    "com2.get_info()"
   ]
  },
  {
   "cell_type": "code",
   "execution_count": 180,
   "metadata": {},
   "outputs": [
    {
     "name": "stdout",
     "output_type": "stream",
     "text": [
      "<__main__.Computer object at 0x000002D89F72F880>\n",
      "<__main__.Computer object at 0x000002D89F72F880>\n"
     ]
    }
   ],
   "source": [
    "# 보시면 두개가 지칭하는 주소는 같습니다. (com1)\n",
    "com1.get_self_add()\n",
    "print(com1)"
   ]
  },
  {
   "cell_type": "code",
   "execution_count": 181,
   "metadata": {},
   "outputs": [
    {
     "name": "stdout",
     "output_type": "stream",
     "text": [
      "<__main__.Computer object at 0x000002D89F72F8E0>\n",
      "<__main__.Computer object at 0x000002D89F72F8E0>\n"
     ]
    }
   ],
   "source": [
    "# 보시면 두개가 지칭하는 주소는 같습니다. (com2)\n",
    "com2.get_self_add()\n",
    "print(com2)"
   ]
  },
  {
   "cell_type": "code",
   "execution_count": 182,
   "metadata": {},
   "outputs": [],
   "source": [
    "# 내용물을 좀 더 편하게 초기화시킬수 있도록 클래스를 다시 정의합니다.\n",
    "\n",
    "class Professor :\n",
    "    name = ''\n",
    "    subject = ''\n",
    "    age = 0 \n",
    "\n",
    "    # 위 3개 변수 값을 한 줄로 넣어주는 메서드(함수) 작성\n",
    "    # def pro_info(self):\n",
    "    # self를 안써줬다면 어느것을 지칭하는것인지 컴퓨터는 알 수 없기떄문에  밑의값을 0출력합니다\n",
    "\n",
    "    def pro_info(self, name, subject, age): # 멤버 메서드 pro_info안의 self, name, subject, age는 멤버변수에 속하지 않고 pro_info 소속입니다.\n",
    "        self.name = name # Professor의 멤버변수 name\n",
    "        self.subject = subject # Professor의 멤버변수 subject\n",
    "        self.age = age # Professor의 멤버변수 age"
   ]
  },
  {
   "cell_type": "code",
   "execution_count": 183,
   "metadata": {},
   "outputs": [
    {
     "name": "stdout",
     "output_type": "stream",
     "text": [
      "성 명 : 권현주, 과 목 : 프로그래밍_입문, 연 령 : 34\n",
      "3129411713216\n",
      "3129411162896\n"
     ]
    }
   ],
   "source": [
    "# professor_01 생성\n",
    "\n",
    "professor_01 = Professor()\n",
    "# professor_01.name = '권현주'\n",
    "# professor_01.subject = '프로그래밍_입문'\n",
    "# professor_01.age = 34\n",
    "\n",
    "professor_01.pro_info('권현주', '프로그래밍_입문', 34)\n",
    "\n",
    "print(f'성 명 : {professor_01.name}, 과 목 : {professor_01.subject}, 연 령 : {professor_01.age}')\n",
    "print(id(professor_01.pro_info))\n",
    "print(id(Professor.pro_info))"
   ]
  },
  {
   "cell_type": "markdown",
   "metadata": {},
   "source": [
    "### 생성자 함수\n",
    "\n",
    "- 클래스 내부에 `__init__` 이라는 명칭으로 선언한 함수는 생성자 함수가 됩니다. (언더바가 양쪽에 두개씩입니다.)\n",
    "- 생성자 함수를 정의하면 사용자가 클래스의 인스턴스를 생성할 때 반드시 입력해야되는 요소를 <br>\n",
    "  꼭 입력해야만 하는 상황을 만들어 줄수도 있습니다."
   ]
  },
  {
   "cell_type": "code",
   "execution_count": 184,
   "metadata": {},
   "outputs": [],
   "source": [
    "# 항목을 제대로 넣어야 생성하게함(개발자, 이용자)모두에게 좋은 방법\n",
    "\n",
    "class Cat():\n",
    "    name = ''\n",
    "    weight = 0\n",
    "    color = ''\n",
    "    gender = ''\n",
    "\n",
    "    # 아래 함수는 생성자 함수로 생성시 자동으로 1번만 호출되는 함수(2번호출 불가능)\n",
    "    def __init__(self, name, weight, color, gender):\n",
    "        self.name = name\n",
    "        self.weight = weight\n",
    "        self.color = color\n",
    "        self.gender = gender"
   ]
  },
  {
   "cell_type": "code",
   "execution_count": 185,
   "metadata": {},
   "outputs": [],
   "source": [
    "# 무조건 호출되며 호출시에는 정해진 규약대로 작성을 해줘야 다음으로 넘어갈 수 있음\n",
    "cat01 = Cat('레오', 5, '회색', '암컷')"
   ]
  },
  {
   "cell_type": "code",
   "execution_count": 186,
   "metadata": {},
   "outputs": [
    {
     "name": "stdout",
     "output_type": "stream",
     "text": [
      "레오 5 회색 암컷\n"
     ]
    }
   ],
   "source": [
    "print(cat01.name, cat01.weight, cat01.color, cat01.gender)"
   ]
  },
  {
   "cell_type": "code",
   "execution_count": 187,
   "metadata": {},
   "outputs": [
    {
     "name": "stdout",
     "output_type": "stream",
     "text": [
      "마루 4 흰색 암컷\n"
     ]
    }
   ],
   "source": [
    "cat02 = Cat('마루', 4, '흰색', '암컷')\n",
    "print(cat02.name, cat02.weight, cat02.color, cat02.gender)"
   ]
  },
  {
   "cell_type": "markdown",
   "metadata": {},
   "source": [
    "1. `cat1`에 대해서 상세정보를 조회할 수 있는 함수 `get_info()`와\n",
    "2. `print('야옹야옹')`을 실행하는 함수 `meow()`를 정의하고 호출해보세요"
   ]
  },
  {
   "cell_type": "code",
   "execution_count": 209,
   "metadata": {},
   "outputs": [],
   "source": [
    "class Cat():\n",
    "    # 멤버변수(필드) 4개\n",
    "    # 변수는 특정 대상의 '상태'\n",
    "    name = ''\n",
    "    weight = 0\n",
    "    type_ = ''\n",
    "    gender = ''\n",
    "    db = 0\n",
    "\n",
    "    # 아래 함수는 생성자 함수로 생성시 자동으로 1번만 호출되는 함수(2번호출 불가능)\n",
    "    # 메서드는 특정대산의 행동이며, 경과는 상태(변수)값에 따라 달라짐\n",
    "    def __init__(self, name, weight, type_, gender, db):\n",
    "        self.name = name\n",
    "        self.weight = weight\n",
    "        self.type_ = type_\n",
    "        self.gender = gender\n",
    "        self.db = db\n",
    "\n",
    "    def get_info(self):\n",
    "        print(\"이름 : %s, 체중 :  %s kg, 종 : %s, 성별 : %s, 울음소리 : %s db\" % (self.name, self.weight, self.type_, self.gender, self.db))\n",
    "\n",
    "    def meow(self):\n",
    "        print('냥냥' * (self.db // 10))"
   ]
  },
  {
   "cell_type": "code",
   "execution_count": 214,
   "metadata": {},
   "outputs": [],
   "source": [
    "# __init__ 때문에 꼭 작성하고 넘어가야 다음 함수를 실행시킬 수 있습니다.\n",
    "cat03 = Cat('루비', 4, '뱅갈', '수컷', 65)"
   ]
  },
  {
   "cell_type": "code",
   "execution_count": 215,
   "metadata": {},
   "outputs": [
    {
     "name": "stdout",
     "output_type": "stream",
     "text": [
      "루비 4 뱅갈 수컷 65\n"
     ]
    }
   ],
   "source": [
    "print(cat03.name, cat03.weight, cat03.type_, cat03.gender, cat03.db)"
   ]
  },
  {
   "cell_type": "code",
   "execution_count": 216,
   "metadata": {},
   "outputs": [
    {
     "name": "stdout",
     "output_type": "stream",
     "text": [
      "이름 : 루비, 체중 :  4 kg, 종 : 뱅갈, 성별 : 수컷, 울음소리 : 65 db\n",
      "냥냥냥냥냥냥냥냥냥냥냥냥\n"
     ]
    }
   ],
   "source": [
    "cat03.get_info()\n",
    "cat03.meow()"
   ]
  },
  {
   "cell_type": "markdown",
   "metadata": {},
   "source": [
    "##### 직접 클래스를 정의하고 생성자, 정보, 현실에서 수행 하는 행동을 만들어보세요"
   ]
  },
  {
   "cell_type": "code",
   "execution_count": null,
   "metadata": {},
   "outputs": [],
   "source": [
    "class Stock_Trade():\n",
    "    # 멤버변수, 필드4개(주식의 상태 - 명사)\n",
    "    # 변수는 특정 대상의 '상태'\n",
    "    symbol = ''\n",
    "    start_price = 0.0\n",
    "    close_price = 0.0\n",
    "    listing_con = ''\n",
    "    \n",
    "    # 멤버 메서드(함수)\n",
    "    # 주식의 행동 - 동사\n",
    "    # 메서드는 특정대산의 행동이며, 경과는 상태(변수)값에 따라 달라짐\n",
    "    def __init__(self, symbol, start_price, close_price, listing_con):\n",
    "        self.symbol = symbol\n",
    "        self.start_price = start_price\n",
    "        self.close_price = close_price\n",
    "        self.listing_con = listing_con\n",
    "\n",
    "    def stock_info(self):\n",
    "        print(f'종목명 : {self.symbol}, 시가 : {self.start_price}, 종가 : {self.close_price}, 상장국가 : {self.listing_con}')\n",
    "\n",
    "    def buy_n_sell(self):\n",
    "        if self.start_price > self.close_price : \n",
    "            print('하락마감')\n",
    "\n",
    "        else :\n",
    "            print('상승마감')\n"
   ]
  },
  {
   "cell_type": "code",
   "execution_count": null,
   "metadata": {},
   "outputs": [],
   "source": [
    "stock01 = Stock_Trade('MSFT', 236.0, 228.56, 'USA')\n",
    "stock01.stock_info()\n",
    "stock01.buy_n_sell()"
   ]
  },
  {
   "cell_type": "code",
   "execution_count": null,
   "metadata": {},
   "outputs": [],
   "source": [
    "stock02 = Stock_Trade('BA', 129.51, 133.15, 'USA')\n",
    "stock02.stock_info()\n",
    "stock02.buy_n_sell()\n"
   ]
  },
  {
   "cell_type": "code",
   "execution_count": null,
   "metadata": {},
   "outputs": [],
   "source": []
  }
 ],
 "metadata": {
  "kernelspec": {
   "display_name": "Python 3.9.7 ('base')",
   "language": "python",
   "name": "python3"
  },
  "language_info": {
   "codemirror_mode": {
    "name": "ipython",
    "version": 3
   },
   "file_extension": ".py",
   "mimetype": "text/x-python",
   "name": "python",
   "nbconvert_exporter": "python",
   "pygments_lexer": "ipython3",
   "version": "3.9.7"
  },
  "orig_nbformat": 4,
  "vscode": {
   "interpreter": {
    "hash": "b34b863c255992f18be4e3271ad309d6f472a641574d2a36abb232a0d7577314"
   }
  }
 },
 "nbformat": 4,
 "nbformat_minor": 2
}
